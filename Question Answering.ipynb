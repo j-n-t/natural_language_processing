{
 "cells": [
  {
   "cell_type": "markdown",
   "metadata": {},
   "source": [
    "# Question Answering"
   ]
  },
  {
   "cell_type": "markdown",
   "metadata": {},
   "source": [
    "The goal of this project is to build a **deep learning model capable of answering some simple questions**.\n",
    "\n",
    "This work is based on the *bAbI project*, https://research.fb.com/downloads/babi/, and on the papers *Towards AI-Complete Question Answering: A Set of Prerequisite Toy Tasks*, https://arxiv.org/pdf/1502.05698.pdf, and *End-To-End Memory Networks*, https://arxiv.org/pdf/1503.08895.pdf. "
   ]
  },
  {
   "cell_type": "markdown",
   "metadata": {},
   "source": [
    "#### 1. Perform initial imports"
   ]
  },
  {
   "cell_type": "code",
   "execution_count": 1,
   "metadata": {},
   "outputs": [],
   "source": [
    "import pickle\n",
    "import numpy as np"
   ]
  },
  {
   "cell_type": "markdown",
   "metadata": {},
   "source": [
    "#### 2. Load data"
   ]
  },
  {
   "cell_type": "code",
   "execution_count": 2,
   "metadata": {},
   "outputs": [],
   "source": [
    "with open(\"data/train_qa.txt\", \"rb\") as fp:\n",
    "    train_data =  pickle.load(fp)"
   ]
  },
  {
   "cell_type": "code",
   "execution_count": 3,
   "metadata": {},
   "outputs": [],
   "source": [
    "with open(\"data/test_qa.txt\", \"rb\") as fp:\n",
    "    test_data =  pickle.load(fp)"
   ]
  },
  {
   "cell_type": "markdown",
   "metadata": {},
   "source": [
    "#### 3. Check data"
   ]
  },
  {
   "cell_type": "code",
   "execution_count": 4,
   "metadata": {},
   "outputs": [
    {
     "data": {
      "text/plain": [
       "10000"
      ]
     },
     "execution_count": 4,
     "metadata": {},
     "output_type": "execute_result"
    }
   ],
   "source": [
    "len(train_data)"
   ]
  },
  {
   "cell_type": "code",
   "execution_count": 5,
   "metadata": {},
   "outputs": [
    {
     "data": {
      "text/plain": [
       "1000"
      ]
     },
     "execution_count": 5,
     "metadata": {},
     "output_type": "execute_result"
    }
   ],
   "source": [
    "len(test_data)"
   ]
  },
  {
   "cell_type": "code",
   "execution_count": 6,
   "metadata": {},
   "outputs": [
    {
     "data": {
      "text/plain": [
       "(['Mary',\n",
       "  'moved',\n",
       "  'to',\n",
       "  'the',\n",
       "  'bathroom',\n",
       "  '.',\n",
       "  'Sandra',\n",
       "  'journeyed',\n",
       "  'to',\n",
       "  'the',\n",
       "  'bedroom',\n",
       "  '.'],\n",
       " ['Is', 'Sandra', 'in', 'the', 'hallway', '?'],\n",
       " 'no')"
      ]
     },
     "execution_count": 6,
     "metadata": {},
     "output_type": "execute_result"
    }
   ],
   "source": [
    "train_data[0]"
   ]
  },
  {
   "cell_type": "code",
   "execution_count": 7,
   "metadata": {},
   "outputs": [
    {
     "data": {
      "text/plain": [
       "(['Mary',\n",
       "  'got',\n",
       "  'the',\n",
       "  'milk',\n",
       "  'there',\n",
       "  '.',\n",
       "  'John',\n",
       "  'moved',\n",
       "  'to',\n",
       "  'the',\n",
       "  'bedroom',\n",
       "  '.'],\n",
       " ['Is', 'John', 'in', 'the', 'kitchen', '?'],\n",
       " 'no')"
      ]
     },
     "execution_count": 7,
     "metadata": {},
     "output_type": "execute_result"
    }
   ],
   "source": [
    "test_data[0]"
   ]
  },
  {
   "cell_type": "code",
   "execution_count": 8,
   "metadata": {},
   "outputs": [
    {
     "data": {
      "text/plain": [
       "'Mary moved to the bathroom . Sandra journeyed to the bedroom .'"
      ]
     },
     "execution_count": 8,
     "metadata": {},
     "output_type": "execute_result"
    }
   ],
   "source": [
    "# story\n",
    "\n",
    "' '.join(train_data[0][0])"
   ]
  },
  {
   "cell_type": "code",
   "execution_count": 9,
   "metadata": {},
   "outputs": [
    {
     "data": {
      "text/plain": [
       "'Is Sandra in the hallway ?'"
      ]
     },
     "execution_count": 9,
     "metadata": {},
     "output_type": "execute_result"
    }
   ],
   "source": [
    "# question\n",
    "\n",
    "' '.join(train_data[0][1])"
   ]
  },
  {
   "cell_type": "code",
   "execution_count": 10,
   "metadata": {},
   "outputs": [
    {
     "data": {
      "text/plain": [
       "'no'"
      ]
     },
     "execution_count": 10,
     "metadata": {},
     "output_type": "execute_result"
    }
   ],
   "source": [
    "# answer\n",
    "\n",
    "train_data[0][2]"
   ]
  },
  {
   "cell_type": "markdown",
   "metadata": {},
   "source": [
    "#### 4. Create vocabulary with all the words"
   ]
  },
  {
   "cell_type": "code",
   "execution_count": 11,
   "metadata": {},
   "outputs": [],
   "source": [
    "vocab = set()\n",
    "\n",
    "all_data = test_data + train_data\n",
    "\n",
    "for story, question , answer in all_data:\n",
    "    vocab = vocab.union(set(story))\n",
    "    vocab = vocab.union(set(question))"
   ]
  },
  {
   "cell_type": "code",
   "execution_count": 12,
   "metadata": {},
   "outputs": [],
   "source": [
    "# add 'yes'/'no' answers to the vocabulary\n",
    "\n",
    "vocab.add('no')\n",
    "vocab.add('yes')"
   ]
  },
  {
   "cell_type": "code",
   "execution_count": 13,
   "metadata": {},
   "outputs": [
    {
     "data": {
      "text/plain": [
       "{'.',\n",
       " '?',\n",
       " 'Daniel',\n",
       " 'Is',\n",
       " 'John',\n",
       " 'Mary',\n",
       " 'Sandra',\n",
       " 'apple',\n",
       " 'back',\n",
       " 'bathroom',\n",
       " 'bedroom',\n",
       " 'discarded',\n",
       " 'down',\n",
       " 'dropped',\n",
       " 'football',\n",
       " 'garden',\n",
       " 'got',\n",
       " 'grabbed',\n",
       " 'hallway',\n",
       " 'in',\n",
       " 'journeyed',\n",
       " 'kitchen',\n",
       " 'left',\n",
       " 'milk',\n",
       " 'moved',\n",
       " 'no',\n",
       " 'office',\n",
       " 'picked',\n",
       " 'put',\n",
       " 'the',\n",
       " 'there',\n",
       " 'to',\n",
       " 'took',\n",
       " 'travelled',\n",
       " 'up',\n",
       " 'went',\n",
       " 'yes'}"
      ]
     },
     "execution_count": 13,
     "metadata": {},
     "output_type": "execute_result"
    }
   ],
   "source": [
    "vocab"
   ]
  },
  {
   "cell_type": "markdown",
   "metadata": {},
   "source": [
    "#### 5. Set vocabulary length, max story length and max question length"
   ]
  },
  {
   "cell_type": "code",
   "execution_count": 14,
   "metadata": {},
   "outputs": [
    {
     "data": {
      "text/plain": [
       "38"
      ]
     },
     "execution_count": 14,
     "metadata": {},
     "output_type": "execute_result"
    }
   ],
   "source": [
    "# add 1 extra space for Keras's pad_sequences (0)\n",
    "\n",
    "vocab_len = len(vocab) + 1\n",
    "\n",
    "vocab_len"
   ]
  },
  {
   "cell_type": "code",
   "execution_count": 15,
   "metadata": {},
   "outputs": [
    {
     "data": {
      "text/plain": [
       "156"
      ]
     },
     "execution_count": 15,
     "metadata": {},
     "output_type": "execute_result"
    }
   ],
   "source": [
    "# max story length\n",
    "\n",
    "max_story_len = max([len(data[0]) for data in all_data])\n",
    "\n",
    "max_story_len"
   ]
  },
  {
   "cell_type": "code",
   "execution_count": 16,
   "metadata": {},
   "outputs": [
    {
     "data": {
      "text/plain": [
       "6"
      ]
     },
     "execution_count": 16,
     "metadata": {},
     "output_type": "execute_result"
    }
   ],
   "source": [
    "# max question length\n",
    "\n",
    "max_question_len = max([len(data[1]) for data in all_data])\n",
    "\n",
    "max_question_len"
   ]
  },
  {
   "cell_type": "markdown",
   "metadata": {},
   "source": [
    "#### 6. Vectorize data"
   ]
  },
  {
   "cell_type": "code",
   "execution_count": 17,
   "metadata": {},
   "outputs": [
    {
     "name": "stderr",
     "output_type": "stream",
     "text": [
      "Using TensorFlow backend.\n"
     ]
    }
   ],
   "source": [
    "from keras.preprocessing.sequence import pad_sequences\n",
    "from keras.preprocessing.text import Tokenizer"
   ]
  },
  {
   "cell_type": "code",
   "execution_count": 18,
   "metadata": {},
   "outputs": [],
   "source": [
    "tokenizer = Tokenizer(filters=[])\n",
    "tokenizer.fit_on_texts(vocab)"
   ]
  },
  {
   "cell_type": "code",
   "execution_count": 19,
   "metadata": {},
   "outputs": [
    {
     "data": {
      "text/plain": [
       "{'office': 1,\n",
       " 'in': 2,\n",
       " '?': 3,\n",
       " 'discarded': 4,\n",
       " 'dropped': 5,\n",
       " 'milk': 6,\n",
       " 'no': 7,\n",
       " '.': 8,\n",
       " 'bathroom': 9,\n",
       " 'went': 10,\n",
       " 'took': 11,\n",
       " 'mary': 12,\n",
       " 'hallway': 13,\n",
       " 'there': 14,\n",
       " 'john': 15,\n",
       " 'back': 16,\n",
       " 'up': 17,\n",
       " 'yes': 18,\n",
       " 'moved': 19,\n",
       " 'put': 20,\n",
       " 'sandra': 21,\n",
       " 'left': 22,\n",
       " 'apple': 23,\n",
       " 'journeyed': 24,\n",
       " 'picked': 25,\n",
       " 'grabbed': 26,\n",
       " 'football': 27,\n",
       " 'got': 28,\n",
       " 'down': 29,\n",
       " 'kitchen': 30,\n",
       " 'travelled': 31,\n",
       " 'is': 32,\n",
       " 'garden': 33,\n",
       " 'daniel': 34,\n",
       " 'the': 35,\n",
       " 'to': 36,\n",
       " 'bedroom': 37}"
      ]
     },
     "execution_count": 19,
     "metadata": {},
     "output_type": "execute_result"
    }
   ],
   "source": [
    "tokenizer.word_index"
   ]
  },
  {
   "cell_type": "code",
   "execution_count": 20,
   "metadata": {},
   "outputs": [],
   "source": [
    "def vectorize_data(data, word_index=tokenizer.word_index, max_story_len=max_story_len,max_question_len=max_question_len):\n",
    "    \n",
    "    # X = STORIES\n",
    "    X = []\n",
    "    # Xq = QUESTIONS\n",
    "    Xq = []\n",
    "    # Y = CORRECT ANSWERS\n",
    "    Y = []\n",
    "    \n",
    "    \n",
    "    for story, question, answer in data:\n",
    "        \n",
    "        # word index for every word in story\n",
    "        x = [word_index[word.lower()] for word in story]\n",
    "        # word index for every word in question\n",
    "        xq = [word_index[word.lower()] for word in question]\n",
    "        \n",
    "        # word index for 'Yes'/'No' answers\n",
    "        # index 0 is reserved so we're going to use + 1 for the length of y\n",
    "        y = np.zeros(len(word_index) + 1)\n",
    "        # y = 1 for index corresponding to the word_index of the answer ('Yes' or 'No')\n",
    "        y[word_index[answer]] = 1\n",
    "        \n",
    "        # append each set of story, question and answer to their respective lists\n",
    "        X.append(x)\n",
    "        Xq.append(xq)\n",
    "        Y.append(y)\n",
    "        \n",
    "    # pad the sequences based on their max length\n",
    "    # (so that the RNN can be trained on uniformly long sequences)\n",
    "    X_pad = pad_sequences(X, maxlen=max_story_len)\n",
    "    Xq_pad = pad_sequences(Xq, maxlen=max_question_len)\n",
    "    \n",
    "    Y = np.array(Y)\n",
    "        \n",
    "    return (X_pad, Xq_pad, Y)"
   ]
  },
  {
   "cell_type": "code",
   "execution_count": 21,
   "metadata": {},
   "outputs": [],
   "source": [
    "stories_train, questions_train, answers_train = vectorize_data(train_data)"
   ]
  },
  {
   "cell_type": "code",
   "execution_count": 22,
   "metadata": {},
   "outputs": [],
   "source": [
    "stories_test, questions_test, answers_test = vectorize_data(test_data)"
   ]
  },
  {
   "cell_type": "code",
   "execution_count": 23,
   "metadata": {},
   "outputs": [
    {
     "data": {
      "text/plain": [
       "array([[ 0,  0,  0, ..., 35, 37,  8],\n",
       "       [ 0,  0,  0, ..., 35, 13,  8],\n",
       "       [ 0,  0,  0, ..., 35,  9,  8],\n",
       "       ...,\n",
       "       [ 0,  0,  0, ..., 35, 37,  8],\n",
       "       [ 0,  0,  0, ...,  6, 14,  8],\n",
       "       [ 0,  0,  0, ..., 23, 14,  8]])"
      ]
     },
     "execution_count": 23,
     "metadata": {},
     "output_type": "execute_result"
    }
   ],
   "source": [
    "stories_train"
   ]
  },
  {
   "cell_type": "code",
   "execution_count": 24,
   "metadata": {},
   "outputs": [
    {
     "data": {
      "text/plain": [
       "array([[ 0,  0,  0, ..., 35, 37,  8],\n",
       "       [ 0,  0,  0, ..., 35, 33,  8],\n",
       "       [ 0,  0,  0, ..., 35, 33,  8],\n",
       "       ...,\n",
       "       [ 0,  0,  0, ..., 35, 23,  8],\n",
       "       [ 0,  0,  0, ..., 35, 33,  8],\n",
       "       [ 0,  0,  0, ..., 23, 14,  8]])"
      ]
     },
     "execution_count": 24,
     "metadata": {},
     "output_type": "execute_result"
    }
   ],
   "source": [
    "stories_test"
   ]
  },
  {
   "cell_type": "code",
   "execution_count": 25,
   "metadata": {},
   "outputs": [
    {
     "name": "stdout",
     "output_type": "stream",
     "text": [
      "156 156 156\n"
     ]
    }
   ],
   "source": [
    "# for 3 random stories\n",
    "\n",
    "print(len(stories_train[214]), len(stories_train[2341]), len(stories_train[5679]))"
   ]
  },
  {
   "cell_type": "code",
   "execution_count": 26,
   "metadata": {},
   "outputs": [
    {
     "data": {
      "text/plain": [
       "array([[32, 21,  2, 35, 13,  3],\n",
       "       [32, 34,  2, 35,  9,  3],\n",
       "       [32, 34,  2, 35,  1,  3],\n",
       "       ...,\n",
       "       [32, 21,  2, 35, 13,  3],\n",
       "       [32, 12,  2, 35, 30,  3],\n",
       "       [32, 12,  2, 35, 37,  3]])"
      ]
     },
     "execution_count": 26,
     "metadata": {},
     "output_type": "execute_result"
    }
   ],
   "source": [
    "questions_train"
   ]
  },
  {
   "cell_type": "code",
   "execution_count": 27,
   "metadata": {},
   "outputs": [
    {
     "data": {
      "text/plain": [
       "array([[32, 15,  2, 35, 30,  3],\n",
       "       [32, 15,  2, 35, 30,  3],\n",
       "       [32, 15,  2, 35, 33,  3],\n",
       "       ...,\n",
       "       [32, 12,  2, 35, 37,  3],\n",
       "       [32, 21,  2, 35, 33,  3],\n",
       "       [32, 12,  2, 35, 33,  3]])"
      ]
     },
     "execution_count": 27,
     "metadata": {},
     "output_type": "execute_result"
    }
   ],
   "source": [
    "questions_test"
   ]
  },
  {
   "cell_type": "code",
   "execution_count": 28,
   "metadata": {},
   "outputs": [
    {
     "name": "stdout",
     "output_type": "stream",
     "text": [
      "6 6 6\n"
     ]
    }
   ],
   "source": [
    "# for 3 random questions\n",
    "\n",
    "print(len(questions_train[256]), len(questions_train[2356]), len(questions_train[7409]))"
   ]
  },
  {
   "cell_type": "markdown",
   "metadata": {},
   "source": [
    "All the stories and questions are now vectorized and padded (even though all the questions seem  to have the same length by default, we've padded them just to be safe)."
   ]
  },
  {
   "cell_type": "code",
   "execution_count": 29,
   "metadata": {},
   "outputs": [
    {
     "data": {
      "text/plain": [
       "array([[0., 0., 0., ..., 0., 0., 0.],\n",
       "       [0., 0., 0., ..., 0., 0., 0.],\n",
       "       [0., 0., 0., ..., 0., 0., 0.],\n",
       "       ...,\n",
       "       [0., 0., 0., ..., 0., 0., 0.],\n",
       "       [0., 0., 0., ..., 0., 0., 0.],\n",
       "       [0., 0., 0., ..., 0., 0., 0.]])"
      ]
     },
     "execution_count": 29,
     "metadata": {},
     "output_type": "execute_result"
    }
   ],
   "source": [
    "answers_train"
   ]
  },
  {
   "cell_type": "code",
   "execution_count": 30,
   "metadata": {},
   "outputs": [
    {
     "data": {
      "text/plain": [
       "array([  0.,   0.,   0.,   0.,   0.,   0.,   0., 503.,   0.,   0.,   0.,\n",
       "         0.,   0.,   0.,   0.,   0.,   0.,   0., 497.,   0.,   0.,   0.,\n",
       "         0.,   0.,   0.,   0.,   0.,   0.,   0.,   0.,   0.,   0.,   0.,\n",
       "         0.,   0.,   0.,   0.,   0.])"
      ]
     },
     "execution_count": 30,
     "metadata": {},
     "output_type": "execute_result"
    }
   ],
   "source": [
    "sum(answers_test)"
   ]
  },
  {
   "cell_type": "code",
   "execution_count": 31,
   "metadata": {},
   "outputs": [
    {
     "data": {
      "text/plain": [
       "18"
      ]
     },
     "execution_count": 31,
     "metadata": {},
     "output_type": "execute_result"
    }
   ],
   "source": [
    "tokenizer.word_index['yes']"
   ]
  },
  {
   "cell_type": "code",
   "execution_count": 32,
   "metadata": {},
   "outputs": [
    {
     "data": {
      "text/plain": [
       "7"
      ]
     },
     "execution_count": 32,
     "metadata": {},
     "output_type": "execute_result"
    }
   ],
   "source": [
    "tokenizer.word_index['no']"
   ]
  },
  {
   "cell_type": "markdown",
   "metadata": {},
   "source": [
    "As expected, only two values of the vectorized answers are not zero. We have 497 positive answers (index 18) and 503 negative answers (index 7) for the test data."
   ]
  },
  {
   "cell_type": "markdown",
   "metadata": {},
   "source": [
    "#### 7. Create the model"
   ]
  },
  {
   "cell_type": "code",
   "execution_count": 33,
   "metadata": {},
   "outputs": [],
   "source": [
    "from keras.models import Sequential, Model\n",
    "from keras.layers.embeddings import Embedding\n",
    "from keras.layers import Input, Activation, Dense, Permute, Dropout\n",
    "from keras.layers import add, dot, concatenate\n",
    "from keras.layers import LSTM"
   ]
  },
  {
   "cell_type": "markdown",
   "metadata": {},
   "source": [
    "We have two inputs, stories and questions and so we need to use placeholders. `Input()` is used to instantiate a Keras tensor."
   ]
  },
  {
   "cell_type": "code",
   "execution_count": 34,
   "metadata": {},
   "outputs": [],
   "source": [
    "input_sequence = Input((max_story_len,))\n",
    "question = Input((max_question_len,))"
   ]
  },
  {
   "cell_type": "code",
   "execution_count": 35,
   "metadata": {},
   "outputs": [
    {
     "name": "stdout",
     "output_type": "stream",
     "text": [
      "WARNING:tensorflow:From C:\\Users\\joaon\\Anaconda3\\envs\\nlp_course\\lib\\site-packages\\tensorflow\\python\\framework\\op_def_library.py:263: colocate_with (from tensorflow.python.framework.ops) is deprecated and will be removed in a future version.\n",
      "Instructions for updating:\n",
      "Colocations handled automatically by placer.\n",
      "WARNING:tensorflow:From C:\\Users\\joaon\\Anaconda3\\envs\\nlp_course\\lib\\site-packages\\keras\\backend\\tensorflow_backend.py:3445: calling dropout (from tensorflow.python.ops.nn_ops) with keep_prob is deprecated and will be removed in a future version.\n",
      "Instructions for updating:\n",
      "Please use `rate` instead of `keep_prob`. Rate should be set to `rate = 1 - keep_prob`.\n"
     ]
    }
   ],
   "source": [
    "# Input Encoder m\n",
    "\n",
    "input_encoder_m = Sequential()\n",
    "input_encoder_m.add(Embedding(input_dim=vocab_len,output_dim=64))\n",
    "input_encoder_m.add(Dropout(0.3))"
   ]
  },
  {
   "cell_type": "code",
   "execution_count": 36,
   "metadata": {},
   "outputs": [],
   "source": [
    "# Input Encoder c\n",
    "\n",
    "input_encoder_c = Sequential()\n",
    "input_encoder_c.add(Embedding(input_dim=vocab_len,output_dim=max_question_len))\n",
    "input_encoder_c.add(Dropout(0.3))"
   ]
  },
  {
   "cell_type": "code",
   "execution_count": 37,
   "metadata": {},
   "outputs": [],
   "source": [
    "# Question Encoder\n",
    "\n",
    "question_encoder = Sequential()\n",
    "question_encoder.add(Embedding(input_dim=vocab_len,\n",
    "                               output_dim=64,\n",
    "                               input_length=max_question_len))\n",
    "question_encoder.add(Dropout(0.3))"
   ]
  },
  {
   "cell_type": "code",
   "execution_count": 38,
   "metadata": {},
   "outputs": [],
   "source": [
    "# encode the sequences\n",
    "\n",
    "input_encoded_m = input_encoder_m(input_sequence)\n",
    "input_encoded_c = input_encoder_c(input_sequence)\n",
    "question_encoded = question_encoder(question)"
   ]
  },
  {
   "cell_type": "code",
   "execution_count": 39,
   "metadata": {},
   "outputs": [],
   "source": [
    "# use dot product to compute the match between first input vector sequence and the question\n",
    "\n",
    "match = dot([input_encoded_m, question_encoded], axes=(2, 2))\n",
    "match = Activation('softmax')(match)"
   ]
  },
  {
   "cell_type": "code",
   "execution_count": 40,
   "metadata": {},
   "outputs": [],
   "source": [
    "# add the match matrix with the second input vector sequence\n",
    "\n",
    "response = add([match, input_encoded_c])\n",
    "response = Permute((2, 1))(response)"
   ]
  },
  {
   "cell_type": "code",
   "execution_count": 41,
   "metadata": {},
   "outputs": [],
   "source": [
    "# concatenate the match matrix with the question vector sequence\n",
    "\n",
    "answer = concatenate([response, question_encoded])"
   ]
  },
  {
   "cell_type": "code",
   "execution_count": 42,
   "metadata": {},
   "outputs": [
    {
     "data": {
      "text/plain": [
       "<tf.Tensor 'concatenate_1/concat:0' shape=(?, 6, 220) dtype=float32>"
      ]
     },
     "execution_count": 42,
     "metadata": {},
     "output_type": "execute_result"
    }
   ],
   "source": [
    "answer"
   ]
  },
  {
   "cell_type": "code",
   "execution_count": 43,
   "metadata": {},
   "outputs": [],
   "source": [
    "# reduce with RNN (LSTM)\n",
    "\n",
    "answer = LSTM(32)(answer)"
   ]
  },
  {
   "cell_type": "code",
   "execution_count": 44,
   "metadata": {},
   "outputs": [],
   "source": [
    "# regularization with Dropout\n",
    "\n",
    "answer = Dropout(0.5)(answer)\n",
    "answer = Dense(vocab_len)(answer)"
   ]
  },
  {
   "cell_type": "code",
   "execution_count": 45,
   "metadata": {},
   "outputs": [],
   "source": [
    "# we output a probability distribution over the vocabulary\n",
    "\n",
    "answer = Activation('softmax')(answer)"
   ]
  },
  {
   "cell_type": "code",
   "execution_count": 46,
   "metadata": {},
   "outputs": [],
   "source": [
    "# build the final model\n",
    "\n",
    "model = Model([input_sequence, question], answer)\n",
    "model.compile(optimizer='rmsprop', loss='categorical_crossentropy', metrics=['accuracy'])"
   ]
  },
  {
   "cell_type": "code",
   "execution_count": 47,
   "metadata": {},
   "outputs": [
    {
     "name": "stdout",
     "output_type": "stream",
     "text": [
      "__________________________________________________________________________________________________\n",
      "Layer (type)                    Output Shape         Param #     Connected to                     \n",
      "==================================================================================================\n",
      "input_1 (InputLayer)            (None, 156)          0                                            \n",
      "__________________________________________________________________________________________________\n",
      "input_2 (InputLayer)            (None, 6)            0                                            \n",
      "__________________________________________________________________________________________________\n",
      "sequential_1 (Sequential)       multiple             2432        input_1[0][0]                    \n",
      "__________________________________________________________________________________________________\n",
      "sequential_3 (Sequential)       (None, 6, 64)        2432        input_2[0][0]                    \n",
      "__________________________________________________________________________________________________\n",
      "dot_1 (Dot)                     (None, 156, 6)       0           sequential_1[1][0]               \n",
      "                                                                 sequential_3[1][0]               \n",
      "__________________________________________________________________________________________________\n",
      "activation_1 (Activation)       (None, 156, 6)       0           dot_1[0][0]                      \n",
      "__________________________________________________________________________________________________\n",
      "sequential_2 (Sequential)       multiple             228         input_1[0][0]                    \n",
      "__________________________________________________________________________________________________\n",
      "add_1 (Add)                     (None, 156, 6)       0           activation_1[0][0]               \n",
      "                                                                 sequential_2[1][0]               \n",
      "__________________________________________________________________________________________________\n",
      "permute_1 (Permute)             (None, 6, 156)       0           add_1[0][0]                      \n",
      "__________________________________________________________________________________________________\n",
      "concatenate_1 (Concatenate)     (None, 6, 220)       0           permute_1[0][0]                  \n",
      "                                                                 sequential_3[1][0]               \n",
      "__________________________________________________________________________________________________\n",
      "lstm_1 (LSTM)                   (None, 32)           32384       concatenate_1[0][0]              \n",
      "__________________________________________________________________________________________________\n",
      "dropout_4 (Dropout)             (None, 32)           0           lstm_1[0][0]                     \n",
      "__________________________________________________________________________________________________\n",
      "dense_1 (Dense)                 (None, 38)           1254        dropout_4[0][0]                  \n",
      "__________________________________________________________________________________________________\n",
      "activation_2 (Activation)       (None, 38)           0           dense_1[0][0]                    \n",
      "==================================================================================================\n",
      "Total params: 38,730\n",
      "Trainable params: 38,730\n",
      "Non-trainable params: 0\n",
      "__________________________________________________________________________________________________\n"
     ]
    }
   ],
   "source": [
    "model.summary()"
   ]
  },
  {
   "cell_type": "markdown",
   "metadata": {},
   "source": [
    "#### 8. Train the model"
   ]
  },
  {
   "cell_type": "code",
   "execution_count": 48,
   "metadata": {},
   "outputs": [
    {
     "name": "stdout",
     "output_type": "stream",
     "text": [
      "WARNING:tensorflow:From C:\\Users\\joaon\\Anaconda3\\envs\\nlp_course\\lib\\site-packages\\tensorflow\\python\\ops\\math_ops.py:3066: to_int32 (from tensorflow.python.ops.math_ops) is deprecated and will be removed in a future version.\n",
      "Instructions for updating:\n",
      "Use tf.cast instead.\n",
      "WARNING:tensorflow:From C:\\Users\\joaon\\Anaconda3\\envs\\nlp_course\\lib\\site-packages\\tensorflow\\python\\ops\\math_grad.py:102: div (from tensorflow.python.ops.math_ops) is deprecated and will be removed in a future version.\n",
      "Instructions for updating:\n",
      "Deprecated in favor of operator or tf.math.divide.\n",
      "Train on 10000 samples, validate on 1000 samples\n",
      "Epoch 1/120\n",
      "10000/10000 [==============================] - 13s 1ms/step - loss: 0.9028 - acc: 0.4887 - val_loss: 0.7007 - val_acc: 0.4970\n",
      "Epoch 2/120\n",
      "10000/10000 [==============================] - 9s 884us/step - loss: 0.7035 - acc: 0.4932 - val_loss: 0.6934 - val_acc: 0.5030\n",
      "Epoch 3/120\n",
      "10000/10000 [==============================] - 9s 876us/step - loss: 0.6958 - acc: 0.5023 - val_loss: 0.6933 - val_acc: 0.5030\n",
      "Epoch 4/120\n",
      "10000/10000 [==============================] - 9s 890us/step - loss: 0.6950 - acc: 0.4988 - val_loss: 0.6934 - val_acc: 0.5030\n",
      "Epoch 5/120\n",
      "10000/10000 [==============================] - 9s 882us/step - loss: 0.6950 - acc: 0.4927 - val_loss: 0.6937 - val_acc: 0.4970\n",
      "Epoch 6/120\n",
      "10000/10000 [==============================] - 9s 890us/step - loss: 0.6943 - acc: 0.5034 - val_loss: 0.6939 - val_acc: 0.4970\n",
      "Epoch 7/120\n",
      "10000/10000 [==============================] - 9s 883us/step - loss: 0.6947 - acc: 0.4975 - val_loss: 0.6945 - val_acc: 0.4970\n",
      "Epoch 8/120\n",
      "10000/10000 [==============================] - 9s 927us/step - loss: 0.6948 - acc: 0.4950 - val_loss: 0.6946 - val_acc: 0.4970\n",
      "Epoch 9/120\n",
      "10000/10000 [==============================] - 9s 887us/step - loss: 0.6940 - acc: 0.5024 - val_loss: 0.6941 - val_acc: 0.5000\n",
      "Epoch 10/120\n",
      "10000/10000 [==============================] - 9s 886us/step - loss: 0.6937 - acc: 0.5074 - val_loss: 0.6957 - val_acc: 0.4920\n",
      "Epoch 11/120\n",
      "10000/10000 [==============================] - 9s 889us/step - loss: 0.6914 - acc: 0.5244 - val_loss: 0.6931 - val_acc: 0.5280\n",
      "Epoch 12/120\n",
      "10000/10000 [==============================] - 9s 889us/step - loss: 0.6797 - acc: 0.5650 - val_loss: 0.6660 - val_acc: 0.6140\n",
      "Epoch 13/120\n",
      "10000/10000 [==============================] - 9s 875us/step - loss: 0.6449 - acc: 0.6313 - val_loss: 0.6367 - val_acc: 0.6430\n",
      "Epoch 14/120\n",
      "10000/10000 [==============================] - 9s 878us/step - loss: 0.6307 - acc: 0.6485 - val_loss: 0.6266 - val_acc: 0.6570\n",
      "Epoch 15/120\n",
      "10000/10000 [==============================] - 9s 915us/step - loss: 0.6217 - acc: 0.6688 - val_loss: 0.6209 - val_acc: 0.6540\n",
      "Epoch 16/120\n",
      "10000/10000 [==============================] - 9s 908us/step - loss: 0.6143 - acc: 0.6670 - val_loss: 0.6225 - val_acc: 0.6450\n",
      "Epoch 17/120\n",
      "10000/10000 [==============================] - 9s 892us/step - loss: 0.6087 - acc: 0.6785 - val_loss: 0.6048 - val_acc: 0.6600\n",
      "Epoch 18/120\n",
      "10000/10000 [==============================] - 9s 884us/step - loss: 0.6019 - acc: 0.6791 - val_loss: 0.6054 - val_acc: 0.6580\n",
      "Epoch 19/120\n",
      "10000/10000 [==============================] - 9s 895us/step - loss: 0.5971 - acc: 0.6831 - val_loss: 0.6126 - val_acc: 0.6590\n",
      "Epoch 20/120\n",
      "10000/10000 [==============================] - 9s 876us/step - loss: 0.5928 - acc: 0.6889 - val_loss: 0.5969 - val_acc: 0.6640\n",
      "Epoch 21/120\n",
      "10000/10000 [==============================] - 9s 874us/step - loss: 0.5849 - acc: 0.6887 - val_loss: 0.5871 - val_acc: 0.6670\n",
      "Epoch 22/120\n",
      "10000/10000 [==============================] - 9s 882us/step - loss: 0.5774 - acc: 0.7015 - val_loss: 0.6021 - val_acc: 0.6660\n",
      "Epoch 23/120\n",
      "10000/10000 [==============================] - 9s 920us/step - loss: 0.5737 - acc: 0.7027 - val_loss: 0.5777 - val_acc: 0.6840\n",
      "Epoch 24/120\n",
      "10000/10000 [==============================] - 9s 883us/step - loss: 0.5680 - acc: 0.7102 - val_loss: 0.5711 - val_acc: 0.6930\n",
      "Epoch 25/120\n",
      "10000/10000 [==============================] - 9s 881us/step - loss: 0.5531 - acc: 0.7224 - val_loss: 0.5657 - val_acc: 0.6880\n",
      "Epoch 26/120\n",
      "10000/10000 [==============================] - 9s 908us/step - loss: 0.5425 - acc: 0.7287 - val_loss: 0.5501 - val_acc: 0.6970\n",
      "Epoch 27/120\n",
      "10000/10000 [==============================] - 9s 899us/step - loss: 0.5335 - acc: 0.7305 - val_loss: 0.5597 - val_acc: 0.6870\n",
      "Epoch 28/120\n",
      "10000/10000 [==============================] - 9s 884us/step - loss: 0.5175 - acc: 0.7428 - val_loss: 0.5240 - val_acc: 0.7210\n",
      "Epoch 29/120\n",
      "10000/10000 [==============================] - 9s 886us/step - loss: 0.5028 - acc: 0.7533 - val_loss: 0.5137 - val_acc: 0.7270\n",
      "Epoch 30/120\n",
      "10000/10000 [==============================] - 9s 921us/step - loss: 0.4906 - acc: 0.7626 - val_loss: 0.5131 - val_acc: 0.7260\n",
      "Epoch 31/120\n",
      "10000/10000 [==============================] - 9s 854us/step - loss: 0.4841 - acc: 0.7673 - val_loss: 0.4950 - val_acc: 0.7500\n",
      "Epoch 32/120\n",
      "10000/10000 [==============================] - 8s 809us/step - loss: 0.4717 - acc: 0.7775 - val_loss: 0.4902 - val_acc: 0.7590\n",
      "Epoch 33/120\n",
      "10000/10000 [==============================] - 8s 811us/step - loss: 0.4599 - acc: 0.7831 - val_loss: 0.4858 - val_acc: 0.7620\n",
      "Epoch 34/120\n",
      "10000/10000 [==============================] - 8s 843us/step - loss: 0.4492 - acc: 0.7927 - val_loss: 0.4661 - val_acc: 0.7760\n",
      "Epoch 35/120\n",
      "10000/10000 [==============================] - 8s 831us/step - loss: 0.4411 - acc: 0.7989 - val_loss: 0.4525 - val_acc: 0.7850\n",
      "Epoch 36/120\n",
      "10000/10000 [==============================] - 8s 795us/step - loss: 0.4344 - acc: 0.7984 - val_loss: 0.4459 - val_acc: 0.7760\n",
      "Epoch 37/120\n",
      "10000/10000 [==============================] - 8s 833us/step - loss: 0.4262 - acc: 0.8054 - val_loss: 0.4421 - val_acc: 0.7870\n",
      "Epoch 38/120\n",
      "10000/10000 [==============================] - 9s 876us/step - loss: 0.4206 - acc: 0.8099 - val_loss: 0.4523 - val_acc: 0.7840\n",
      "Epoch 39/120\n",
      "10000/10000 [==============================] - 8s 831us/step - loss: 0.4198 - acc: 0.8113 - val_loss: 0.4637 - val_acc: 0.7760\n",
      "Epoch 40/120\n",
      "10000/10000 [==============================] - 8s 846us/step - loss: 0.4099 - acc: 0.8143 - val_loss: 0.4416 - val_acc: 0.7980\n",
      "Epoch 41/120\n",
      "10000/10000 [==============================] - 9s 873us/step - loss: 0.4049 - acc: 0.8155 - val_loss: 0.4461 - val_acc: 0.7860\n",
      "Epoch 42/120\n",
      "10000/10000 [==============================] - 8s 847us/step - loss: 0.4039 - acc: 0.8161 - val_loss: 0.4377 - val_acc: 0.7850\n",
      "Epoch 43/120\n",
      "10000/10000 [==============================] - 8s 817us/step - loss: 0.3998 - acc: 0.8146 - val_loss: 0.4225 - val_acc: 0.7950\n",
      "Epoch 44/120\n",
      "10000/10000 [==============================] - 8s 831us/step - loss: 0.4007 - acc: 0.8171 - val_loss: 0.4311 - val_acc: 0.7890\n",
      "Epoch 45/120\n",
      "10000/10000 [==============================] - 8s 822us/step - loss: 0.3900 - acc: 0.8227 - val_loss: 0.4395 - val_acc: 0.7860 0s - loss: 0.3912 - acc\n",
      "Epoch 46/120\n",
      "10000/10000 [==============================] - 9s 883us/step - loss: 0.3978 - acc: 0.8205 - val_loss: 0.4469 - val_acc: 0.7800\n",
      "Epoch 47/120\n",
      "10000/10000 [==============================] - 8s 834us/step - loss: 0.3837 - acc: 0.8216 - val_loss: 0.4322 - val_acc: 0.7870\n",
      "Epoch 48/120\n",
      "10000/10000 [==============================] - 8s 841us/step - loss: 0.3900 - acc: 0.8205 - val_loss: 0.4263 - val_acc: 0.8030\n",
      "Epoch 49/120\n",
      "10000/10000 [==============================] - 8s 832us/step - loss: 0.3881 - acc: 0.8248 - val_loss: 0.4213 - val_acc: 0.8020\n",
      "Epoch 50/120\n",
      "10000/10000 [==============================] - 9s 858us/step - loss: 0.3801 - acc: 0.8271 - val_loss: 0.4328 - val_acc: 0.7980\n",
      "Epoch 51/120\n",
      "10000/10000 [==============================] - 8s 838us/step - loss: 0.3757 - acc: 0.8277 - val_loss: 0.4275 - val_acc: 0.7990\n",
      "Epoch 52/120\n",
      "10000/10000 [==============================] - 8s 831us/step - loss: 0.3708 - acc: 0.8322 - val_loss: 0.4315 - val_acc: 0.8010\n",
      "Epoch 53/120\n",
      "10000/10000 [==============================] - 8s 838us/step - loss: 0.3653 - acc: 0.8333 - val_loss: 0.4274 - val_acc: 0.7960\n",
      "Epoch 54/120\n",
      "10000/10000 [==============================] - 9s 863us/step - loss: 0.3643 - acc: 0.8349 - val_loss: 0.4261 - val_acc: 0.7950\n"
     ]
    },
    {
     "name": "stdout",
     "output_type": "stream",
     "text": [
      "Epoch 55/120\n",
      "10000/10000 [==============================] - 8s 839us/step - loss: 0.3588 - acc: 0.8370 - val_loss: 0.4357 - val_acc: 0.7990\n",
      "Epoch 56/120\n",
      "10000/10000 [==============================] - 8s 849us/step - loss: 0.3609 - acc: 0.8335 - val_loss: 0.4294 - val_acc: 0.7910\n",
      "Epoch 57/120\n",
      "10000/10000 [==============================] - 8s 845us/step - loss: 0.3583 - acc: 0.8405 - val_loss: 0.4587 - val_acc: 0.7800\n",
      "Epoch 58/120\n",
      "10000/10000 [==============================] - 9s 862us/step - loss: 0.3525 - acc: 0.8391 - val_loss: 0.4492 - val_acc: 0.7950\n",
      "Epoch 59/120\n",
      "10000/10000 [==============================] - 9s 864us/step - loss: 0.3569 - acc: 0.8401 - val_loss: 0.4436 - val_acc: 0.7880\n",
      "Epoch 60/120\n",
      "10000/10000 [==============================] - 8s 845us/step - loss: 0.3525 - acc: 0.8426 - val_loss: 0.4524 - val_acc: 0.7860\n",
      "Epoch 61/120\n",
      "10000/10000 [==============================] - 9s 861us/step - loss: 0.3532 - acc: 0.8376 - val_loss: 0.4540 - val_acc: 0.7940\n",
      "Epoch 62/120\n",
      "10000/10000 [==============================] - 9s 858us/step - loss: 0.3466 - acc: 0.8429 - val_loss: 0.4423 - val_acc: 0.7960\n",
      "Epoch 63/120\n",
      "10000/10000 [==============================] - 8s 839us/step - loss: 0.3422 - acc: 0.8452 - val_loss: 0.4362 - val_acc: 0.8030\n",
      "Epoch 64/120\n",
      "10000/10000 [==============================] - 8s 826us/step - loss: 0.3379 - acc: 0.8475 - val_loss: 0.4578 - val_acc: 0.7960\n",
      "Epoch 65/120\n",
      "10000/10000 [==============================] - 9s 851us/step - loss: 0.3363 - acc: 0.8470 - val_loss: 0.4687 - val_acc: 0.8000\n",
      "Epoch 66/120\n",
      "10000/10000 [==============================] - 8s 840us/step - loss: 0.3343 - acc: 0.8480 - val_loss: 0.4488 - val_acc: 0.8010\n",
      "Epoch 67/120\n",
      "10000/10000 [==============================] - 8s 836us/step - loss: 0.3401 - acc: 0.8431 - val_loss: 0.4528 - val_acc: 0.7990\n",
      "Epoch 68/120\n",
      "10000/10000 [==============================] - 8s 836us/step - loss: 0.3318 - acc: 0.8500 - val_loss: 0.4643 - val_acc: 0.7970\n",
      "Epoch 69/120\n",
      "10000/10000 [==============================] - 9s 923us/step - loss: 0.3267 - acc: 0.8527 - val_loss: 0.4842 - val_acc: 0.7890\n",
      "Epoch 70/120\n",
      "10000/10000 [==============================] - 9s 870us/step - loss: 0.3348 - acc: 0.8450 - val_loss: 0.4610 - val_acc: 0.7980\n",
      "Epoch 71/120\n",
      "10000/10000 [==============================] - 8s 841us/step - loss: 0.3296 - acc: 0.8501 - val_loss: 0.4788 - val_acc: 0.8050\n",
      "Epoch 72/120\n",
      "10000/10000 [==============================] - 9s 850us/step - loss: 0.3238 - acc: 0.8541 - val_loss: 0.4875 - val_acc: 0.7910\n",
      "Epoch 73/120\n",
      "10000/10000 [==============================] - 8s 801us/step - loss: 0.3232 - acc: 0.8564 - val_loss: 0.4827 - val_acc: 0.7850\n",
      "Epoch 74/120\n",
      "10000/10000 [==============================] - 8s 843us/step - loss: 0.3258 - acc: 0.8551 - val_loss: 0.5115 - val_acc: 0.7970\n",
      "Epoch 75/120\n",
      "10000/10000 [==============================] - 9s 866us/step - loss: 0.3146 - acc: 0.8567 - val_loss: 0.4853 - val_acc: 0.8080\n",
      "Epoch 76/120\n",
      "10000/10000 [==============================] - 9s 852us/step - loss: 0.3103 - acc: 0.8615 - val_loss: 0.4939 - val_acc: 0.8090\n",
      "Epoch 77/120\n",
      "10000/10000 [==============================] - 9s 871us/step - loss: 0.3114 - acc: 0.8631 - val_loss: 0.4980 - val_acc: 0.8140\n",
      "Epoch 78/120\n",
      "10000/10000 [==============================] - 8s 818us/step - loss: 0.3154 - acc: 0.8576 - val_loss: 0.4857 - val_acc: 0.7970\n",
      "Epoch 79/120\n",
      "10000/10000 [==============================] - 8s 842us/step - loss: 0.3079 - acc: 0.8615 - val_loss: 0.5032 - val_acc: 0.8030\n",
      "Epoch 80/120\n",
      "10000/10000 [==============================] - 8s 761us/step - loss: 0.3052 - acc: 0.8628 - val_loss: 0.5157 - val_acc: 0.8010\n",
      "Epoch 81/120\n",
      "10000/10000 [==============================] - 8s 802us/step - loss: 0.3010 - acc: 0.8669 - val_loss: 0.5011 - val_acc: 0.8090\n",
      "Epoch 82/120\n",
      "10000/10000 [==============================] - 8s 797us/step - loss: 0.3007 - acc: 0.8649 - val_loss: 0.4943 - val_acc: 0.8040\n",
      "Epoch 83/120\n",
      "10000/10000 [==============================] - 8s 802us/step - loss: 0.3028 - acc: 0.8676 - val_loss: 0.4999 - val_acc: 0.8010\n",
      "Epoch 84/120\n",
      "10000/10000 [==============================] - 8s 775us/step - loss: 0.2989 - acc: 0.8656 - val_loss: 0.4822 - val_acc: 0.8120\n",
      "Epoch 85/120\n",
      "10000/10000 [==============================] - 9s 854us/step - loss: 0.2986 - acc: 0.8689 - val_loss: 0.5024 - val_acc: 0.8000\n",
      "Epoch 86/120\n",
      "10000/10000 [==============================] - 8s 793us/step - loss: 0.2976 - acc: 0.8707 - val_loss: 0.4830 - val_acc: 0.8140\n",
      "Epoch 87/120\n",
      "10000/10000 [==============================] - 8s 782us/step - loss: 0.2949 - acc: 0.8676 - val_loss: 0.4916 - val_acc: 0.8090\n",
      "Epoch 88/120\n",
      "10000/10000 [==============================] - 8s 806us/step - loss: 0.2902 - acc: 0.8688 - val_loss: 0.4882 - val_acc: 0.8100\n",
      "Epoch 89/120\n",
      "10000/10000 [==============================] - 8s 833us/step - loss: 0.2948 - acc: 0.8682 - val_loss: 0.4849 - val_acc: 0.7990\n",
      "Epoch 90/120\n",
      "10000/10000 [==============================] - 9s 853us/step - loss: 0.2863 - acc: 0.8757 - val_loss: 0.4963 - val_acc: 0.8000\n",
      "Epoch 91/120\n",
      "10000/10000 [==============================] - 8s 837us/step - loss: 0.2786 - acc: 0.8756 - val_loss: 0.4995 - val_acc: 0.8050\n",
      "Epoch 92/120\n",
      "10000/10000 [==============================] - 8s 836us/step - loss: 0.2932 - acc: 0.8752 - val_loss: 0.5040 - val_acc: 0.8000\n",
      "Epoch 93/120\n",
      "10000/10000 [==============================] - 9s 882us/step - loss: 0.2796 - acc: 0.8775 - val_loss: 0.5437 - val_acc: 0.8020\n",
      "Epoch 94/120\n",
      "10000/10000 [==============================] - 8s 842us/step - loss: 0.2862 - acc: 0.8750 - val_loss: 0.5275 - val_acc: 0.8030\n",
      "Epoch 95/120\n",
      "10000/10000 [==============================] - 8s 841us/step - loss: 0.2787 - acc: 0.8789 - val_loss: 0.5441 - val_acc: 0.8040\n",
      "Epoch 96/120\n",
      "10000/10000 [==============================] - 8s 836us/step - loss: 0.2767 - acc: 0.8817 - val_loss: 0.5229 - val_acc: 0.8050\n",
      "Epoch 97/120\n",
      "10000/10000 [==============================] - 8s 849us/step - loss: 0.2778 - acc: 0.8799 - val_loss: 0.4956 - val_acc: 0.8160\n",
      "Epoch 98/120\n",
      "10000/10000 [==============================] - 8s 848us/step - loss: 0.2720 - acc: 0.8808 - val_loss: 0.5015 - val_acc: 0.8090\n",
      "Epoch 99/120\n",
      "10000/10000 [==============================] - 8s 827us/step - loss: 0.2718 - acc: 0.8806 - val_loss: 0.5252 - val_acc: 0.8040\n",
      "Epoch 100/120\n",
      "10000/10000 [==============================] - 8s 810us/step - loss: 0.2716 - acc: 0.8808 - val_loss: 0.5382 - val_acc: 0.8060\n",
      "Epoch 101/120\n",
      "10000/10000 [==============================] - 9s 864us/step - loss: 0.2783 - acc: 0.8808 - val_loss: 0.5056 - val_acc: 0.8170\n",
      "Epoch 102/120\n",
      "10000/10000 [==============================] - 8s 795us/step - loss: 0.2661 - acc: 0.8873 - val_loss: 0.5525 - val_acc: 0.8070\n",
      "Epoch 103/120\n",
      "10000/10000 [==============================] - 8s 782us/step - loss: 0.2629 - acc: 0.8828 - val_loss: 0.5501 - val_acc: 0.8140\n",
      "Epoch 104/120\n",
      "10000/10000 [==============================] - 8s 799us/step - loss: 0.2602 - acc: 0.8896 - val_loss: 0.5696 - val_acc: 0.8010\n",
      "Epoch 105/120\n",
      "10000/10000 [==============================] - 9s 852us/step - loss: 0.2651 - acc: 0.8860 - val_loss: 0.5144 - val_acc: 0.8250\n",
      "Epoch 106/120\n",
      "10000/10000 [==============================] - 8s 833us/step - loss: 0.2663 - acc: 0.8853 - val_loss: 0.5575 - val_acc: 0.8130\n",
      "Epoch 107/120\n",
      "10000/10000 [==============================] - 8s 811us/step - loss: 0.2628 - acc: 0.8873 - val_loss: 0.5350 - val_acc: 0.8030\n",
      "Epoch 108/120\n",
      "10000/10000 [==============================] - 8s 812us/step - loss: 0.2585 - acc: 0.8895 - val_loss: 0.5212 - val_acc: 0.8200\n",
      "Epoch 109/120\n",
      "10000/10000 [==============================] - 9s 876us/step - loss: 0.2608 - acc: 0.8875 - val_loss: 0.5414 - val_acc: 0.8090\n",
      "Epoch 110/120\n",
      "10000/10000 [==============================] - 8s 822us/step - loss: 0.2641 - acc: 0.8900 - val_loss: 0.5529 - val_acc: 0.8090\n",
      "Epoch 111/120\n",
      "10000/10000 [==============================] - 8s 804us/step - loss: 0.2515 - acc: 0.8946 - val_loss: 0.5575 - val_acc: 0.8210\n",
      "Epoch 112/120\n",
      "10000/10000 [==============================] - 8s 818us/step - loss: 0.2522 - acc: 0.8937 - val_loss: 0.5263 - val_acc: 0.8150\n",
      "Epoch 113/120\n"
     ]
    },
    {
     "name": "stdout",
     "output_type": "stream",
     "text": [
      "10000/10000 [==============================] - 9s 862us/step - loss: 0.2597 - acc: 0.8893 - val_loss: 0.5748 - val_acc: 0.8060\n",
      "Epoch 114/120\n",
      "10000/10000 [==============================] - ETA: 0s - loss: 0.2458 - acc: 0.896 - 9s 869us/step - loss: 0.2457 - acc: 0.8960 - val_loss: 0.5635 - val_acc: 0.8170\n",
      "Epoch 115/120\n",
      "10000/10000 [==============================] - 9s 866us/step - loss: 0.2539 - acc: 0.8916 - val_loss: 0.5792 - val_acc: 0.8180\n",
      "Epoch 116/120\n",
      "10000/10000 [==============================] - 9s 885us/step - loss: 0.2427 - acc: 0.8992 - val_loss: 0.5794 - val_acc: 0.8190\n",
      "Epoch 117/120\n",
      "10000/10000 [==============================] - 9s 899us/step - loss: 0.2496 - acc: 0.8942 - val_loss: 0.5730 - val_acc: 0.8130\n",
      "Epoch 118/120\n",
      "10000/10000 [==============================] - 9s 865us/step - loss: 0.2528 - acc: 0.8936 - val_loss: 0.5686 - val_acc: 0.8130\n",
      "Epoch 119/120\n",
      "10000/10000 [==============================] - 9s 865us/step - loss: 0.2507 - acc: 0.8923 - val_loss: 0.5817 - val_acc: 0.8200\n",
      "Epoch 120/120\n",
      "10000/10000 [==============================] - 9s 854us/step - loss: 0.2433 - acc: 0.8991 - val_loss: 0.5693 - val_acc: 0.8140\n"
     ]
    }
   ],
   "source": [
    "qa = model.fit([stories_train, questions_train], answers_train, batch_size=32, epochs=120, validation_data=([stories_test, questions_test], answers_test))"
   ]
  },
  {
   "cell_type": "markdown",
   "metadata": {},
   "source": [
    "#### 9. Save the model"
   ]
  },
  {
   "cell_type": "code",
   "execution_count": 49,
   "metadata": {},
   "outputs": [],
   "source": [
    "filename = 'qa_120_epochs.h5'\n",
    "model.save(filename)"
   ]
  },
  {
   "cell_type": "markdown",
   "metadata": {},
   "source": [
    "#### 10. Plot training history"
   ]
  },
  {
   "cell_type": "code",
   "execution_count": 50,
   "metadata": {},
   "outputs": [
    {
     "name": "stdout",
     "output_type": "stream",
     "text": [
      "dict_keys(['val_loss', 'val_acc', 'loss', 'acc'])\n"
     ]
    },
    {
     "data": {
      "image/png": "[encoded data removed]",
      "text/plain": [
       "<Figure size 432x288 with 1 Axes>"
      ]
     },
     "metadata": {
      "needs_background": "light"
     },
     "output_type": "display_data"
    }
   ],
   "source": [
    "import matplotlib.pyplot as plt\n",
    "%matplotlib inline\n",
    "print(qa.history.keys())\n",
    "# summarize history for accuracy\n",
    "plt.plot(qa.history['acc'])\n",
    "plt.plot(qa.history['val_acc'])\n",
    "plt.title('model accuracy')\n",
    "plt.ylabel('accuracy')\n",
    "plt.xlabel('epoch')\n",
    "plt.legend(['train', 'test'], loc='upper left')\n",
    "plt.show()"
   ]
  },
  {
   "cell_type": "markdown",
   "metadata": {},
   "source": [
    "#### 11. Evaluate and test the model"
   ]
  },
  {
   "cell_type": "code",
   "execution_count": 51,
   "metadata": {},
   "outputs": [],
   "source": [
    "predictions = model.predict(([stories_test, questions_test]))"
   ]
  },
  {
   "cell_type": "code",
   "execution_count": 52,
   "metadata": {},
   "outputs": [
    {
     "data": {
      "text/plain": [
       "array([[1.46382896e-14, 1.70085266e-14, 1.58988694e-14, ...,\n",
       "        1.42198299e-14, 1.59783956e-14, 1.58654861e-14],\n",
       "       [3.63212742e-13, 3.93054838e-13, 3.59840819e-13, ...,\n",
       "        3.40538416e-13, 3.89172744e-13, 3.55816125e-13],\n",
       "       [1.70315049e-14, 1.97693695e-14, 1.81275232e-14, ...,\n",
       "        1.74386550e-14, 1.91940139e-14, 1.90443178e-14],\n",
       "       ...,\n",
       "       [8.63874080e-17, 1.10968496e-16, 9.37790807e-17, ...,\n",
       "        9.18978999e-17, 1.13373176e-16, 1.10015921e-16],\n",
       "       [2.80486702e-16, 3.27027721e-16, 3.25891982e-16, ...,\n",
       "        2.91102036e-16, 3.07913391e-16, 3.22496016e-16],\n",
       "       [1.80679793e-22, 2.20827815e-22, 2.30842764e-22, ...,\n",
       "        1.90054199e-22, 1.79911556e-22, 2.09176087e-22]], dtype=float32)"
      ]
     },
     "execution_count": 52,
     "metadata": {},
     "output_type": "execute_result"
    }
   ],
   "source": [
    "predictions"
   ]
  },
  {
   "cell_type": "code",
   "execution_count": 53,
   "metadata": {},
   "outputs": [
    {
     "name": "stdout",
     "output_type": "stream",
     "text": [
      "Mary got the milk there . John moved to the bedroom .\n"
     ]
    }
   ],
   "source": [
    "# story #0\n",
    "\n",
    "story = ' '.join(word for word in test_data[0][0])\n",
    "print(story)"
   ]
  },
  {
   "cell_type": "code",
   "execution_count": 54,
   "metadata": {},
   "outputs": [
    {
     "name": "stdout",
     "output_type": "stream",
     "text": [
      "Is John in the kitchen ?\n"
     ]
    }
   ],
   "source": [
    "# question #0\n",
    "\n",
    "question = ' '.join(word for word in test_data[0][1])\n",
    "print(question)"
   ]
  },
  {
   "cell_type": "code",
   "execution_count": 55,
   "metadata": {},
   "outputs": [
    {
     "name": "stdout",
     "output_type": "stream",
     "text": [
      "True test answer from data is: no\n"
     ]
    }
   ],
   "source": [
    "# answer #0\n",
    "\n",
    "print(\"True test answer from data is:\", test_data[0][2])"
   ]
  },
  {
   "cell_type": "code",
   "execution_count": 56,
   "metadata": {},
   "outputs": [
    {
     "name": "stdout",
     "output_type": "stream",
     "text": [
      "[1.46382896e-14 1.70085266e-14 1.58988694e-14 1.83372909e-14\n",
      " 1.65865653e-14 1.44100243e-14 1.63785408e-14 9.98939335e-01\n",
      " 1.57426206e-14 1.58539902e-14 1.62395579e-14 1.59676722e-14\n",
      " 1.55482367e-14 1.41915161e-14 1.35159125e-14 1.49089369e-14\n",
      " 1.59082715e-14 1.55568985e-14 1.06062007e-03 1.43970021e-14\n",
      " 1.60309930e-14 1.44801705e-14 1.58517540e-14 1.48582064e-14\n",
      " 1.65406612e-14 1.53848068e-14 1.74070234e-14 1.70684525e-14\n",
      " 1.45875065e-14 1.77978749e-14 1.62807440e-14 1.61880668e-14\n",
      " 1.49000956e-14 1.79433511e-14 1.55443217e-14 1.42198299e-14\n",
      " 1.59783956e-14 1.58654861e-14]\n",
      "38\n"
     ]
    }
   ],
   "source": [
    "# predictions for answer #0\n",
    "\n",
    "print(predictions[0])\n",
    "print(len(predictions[0]))"
   ]
  },
  {
   "cell_type": "code",
   "execution_count": 57,
   "metadata": {},
   "outputs": [
    {
     "name": "stdout",
     "output_type": "stream",
     "text": [
      "Predicted answer is:  no\n",
      "Probability of prediction being the right answer: 0.99893934\n"
     ]
    }
   ],
   "source": [
    "# generate prediction from model\n",
    "\n",
    "val_max = np.argmax(predictions[0])\n",
    "\n",
    "for key, value in tokenizer.word_index.items():\n",
    "    if value == val_max:\n",
    "        k = key\n",
    "\n",
    "print(\"Predicted answer is: \", k)\n",
    "print(\"Probability of prediction being the right answer:\", predictions[0][val_max])"
   ]
  },
  {
   "cell_type": "markdown",
   "metadata": {},
   "source": [
    "As expected, the predicted answer is 'no'."
   ]
  },
  {
   "cell_type": "code",
   "execution_count": 72,
   "metadata": {},
   "outputs": [
    {
     "name": "stdout",
     "output_type": "stream",
     "text": [
      "{'office', 'in', '?', 'discarded', 'dropped', 'milk', 'no', '.', 'bathroom', 'went', 'took', 'Mary', 'hallway', 'there', 'John', 'back', 'up', 'yes', 'moved', 'put', 'Sandra', 'left', 'apple', 'journeyed', 'picked', 'grabbed', 'football', 'got', 'down', 'kitchen', 'travelled', 'Is', 'garden', 'Daniel', 'the', 'to', 'bedroom'}\n"
     ]
    }
   ],
   "source": [
    "# test the model on new story and question\n",
    "# we can only use the words in the vocabulary\n",
    "\n",
    "print(vocab)"
   ]
  },
  {
   "cell_type": "code",
   "execution_count": 73,
   "metadata": {},
   "outputs": [
    {
     "data": {
      "text/plain": [
       "['John',\n",
       " 'grabbed',\n",
       " 'the',\n",
       " 'apple',\n",
       " 'in',\n",
       " 'the',\n",
       " 'kitchen',\n",
       " '.',\n",
       " 'Sandra',\n",
       " 'moved',\n",
       " 'to',\n",
       " 'the',\n",
       " 'office',\n",
       " '.']"
      ]
     },
     "execution_count": 73,
     "metadata": {},
     "output_type": "execute_result"
    }
   ],
   "source": [
    "# create new story\n",
    "\n",
    "my_story = \"John grabbed the apple in the kitchen . Sandra moved to the office .\"\n",
    "my_story.split()"
   ]
  },
  {
   "cell_type": "code",
   "execution_count": 74,
   "metadata": {},
   "outputs": [
    {
     "data": {
      "text/plain": [
       "['Is', 'John', 'in', 'the', 'kitchen', '?']"
      ]
     },
     "execution_count": 74,
     "metadata": {},
     "output_type": "execute_result"
    }
   ],
   "source": [
    "# create new question\n",
    "\n",
    "my_question = \"Is John in the kitchen ?\"\n",
    "my_question.split()"
   ]
  },
  {
   "cell_type": "code",
   "execution_count": 75,
   "metadata": {},
   "outputs": [],
   "source": [
    "# my_data = [(my_story, my_question, my_answer)]\n",
    "\n",
    "my_data = [(my_story.split(), my_question.split(), 'yes')]"
   ]
  },
  {
   "cell_type": "code",
   "execution_count": 76,
   "metadata": {},
   "outputs": [],
   "source": [
    "# vectorize new data\n",
    "\n",
    "my_story, my_question, my_answer = vectorize_data(my_data)"
   ]
  },
  {
   "cell_type": "code",
   "execution_count": 77,
   "metadata": {},
   "outputs": [],
   "source": [
    "# predict my_answer\n",
    "\n",
    "prediction = model.predict(([my_story, my_question]))"
   ]
  },
  {
   "cell_type": "code",
   "execution_count": 78,
   "metadata": {},
   "outputs": [
    {
     "name": "stdout",
     "output_type": "stream",
     "text": [
      "Predicted answer is:  yes\n",
      "Probability of prediction being the right answer: 0.94050664\n"
     ]
    }
   ],
   "source": [
    "# generate prediction from model\n",
    "\n",
    "val_max = np.argmax(prediction[0])\n",
    "\n",
    "for key, value in tokenizer.word_index.items():\n",
    "    if value == val_max:\n",
    "        k = key\n",
    "\n",
    "print(\"Predicted answer is: \", k)\n",
    "print(\"Probability of prediction being the right answer:\", prediction[0][val_max])"
   ]
  },
  {
   "cell_type": "markdown",
   "metadata": {},
   "source": [
    "The model correctly predicted that the correct answer is 'yes'."
   ]
  }
 ],
 "metadata": {
  "kernelspec": {
   "display_name": "Python 3",
   "language": "python",
   "name": "python3"
  },
  "language_info": {
   "codemirror_mode": {
    "name": "ipython",
    "version": 3
   },
   "file_extension": ".py",
   "mimetype": "text/x-python",
   "name": "python",
   "nbconvert_exporter": "python",
   "pygments_lexer": "ipython3",
   "version": "3.7.3"
  }
 },
 "nbformat": 4,
 "nbformat_minor": 2
}
