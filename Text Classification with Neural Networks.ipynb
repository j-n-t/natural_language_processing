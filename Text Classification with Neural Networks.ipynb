{
 "cells": [
  {
   "cell_type": "markdown",
   "metadata": {},
   "source": [
    "# Text Classification with Neural Networks"
   ]
  },
  {
   "cell_type": "markdown",
   "metadata": {},
   "source": [
    "The goal of this project is to develop a **classification model to predict the positive/negative labels** of movie reviews.\n",
    "\n",
    "We'll be using the **large movie review dataset**, https://ai.stanford.edu/~amaas/data/sentiment/, compiled by Maas et al. (https://ai.stanford.edu/~amaas/papers/wvSent_acl2011.pdf). This dataset can be loaded directly via the Keras imdb.load_data() method.\n",
    "\n",
    "To accomplish our goal, we'll develop artificial neural network models with different architectures, such as:\n",
    "\n",
    "1. **Dense** classifier\n",
    "* **Convolutional** classifier\n",
    "* **RNN (simple RNN layer)** classifier\n",
    "* **RNN (GRU layer)** classifier\n",
    "* **RNN (LSTM layer)** classifier\n",
    "* **RNN (bidirectional LSTM layer)** classifier\n",
    "* **Stacked RNN (2 bidirectional LSTM layers)** classifier\n",
    "* **Convolutional layer + bidirectional LSTM layer** classifier\n",
    "* **Multi-convolutional** classifier"
   ]
  },
  {
   "cell_type": "markdown",
   "metadata": {},
   "source": [
    "We'll start by developing a **dense classifier**."
   ]
  },
  {
   "cell_type": "markdown",
   "metadata": {},
   "source": [
    "### Step 1"
   ]
  },
  {
   "cell_type": "markdown",
   "metadata": {},
   "source": [
    "#### 1. Perform initial imports"
   ]
  },
  {
   "cell_type": "code",
   "execution_count": 1,
   "metadata": {},
   "outputs": [
    {
     "name": "stderr",
     "output_type": "stream",
     "text": [
      "Using TensorFlow backend.\n"
     ]
    }
   ],
   "source": [
    "import keras\n",
    "from keras.datasets import imdb\n",
    "from keras.preprocessing.sequence import pad_sequences\n",
    "from keras.models import Sequential\n",
    "from keras.layers import Dense, Flatten, Dropout\n",
    "from keras.layers import Embedding\n",
    "from keras.callbacks import ModelCheckpoint\n",
    "\n",
    "import os\n",
    "\n",
    "import numpy as np\n",
    "import pandas as pd"
   ]
  },
  {
   "cell_type": "markdown",
   "metadata": {},
   "source": [
    "#### 2. Load data"
   ]
  },
  {
   "cell_type": "code",
   "execution_count": 2,
   "metadata": {},
   "outputs": [],
   "source": [
    "# values used in Maas et al.:\n",
    "#\"We build a fixed dictionary of the 5,000 most frequent tokens, \n",
    "#but ignore the 50 most frequent terms from the original full vocabulary.\"\n",
    "\n",
    "n_unique_words = 5000 #number of most frequent words to consider\n",
    "n_words_to_skip = 50 #number of most frequent words to ignore\n",
    "\n",
    "(x_train, y_train), (x_test, y_test) = imdb.load_data(num_words=n_unique_words, \n",
    "                                                      skip_top=n_words_to_skip)"
   ]
  },
  {
   "cell_type": "markdown",
   "metadata": {},
   "source": [
    "#### 3. Check data"
   ]
  },
  {
   "cell_type": "code",
   "execution_count": 3,
   "metadata": {},
   "outputs": [
    {
     "data": {
      "text/plain": [
       "array([list([2, 2, 2, 2, 2, 530, 973, 1622, 1385, 65, 458, 4468, 66, 3941, 2, 173, 2, 256, 2, 2, 100, 2, 838, 112, 50, 670, 2, 2, 2, 480, 284, 2, 150, 2, 172, 112, 167, 2, 336, 385, 2, 2, 172, 4536, 1111, 2, 546, 2, 2, 447, 2, 192, 50, 2, 2, 147, 2025, 2, 2, 2, 2, 1920, 4613, 469, 2, 2, 71, 87, 2, 2, 2, 530, 2, 76, 2, 2, 1247, 2, 2, 2, 515, 2, 2, 2, 626, 2, 2, 2, 62, 386, 2, 2, 316, 2, 106, 2, 2, 2223, 2, 2, 480, 66, 3785, 2, 2, 130, 2, 2, 2, 619, 2, 2, 124, 51, 2, 135, 2, 2, 1415, 2, 2, 2, 2, 215, 2, 77, 52, 2, 2, 407, 2, 82, 2, 2, 2, 107, 117, 2, 2, 256, 2, 2, 2, 3766, 2, 723, 2, 71, 2, 530, 476, 2, 400, 317, 2, 2, 2, 2, 1029, 2, 104, 88, 2, 381, 2, 297, 98, 2, 2071, 56, 2, 141, 2, 194, 2, 2, 2, 226, 2, 2, 134, 476, 2, 480, 2, 144, 2, 2, 2, 51, 2, 2, 224, 92, 2, 104, 2, 226, 65, 2, 2, 1334, 88, 2, 2, 283, 2, 2, 4472, 113, 103, 2, 2, 2, 2, 2, 178, 2]),\n",
       "       list([2, 194, 1153, 194, 2, 78, 228, 2, 2, 1463, 4369, 2, 134, 2, 2, 715, 2, 118, 1634, 2, 394, 2, 2, 119, 954, 189, 102, 2, 207, 110, 3103, 2, 2, 69, 188, 2, 2, 2, 2, 2, 249, 126, 93, 2, 114, 2, 2300, 1523, 2, 647, 2, 116, 2, 2, 2, 2, 229, 2, 340, 1322, 2, 118, 2, 2, 130, 4901, 2, 2, 1002, 2, 89, 2, 952, 2, 2, 2, 455, 2, 2, 2, 2, 1543, 1905, 398, 2, 1649, 2, 2, 2, 163, 2, 3215, 2, 2, 1153, 2, 194, 775, 2, 2, 2, 349, 2637, 148, 605, 2, 2, 2, 123, 125, 68, 2, 2, 2, 349, 165, 4362, 98, 2, 2, 228, 2, 2, 2, 1157, 2, 299, 120, 2, 120, 174, 2, 220, 175, 136, 50, 2, 4373, 228, 2, 2, 2, 656, 245, 2350, 2, 2, 2, 131, 152, 491, 2, 2, 2, 2, 1212, 2, 2, 2, 371, 78, 2, 625, 64, 1382, 2, 2, 168, 145, 2, 2, 1690, 2, 2, 2, 1355, 2, 2, 2, 52, 154, 462, 2, 89, 78, 285, 2, 145, 95]),\n",
       "       list([2, 2, 2, 2, 2, 2, 2, 2, 249, 108, 2, 2, 2, 54, 61, 369, 2, 71, 149, 2, 2, 112, 2, 2401, 311, 2, 2, 3711, 2, 75, 2, 1829, 296, 2, 86, 320, 2, 534, 2, 263, 4821, 1301, 2, 1873, 2, 89, 78, 2, 66, 2, 2, 360, 2, 2, 58, 316, 334, 2, 2, 1716, 2, 645, 662, 2, 257, 85, 1200, 2, 1228, 2578, 83, 68, 3912, 2, 2, 165, 1539, 278, 2, 69, 2, 780, 2, 106, 2, 2, 1338, 2, 2, 2, 2, 215, 2, 610, 2, 2, 87, 326, 2, 2300, 2, 2, 2, 2, 272, 2, 57, 2, 2, 2, 2, 2, 2, 2307, 51, 2, 170, 2, 595, 116, 595, 1352, 2, 191, 79, 638, 89, 2, 2, 2, 2, 106, 607, 624, 2, 534, 2, 227, 2, 129, 113])],\n",
       "      dtype=object)"
      ]
     },
     "execution_count": 3,
     "metadata": {},
     "output_type": "execute_result"
    }
   ],
   "source": [
    "#check 3 first reviews of the training data\n",
    "\n",
    "x_train[0:3]"
   ]
  },
  {
   "cell_type": "markdown",
   "metadata": {},
   "source": [
    "Each token is represented by an integer, following this convention:\n",
    "* **0** is the **padding token**\n",
    "* **1** is the **starting token**, indicating the beginning of a review\n",
    "* **2** is the **unknown token**, used to identify the out-of-vocabulary (OOV) words \n",
    "* **3** is the **most frequent word** in the corpus\n",
    "* **4** is the **second most frequent word** in the corpus, and so on"
   ]
  },
  {
   "cell_type": "code",
   "execution_count": 4,
   "metadata": {},
   "outputs": [
    {
     "name": "stdout",
     "output_type": "stream",
     "text": [
      "0 0\n"
     ]
    }
   ],
   "source": [
    "# integer 3 is not used\n",
    "n_3=0\n",
    "n_4=0\n",
    "\n",
    "for index in range(len(x_train)):\n",
    "    n_3 += x_train[index].count(3)\n",
    "    n_4 += x_train[index].count(4)\n",
    "\n",
    "print(n_3, n_4)"
   ]
  },
  {
   "cell_type": "code",
   "execution_count": null,
   "metadata": {},
   "outputs": [],
   "source": []
  },
  {
   "cell_type": "code",
   "execution_count": 5,
   "metadata": {},
   "outputs": [
    {
     "name": "stdout",
     "output_type": "stream",
     "text": [
      "218\n",
      "189\n",
      "141\n"
     ]
    }
   ],
   "source": [
    "# check length of the 3 first reviews of the training data\n",
    "\n",
    "for x in x_train[0:3]:\n",
    "    print(len(x))"
   ]
  },
  {
   "cell_type": "markdown",
   "metadata": {},
   "source": [
    "As expected, the reviews have different lengths."
   ]
  },
  {
   "cell_type": "code",
   "execution_count": 6,
   "metadata": {},
   "outputs": [
    {
     "data": {
      "text/plain": [
       "array([1, 0, 0], dtype=int64)"
      ]
     },
     "execution_count": 6,
     "metadata": {},
     "output_type": "execute_result"
    }
   ],
   "source": [
    "# check labels of the 3 first reviews of the training data\n",
    "\n",
    "y_train[0:3]"
   ]
  },
  {
   "cell_type": "markdown",
   "metadata": {},
   "source": [
    "The first review is positive and the second and third reviews are negative."
   ]
  },
  {
   "cell_type": "code",
   "execution_count": 7,
   "metadata": {},
   "outputs": [
    {
     "data": {
      "text/plain": [
       "(25000, 25000)"
      ]
     },
     "execution_count": 7,
     "metadata": {},
     "output_type": "execute_result"
    }
   ],
   "source": [
    "# check length of the training and test set\n",
    "\n",
    "len(x_train), len(x_test)"
   ]
  },
  {
   "cell_type": "markdown",
   "metadata": {},
   "source": [
    "We have 25000 reviews in the training set and 25000 reviews in the test set."
   ]
  },
  {
   "cell_type": "markdown",
   "metadata": {},
   "source": [
    "#### 4. Check reviews as a sequence of words (and not integers)"
   ]
  },
  {
   "cell_type": "markdown",
   "metadata": {},
   "source": [
    "Instead of having a sequence of integers for each review, we can also check their original content using Keras imdb.get_word_index() method. "
   ]
  },
  {
   "cell_type": "code",
   "execution_count": 8,
   "metadata": {},
   "outputs": [
    {
     "name": "stdout",
     "output_type": "stream",
     "text": [
      "the 1\n",
      "and 2\n"
     ]
    }
   ],
   "source": [
    "word_index = imdb.get_word_index()\n",
    "\n",
    "for key, value in word_index.items():\n",
    "    if (value == 0) or (value == 1) or (value == 2):\n",
    "        print(key, value)"
   ]
  },
  {
   "cell_type": "code",
   "execution_count": 9,
   "metadata": {},
   "outputs": [
    {
     "name": "stdout",
     "output_type": "stream",
     "text": [
      "the 1\n"
     ]
    }
   ],
   "source": [
    "print(min(word_index, key=word_index.get), word_index[min(word_index, key=word_index.get)])"
   ]
  },
  {
   "cell_type": "markdown",
   "metadata": {},
   "source": [
    "As we can see, the first integers are not reserved for the special cases we've mentioned before (and the values start in 1)."
   ]
  },
  {
   "cell_type": "code",
   "execution_count": 10,
   "metadata": {},
   "outputs": [],
   "source": [
    "word_index = {k:(v+3) for k,v in word_index.items()}\n",
    "word_index[\"PAD\"] = 0\n",
    "word_index[\"START\"] = 1\n",
    "word_index[\"UNK\"] = 2\n",
    "#word_index[\"<UNUSED>\"] = 3"
   ]
  },
  {
   "cell_type": "code",
   "execution_count": 11,
   "metadata": {},
   "outputs": [],
   "source": [
    "# 3 is not used!!!\n",
    "for key, value in word_index.items():\n",
    "    if value == 3:\n",
    "        print(key, value)"
   ]
  },
  {
   "cell_type": "code",
   "execution_count": 12,
   "metadata": {},
   "outputs": [
    {
     "data": {
      "text/plain": [
       "4"
      ]
     },
     "execution_count": 12,
     "metadata": {},
     "output_type": "execute_result"
    }
   ],
   "source": [
    "# the most common word is \"the\"\n",
    "word_index['the']"
   ]
  },
  {
   "cell_type": "code",
   "execution_count": 13,
   "metadata": {},
   "outputs": [
    {
     "data": {
      "text/plain": [
       "'the'"
      ]
     },
     "execution_count": 13,
     "metadata": {},
     "output_type": "execute_result"
    }
   ],
   "source": [
    "# inverting the word_index dictionary\n",
    "\n",
    "index_word = {v:k for k,v in word_index.items()}\n",
    "\n",
    "index_word[4]"
   ]
  },
  {
   "cell_type": "code",
   "execution_count": 14,
   "metadata": {},
   "outputs": [
    {
     "data": {
      "text/plain": [
       "\"UNK UNK UNK UNK UNK brilliant casting location scenery story direction everyone's really suited UNK part UNK played UNK UNK could UNK imagine being there robert UNK UNK UNK amazing actor UNK now UNK same being director UNK father came UNK UNK same scottish island UNK myself UNK UNK loved UNK fact there UNK UNK real connection UNK UNK UNK UNK witty remarks throughout UNK UNK were great UNK UNK UNK brilliant UNK much UNK UNK bought UNK UNK UNK soon UNK UNK UNK released UNK UNK UNK would recommend UNK UNK everyone UNK watch UNK UNK fly UNK UNK amazing really cried UNK UNK end UNK UNK UNK sad UNK UNK know what UNK say UNK UNK cry UNK UNK UNK UNK must UNK been good UNK UNK definitely UNK also UNK UNK UNK two little UNK UNK played UNK UNK UNK norman UNK paul UNK were UNK brilliant children UNK often left UNK UNK UNK UNK list UNK think because UNK stars UNK play them UNK grown up UNK such UNK big UNK UNK UNK whole UNK UNK these children UNK amazing UNK should UNK UNK UNK what UNK UNK done don't UNK think UNK whole story UNK UNK lovely because UNK UNK true UNK UNK someone's life after UNK UNK UNK UNK UNK us UNK\""
      ]
     },
     "execution_count": 14,
     "metadata": {},
     "output_type": "execute_result"
    }
   ],
   "source": [
    "# first review of the training set as a sequence of words\n",
    "\n",
    "' '.join(index_word[id] for id in x_train[0])"
   ]
  },
  {
   "cell_type": "markdown",
   "metadata": {},
   "source": [
    "This is the first review of the training set. Since we've excluded some words with the parameters `num_words` and `skip_top` when loading the reviews, those words are identified by the string 'UNK'.\n",
    "\n",
    "Let's view this first original review."
   ]
  },
  {
   "cell_type": "markdown",
   "metadata": {},
   "source": [
    "#### 5. Check original reviews as a sequence of words"
   ]
  },
  {
   "cell_type": "code",
   "execution_count": 15,
   "metadata": {},
   "outputs": [],
   "source": [
    "(original_x_train,_), (original_x_test,_) = imdb.load_data()"
   ]
  },
  {
   "cell_type": "code",
   "execution_count": 16,
   "metadata": {},
   "outputs": [
    {
     "data": {
      "text/plain": [
       "\"START this film was just brilliant casting location scenery story direction everyone's really suited the part they played and you could just imagine being there robert redford's is an amazing actor and now the same being director norman's father came from the same scottish island as myself so i loved the fact there was a real connection with this film the witty remarks throughout the film were great it was just brilliant so much that i bought the film as soon as it was released for retail and would recommend it to everyone to watch and the fly fishing was amazing really cried at the end it was so sad and you know what they say if you cry at a film it must have been good and this definitely was also congratulations to the two little boy's that played the part's of norman and paul they were just brilliant children are often left out of the praising list i think because the stars that play them all grown up are such a big profile for the whole film but these children are amazing and should be praised for what they have done don't you think the whole story was so lovely because it was true and was someone's life after all that was shared with us all\""
      ]
     },
     "execution_count": 16,
     "metadata": {},
     "output_type": "execute_result"
    }
   ],
   "source": [
    "' '.join(index_word[id] for id in original_x_train[0])"
   ]
  },
  {
   "cell_type": "markdown",
   "metadata": {},
   "source": [
    "#### 6. Preprocess data"
   ]
  },
  {
   "cell_type": "code",
   "execution_count": 17,
   "metadata": {},
   "outputs": [],
   "source": [
    "# make each review the same length using 0 as the padding value\n",
    "\n",
    "max_review_length = 100 #maximum review length of 100 words\n",
    "pad_type = 'pre' #add padding characters to the start of every review < 100 words\n",
    "trunc_type = 'pre' #remove words from the beginning of every review > 100 words\n",
    "\n",
    "x_train = pad_sequences(x_train, maxlen=max_review_length, \n",
    "                        padding=pad_type, truncating=trunc_type, value=0)\n",
    "\n",
    "x_test = pad_sequences(x_test, maxlen=max_review_length,\n",
    "                       padding=pad_type, truncating=trunc_type, value=0)"
   ]
  },
  {
   "cell_type": "code",
   "execution_count": 18,
   "metadata": {},
   "outputs": [
    {
     "name": "stdout",
     "output_type": "stream",
     "text": [
      "100\n",
      "100\n",
      "100\n"
     ]
    }
   ],
   "source": [
    "# check length of the 3 first reviews of the training data\n",
    "\n",
    "for x in x_train[0:3]:\n",
    "    print(len(x))"
   ]
  },
  {
   "cell_type": "markdown",
   "metadata": {},
   "source": [
    "All the reviews have now the **same length of 100 words**."
   ]
  },
  {
   "cell_type": "code",
   "execution_count": 19,
   "metadata": {},
   "outputs": [
    {
     "data": {
      "text/plain": [
       "\"cry UNK UNK UNK UNK must UNK been good UNK UNK definitely UNK also UNK UNK UNK two little UNK UNK played UNK UNK UNK norman UNK paul UNK were UNK brilliant children UNK often left UNK UNK UNK UNK list UNK think because UNK stars UNK play them UNK grown up UNK such UNK big UNK UNK UNK whole UNK UNK these children UNK amazing UNK should UNK UNK UNK what UNK UNK done don't UNK think UNK whole story UNK UNK lovely because UNK UNK true UNK UNK someone's life after UNK UNK UNK UNK UNK us UNK\""
      ]
     },
     "execution_count": 19,
     "metadata": {},
     "output_type": "execute_result"
    }
   ],
   "source": [
    "# first review of the training set as a sequence of words after preprocessing\n",
    "\n",
    "' '.join(index_word[id] for id in x_train[0])"
   ]
  },
  {
   "cell_type": "markdown",
   "metadata": {},
   "source": [
    "As we can see, this review was truncated in order to keep the last 100 words."
   ]
  },
  {
   "cell_type": "markdown",
   "metadata": {},
   "source": [
    "#### 7. Design a dense neural network"
   ]
  },
  {
   "cell_type": "code",
   "execution_count": 20,
   "metadata": {},
   "outputs": [],
   "source": [
    "# output directory name:\n",
    "output_dir = 'text_classification_NN/dense'\n",
    "\n",
    "# training:\n",
    "epochs = 4\n",
    "batch_size = 128\n",
    "\n",
    "n_dim = 64 #number of dimensions of our word-vector space\n",
    "\n",
    "# neural network architecture: \n",
    "n_dense = 64 #number of neurons in dense layer\n",
    "dropout = 0.5\n",
    "\n",
    "model = Sequential(name='model_dense')\n",
    "model.add(Embedding(n_unique_words, n_dim, input_length=max_review_length))\n",
    "model.add(Flatten())\n",
    "model.add(Dense(n_dense, activation='relu'))\n",
    "model.add(Dropout(dropout))\n",
    "model.add(Dense(1, activation='sigmoid')) #single output neuron; we use sigmoid because we only have 2 classes"
   ]
  },
  {
   "cell_type": "code",
   "execution_count": 21,
   "metadata": {},
   "outputs": [
    {
     "name": "stdout",
     "output_type": "stream",
     "text": [
      "Model: \"model_dense\"\n",
      "_________________________________________________________________\n",
      "Layer (type)                 Output Shape              Param #   \n",
      "=================================================================\n",
      "embedding_1 (Embedding)      (None, 100, 64)           320000    \n",
      "_________________________________________________________________\n",
      "flatten_1 (Flatten)          (None, 6400)              0         \n",
      "_________________________________________________________________\n",
      "dense_1 (Dense)              (None, 64)                409664    \n",
      "_________________________________________________________________\n",
      "dropout_1 (Dropout)          (None, 64)                0         \n",
      "_________________________________________________________________\n",
      "dense_2 (Dense)              (None, 1)                 65        \n",
      "=================================================================\n",
      "Total params: 729,729\n",
      "Trainable params: 729,729\n",
      "Non-trainable params: 0\n",
      "_________________________________________________________________\n"
     ]
    }
   ],
   "source": [
    "model.summary()"
   ]
  },
  {
   "cell_type": "markdown",
   "metadata": {},
   "source": [
    "We have designed our model. It's now time to compile it!"
   ]
  },
  {
   "cell_type": "markdown",
   "metadata": {},
   "source": [
    "#### 8. Compile model and create callback to save model parameters"
   ]
  },
  {
   "cell_type": "code",
   "execution_count": 22,
   "metadata": {},
   "outputs": [],
   "source": [
    "model.compile(loss='binary_crossentropy', optimizer='adam', metrics=['accuracy'])"
   ]
  },
  {
   "cell_type": "markdown",
   "metadata": {},
   "source": [
    "Our model is now compiled. We've used `binary_crossentropy` as our loss function since we have a binary classifier."
   ]
  },
  {
   "cell_type": "code",
   "execution_count": 23,
   "metadata": {},
   "outputs": [],
   "source": [
    "# callback to save model parameters after each epoch of training\n",
    "\n",
    "modelcheckpoint = ModelCheckpoint(filepath=output_dir+\"/weights.{epoch:02d}.hdf5\")"
   ]
  },
  {
   "cell_type": "code",
   "execution_count": 24,
   "metadata": {},
   "outputs": [],
   "source": [
    "# create folder if it does not exist\n",
    "\n",
    "if not os.path.exists(output_dir):\n",
    "    os.makedirs(output_dir)"
   ]
  },
  {
   "cell_type": "markdown",
   "metadata": {},
   "source": [
    "#### 9. Train model"
   ]
  },
  {
   "cell_type": "code",
   "execution_count": 25,
   "metadata": {},
   "outputs": [
    {
     "name": "stderr",
     "output_type": "stream",
     "text": [
      "C:\\Users\\joaon\\Anaconda3\\envs\\DL-illustrated\\lib\\site-packages\\tensorflow_core\\python\\framework\\indexed_slices.py:433: UserWarning: Converting sparse IndexedSlices to a dense Tensor of unknown shape. This may consume a large amount of memory.\n",
      "  \"Converting sparse IndexedSlices to a dense Tensor of unknown shape. \"\n"
     ]
    },
    {
     "name": "stdout",
     "output_type": "stream",
     "text": [
      "Train on 25000 samples, validate on 25000 samples\n",
      "Epoch 1/4\n",
      "25000/25000 [==============================] - 4s 168us/step - loss: 0.5495 - accuracy: 0.7032 - val_loss: 0.3486 - val_accuracy: 0.8472\n",
      "Epoch 2/4\n",
      "25000/25000 [==============================] - 4s 155us/step - loss: 0.2812 - accuracy: 0.8902 - val_loss: 0.3467 - val_accuracy: 0.8460\n",
      "Epoch 3/4\n",
      "25000/25000 [==============================] - 4s 156us/step - loss: 0.1166 - accuracy: 0.9652 - val_loss: 0.4387 - val_accuracy: 0.8317\n",
      "Epoch 4/4\n",
      "25000/25000 [==============================] - 4s 156us/step - loss: 0.0232 - accuracy: 0.9963 - val_loss: 0.5471 - val_accuracy: 0.8312\n"
     ]
    },
    {
     "data": {
      "text/plain": [
       "<keras.callbacks.callbacks.History at 0x1296cbb0808>"
      ]
     },
     "execution_count": 25,
     "metadata": {},
     "output_type": "execute_result"
    }
   ],
   "source": [
    "model.fit(x_train, y_train, \n",
    "          batch_size=batch_size, epochs=epochs, verbose=1, \n",
    "          validation_data=(x_test, y_test), \n",
    "          callbacks=[modelcheckpoint])"
   ]
  },
  {
   "cell_type": "markdown",
   "metadata": {},
   "source": [
    "The **highest validation accuracy** is achieved in **epoch 1** and the **lowest validation loss** is achieved in **epoch 2**."
   ]
  },
  {
   "cell_type": "markdown",
   "metadata": {},
   "source": [
    "#### 10. Make predictions with the test set"
   ]
  },
  {
   "cell_type": "code",
   "execution_count": 26,
   "metadata": {},
   "outputs": [],
   "source": [
    "# load parameters of epoch 2\n",
    "\n",
    "model.load_weights(output_dir+\"/weights.02.hdf5\")"
   ]
  },
  {
   "cell_type": "code",
   "execution_count": 27,
   "metadata": {},
   "outputs": [],
   "source": [
    "# in Keras, for this specific case, we can use both predict() and predict_proba() to get the predicted probabilities\n",
    "\n",
    "predictions = model.predict(x_test)\n",
    "predictions_proba = model.predict_proba(x_test)"
   ]
  },
  {
   "cell_type": "code",
   "execution_count": 28,
   "metadata": {},
   "outputs": [
    {
     "data": {
      "text/plain": [
       "array([[0.1114077],\n",
       "       [0.9683994],\n",
       "       [0.8703293]], dtype=float32)"
      ]
     },
     "execution_count": 28,
     "metadata": {},
     "output_type": "execute_result"
    }
   ],
   "source": [
    "predictions[0:3]"
   ]
  },
  {
   "cell_type": "code",
   "execution_count": 29,
   "metadata": {},
   "outputs": [
    {
     "data": {
      "text/plain": [
       "array([[0.1114077],\n",
       "       [0.9683994],\n",
       "       [0.8703293]], dtype=float32)"
      ]
     },
     "execution_count": 29,
     "metadata": {},
     "output_type": "execute_result"
    }
   ],
   "source": [
    "predictions_proba[0:3]"
   ]
  },
  {
   "cell_type": "code",
   "execution_count": 30,
   "metadata": {},
   "outputs": [],
   "source": [
    "# if we want to get the classes directly, we can use predict_classes()\n",
    "\n",
    "predictions_class = model.predict_classes(x_test)"
   ]
  },
  {
   "cell_type": "code",
   "execution_count": 31,
   "metadata": {},
   "outputs": [
    {
     "data": {
      "text/plain": [
       "array([[0],\n",
       "       [1],\n",
       "       [1]])"
      ]
     },
     "execution_count": 31,
     "metadata": {},
     "output_type": "execute_result"
    }
   ],
   "source": [
    "predictions_class[0:3]"
   ]
  },
  {
   "cell_type": "markdown",
   "metadata": {},
   "source": [
    "#### 11. Evaluate model"
   ]
  },
  {
   "cell_type": "markdown",
   "metadata": {},
   "source": [
    "We can start by comparing the first 10 predictions with the real labels."
   ]
  },
  {
   "cell_type": "code",
   "execution_count": 32,
   "metadata": {},
   "outputs": [
    {
     "data": {
      "text/plain": [
       "array([[0, 1, 1, 0, 1, 1, 1, 0, 1, 1]])"
      ]
     },
     "execution_count": 32,
     "metadata": {},
     "output_type": "execute_result"
    }
   ],
   "source": [
    "predictions_class[0:10].T"
   ]
  },
  {
   "cell_type": "code",
   "execution_count": 33,
   "metadata": {},
   "outputs": [
    {
     "data": {
      "text/plain": [
       "array([0, 1, 1, 0, 1, 1, 1, 0, 0, 1], dtype=int64)"
      ]
     },
     "execution_count": 33,
     "metadata": {},
     "output_type": "execute_result"
    }
   ],
   "source": [
    "y_test[0:10]"
   ]
  },
  {
   "cell_type": "markdown",
   "metadata": {},
   "source": [
    "For the first 10 reviews, only 1 seems to be misclassified. Let's investigate this further."
   ]
  },
  {
   "cell_type": "code",
   "execution_count": 34,
   "metadata": {},
   "outputs": [],
   "source": [
    "from sklearn.metrics import confusion_matrix, classification_report, accuracy_score"
   ]
  },
  {
   "cell_type": "code",
   "execution_count": 35,
   "metadata": {},
   "outputs": [
    {
     "name": "stdout",
     "output_type": "stream",
     "text": [
      "[[10724  1776]\n",
      " [ 2073 10427]]\n"
     ]
    }
   ],
   "source": [
    "# confusion matrix\n",
    "\n",
    "print(confusion_matrix(y_test, predictions_class))"
   ]
  },
  {
   "cell_type": "code",
   "execution_count": 36,
   "metadata": {},
   "outputs": [
    {
     "name": "stdout",
     "output_type": "stream",
     "text": [
      "              precision    recall  f1-score   support\n",
      "\n",
      "           0       0.84      0.86      0.85     12500\n",
      "           1       0.85      0.83      0.84     12500\n",
      "\n",
      "    accuracy                           0.85     25000\n",
      "   macro avg       0.85      0.85      0.85     25000\n",
      "weighted avg       0.85      0.85      0.85     25000\n",
      "\n"
     ]
    }
   ],
   "source": [
    "# classification report\n",
    "\n",
    "print(classification_report(y_test, predictions_class))"
   ]
  },
  {
   "cell_type": "code",
   "execution_count": 37,
   "metadata": {},
   "outputs": [
    {
     "name": "stdout",
     "output_type": "stream",
     "text": [
      "0.84604\n"
     ]
    }
   ],
   "source": [
    "# accuracy score\n",
    "\n",
    "acc_dense = accuracy_score(y_test, predictions_class)\n",
    "print(acc_dense)"
   ]
  },
  {
   "cell_type": "markdown",
   "metadata": {},
   "source": [
    "As we've seen before when we trained it, our dense model correctly classifies **84,6%** of our reviews as positive or negative."
   ]
  },
  {
   "cell_type": "markdown",
   "metadata": {},
   "source": [
    "Another useful metric to evaluate the performance of our binary classifier is the **area under the curve of the receiver operating characteristic**, or the AUC of the ROC (also known as **ROC AUC**).\n",
    "\n",
    "The ROC AUC combines two different metrics - **true positive rate (TPR)** and **false positive rate (FPR)**.<br><br>\n",
    "\n",
    "* $ TPR = \\frac{TP}{TP+FN} $\n",
    "<br><br>\n",
    "* $ FPR = \\frac{FP}{FP+TN} $"
   ]
  },
  {
   "cell_type": "markdown",
   "metadata": {},
   "source": [
    "Let's plot the ROC curve and calculate the ROC AUC value of our model."
   ]
  },
  {
   "cell_type": "code",
   "execution_count": 38,
   "metadata": {},
   "outputs": [],
   "source": [
    "from sklearn.metrics import auc, roc_curve\n",
    "\n",
    "import matplotlib.pyplot as plt\n",
    "%matplotlib inline"
   ]
  },
  {
   "cell_type": "code",
   "execution_count": 39,
   "metadata": {},
   "outputs": [
    {
     "data": {
      "image/png": "[encoded data removed]",
      "text/plain": [
       "<Figure size 432x288 with 1 Axes>"
      ]
     },
     "metadata": {
      "needs_background": "light"
     },
     "output_type": "display_data"
    }
   ],
   "source": [
    "fpr, tpr, thresh = roc_curve(y_test, predictions)\n",
    "\n",
    "area_uc_dense = auc(fpr, tpr)\n",
    "\n",
    "plt.figure(figsize=(6,4))\n",
    "plt.plot(fpr, tpr)\n",
    "plt.xlabel('False positive rate (1 - specificity)')\n",
    "plt.ylabel('True positive rate (sensitivity)')\n",
    "plt.text(0.5, 0.5, 'AUC:{:.3f}'.format(area_uc_dense))\n",
    "plt.title('ROC Curve');"
   ]
  },
  {
   "cell_type": "markdown",
   "metadata": {},
   "source": [
    "Our dense model has a **ROC AUC** value of **0.928**. Let's store the accuracy and ROC AUC values for later."
   ]
  },
  {
   "cell_type": "code",
   "execution_count": 71,
   "metadata": {},
   "outputs": [],
   "source": [
    "# create a model_scores dictionary to store the accuracy and ROC AUC of each model\n",
    "\n",
    "model_scores = {'model': [], 'accuracy': [], 'roc_auc': []}\n",
    "\n",
    "model_scores['model'].append('Dense')\n",
    "model_scores['accuracy'].append('{:.3f}'.format(acc_dense))\n",
    "model_scores['roc_auc'].append('{:.3f}'.format(area_uc_dense))"
   ]
  },
  {
   "cell_type": "code",
   "execution_count": 72,
   "metadata": {},
   "outputs": [
    {
     "data": {
      "text/plain": [
       "{'model': ['Dense'], 'accuracy': ['0.846'], 'roc_auc': ['0.928']}"
      ]
     },
     "execution_count": 72,
     "metadata": {},
     "output_type": "execute_result"
    }
   ],
   "source": [
    "model_scores"
   ]
  },
  {
   "cell_type": "markdown",
   "metadata": {},
   "source": [
    "We can also have a look into some of the reviews that were incorrectly classified to have a sense of what's going on. In order to do that, let's create a dataframe with the predicted values for each review and the corresponding original label."
   ]
  },
  {
   "cell_type": "code",
   "execution_count": 42,
   "metadata": {},
   "outputs": [],
   "source": [
    "pred_values = []\n",
    "\n",
    "for prediction in predictions:\n",
    "    pred_values.append(prediction[0])"
   ]
  },
  {
   "cell_type": "code",
   "execution_count": 43,
   "metadata": {},
   "outputs": [],
   "source": [
    "df = pd.DataFrame(list(zip(pred_values, y_test)), columns=['y_pred', 'y'])"
   ]
  },
  {
   "cell_type": "code",
   "execution_count": 44,
   "metadata": {},
   "outputs": [
    {
     "data": {
      "text/html": [
       "<div>\n",
       "<style scoped>\n",
       "    .dataframe tbody tr th:only-of-type {\n",
       "        vertical-align: middle;\n",
       "    }\n",
       "\n",
       "    .dataframe tbody tr th {\n",
       "        vertical-align: top;\n",
       "    }\n",
       "\n",
       "    .dataframe thead th {\n",
       "        text-align: right;\n",
       "    }\n",
       "</style>\n",
       "<table border=\"1\" class=\"dataframe\">\n",
       "  <thead>\n",
       "    <tr style=\"text-align: right;\">\n",
       "      <th></th>\n",
       "      <th>y_pred</th>\n",
       "      <th>y</th>\n",
       "    </tr>\n",
       "  </thead>\n",
       "  <tbody>\n",
       "    <tr>\n",
       "      <th>0</th>\n",
       "      <td>0.111408</td>\n",
       "      <td>0</td>\n",
       "    </tr>\n",
       "    <tr>\n",
       "      <th>1</th>\n",
       "      <td>0.968399</td>\n",
       "      <td>1</td>\n",
       "    </tr>\n",
       "    <tr>\n",
       "      <th>2</th>\n",
       "      <td>0.870329</td>\n",
       "      <td>1</td>\n",
       "    </tr>\n",
       "    <tr>\n",
       "      <th>3</th>\n",
       "      <td>0.314741</td>\n",
       "      <td>0</td>\n",
       "    </tr>\n",
       "    <tr>\n",
       "      <th>4</th>\n",
       "      <td>0.991241</td>\n",
       "      <td>1</td>\n",
       "    </tr>\n",
       "  </tbody>\n",
       "</table>\n",
       "</div>"
      ],
      "text/plain": [
       "     y_pred  y\n",
       "0  0.111408  0\n",
       "1  0.968399  1\n",
       "2  0.870329  1\n",
       "3  0.314741  0\n",
       "4  0.991241  1"
      ]
     },
     "execution_count": 44,
     "metadata": {},
     "output_type": "execute_result"
    }
   ],
   "source": [
    "df.head()"
   ]
  },
  {
   "cell_type": "markdown",
   "metadata": {},
   "source": [
    "Let's focus on the more extreme cases, i. e., misclassified reviews with predicted probabilities of being positive higher than 0.9 or lower than 0.1."
   ]
  },
  {
   "cell_type": "code",
   "execution_count": 45,
   "metadata": {},
   "outputs": [
    {
     "data": {
      "text/html": [
       "<div>\n",
       "<style scoped>\n",
       "    .dataframe tbody tr th:only-of-type {\n",
       "        vertical-align: middle;\n",
       "    }\n",
       "\n",
       "    .dataframe tbody tr th {\n",
       "        vertical-align: top;\n",
       "    }\n",
       "\n",
       "    .dataframe thead th {\n",
       "        text-align: right;\n",
       "    }\n",
       "</style>\n",
       "<table border=\"1\" class=\"dataframe\">\n",
       "  <thead>\n",
       "    <tr style=\"text-align: right;\">\n",
       "      <th></th>\n",
       "      <th>y_pred</th>\n",
       "      <th>y</th>\n",
       "    </tr>\n",
       "  </thead>\n",
       "  <tbody>\n",
       "    <tr>\n",
       "      <th>112</th>\n",
       "      <td>0.912652</td>\n",
       "      <td>0</td>\n",
       "    </tr>\n",
       "    <tr>\n",
       "      <th>256</th>\n",
       "      <td>0.917231</td>\n",
       "      <td>0</td>\n",
       "    </tr>\n",
       "    <tr>\n",
       "      <th>302</th>\n",
       "      <td>0.932703</td>\n",
       "      <td>0</td>\n",
       "    </tr>\n",
       "    <tr>\n",
       "      <th>386</th>\n",
       "      <td>0.908056</td>\n",
       "      <td>0</td>\n",
       "    </tr>\n",
       "    <tr>\n",
       "      <th>547</th>\n",
       "      <td>0.939021</td>\n",
       "      <td>0</td>\n",
       "    </tr>\n",
       "    <tr>\n",
       "      <th>555</th>\n",
       "      <td>0.916817</td>\n",
       "      <td>0</td>\n",
       "    </tr>\n",
       "    <tr>\n",
       "      <th>680</th>\n",
       "      <td>0.937109</td>\n",
       "      <td>0</td>\n",
       "    </tr>\n",
       "    <tr>\n",
       "      <th>693</th>\n",
       "      <td>0.955089</td>\n",
       "      <td>0</td>\n",
       "    </tr>\n",
       "    <tr>\n",
       "      <th>740</th>\n",
       "      <td>0.971992</td>\n",
       "      <td>0</td>\n",
       "    </tr>\n",
       "    <tr>\n",
       "      <th>778</th>\n",
       "      <td>0.928151</td>\n",
       "      <td>0</td>\n",
       "    </tr>\n",
       "  </tbody>\n",
       "</table>\n",
       "</div>"
      ],
      "text/plain": [
       "       y_pred  y\n",
       "112  0.912652  0\n",
       "256  0.917231  0\n",
       "302  0.932703  0\n",
       "386  0.908056  0\n",
       "547  0.939021  0\n",
       "555  0.916817  0\n",
       "680  0.937109  0\n",
       "693  0.955089  0\n",
       "740  0.971992  0\n",
       "778  0.928151  0"
      ]
     },
     "execution_count": 45,
     "metadata": {},
     "output_type": "execute_result"
    }
   ],
   "source": [
    "# negative reviews incorrectly classified with predicted probability of being positive > 0.9\n",
    "\n",
    "df[(df.y == 0) & (df.y_pred > 0.9)].head(10)"
   ]
  },
  {
   "cell_type": "code",
   "execution_count": 49,
   "metadata": {},
   "outputs": [
    {
     "data": {
      "text/plain": [
       "'and quite possibly they will wind up like a little lamb to the slaughter house plenty of blood gore nudity handcuffs and all kinds of blood draining hooks and things you will never dream a person is capable of performing on men and women if you like piercing well this kind of piercing deals with heavy heavy hooks and plenty of besides lots of needles and thread to seal up things on the human body i really hope that this film does not give some sick person in this world the idea to act out these horrors in real life'"
      ]
     },
     "execution_count": 49,
     "metadata": {},
     "output_type": "execute_result"
    }
   ],
   "source": [
    "# check original review with index 112\n",
    "\n",
    "neg_review = ' '.join(index_word[id] for id in original_x_test[112])\n",
    "\n",
    "' '.join(neg_review.split()[-100:]) # our model only considers the last 100 words"
   ]
  },
  {
   "cell_type": "code",
   "execution_count": 50,
   "metadata": {},
   "outputs": [
    {
     "data": {
      "text/html": [
       "<div>\n",
       "<style scoped>\n",
       "    .dataframe tbody tr th:only-of-type {\n",
       "        vertical-align: middle;\n",
       "    }\n",
       "\n",
       "    .dataframe tbody tr th {\n",
       "        vertical-align: top;\n",
       "    }\n",
       "\n",
       "    .dataframe thead th {\n",
       "        text-align: right;\n",
       "    }\n",
       "</style>\n",
       "<table border=\"1\" class=\"dataframe\">\n",
       "  <thead>\n",
       "    <tr style=\"text-align: right;\">\n",
       "      <th></th>\n",
       "      <th>y_pred</th>\n",
       "      <th>y</th>\n",
       "    </tr>\n",
       "  </thead>\n",
       "  <tbody>\n",
       "    <tr>\n",
       "      <th>101</th>\n",
       "      <td>0.033927</td>\n",
       "      <td>1</td>\n",
       "    </tr>\n",
       "    <tr>\n",
       "      <th>231</th>\n",
       "      <td>0.087867</td>\n",
       "      <td>1</td>\n",
       "    </tr>\n",
       "    <tr>\n",
       "      <th>242</th>\n",
       "      <td>0.099000</td>\n",
       "      <td>1</td>\n",
       "    </tr>\n",
       "    <tr>\n",
       "      <th>300</th>\n",
       "      <td>0.048005</td>\n",
       "      <td>1</td>\n",
       "    </tr>\n",
       "    <tr>\n",
       "      <th>322</th>\n",
       "      <td>0.059851</td>\n",
       "      <td>1</td>\n",
       "    </tr>\n",
       "    <tr>\n",
       "      <th>325</th>\n",
       "      <td>0.090182</td>\n",
       "      <td>1</td>\n",
       "    </tr>\n",
       "    <tr>\n",
       "      <th>333</th>\n",
       "      <td>0.029505</td>\n",
       "      <td>1</td>\n",
       "    </tr>\n",
       "    <tr>\n",
       "      <th>345</th>\n",
       "      <td>0.043246</td>\n",
       "      <td>1</td>\n",
       "    </tr>\n",
       "    <tr>\n",
       "      <th>663</th>\n",
       "      <td>0.075248</td>\n",
       "      <td>1</td>\n",
       "    </tr>\n",
       "    <tr>\n",
       "      <th>667</th>\n",
       "      <td>0.031759</td>\n",
       "      <td>1</td>\n",
       "    </tr>\n",
       "  </tbody>\n",
       "</table>\n",
       "</div>"
      ],
      "text/plain": [
       "       y_pred  y\n",
       "101  0.033927  1\n",
       "231  0.087867  1\n",
       "242  0.099000  1\n",
       "300  0.048005  1\n",
       "322  0.059851  1\n",
       "325  0.090182  1\n",
       "333  0.029505  1\n",
       "345  0.043246  1\n",
       "663  0.075248  1\n",
       "667  0.031759  1"
      ]
     },
     "execution_count": 50,
     "metadata": {},
     "output_type": "execute_result"
    }
   ],
   "source": [
    "# positive reviews incorrectly classified with predicted probability of being positive < 0.1\n",
    "\n",
    "df[(df.y == 1) & (df.y_pred < 0.1)].head(10)"
   ]
  },
  {
   "cell_type": "code",
   "execution_count": 51,
   "metadata": {},
   "outputs": [
    {
     "data": {
      "text/plain": [
       "\"movie is pretty damn good br br one thing that must be said it deals with the highschool students' life in turkey very realistically that's exactly how it goes the scenes that are meant to scare are somewhat cheap and hollywoodish most of them even if not all but that religion lesson scene made me laugh in tears and performs the best acting of this flick as a religion teacher br br it's not a waste of your time go and watch it you'll find it rather amusing especially if you know turkey enough to relate to turkish school lives\""
      ]
     },
     "execution_count": 51,
     "metadata": {},
     "output_type": "execute_result"
    }
   ],
   "source": [
    "# check original review with index 101\n",
    "\n",
    "pos_review = ' '.join(index_word[id] for id in original_x_test[101])\n",
    "\n",
    "' '.join(pos_review.split()[-100:]) # our model only considers the last 100 words"
   ]
  },
  {
   "cell_type": "markdown",
   "metadata": {},
   "source": [
    "It's not easy to determine why our model was not able to correctly classify these examples, but it can be useful to have the possibility of doing this kind of ad hoc analysis."
   ]
  },
  {
   "cell_type": "markdown",
   "metadata": {},
   "source": [
    "In **step 2** we will now develop a **convolutional classifier**."
   ]
  },
  {
   "cell_type": "markdown",
   "metadata": {},
   "source": [
    "### Step 2"
   ]
  },
  {
   "cell_type": "markdown",
   "metadata": {},
   "source": [
    "#### 1. Perform necessary imports"
   ]
  },
  {
   "cell_type": "code",
   "execution_count": 52,
   "metadata": {},
   "outputs": [],
   "source": [
    "from keras.layers import SpatialDropout1D, Conv1D, GlobalMaxPooling1D"
   ]
  },
  {
   "cell_type": "markdown",
   "metadata": {},
   "source": [
    "#### 2. Load data"
   ]
  },
  {
   "cell_type": "code",
   "execution_count": 53,
   "metadata": {},
   "outputs": [],
   "source": [
    "# considering the 5000 most frequent words as in our first step\n",
    "# and removing the skip_top parameter\n",
    "\n",
    "(x_train, y_train), (x_test, y_test) = imdb.load_data(num_words=n_unique_words)"
   ]
  },
  {
   "cell_type": "markdown",
   "metadata": {},
   "source": [
    "#### 3. Preprocess data"
   ]
  },
  {
   "cell_type": "code",
   "execution_count": 54,
   "metadata": {},
   "outputs": [],
   "source": [
    "max_review_length = 400 #maximum review length of 400 words\n",
    "pad_type = 'pre' #add padding characters to the start of every review < 400 words\n",
    "trunc_type = 'pre' #remove words from the beginning of every review > 400 words\n",
    "\n",
    "x_train = pad_sequences(x_train, maxlen=max_review_length, \n",
    "                        padding=pad_type, truncating=trunc_type, value=0)\n",
    "\n",
    "x_test = pad_sequences(x_test, maxlen=max_review_length,\n",
    "                       padding=pad_type, truncating=trunc_type, value=0)"
   ]
  },
  {
   "cell_type": "markdown",
   "metadata": {},
   "source": [
    "#### 4. Design a convolutional neural network"
   ]
  },
  {
   "cell_type": "code",
   "execution_count": 55,
   "metadata": {},
   "outputs": [],
   "source": [
    "# output directory name:\n",
    "output_dir = 'text_classification_NN/cnn'\n",
    "\n",
    "# training:\n",
    "epochs = 4\n",
    "batch_size = 128\n",
    "\n",
    "# vector-space embedding:\n",
    "n_dim = 64 #number of dimensions of our word-vector space\n",
    "drop_embed = 0.2\n",
    "\n",
    "# convolutional layer architecture:\n",
    "n_conv = 256 #number of filters/kernels\n",
    "k_conv = 3 #kernel length\n",
    "\n",
    "# dense layer architecture: \n",
    "n_dense = 256 #number of neurons\n",
    "dropout = 0.2\n",
    "\n",
    "model = Sequential(name='model_cnn')\n",
    "\n",
    "model.add(Embedding(n_unique_words, n_dim, input_length=max_review_length))\n",
    "model.add(SpatialDropout1D(drop_embed))\n",
    "\n",
    "model.add(Conv1D(n_conv, k_conv, activation='relu'))\n",
    "model.add(GlobalMaxPooling1D())\n",
    "\n",
    "model.add(Dense(n_dense, activation='relu'))\n",
    "model.add(Dropout(dropout))\n",
    "\n",
    "model.add(Dense(1, activation='sigmoid')) #single output neuron; we use sigmoid because we only have 2 classes"
   ]
  },
  {
   "cell_type": "code",
   "execution_count": 56,
   "metadata": {},
   "outputs": [
    {
     "name": "stdout",
     "output_type": "stream",
     "text": [
      "Model: \"model_cnn\"\n",
      "_________________________________________________________________\n",
      "Layer (type)                 Output Shape              Param #   \n",
      "=================================================================\n",
      "embedding_2 (Embedding)      (None, 400, 64)           320000    \n",
      "_________________________________________________________________\n",
      "spatial_dropout1d_1 (Spatial (None, 400, 64)           0         \n",
      "_________________________________________________________________\n",
      "conv1d_1 (Conv1D)            (None, 398, 256)          49408     \n",
      "_________________________________________________________________\n",
      "global_max_pooling1d_1 (Glob (None, 256)               0         \n",
      "_________________________________________________________________\n",
      "dense_3 (Dense)              (None, 256)               65792     \n",
      "_________________________________________________________________\n",
      "dropout_2 (Dropout)          (None, 256)               0         \n",
      "_________________________________________________________________\n",
      "dense_4 (Dense)              (None, 1)                 257       \n",
      "=================================================================\n",
      "Total params: 435,457\n",
      "Trainable params: 435,457\n",
      "Non-trainable params: 0\n",
      "_________________________________________________________________\n"
     ]
    }
   ],
   "source": [
    "model.summary()"
   ]
  },
  {
   "cell_type": "markdown",
   "metadata": {},
   "source": [
    "Our CNN model is now ready to be compiled and trained."
   ]
  },
  {
   "cell_type": "markdown",
   "metadata": {},
   "source": [
    "#### 5. Compile model and create callback to save model parameters"
   ]
  },
  {
   "cell_type": "code",
   "execution_count": 57,
   "metadata": {},
   "outputs": [],
   "source": [
    "model.compile(loss='binary_crossentropy', optimizer='adam', metrics=['accuracy'])"
   ]
  },
  {
   "cell_type": "code",
   "execution_count": 58,
   "metadata": {},
   "outputs": [],
   "source": [
    "# callback to save model parameters after each epoch of training\n",
    "\n",
    "modelcheckpoint = ModelCheckpoint(filepath=output_dir+\"/weights.{epoch:02d}.hdf5\")"
   ]
  },
  {
   "cell_type": "code",
   "execution_count": 59,
   "metadata": {},
   "outputs": [],
   "source": [
    "# create folder if it does not exist\n",
    "\n",
    "if not os.path.exists(output_dir):\n",
    "    os.makedirs(output_dir)"
   ]
  },
  {
   "cell_type": "markdown",
   "metadata": {},
   "source": [
    "#### 6. Train model"
   ]
  },
  {
   "cell_type": "code",
   "execution_count": 64,
   "metadata": {},
   "outputs": [
    {
     "name": "stderr",
     "output_type": "stream",
     "text": [
      "C:\\Users\\joaon\\Anaconda3\\envs\\DL-illustrated\\lib\\site-packages\\tensorflow_core\\python\\framework\\indexed_slices.py:433: UserWarning: Converting sparse IndexedSlices to a dense Tensor of unknown shape. This may consume a large amount of memory.\n",
      "  \"Converting sparse IndexedSlices to a dense Tensor of unknown shape. \"\n"
     ]
    },
    {
     "name": "stdout",
     "output_type": "stream",
     "text": [
      "Train on 25000 samples, validate on 25000 samples\n",
      "Epoch 1/4\n",
      "25000/25000 [==============================] - 76s 3ms/step - loss: 0.4973 - accuracy: 0.7331 - val_loss: 0.3134 - val_accuracy: 0.8666\n",
      "Epoch 2/4\n",
      "25000/25000 [==============================] - 73s 3ms/step - loss: 0.2485 - accuracy: 0.9002 - val_loss: 0.2744 - val_accuracy: 0.8845\n",
      "Epoch 3/4\n",
      "25000/25000 [==============================] - 72s 3ms/step - loss: 0.1701 - accuracy: 0.9360 - val_loss: 0.2703 - val_accuracy: 0.8907\n",
      "Epoch 4/4\n",
      "25000/25000 [==============================] - 74s 3ms/step - loss: 0.1151 - accuracy: 0.9596 - val_loss: 0.3025 - val_accuracy: 0.8868\n"
     ]
    },
    {
     "data": {
      "text/plain": [
       "<keras.callbacks.callbacks.History at 0x1fbd9502988>"
      ]
     },
     "execution_count": 64,
     "metadata": {},
     "output_type": "execute_result"
    }
   ],
   "source": [
    "model.fit(x_train, y_train, \n",
    "          batch_size=batch_size, epochs=epochs, verbose=1, \n",
    "          validation_data=(x_test, y_test), \n",
    "          callbacks=[modelcheckpoint])"
   ]
  },
  {
   "cell_type": "markdown",
   "metadata": {},
   "source": [
    "The **highest validation accuracy** and **lowest validation loss** is achieved in **epoch 3**."
   ]
  },
  {
   "cell_type": "markdown",
   "metadata": {},
   "source": [
    "#### 7. Make predictions with the test set"
   ]
  },
  {
   "cell_type": "markdown",
   "metadata": {},
   "source": [
    "Instead of loading only the model weigths, we can also load the entire model (model weights, model architecture, compilation details and optimizer state - since we're using the Adam optimizer we have an adaptive learning rate, i.e., the learning rate changes with time).\n",
    "\n",
    "This is can be very useful if, for example, we need to make a break and restart our kernel. In order to do this, we can use the Keras `load_model()` function. If we are going to make predictions, we just need to make sure that the data is correctly loaded and preprocessed."
   ]
  },
  {
   "cell_type": "code",
   "execution_count": 60,
   "metadata": {},
   "outputs": [
    {
     "name": "stderr",
     "output_type": "stream",
     "text": [
      "C:\\Users\\joaon\\Anaconda3\\envs\\DL-illustrated\\lib\\site-packages\\tensorflow_core\\python\\framework\\indexed_slices.py:433: UserWarning: Converting sparse IndexedSlices to a dense Tensor of unknown shape. This may consume a large amount of memory.\n",
      "  \"Converting sparse IndexedSlices to a dense Tensor of unknown shape. \"\n"
     ]
    }
   ],
   "source": [
    "from keras.models import load_model\n",
    "\n",
    "output_dir = 'text_classification_NN/cnn'\n",
    "model = load_model(output_dir+\"/weights.03.hdf5\")"
   ]
  },
  {
   "cell_type": "code",
   "execution_count": 61,
   "metadata": {},
   "outputs": [
    {
     "data": {
      "text/plain": [
       "array([[0.08455535],\n",
       "       [0.9976629 ],\n",
       "       [0.85379833]], dtype=float32)"
      ]
     },
     "execution_count": 61,
     "metadata": {},
     "output_type": "execute_result"
    }
   ],
   "source": [
    "predictions = model.predict(x_test)\n",
    "predictions[0:3]"
   ]
  },
  {
   "cell_type": "code",
   "execution_count": 62,
   "metadata": {},
   "outputs": [
    {
     "data": {
      "text/plain": [
       "array([[0],\n",
       "       [1],\n",
       "       [1]])"
      ]
     },
     "execution_count": 62,
     "metadata": {},
     "output_type": "execute_result"
    }
   ],
   "source": [
    "predictions_class = model.predict_classes(x_test)\n",
    "predictions_class[0:3]"
   ]
  },
  {
   "cell_type": "markdown",
   "metadata": {},
   "source": [
    "#### 8. Evaluate model"
   ]
  },
  {
   "cell_type": "code",
   "execution_count": 63,
   "metadata": {},
   "outputs": [
    {
     "name": "stdout",
     "output_type": "stream",
     "text": [
      "[[10774  1726]\n",
      " [ 1007 11493]]\n"
     ]
    }
   ],
   "source": [
    "# confusion matrix\n",
    "\n",
    "print(confusion_matrix(y_test, predictions_class))"
   ]
  },
  {
   "cell_type": "code",
   "execution_count": 64,
   "metadata": {},
   "outputs": [
    {
     "name": "stdout",
     "output_type": "stream",
     "text": [
      "              precision    recall  f1-score   support\n",
      "\n",
      "           0       0.91      0.86      0.89     12500\n",
      "           1       0.87      0.92      0.89     12500\n",
      "\n",
      "    accuracy                           0.89     25000\n",
      "   macro avg       0.89      0.89      0.89     25000\n",
      "weighted avg       0.89      0.89      0.89     25000\n",
      "\n"
     ]
    }
   ],
   "source": [
    "# classification report\n",
    "\n",
    "print(classification_report(y_test, predictions_class))"
   ]
  },
  {
   "cell_type": "code",
   "execution_count": 65,
   "metadata": {},
   "outputs": [
    {
     "name": "stdout",
     "output_type": "stream",
     "text": [
      "0.89068\n"
     ]
    }
   ],
   "source": [
    "# accuracy score\n",
    "\n",
    "acc_cnn = accuracy_score(y_test, predictions_class)\n",
    "print(acc_cnn)"
   ]
  },
  {
   "cell_type": "markdown",
   "metadata": {},
   "source": [
    "Our CNN model correctly classifies **89,1%** of our reviews as positive or negative. Let's plot the ROC curve and calculate the ROC AUC value of this model."
   ]
  },
  {
   "cell_type": "code",
   "execution_count": 66,
   "metadata": {},
   "outputs": [
    {
     "data": {
      "image/png": "[encoded data removed]",
      "text/plain": [
       "<Figure size 432x288 with 1 Axes>"
      ]
     },
     "metadata": {
      "needs_background": "light"
     },
     "output_type": "display_data"
    }
   ],
   "source": [
    "fpr, tpr, thresh = roc_curve(y_test, predictions)\n",
    "\n",
    "area_uc_cnn = auc(fpr, tpr)\n",
    "\n",
    "plt.figure(figsize=(6,4))\n",
    "plt.plot(fpr, tpr)\n",
    "plt.xlabel('False positive rate (1 - specificity)')\n",
    "plt.ylabel('True positive rate (sensitivity)')\n",
    "plt.text(0.5, 0.5, 'AUC:{:.3f}'.format(area_uc_cnn))\n",
    "plt.title('ROC Curve');"
   ]
  },
  {
   "cell_type": "markdown",
   "metadata": {},
   "source": [
    "Our CNN model has a **ROC AUC** value of **0.960**. Let's store the accuracy and ROC AUC values for later."
   ]
  },
  {
   "cell_type": "code",
   "execution_count": 73,
   "metadata": {},
   "outputs": [
    {
     "data": {
      "text/plain": [
       "{'model': ['Dense', 'Convolutional'],\n",
       " 'accuracy': ['0.846', '0.891'],\n",
       " 'roc_auc': ['0.928', '0.960']}"
      ]
     },
     "execution_count": 73,
     "metadata": {},
     "output_type": "execute_result"
    }
   ],
   "source": [
    "model_scores['model'].append('Convolutional')\n",
    "model_scores['accuracy'].append('{:.3f}'.format(acc_cnn))\n",
    "model_scores['roc_auc'].append('{:.3f}'.format(area_uc_cnn))\n",
    "\n",
    "model_scores"
   ]
  },
  {
   "cell_type": "markdown",
   "metadata": {},
   "source": [
    "Our **convolutional model achieved better results than our dense model**.\n",
    "\n",
    "Let's see if we can improve these results even further with the help of **recurrent neural networks** - this is our **step 3**."
   ]
  },
  {
   "cell_type": "markdown",
   "metadata": {},
   "source": [
    "### Step 3"
   ]
  },
  {
   "cell_type": "markdown",
   "metadata": {},
   "source": [
    "#### 1. Perform necessary imports"
   ]
  },
  {
   "cell_type": "code",
   "execution_count": 74,
   "metadata": {},
   "outputs": [],
   "source": [
    "from keras.layers import SimpleRNN"
   ]
  },
  {
   "cell_type": "markdown",
   "metadata": {},
   "source": [
    "#### 2. Load data"
   ]
  },
  {
   "cell_type": "code",
   "execution_count": 75,
   "metadata": {},
   "outputs": [],
   "source": [
    "# considering the 10000 most frequent words\n",
    "\n",
    "n_unique_words = 10000 #number of most frequent words to consider\n",
    "\n",
    "(x_train, y_train), (x_test, y_test) = imdb.load_data(num_words=n_unique_words)"
   ]
  },
  {
   "cell_type": "markdown",
   "metadata": {},
   "source": [
    "#### 3. Preprocess data"
   ]
  },
  {
   "cell_type": "code",
   "execution_count": 76,
   "metadata": {},
   "outputs": [],
   "source": [
    "max_review_length = 100 #maximum review length of 100 words\n",
    "pad_type = 'pre' #add padding characters to the start of every review < 100 words\n",
    "trunc_type = 'pre' #remove words from the beginning of every review > 100 words\n",
    "\n",
    "x_train = pad_sequences(x_train, maxlen=max_review_length, \n",
    "                        padding=pad_type, truncating=trunc_type, value=0)\n",
    "\n",
    "x_test = pad_sequences(x_test, maxlen=max_review_length,\n",
    "                       padding=pad_type, truncating=trunc_type, value=0)"
   ]
  },
  {
   "cell_type": "markdown",
   "metadata": {},
   "source": [
    "We will change our neural network by **adding a SimpleRNN() layer** to our model, that as the name suggests is the simplest form of a recurrent layer.\n",
    "\n",
    "We will also **change some of the hyperparameters** of the model to take into consideration the specificities of RNNs. We have also not included a dense layer after the recurrent layer since it usually does not provide a significant improvement in performance."
   ]
  },
  {
   "cell_type": "markdown",
   "metadata": {},
   "source": [
    "#### 4. Design a recurrent neural network (simple RNN layer)"
   ]
  },
  {
   "cell_type": "code",
   "execution_count": 77,
   "metadata": {},
   "outputs": [],
   "source": [
    "# output directory name:\n",
    "output_dir = 'text_classification_NN/rnn'\n",
    "\n",
    "# training:\n",
    "epochs = 16\n",
    "batch_size = 128\n",
    "\n",
    "# vector-space embedding:\n",
    "n_dim = 64 #number of dimensions of our word-vector space\n",
    "drop_embed = 0.2\n",
    "\n",
    "# simple RNN layer architecture:\n",
    "n_rnn = 256 #number of neurons\n",
    "drop_rnn = 0.2\n",
    "\n",
    "model = Sequential(name='model_rnn')\n",
    "\n",
    "model.add(Embedding(n_unique_words, n_dim, input_length=max_review_length))\n",
    "model.add(SpatialDropout1D(drop_embed))\n",
    "\n",
    "model.add(SimpleRNN(n_rnn, dropout=drop_rnn))\n",
    "\n",
    "model.add(Dense(1, activation='sigmoid')) #single output neuron; we use sigmoid because we only have 2 classes"
   ]
  },
  {
   "cell_type": "code",
   "execution_count": 78,
   "metadata": {},
   "outputs": [
    {
     "name": "stdout",
     "output_type": "stream",
     "text": [
      "Model: \"model_rnn\"\n",
      "_________________________________________________________________\n",
      "Layer (type)                 Output Shape              Param #   \n",
      "=================================================================\n",
      "embedding_3 (Embedding)      (None, 100, 64)           640000    \n",
      "_________________________________________________________________\n",
      "spatial_dropout1d_2 (Spatial (None, 100, 64)           0         \n",
      "_________________________________________________________________\n",
      "simple_rnn_1 (SimpleRNN)     (None, 256)               82176     \n",
      "_________________________________________________________________\n",
      "dense_5 (Dense)              (None, 1)                 257       \n",
      "=================================================================\n",
      "Total params: 722,433\n",
      "Trainable params: 722,433\n",
      "Non-trainable params: 0\n",
      "_________________________________________________________________\n"
     ]
    }
   ],
   "source": [
    "model.summary()"
   ]
  },
  {
   "cell_type": "markdown",
   "metadata": {},
   "source": [
    "Our RNN model is now ready to be compiled and trained."
   ]
  },
  {
   "cell_type": "markdown",
   "metadata": {},
   "source": [
    "#### 5. Compile model and create callback to save model parameters"
   ]
  },
  {
   "cell_type": "code",
   "execution_count": 79,
   "metadata": {},
   "outputs": [],
   "source": [
    "model.compile(loss='binary_crossentropy', optimizer='adam', metrics=['accuracy'])"
   ]
  },
  {
   "cell_type": "code",
   "execution_count": 80,
   "metadata": {},
   "outputs": [],
   "source": [
    "# callback to save model parameters after each epoch of training\n",
    "\n",
    "modelcheckpoint = ModelCheckpoint(filepath=output_dir+\"/weights.{epoch:02d}.hdf5\")"
   ]
  },
  {
   "cell_type": "code",
   "execution_count": 81,
   "metadata": {},
   "outputs": [],
   "source": [
    "# create folder if it does not exist\n",
    "\n",
    "if not os.path.exists(output_dir):\n",
    "    os.makedirs(output_dir)"
   ]
  },
  {
   "cell_type": "markdown",
   "metadata": {},
   "source": [
    "#### 6. Train model"
   ]
  },
  {
   "cell_type": "code",
   "execution_count": 83,
   "metadata": {},
   "outputs": [
    {
     "name": "stderr",
     "output_type": "stream",
     "text": [
      "C:\\Users\\joaon\\Anaconda3\\envs\\DL-illustrated\\lib\\site-packages\\tensorflow_core\\python\\framework\\indexed_slices.py:433: UserWarning: Converting sparse IndexedSlices to a dense Tensor of unknown shape. This may consume a large amount of memory.\n",
      "  \"Converting sparse IndexedSlices to a dense Tensor of unknown shape. \"\n"
     ]
    },
    {
     "name": "stdout",
     "output_type": "stream",
     "text": [
      "Train on 25000 samples, validate on 25000 samples\n",
      "Epoch 1/16\n",
      "25000/25000 [==============================] - 34s 1ms/step - loss: 0.6727 - accuracy: 0.5616 - val_loss: 0.6206 - val_accuracy: 0.6394\n",
      "Epoch 2/16\n",
      "25000/25000 [==============================] - 39s 2ms/step - loss: 0.5930 - accuracy: 0.6746 - val_loss: 0.6186 - val_accuracy: 0.6362\n",
      "Epoch 3/16\n",
      "25000/25000 [==============================] - 36s 1ms/step - loss: 0.5379 - accuracy: 0.7196 - val_loss: 0.6177 - val_accuracy: 0.6466\n",
      "Epoch 4/16\n",
      "25000/25000 [==============================] - 33s 1ms/step - loss: 0.4434 - accuracy: 0.7933 - val_loss: 0.5768 - val_accuracy: 0.7242\n",
      "Epoch 5/16\n",
      "25000/25000 [==============================] - 36s 1ms/step - loss: 0.3507 - accuracy: 0.8490 - val_loss: 0.7473 - val_accuracy: 0.6079\n",
      "Epoch 6/16\n",
      "25000/25000 [==============================] - 37s 1ms/step - loss: 0.4806 - accuracy: 0.7636 - val_loss: 0.5220 - val_accuracy: 0.7752\n",
      "Epoch 7/16\n",
      "25000/25000 [==============================] - 38s 2ms/step - loss: 0.3539 - accuracy: 0.8483 - val_loss: 0.5354 - val_accuracy: 0.7386\n",
      "Epoch 8/16\n",
      "25000/25000 [==============================] - 39s 2ms/step - loss: 0.3964 - accuracy: 0.8289 - val_loss: 0.4724 - val_accuracy: 0.7960\n",
      "Epoch 9/16\n",
      "25000/25000 [==============================] - 34s 1ms/step - loss: 0.3500 - accuracy: 0.8492 - val_loss: 0.4726 - val_accuracy: 0.7999\n",
      "Epoch 10/16\n",
      "25000/25000 [==============================] - 33s 1ms/step - loss: 0.2704 - accuracy: 0.8924 - val_loss: 0.4755 - val_accuracy: 0.8050\n",
      "Epoch 11/16\n",
      "25000/25000 [==============================] - 36s 1ms/step - loss: 0.4156 - accuracy: 0.8022 - val_loss: 0.7382 - val_accuracy: 0.6702\n",
      "Epoch 12/16\n",
      "25000/25000 [==============================] - 38s 2ms/step - loss: 0.4686 - accuracy: 0.7702 - val_loss: 0.6730 - val_accuracy: 0.6534\n",
      "Epoch 13/16\n",
      "25000/25000 [==============================] - 37s 1ms/step - loss: 0.3793 - accuracy: 0.8310 - val_loss: 0.6251 - val_accuracy: 0.7372\n",
      "Epoch 14/16\n",
      "25000/25000 [==============================] - 35s 1ms/step - loss: 0.3307 - accuracy: 0.8610 - val_loss: 0.6707 - val_accuracy: 0.6985\n",
      "Epoch 15/16\n",
      "25000/25000 [==============================] - 35s 1ms/step - loss: 0.3256 - accuracy: 0.8579 - val_loss: 0.7434 - val_accuracy: 0.6235\n",
      "Epoch 16/16\n",
      "25000/25000 [==============================] - 33s 1ms/step - loss: 0.4519 - accuracy: 0.7756 - val_loss: 0.6346 - val_accuracy: 0.6384\n"
     ]
    },
    {
     "data": {
      "text/plain": [
       "<keras.callbacks.callbacks.History at 0x1fbdd172148>"
      ]
     },
     "execution_count": 83,
     "metadata": {},
     "output_type": "execute_result"
    }
   ],
   "source": [
    "model.fit(x_train, y_train, \n",
    "          batch_size=batch_size, epochs=epochs, verbose=1, \n",
    "          validation_data=(x_test, y_test), \n",
    "          callbacks=[modelcheckpoint])"
   ]
  },
  {
   "cell_type": "markdown",
   "metadata": {},
   "source": [
    "The **highest validation accuracy** is achieved in **epoch 10** and the **lowest validation loss** is achieved in **epoch 8**."
   ]
  },
  {
   "cell_type": "markdown",
   "metadata": {},
   "source": [
    "#### 7. Make predictions with the test set"
   ]
  },
  {
   "cell_type": "code",
   "execution_count": 82,
   "metadata": {},
   "outputs": [
    {
     "name": "stderr",
     "output_type": "stream",
     "text": [
      "C:\\Users\\joaon\\Anaconda3\\envs\\DL-illustrated\\lib\\site-packages\\tensorflow_core\\python\\framework\\indexed_slices.py:433: UserWarning: Converting sparse IndexedSlices to a dense Tensor of unknown shape. This may consume a large amount of memory.\n",
      "  \"Converting sparse IndexedSlices to a dense Tensor of unknown shape. \"\n"
     ]
    }
   ],
   "source": [
    "# load parameters of epoch 8\n",
    "\n",
    "output_dir = 'text_classification_NN/rnn'\n",
    "model = load_model(output_dir+\"/weights.08.hdf5\")"
   ]
  },
  {
   "cell_type": "code",
   "execution_count": 83,
   "metadata": {},
   "outputs": [
    {
     "data": {
      "text/plain": [
       "array([[0.11321864],\n",
       "       [0.9625019 ],\n",
       "       [0.04951205]], dtype=float32)"
      ]
     },
     "execution_count": 83,
     "metadata": {},
     "output_type": "execute_result"
    }
   ],
   "source": [
    "predictions = model.predict(x_test)\n",
    "predictions[0:3]"
   ]
  },
  {
   "cell_type": "code",
   "execution_count": 84,
   "metadata": {},
   "outputs": [
    {
     "data": {
      "text/plain": [
       "array([[0],\n",
       "       [1],\n",
       "       [0]])"
      ]
     },
     "execution_count": 84,
     "metadata": {},
     "output_type": "execute_result"
    }
   ],
   "source": [
    "predictions_class = model.predict_classes(x_test)\n",
    "predictions_class[0:3]"
   ]
  },
  {
   "cell_type": "markdown",
   "metadata": {},
   "source": [
    "#### 8. Evaluate model"
   ]
  },
  {
   "cell_type": "code",
   "execution_count": 85,
   "metadata": {},
   "outputs": [
    {
     "name": "stdout",
     "output_type": "stream",
     "text": [
      "[[ 9802  2698]\n",
      " [ 2403 10097]]\n"
     ]
    }
   ],
   "source": [
    "# confusion matrix\n",
    "\n",
    "print(confusion_matrix(y_test, predictions_class))"
   ]
  },
  {
   "cell_type": "code",
   "execution_count": 86,
   "metadata": {},
   "outputs": [
    {
     "name": "stdout",
     "output_type": "stream",
     "text": [
      "              precision    recall  f1-score   support\n",
      "\n",
      "           0       0.80      0.78      0.79     12500\n",
      "           1       0.79      0.81      0.80     12500\n",
      "\n",
      "    accuracy                           0.80     25000\n",
      "   macro avg       0.80      0.80      0.80     25000\n",
      "weighted avg       0.80      0.80      0.80     25000\n",
      "\n"
     ]
    }
   ],
   "source": [
    "# classification report\n",
    "\n",
    "print(classification_report(y_test, predictions_class))"
   ]
  },
  {
   "cell_type": "code",
   "execution_count": 87,
   "metadata": {},
   "outputs": [
    {
     "name": "stdout",
     "output_type": "stream",
     "text": [
      "0.79596\n"
     ]
    }
   ],
   "source": [
    "# accuracy score\n",
    "\n",
    "acc_rnn = accuracy_score(y_test, predictions_class)\n",
    "print(acc_rnn)"
   ]
  },
  {
   "cell_type": "markdown",
   "metadata": {},
   "source": [
    "Our RNN model correctly classifies **79,6%** of our reviews as positive or negative. Let's plot the ROC curve and calculate the ROC AUC value of this model."
   ]
  },
  {
   "cell_type": "code",
   "execution_count": 88,
   "metadata": {},
   "outputs": [
    {
     "data": {
      "image/png": "[encoded data removed]",
      "text/plain": [
       "<Figure size 432x288 with 1 Axes>"
      ]
     },
     "metadata": {
      "needs_background": "light"
     },
     "output_type": "display_data"
    }
   ],
   "source": [
    "fpr, tpr, thresh = roc_curve(y_test, predictions)\n",
    "\n",
    "area_uc_rnn = auc(fpr, tpr)\n",
    "\n",
    "plt.figure(figsize=(6,4))\n",
    "plt.plot(fpr, tpr)\n",
    "plt.xlabel('False positive rate (1 - specificity)')\n",
    "plt.ylabel('True positive rate (sensitivity)')\n",
    "plt.text(0.5, 0.5, 'AUC:{:.3f}'.format(area_uc_rnn))\n",
    "plt.title('ROC Curve');"
   ]
  },
  {
   "cell_type": "markdown",
   "metadata": {},
   "source": [
    "Our RNN model has a **ROC AUC** value of **0.864**. Let's store the accuracy and ROC AUC values for later."
   ]
  },
  {
   "cell_type": "code",
   "execution_count": 89,
   "metadata": {},
   "outputs": [
    {
     "data": {
      "text/plain": [
       "{'model': ['Dense', 'Convolutional', 'RNN - simple RNN layer'],\n",
       " 'accuracy': ['0.846', '0.891', '0.796'],\n",
       " 'roc_auc': ['0.928', '0.960', '0.864']}"
      ]
     },
     "execution_count": 89,
     "metadata": {},
     "output_type": "execute_result"
    }
   ],
   "source": [
    "model_scores['model'].append('RNN - simple RNN layer')\n",
    "model_scores['accuracy'].append('{:.3f}'.format(acc_rnn))\n",
    "model_scores['roc_auc'].append('{:.3f}'.format(area_uc_rnn))\n",
    "\n",
    "model_scores"
   ]
  },
  {
   "cell_type": "markdown",
   "metadata": {},
   "source": [
    "Our **recurrent model did not perform so well - it had the worst result so far**. This may have happened because simple RNNs are only able to backpropagate through around 10 time steps before the gradient becomes so small that the parameter updates become almost negligible.\n",
    "\n",
    "Let's see if we can counter this effect by using **more complex RNN architectures** like **Gated Recurrent Units (GRU)** and **Long Short-Term Memory (LSTM)** networks - these are our **steps 4 and 5**."
   ]
  },
  {
   "cell_type": "markdown",
   "metadata": {},
   "source": [
    "### Step 4"
   ]
  },
  {
   "cell_type": "markdown",
   "metadata": {},
   "source": [
    "#### 1. Perform necessary imports"
   ]
  },
  {
   "cell_type": "code",
   "execution_count": 90,
   "metadata": {},
   "outputs": [],
   "source": [
    "from keras.layers import GRU"
   ]
  },
  {
   "cell_type": "markdown",
   "metadata": {},
   "source": [
    "We will use the same data we've used before, preprocessed in the same way."
   ]
  },
  {
   "cell_type": "markdown",
   "metadata": {},
   "source": [
    "#### 2. Design a recurrent neural network (GRU layer)"
   ]
  },
  {
   "cell_type": "code",
   "execution_count": 91,
   "metadata": {},
   "outputs": [],
   "source": [
    "# output directory name:\n",
    "output_dir = 'text_classification_NN/gru'\n",
    "\n",
    "# training:\n",
    "epochs = 4\n",
    "batch_size = 128\n",
    "\n",
    "# vector-space embedding:\n",
    "n_dim = 64 #number of dimensions of our word-vector space\n",
    "drop_embed = 0.2\n",
    "\n",
    "# GRU layer architecture:\n",
    "n_gru = 256 #number of neurons\n",
    "drop_gru = 0.2\n",
    "\n",
    "model = Sequential(name='model_gru')\n",
    "\n",
    "model.add(Embedding(n_unique_words, n_dim, input_length=max_review_length))\n",
    "model.add(SpatialDropout1D(drop_embed))\n",
    "\n",
    "model.add(GRU(n_gru, dropout=drop_gru))\n",
    "\n",
    "model.add(Dense(1, activation='sigmoid')) #single output neuron; we use sigmoid because we only "
   ]
  },
  {
   "cell_type": "code",
   "execution_count": 92,
   "metadata": {},
   "outputs": [
    {
     "name": "stdout",
     "output_type": "stream",
     "text": [
      "Model: \"model_gru\"\n",
      "_________________________________________________________________\n",
      "Layer (type)                 Output Shape              Param #   \n",
      "=================================================================\n",
      "embedding_4 (Embedding)      (None, 100, 64)           640000    \n",
      "_________________________________________________________________\n",
      "spatial_dropout1d_3 (Spatial (None, 100, 64)           0         \n",
      "_________________________________________________________________\n",
      "gru_1 (GRU)                  (None, 256)               246528    \n",
      "_________________________________________________________________\n",
      "dense_6 (Dense)              (None, 1)                 257       \n",
      "=================================================================\n",
      "Total params: 886,785\n",
      "Trainable params: 886,785\n",
      "Non-trainable params: 0\n",
      "_________________________________________________________________\n"
     ]
    }
   ],
   "source": [
    "model.summary()"
   ]
  },
  {
   "cell_type": "markdown",
   "metadata": {},
   "source": [
    "Our new RNN model with a GRU layer is now ready to be compiled and trained."
   ]
  },
  {
   "cell_type": "markdown",
   "metadata": {},
   "source": [
    "#### 3. Compile model and create callback to save model parameters"
   ]
  },
  {
   "cell_type": "code",
   "execution_count": 93,
   "metadata": {},
   "outputs": [],
   "source": [
    "model.compile(loss='binary_crossentropy', optimizer='adam', metrics=['accuracy'])"
   ]
  },
  {
   "cell_type": "code",
   "execution_count": 94,
   "metadata": {},
   "outputs": [],
   "source": [
    "# callback to save model parameters after each epoch of training\n",
    "\n",
    "modelcheckpoint = ModelCheckpoint(filepath=output_dir+\"/weights.{epoch:02d}.hdf5\")"
   ]
  },
  {
   "cell_type": "code",
   "execution_count": 95,
   "metadata": {},
   "outputs": [],
   "source": [
    "# create folder if it does not exist\n",
    "\n",
    "if not os.path.exists(output_dir):\n",
    "    os.makedirs(output_dir)"
   ]
  },
  {
   "cell_type": "markdown",
   "metadata": {},
   "source": [
    "#### 4. Train model"
   ]
  },
  {
   "cell_type": "code",
   "execution_count": 99,
   "metadata": {},
   "outputs": [
    {
     "name": "stderr",
     "output_type": "stream",
     "text": [
      "C:\\Users\\joaon\\Anaconda3\\envs\\DL-illustrated\\lib\\site-packages\\tensorflow_core\\python\\framework\\indexed_slices.py:433: UserWarning: Converting sparse IndexedSlices to a dense Tensor of unknown shape. This may consume a large amount of memory.\n",
      "  \"Converting sparse IndexedSlices to a dense Tensor of unknown shape. \"\n"
     ]
    },
    {
     "name": "stdout",
     "output_type": "stream",
     "text": [
      "Train on 25000 samples, validate on 25000 samples\n",
      "Epoch 1/4\n",
      "25000/25000 [==============================] - 148s 6ms/step - loss: 0.5231 - accuracy: 0.7136 - val_loss: 0.4070 - val_accuracy: 0.8223\n",
      "Epoch 2/4\n",
      "25000/25000 [==============================] - 159s 6ms/step - loss: 0.3064 - accuracy: 0.8738 - val_loss: 0.4044 - val_accuracy: 0.8183\n",
      "Epoch 3/4\n",
      "25000/25000 [==============================] - 161s 6ms/step - loss: 0.2551 - accuracy: 0.8974 - val_loss: 0.3638 - val_accuracy: 0.8420\n",
      "Epoch 4/4\n",
      "25000/25000 [==============================] - 150s 6ms/step - loss: 0.2019 - accuracy: 0.9229 - val_loss: 0.3870 - val_accuracy: 0.8340\n"
     ]
    },
    {
     "data": {
      "text/plain": [
       "<keras.callbacks.callbacks.History at 0x1fb8390bbc8>"
      ]
     },
     "execution_count": 99,
     "metadata": {},
     "output_type": "execute_result"
    }
   ],
   "source": [
    "model.fit(x_train, y_train, \n",
    "          batch_size=batch_size, epochs=epochs, verbose=1, \n",
    "          validation_data=(x_test, y_test), \n",
    "          callbacks=[modelcheckpoint])"
   ]
  },
  {
   "cell_type": "markdown",
   "metadata": {},
   "source": [
    "The **highest validation accuracy** and **lowest validation loss** is achieved in **epoch 3**."
   ]
  },
  {
   "cell_type": "markdown",
   "metadata": {},
   "source": [
    "#### 5. Make predictions with the test set"
   ]
  },
  {
   "cell_type": "code",
   "execution_count": 96,
   "metadata": {},
   "outputs": [
    {
     "name": "stderr",
     "output_type": "stream",
     "text": [
      "C:\\Users\\joaon\\Anaconda3\\envs\\DL-illustrated\\lib\\site-packages\\tensorflow_core\\python\\framework\\indexed_slices.py:433: UserWarning: Converting sparse IndexedSlices to a dense Tensor of unknown shape. This may consume a large amount of memory.\n",
      "  \"Converting sparse IndexedSlices to a dense Tensor of unknown shape. \"\n"
     ]
    }
   ],
   "source": [
    "# load parameters of epoch 3\n",
    "\n",
    "output_dir = 'text_classification_NN/gru'\n",
    "model = load_model(output_dir+\"/weights.03.hdf5\")"
   ]
  },
  {
   "cell_type": "code",
   "execution_count": 97,
   "metadata": {},
   "outputs": [
    {
     "data": {
      "text/plain": [
       "array([[0.05291212],\n",
       "       [0.95099264],\n",
       "       [0.55228144]], dtype=float32)"
      ]
     },
     "execution_count": 97,
     "metadata": {},
     "output_type": "execute_result"
    }
   ],
   "source": [
    "predictions = model.predict(x_test)\n",
    "predictions[0:3]"
   ]
  },
  {
   "cell_type": "code",
   "execution_count": 98,
   "metadata": {},
   "outputs": [
    {
     "data": {
      "text/plain": [
       "array([[0],\n",
       "       [1],\n",
       "       [1]])"
      ]
     },
     "execution_count": 98,
     "metadata": {},
     "output_type": "execute_result"
    }
   ],
   "source": [
    "predictions_class = model.predict_classes(x_test)\n",
    "predictions_class[0:3]"
   ]
  },
  {
   "cell_type": "markdown",
   "metadata": {},
   "source": [
    "#### 6. Evaluate model"
   ]
  },
  {
   "cell_type": "code",
   "execution_count": 99,
   "metadata": {},
   "outputs": [
    {
     "name": "stdout",
     "output_type": "stream",
     "text": [
      "[[10865  1635]\n",
      " [ 2314 10186]]\n"
     ]
    }
   ],
   "source": [
    "# confusion matrix\n",
    "\n",
    "print(confusion_matrix(y_test, predictions_class))"
   ]
  },
  {
   "cell_type": "code",
   "execution_count": 100,
   "metadata": {},
   "outputs": [
    {
     "name": "stdout",
     "output_type": "stream",
     "text": [
      "              precision    recall  f1-score   support\n",
      "\n",
      "           0       0.82      0.87      0.85     12500\n",
      "           1       0.86      0.81      0.84     12500\n",
      "\n",
      "    accuracy                           0.84     25000\n",
      "   macro avg       0.84      0.84      0.84     25000\n",
      "weighted avg       0.84      0.84      0.84     25000\n",
      "\n"
     ]
    }
   ],
   "source": [
    "# classification report\n",
    "\n",
    "print(classification_report(y_test, predictions_class))"
   ]
  },
  {
   "cell_type": "code",
   "execution_count": 101,
   "metadata": {},
   "outputs": [
    {
     "name": "stdout",
     "output_type": "stream",
     "text": [
      "0.84204\n"
     ]
    }
   ],
   "source": [
    "# accuracy score\n",
    "\n",
    "acc_gru = accuracy_score(y_test, predictions_class)\n",
    "print(acc_gru)"
   ]
  },
  {
   "cell_type": "markdown",
   "metadata": {},
   "source": [
    "Our RNN model with a GRU layer correctly classifies **84,2%** of our reviews as positive or negative. Let's plot the ROC curve and calculate the ROC AUC value of this model."
   ]
  },
  {
   "cell_type": "code",
   "execution_count": 102,
   "metadata": {},
   "outputs": [
    {
     "data": {
      "image/png": "[encoded data removed]",
      "text/plain": [
       "<Figure size 432x288 with 1 Axes>"
      ]
     },
     "metadata": {
      "needs_background": "light"
     },
     "output_type": "display_data"
    }
   ],
   "source": [
    "fpr, tpr, thresh = roc_curve(y_test, predictions)\n",
    "\n",
    "area_uc_gru = auc(fpr, tpr)\n",
    "\n",
    "plt.figure(figsize=(6,4))\n",
    "plt.plot(fpr, tpr)\n",
    "plt.xlabel('False positive rate (1 - specificity)')\n",
    "plt.ylabel('True positive rate (sensitivity)')\n",
    "plt.text(0.5, 0.5, 'AUC:{:.3f}'.format(area_uc_gru))\n",
    "plt.title('ROC Curve');"
   ]
  },
  {
   "cell_type": "markdown",
   "metadata": {},
   "source": [
    "Our new model has a **ROC AUC** value of **0.923**. Let's store the accuracy and ROC AUC values for later."
   ]
  },
  {
   "cell_type": "code",
   "execution_count": 103,
   "metadata": {},
   "outputs": [
    {
     "data": {
      "text/plain": [
       "{'model': ['Dense',\n",
       "  'Convolutional',\n",
       "  'RNN - simple RNN layer',\n",
       "  'RNN - GRU layer'],\n",
       " 'accuracy': ['0.846', '0.891', '0.796', '0.842'],\n",
       " 'roc_auc': ['0.928', '0.960', '0.864', '0.923']}"
      ]
     },
     "execution_count": 103,
     "metadata": {},
     "output_type": "execute_result"
    }
   ],
   "source": [
    "model_scores['model'].append('RNN - GRU layer')\n",
    "model_scores['accuracy'].append('{:.3f}'.format(acc_gru))\n",
    "model_scores['roc_auc'].append('{:.3f}'.format(area_uc_gru))\n",
    "\n",
    "model_scores"
   ]
  },
  {
   "cell_type": "markdown",
   "metadata": {},
   "source": [
    "This is an improvement in comparison with our previous model, but it is still worse than our first two models. Let's see if we can improve this result using an **LSTM layer**."
   ]
  },
  {
   "cell_type": "markdown",
   "metadata": {},
   "source": [
    "### Step 5"
   ]
  },
  {
   "cell_type": "markdown",
   "metadata": {},
   "source": [
    "#### 1. Perform necessary imports"
   ]
  },
  {
   "cell_type": "code",
   "execution_count": 104,
   "metadata": {},
   "outputs": [],
   "source": [
    "from keras.layers import LSTM"
   ]
  },
  {
   "cell_type": "markdown",
   "metadata": {},
   "source": [
    "#### 2. Design a recurrent neural network (LSTM layer)"
   ]
  },
  {
   "cell_type": "code",
   "execution_count": 105,
   "metadata": {},
   "outputs": [],
   "source": [
    "# output directory name:\n",
    "output_dir = 'text_classification_NN/lstm'\n",
    "\n",
    "# training:\n",
    "epochs = 4\n",
    "batch_size = 128\n",
    "\n",
    "# vector-space embedding:\n",
    "n_dim = 64 #number of dimensions of our word-vector space\n",
    "drop_embed = 0.2\n",
    "\n",
    "# LSTM layer architecture:\n",
    "n_lstm = 256 #number of neurons\n",
    "drop_lstm = 0.2\n",
    "\n",
    "model = Sequential(name='model_lstm')\n",
    "\n",
    "model.add(Embedding(n_unique_words, n_dim, input_length=max_review_length))\n",
    "model.add(SpatialDropout1D(drop_embed))\n",
    "\n",
    "model.add(LSTM(n_lstm, dropout=drop_lstm))\n",
    "\n",
    "model.add(Dense(1, activation='sigmoid')) #single output neuron; we use sigmoid because we only "
   ]
  },
  {
   "cell_type": "code",
   "execution_count": 106,
   "metadata": {},
   "outputs": [
    {
     "name": "stdout",
     "output_type": "stream",
     "text": [
      "Model: \"model_lstm\"\n",
      "_________________________________________________________________\n",
      "Layer (type)                 Output Shape              Param #   \n",
      "=================================================================\n",
      "embedding_5 (Embedding)      (None, 100, 64)           640000    \n",
      "_________________________________________________________________\n",
      "spatial_dropout1d_4 (Spatial (None, 100, 64)           0         \n",
      "_________________________________________________________________\n",
      "lstm_1 (LSTM)                (None, 256)               328704    \n",
      "_________________________________________________________________\n",
      "dense_7 (Dense)              (None, 1)                 257       \n",
      "=================================================================\n",
      "Total params: 968,961\n",
      "Trainable params: 968,961\n",
      "Non-trainable params: 0\n",
      "_________________________________________________________________\n"
     ]
    }
   ],
   "source": [
    "model.summary()"
   ]
  },
  {
   "cell_type": "markdown",
   "metadata": {},
   "source": [
    "Our new RNN model with an LSTM layer is now ready to be compiled and trained."
   ]
  },
  {
   "cell_type": "markdown",
   "metadata": {},
   "source": [
    "#### 3. Compile model and create callback to save model parameters"
   ]
  },
  {
   "cell_type": "code",
   "execution_count": 107,
   "metadata": {},
   "outputs": [],
   "source": [
    "model.compile(loss='binary_crossentropy', optimizer='adam', metrics=['accuracy'])"
   ]
  },
  {
   "cell_type": "code",
   "execution_count": 108,
   "metadata": {},
   "outputs": [],
   "source": [
    "# callback to save model parameters after each epoch of training\n",
    "\n",
    "modelcheckpoint = ModelCheckpoint(filepath=output_dir+\"/weights.{epoch:02d}.hdf5\")"
   ]
  },
  {
   "cell_type": "code",
   "execution_count": 109,
   "metadata": {},
   "outputs": [],
   "source": [
    "# create folder if it does not exist\n",
    "\n",
    "if not os.path.exists(output_dir):\n",
    "    os.makedirs(output_dir)"
   ]
  },
  {
   "cell_type": "markdown",
   "metadata": {},
   "source": [
    "#### 4. Train model"
   ]
  },
  {
   "cell_type": "code",
   "execution_count": 114,
   "metadata": {},
   "outputs": [
    {
     "name": "stderr",
     "output_type": "stream",
     "text": [
      "C:\\Users\\joaon\\Anaconda3\\envs\\DL-illustrated\\lib\\site-packages\\tensorflow_core\\python\\framework\\indexed_slices.py:433: UserWarning: Converting sparse IndexedSlices to a dense Tensor of unknown shape. This may consume a large amount of memory.\n",
      "  \"Converting sparse IndexedSlices to a dense Tensor of unknown shape. \"\n"
     ]
    },
    {
     "name": "stdout",
     "output_type": "stream",
     "text": [
      "Train on 25000 samples, validate on 25000 samples\n",
      "Epoch 1/4\n",
      "25000/25000 [==============================] - 155s 6ms/step - loss: 0.4947 - accuracy: 0.7504 - val_loss: 0.3501 - val_accuracy: 0.8506\n",
      "Epoch 2/4\n",
      "25000/25000 [==============================] - 170s 7ms/step - loss: 0.2985 - accuracy: 0.8780 - val_loss: 0.3449 - val_accuracy: 0.8475\n",
      "Epoch 3/4\n",
      "25000/25000 [==============================] - 172s 7ms/step - loss: 0.2410 - accuracy: 0.9046 - val_loss: 0.3880 - val_accuracy: 0.8423\n",
      "Epoch 4/4\n",
      "25000/25000 [==============================] - 161s 6ms/step - loss: 0.1996 - accuracy: 0.9246 - val_loss: 0.3658 - val_accuracy: 0.8415\n"
     ]
    },
    {
     "data": {
      "text/plain": [
       "<keras.callbacks.callbacks.History at 0x1fb94570f48>"
      ]
     },
     "execution_count": 114,
     "metadata": {},
     "output_type": "execute_result"
    }
   ],
   "source": [
    "model.fit(x_train, y_train, \n",
    "          batch_size=batch_size, epochs=epochs, verbose=1, \n",
    "          validation_data=(x_test, y_test), \n",
    "          callbacks=[modelcheckpoint])"
   ]
  },
  {
   "cell_type": "markdown",
   "metadata": {},
   "source": [
    "The **highest validation accuracy** is achieved in **epoch 1** and the **lowest validation loss** is achieved in **epoch 2**."
   ]
  },
  {
   "cell_type": "markdown",
   "metadata": {},
   "source": [
    "#### 5. Make predictions with the test set"
   ]
  },
  {
   "cell_type": "code",
   "execution_count": 110,
   "metadata": {},
   "outputs": [
    {
     "name": "stderr",
     "output_type": "stream",
     "text": [
      "C:\\Users\\joaon\\Anaconda3\\envs\\DL-illustrated\\lib\\site-packages\\tensorflow_core\\python\\framework\\indexed_slices.py:433: UserWarning: Converting sparse IndexedSlices to a dense Tensor of unknown shape. This may consume a large amount of memory.\n",
      "  \"Converting sparse IndexedSlices to a dense Tensor of unknown shape. \"\n"
     ]
    }
   ],
   "source": [
    "# load parameters of epoch 2\n",
    "\n",
    "output_dir = 'text_classification_NN/lstm'\n",
    "model = load_model(output_dir+\"/weights.02.hdf5\")"
   ]
  },
  {
   "cell_type": "code",
   "execution_count": 111,
   "metadata": {},
   "outputs": [
    {
     "data": {
      "text/plain": [
       "array([[0.24716255],\n",
       "       [0.9733419 ],\n",
       "       [0.7759752 ]], dtype=float32)"
      ]
     },
     "execution_count": 111,
     "metadata": {},
     "output_type": "execute_result"
    }
   ],
   "source": [
    "predictions = model.predict(x_test)\n",
    "predictions[0:3]"
   ]
  },
  {
   "cell_type": "code",
   "execution_count": 112,
   "metadata": {
    "scrolled": true
   },
   "outputs": [
    {
     "data": {
      "text/plain": [
       "array([[0],\n",
       "       [1],\n",
       "       [1]])"
      ]
     },
     "execution_count": 112,
     "metadata": {},
     "output_type": "execute_result"
    }
   ],
   "source": [
    "predictions_class = model.predict_classes(x_test)\n",
    "predictions_class[0:3]"
   ]
  },
  {
   "cell_type": "markdown",
   "metadata": {},
   "source": [
    "#### 6. Evaluate model"
   ]
  },
  {
   "cell_type": "code",
   "execution_count": 113,
   "metadata": {},
   "outputs": [
    {
     "name": "stdout",
     "output_type": "stream",
     "text": [
      "[[10195  2305]\n",
      " [ 1507 10993]]\n"
     ]
    }
   ],
   "source": [
    "# confusion matrix\n",
    "\n",
    "print(confusion_matrix(y_test, predictions_class))"
   ]
  },
  {
   "cell_type": "code",
   "execution_count": 114,
   "metadata": {},
   "outputs": [
    {
     "name": "stdout",
     "output_type": "stream",
     "text": [
      "              precision    recall  f1-score   support\n",
      "\n",
      "           0       0.87      0.82      0.84     12500\n",
      "           1       0.83      0.88      0.85     12500\n",
      "\n",
      "    accuracy                           0.85     25000\n",
      "   macro avg       0.85      0.85      0.85     25000\n",
      "weighted avg       0.85      0.85      0.85     25000\n",
      "\n"
     ]
    }
   ],
   "source": [
    "# classification report\n",
    "\n",
    "print(classification_report(y_test, predictions_class))"
   ]
  },
  {
   "cell_type": "code",
   "execution_count": 115,
   "metadata": {},
   "outputs": [
    {
     "name": "stdout",
     "output_type": "stream",
     "text": [
      "0.84752\n"
     ]
    }
   ],
   "source": [
    "# accuracy score\n",
    "\n",
    "acc_lstm = accuracy_score(y_test, predictions_class)\n",
    "print(acc_lstm)"
   ]
  },
  {
   "cell_type": "markdown",
   "metadata": {},
   "source": [
    "Our RNN model with an LSTM layer correctly classifies **84,8%** of our reviews as positive or negative. Let's plot the ROC curve and calculate the ROC AUC value of this model."
   ]
  },
  {
   "cell_type": "code",
   "execution_count": 116,
   "metadata": {},
   "outputs": [
    {
     "data": {
      "image/png": "[encoded data removed]",
      "text/plain": [
       "<Figure size 432x288 with 1 Axes>"
      ]
     },
     "metadata": {
      "needs_background": "light"
     },
     "output_type": "display_data"
    }
   ],
   "source": [
    "fpr, tpr, thresh = roc_curve(y_test, predictions)\n",
    "\n",
    "area_uc_lstm = auc(fpr, tpr)\n",
    "\n",
    "plt.figure(figsize=(6,4))\n",
    "plt.plot(fpr, tpr)\n",
    "plt.xlabel('False positive rate (1 - specificity)')\n",
    "plt.ylabel('True positive rate (sensitivity)')\n",
    "plt.text(0.5, 0.5, 'AUC:{:.3f}'.format(area_uc_lstm))\n",
    "plt.title('ROC Curve');"
   ]
  },
  {
   "cell_type": "markdown",
   "metadata": {},
   "source": [
    "This model has a **ROC AUC** value of **0.929**. Let's store the accuracy and ROC AUC values for later."
   ]
  },
  {
   "cell_type": "code",
   "execution_count": 117,
   "metadata": {},
   "outputs": [
    {
     "data": {
      "text/plain": [
       "{'model': ['Dense',\n",
       "  'Convolutional',\n",
       "  'RNN - simple RNN layer',\n",
       "  'RNN - GRU layer',\n",
       "  'RNN - LSTM layer'],\n",
       " 'accuracy': ['0.846', '0.891', '0.796', '0.842', '0.848'],\n",
       " 'roc_auc': ['0.928', '0.960', '0.864', '0.923', '0.929']}"
      ]
     },
     "execution_count": 117,
     "metadata": {},
     "output_type": "execute_result"
    }
   ],
   "source": [
    "model_scores['model'].append('RNN - LSTM layer')\n",
    "model_scores['accuracy'].append('{:.3f}'.format(acc_lstm))\n",
    "model_scores['roc_auc'].append('{:.3f}'.format(area_uc_lstm))\n",
    "\n",
    "model_scores"
   ]
  },
  {
   "cell_type": "markdown",
   "metadata": {},
   "source": [
    "This represents a slight improvement from the previous model, but is still lower than the ROC AUC value of our CNN model.\n",
    "\n",
    "In **step 6** we will try to improve our results with the help of a **bidirectional LSTM**."
   ]
  },
  {
   "cell_type": "markdown",
   "metadata": {},
   "source": [
    "### Step 6"
   ]
  },
  {
   "cell_type": "markdown",
   "metadata": {},
   "source": [
    "#### 1. Perform necessary imports"
   ]
  },
  {
   "cell_type": "code",
   "execution_count": 118,
   "metadata": {},
   "outputs": [],
   "source": [
    "from keras.layers.wrappers import Bidirectional"
   ]
  },
  {
   "cell_type": "markdown",
   "metadata": {},
   "source": [
    "#### 2. Load data"
   ]
  },
  {
   "cell_type": "code",
   "execution_count": 171,
   "metadata": {},
   "outputs": [],
   "source": [
    "# considering the 10000 most frequent words\n",
    "\n",
    "n_unique_words = 10000 #number of most frequent words to consider\n",
    "\n",
    "(x_train, y_train), (x_test, y_test) = imdb.load_data(num_words=n_unique_words)"
   ]
  },
  {
   "cell_type": "markdown",
   "metadata": {},
   "source": [
    "#### 3. Preprocess data"
   ]
  },
  {
   "cell_type": "code",
   "execution_count": 172,
   "metadata": {},
   "outputs": [],
   "source": [
    "max_review_length = 200 #maximum review length of 200 words\n",
    "pad_type = 'pre' #add padding characters to the start of every review < 200 words\n",
    "trunc_type = 'pre' #remove words from the beginning of every review > 200 words\n",
    "\n",
    "x_train = pad_sequences(x_train, maxlen=max_review_length, \n",
    "                        padding=pad_type, truncating=trunc_type, value=0)\n",
    "\n",
    "x_test = pad_sequences(x_test, maxlen=max_review_length,\n",
    "                       padding=pad_type, truncating=trunc_type, value=0)"
   ]
  },
  {
   "cell_type": "markdown",
   "metadata": {},
   "source": [
    "#### 4. Design a recurrent neural network (bi-LSTM layer)"
   ]
  },
  {
   "cell_type": "code",
   "execution_count": 173,
   "metadata": {},
   "outputs": [],
   "source": [
    "# output directory name:\n",
    "output_dir = 'text_classification_NN/bi-lstm'\n",
    "\n",
    "# training:\n",
    "epochs = 6\n",
    "batch_size = 128\n",
    "\n",
    "# vector-space embedding:\n",
    "n_dim = 64 #number of dimensions of our word-vector space\n",
    "drop_embed = 0.2\n",
    "\n",
    "# bi-LSTM layer architecture:\n",
    "n_lstm = 256 #number of neurons\n",
    "drop_lstm = 0.2\n",
    "\n",
    "model = Sequential(name='model_bi-lstm')\n",
    "\n",
    "model.add(Embedding(n_unique_words, n_dim, input_length=max_review_length))\n",
    "model.add(SpatialDropout1D(drop_embed))\n",
    "\n",
    "model.add(Bidirectional(LSTM(n_lstm, dropout=drop_lstm)))\n",
    "\n",
    "model.add(Dense(1, activation='sigmoid')) #single output neuron; we use sigmoid because we only "
   ]
  },
  {
   "cell_type": "code",
   "execution_count": 174,
   "metadata": {},
   "outputs": [
    {
     "name": "stdout",
     "output_type": "stream",
     "text": [
      "Model: \"model_bi-lstm\"\n",
      "_________________________________________________________________\n",
      "Layer (type)                 Output Shape              Param #   \n",
      "=================================================================\n",
      "embedding_9 (Embedding)      (None, 200, 64)           640000    \n",
      "_________________________________________________________________\n",
      "spatial_dropout1d_8 (Spatial (None, 200, 64)           0         \n",
      "_________________________________________________________________\n",
      "bidirectional_5 (Bidirection (None, 512)               657408    \n",
      "_________________________________________________________________\n",
      "dense_11 (Dense)             (None, 1)                 513       \n",
      "=================================================================\n",
      "Total params: 1,297,921\n",
      "Trainable params: 1,297,921\n",
      "Non-trainable params: 0\n",
      "_________________________________________________________________\n"
     ]
    }
   ],
   "source": [
    "model.summary()"
   ]
  },
  {
   "cell_type": "markdown",
   "metadata": {},
   "source": [
    "Our new RNN model with a bidirectional LSTM layer is now ready to be compiled and trained."
   ]
  },
  {
   "cell_type": "markdown",
   "metadata": {},
   "source": [
    "#### 5. Compile model and create callback to save model parameters"
   ]
  },
  {
   "cell_type": "code",
   "execution_count": 175,
   "metadata": {},
   "outputs": [],
   "source": [
    "model.compile(loss='binary_crossentropy', optimizer='adam', metrics=['accuracy'])"
   ]
  },
  {
   "cell_type": "code",
   "execution_count": 176,
   "metadata": {},
   "outputs": [],
   "source": [
    "# callback to save model parameters after each epoch of training\n",
    "\n",
    "modelcheckpoint = ModelCheckpoint(filepath=output_dir+\"/weights.{epoch:02d}.hdf5\")"
   ]
  },
  {
   "cell_type": "code",
   "execution_count": 177,
   "metadata": {},
   "outputs": [],
   "source": [
    "# create folder if it does not exist\n",
    "\n",
    "if not os.path.exists(output_dir):\n",
    "    os.makedirs(output_dir)"
   ]
  },
  {
   "cell_type": "markdown",
   "metadata": {},
   "source": [
    "#### 6. Train model"
   ]
  },
  {
   "cell_type": "code",
   "execution_count": 130,
   "metadata": {},
   "outputs": [
    {
     "name": "stderr",
     "output_type": "stream",
     "text": [
      "C:\\Users\\joaon\\Anaconda3\\envs\\DL-illustrated\\lib\\site-packages\\tensorflow_core\\python\\framework\\indexed_slices.py:433: UserWarning: Converting sparse IndexedSlices to a dense Tensor of unknown shape. This may consume a large amount of memory.\n",
      "  \"Converting sparse IndexedSlices to a dense Tensor of unknown shape. \"\n"
     ]
    },
    {
     "name": "stdout",
     "output_type": "stream",
     "text": [
      "Train on 25000 samples, validate on 25000 samples\n",
      "Epoch 1/6\n",
      "25000/25000 [==============================] - 908s 36ms/step - loss: 0.5455 - accuracy: 0.7174 - val_loss: 0.3824 - val_accuracy: 0.8360\n",
      "Epoch 2/6\n",
      "25000/25000 [==============================] - 1036s 41ms/step - loss: 0.3061 - accuracy: 0.8757 - val_loss: 0.3268 - val_accuracy: 0.8680\n",
      "Epoch 3/6\n",
      "25000/25000 [==============================] - 1110s 44ms/step - loss: 0.2311 - accuracy: 0.9121 - val_loss: 0.3336 - val_accuracy: 0.8648\n",
      "Epoch 4/6\n",
      "25000/25000 [==============================] - 1022s 41ms/step - loss: 0.1924 - accuracy: 0.9274 - val_loss: 0.3544 - val_accuracy: 0.8641\n",
      "Epoch 5/6\n",
      "25000/25000 [==============================] - 1070s 43ms/step - loss: 0.1525 - accuracy: 0.9451 - val_loss: 0.4024 - val_accuracy: 0.8573\n",
      "Epoch 6/6\n",
      "25000/25000 [==============================] - 1056s 42ms/step - loss: 0.1252 - accuracy: 0.9545 - val_loss: 0.4122 - val_accuracy: 0.8618\n"
     ]
    },
    {
     "data": {
      "text/plain": [
       "<keras.callbacks.callbacks.History at 0x1fb97dcae48>"
      ]
     },
     "execution_count": 130,
     "metadata": {},
     "output_type": "execute_result"
    }
   ],
   "source": [
    "model.fit(x_train, y_train, \n",
    "          batch_size=batch_size, epochs=epochs, verbose=1, \n",
    "          validation_data=(x_test, y_test), \n",
    "          callbacks=[modelcheckpoint])"
   ]
  },
  {
   "cell_type": "markdown",
   "metadata": {},
   "source": [
    "The **highest validation accuracy** and **lowest validation loss** is achieved in **epoch 2**."
   ]
  },
  {
   "cell_type": "markdown",
   "metadata": {},
   "source": [
    "#### 7. Make predictions with the test set"
   ]
  },
  {
   "cell_type": "code",
   "execution_count": 178,
   "metadata": {},
   "outputs": [
    {
     "name": "stderr",
     "output_type": "stream",
     "text": [
      "C:\\Users\\joaon\\Anaconda3\\envs\\DL-illustrated\\lib\\site-packages\\tensorflow_core\\python\\framework\\indexed_slices.py:433: UserWarning: Converting sparse IndexedSlices to a dense Tensor of unknown shape. This may consume a large amount of memory.\n",
      "  \"Converting sparse IndexedSlices to a dense Tensor of unknown shape. \"\n"
     ]
    }
   ],
   "source": [
    "# load parameters of epoch 2\n",
    "\n",
    "output_dir = 'text_classification_NN/bi-lstm'\n",
    "model = load_model(output_dir+\"/weights.02.hdf5\")"
   ]
  },
  {
   "cell_type": "code",
   "execution_count": 127,
   "metadata": {},
   "outputs": [
    {
     "data": {
      "text/plain": [
       "array([[0.17112471],\n",
       "       [0.96590513],\n",
       "       [0.5913159 ]], dtype=float32)"
      ]
     },
     "execution_count": 127,
     "metadata": {},
     "output_type": "execute_result"
    }
   ],
   "source": [
    "predictions = model.predict(x_test)\n",
    "predictions[0:3]"
   ]
  },
  {
   "cell_type": "code",
   "execution_count": 128,
   "metadata": {
    "scrolled": true
   },
   "outputs": [
    {
     "data": {
      "text/plain": [
       "array([[0],\n",
       "       [1],\n",
       "       [1]])"
      ]
     },
     "execution_count": 128,
     "metadata": {},
     "output_type": "execute_result"
    }
   ],
   "source": [
    "predictions_class = model.predict_classes(x_test)\n",
    "predictions_class[0:3]"
   ]
  },
  {
   "cell_type": "markdown",
   "metadata": {},
   "source": [
    "#### 8. Evaluate model"
   ]
  },
  {
   "cell_type": "code",
   "execution_count": 129,
   "metadata": {},
   "outputs": [
    {
     "name": "stdout",
     "output_type": "stream",
     "text": [
      "[[11025  1475]\n",
      " [ 1825 10675]]\n"
     ]
    }
   ],
   "source": [
    "# confusion matrix\n",
    "\n",
    "print(confusion_matrix(y_test, predictions_class))"
   ]
  },
  {
   "cell_type": "code",
   "execution_count": 130,
   "metadata": {},
   "outputs": [
    {
     "name": "stdout",
     "output_type": "stream",
     "text": [
      "              precision    recall  f1-score   support\n",
      "\n",
      "           0       0.86      0.88      0.87     12500\n",
      "           1       0.88      0.85      0.87     12500\n",
      "\n",
      "    accuracy                           0.87     25000\n",
      "   macro avg       0.87      0.87      0.87     25000\n",
      "weighted avg       0.87      0.87      0.87     25000\n",
      "\n"
     ]
    }
   ],
   "source": [
    "# classification report\n",
    "\n",
    "print(classification_report(y_test, predictions_class))"
   ]
  },
  {
   "cell_type": "code",
   "execution_count": 131,
   "metadata": {},
   "outputs": [
    {
     "name": "stdout",
     "output_type": "stream",
     "text": [
      "0.868\n"
     ]
    }
   ],
   "source": [
    "# accuracy score\n",
    "\n",
    "acc_bilstm = accuracy_score(y_test, predictions_class)\n",
    "print(acc_bilstm)"
   ]
  },
  {
   "cell_type": "markdown",
   "metadata": {},
   "source": [
    "Our RNN model with a bidirectional LSTM layer correctly classifies **86,8%** of our reviews as positive or negative. Let's plot the ROC curve and calculate the ROC AUC value of this model."
   ]
  },
  {
   "cell_type": "code",
   "execution_count": 132,
   "metadata": {},
   "outputs": [
    {
     "data": {
      "image/png": "[encoded data removed]",
      "text/plain": [
       "<Figure size 432x288 with 1 Axes>"
      ]
     },
     "metadata": {
      "needs_background": "light"
     },
     "output_type": "display_data"
    }
   ],
   "source": [
    "fpr, tpr, thresh = roc_curve(y_test, predictions)\n",
    "\n",
    "area_uc_bilstm = auc(fpr, tpr)\n",
    "\n",
    "plt.figure(figsize=(6,4))\n",
    "plt.plot(fpr, tpr)\n",
    "plt.xlabel('False positive rate (1 - specificity)')\n",
    "plt.ylabel('True positive rate (sensitivity)')\n",
    "plt.text(0.5, 0.5, 'AUC:{:.3f}'.format(area_uc_bilstm))\n",
    "plt.title('ROC Curve');"
   ]
  },
  {
   "cell_type": "markdown",
   "metadata": {},
   "source": [
    "Our bi-LSTM model has a **ROC AUC** value of **0.939**. Let's store the accuracy and ROC AUC values for later."
   ]
  },
  {
   "cell_type": "code",
   "execution_count": 133,
   "metadata": {},
   "outputs": [
    {
     "data": {
      "text/plain": [
       "{'model': ['Dense',\n",
       "  'Convolutional',\n",
       "  'RNN - simple RNN layer',\n",
       "  'RNN - GRU layer',\n",
       "  'RNN - LSTM layer',\n",
       "  'RNN - bidirectional LSTM layer'],\n",
       " 'accuracy': ['0.846', '0.891', '0.796', '0.842', '0.848', '0.868'],\n",
       " 'roc_auc': ['0.928', '0.960', '0.864', '0.923', '0.929', '0.939']}"
      ]
     },
     "execution_count": 133,
     "metadata": {},
     "output_type": "execute_result"
    }
   ],
   "source": [
    "model_scores['model'].append('RNN - bidirectional LSTM layer')\n",
    "model_scores['accuracy'].append('{:.3f}'.format(acc_bilstm))\n",
    "model_scores['roc_auc'].append('{:.3f}'.format(area_uc_bilstm))\n",
    "\n",
    "model_scores"
   ]
  },
  {
   "cell_type": "markdown",
   "metadata": {},
   "source": [
    "This is our second best model so far, only surpassed in terms of performance by our CNN model.\n",
    "\n",
    "We can try to **stack bi-LSTM layers** to improve our results - that's what we will do in **step 7**."
   ]
  },
  {
   "cell_type": "markdown",
   "metadata": {},
   "source": [
    "### Step 7"
   ]
  },
  {
   "cell_type": "markdown",
   "metadata": {},
   "source": [
    "For this step, we will use exactly the same data we've used in step 6, preprocessed in the same way."
   ]
  },
  {
   "cell_type": "markdown",
   "metadata": {},
   "source": [
    "#### 1. Design a stacked recurrent neural network (2 bi-LSTM layers)"
   ]
  },
  {
   "cell_type": "code",
   "execution_count": 179,
   "metadata": {},
   "outputs": [],
   "source": [
    "# output directory name:\n",
    "output_dir = 'text_classification_NN/stacked_bi-lstm'\n",
    "\n",
    "# training:\n",
    "epochs = 4\n",
    "batch_size = 128\n",
    "\n",
    "# vector-space embedding:\n",
    "n_dim = 64 #number of dimensions of our word-vector space\n",
    "drop_embed = 0.2\n",
    "\n",
    "# stacked bi-LSTM layer architecture:\n",
    "n_lstm_1 = 64 #number of neurons of LSTM layer 1\n",
    "n_lstm_2 = 64 #number of neurons of LSTM layer 2\n",
    "drop_lstm = 0.2\n",
    "rec_drop_lstm = 0.2 #recurrent dropout\n",
    "\n",
    "model = Sequential(name='model_stacked_bi-lstm')\n",
    "\n",
    "model.add(Embedding(n_unique_words, n_dim, input_length=max_review_length))\n",
    "model.add(SpatialDropout1D(drop_embed))\n",
    "\n",
    "model.add(Bidirectional(LSTM(n_lstm_1, dropout=drop_lstm, recurrent_dropout=rec_drop_lstm, return_sequences=True)))\n",
    "#with return_sequences=True this recurrent layer returns the hidden states for each step of the sequence\n",
    "\n",
    "model.add(Bidirectional(LSTM(n_lstm_2, dropout=drop_lstm, recurrent_dropout=rec_drop_lstm)))\n",
    "\n",
    "model.add(Dense(1, activation='sigmoid')) #single output neuron; we use sigmoid because we only "
   ]
  },
  {
   "cell_type": "markdown",
   "metadata": {},
   "source": [
    "Since both our **LSTM and bidirectional LSTM models seem to show a slight tendency to overfit**, we've also included a **recurrent dropout value of 0.2 in our 2 LSTM layers**, along with the regular dropout value."
   ]
  },
  {
   "cell_type": "code",
   "execution_count": 180,
   "metadata": {},
   "outputs": [
    {
     "name": "stdout",
     "output_type": "stream",
     "text": [
      "Model: \"model_stacked_bi-lstm\"\n",
      "_________________________________________________________________\n",
      "Layer (type)                 Output Shape              Param #   \n",
      "=================================================================\n",
      "embedding_10 (Embedding)     (None, 200, 64)           640000    \n",
      "_________________________________________________________________\n",
      "spatial_dropout1d_9 (Spatial (None, 200, 64)           0         \n",
      "_________________________________________________________________\n",
      "bidirectional_6 (Bidirection (None, 200, 128)          66048     \n",
      "_________________________________________________________________\n",
      "bidirectional_7 (Bidirection (None, 128)               98816     \n",
      "_________________________________________________________________\n",
      "dense_12 (Dense)             (None, 1)                 129       \n",
      "=================================================================\n",
      "Total params: 804,993\n",
      "Trainable params: 804,993\n",
      "Non-trainable params: 0\n",
      "_________________________________________________________________\n"
     ]
    }
   ],
   "source": [
    "model.summary()"
   ]
  },
  {
   "cell_type": "markdown",
   "metadata": {},
   "source": [
    "Our stacked RNN model is now ready to be compiled and trained."
   ]
  },
  {
   "cell_type": "markdown",
   "metadata": {},
   "source": [
    "#### 2. Compile model and create callback to save model parameters"
   ]
  },
  {
   "cell_type": "code",
   "execution_count": 181,
   "metadata": {},
   "outputs": [],
   "source": [
    "model.compile(loss='binary_crossentropy', optimizer='adam', metrics=['accuracy'])"
   ]
  },
  {
   "cell_type": "code",
   "execution_count": 182,
   "metadata": {},
   "outputs": [],
   "source": [
    "# callback to save model parameters after each epoch of training\n",
    "\n",
    "modelcheckpoint = ModelCheckpoint(filepath=output_dir+\"/weights.{epoch:02d}.hdf5\")"
   ]
  },
  {
   "cell_type": "code",
   "execution_count": 183,
   "metadata": {},
   "outputs": [],
   "source": [
    "# create folder if it does not exist\n",
    "\n",
    "if not os.path.exists(output_dir):\n",
    "    os.makedirs(output_dir)"
   ]
  },
  {
   "cell_type": "markdown",
   "metadata": {},
   "source": [
    "#### 3. Train model"
   ]
  },
  {
   "cell_type": "code",
   "execution_count": 149,
   "metadata": {},
   "outputs": [
    {
     "name": "stderr",
     "output_type": "stream",
     "text": [
      "C:\\Users\\joaon\\Anaconda3\\envs\\DL-illustrated\\lib\\site-packages\\tensorflow_core\\python\\framework\\indexed_slices.py:433: UserWarning: Converting sparse IndexedSlices to a dense Tensor of unknown shape. This may consume a large amount of memory.\n",
      "  \"Converting sparse IndexedSlices to a dense Tensor of unknown shape. \"\n"
     ]
    },
    {
     "name": "stdout",
     "output_type": "stream",
     "text": [
      "Train on 25000 samples, validate on 25000 samples\n",
      "Epoch 1/4\n",
      "25000/25000 [==============================] - 714s 29ms/step - loss: 0.4802 - accuracy: 0.7622 - val_loss: 0.3444 - val_accuracy: 0.8566\n",
      "Epoch 2/4\n",
      "25000/25000 [==============================] - 699s 28ms/step - loss: 0.3286 - accuracy: 0.8639 - val_loss: 0.3974 - val_accuracy: 0.8188\n",
      "Epoch 3/4\n",
      "25000/25000 [==============================] - 702s 28ms/step - loss: 0.2893 - accuracy: 0.8858 - val_loss: 0.3817 - val_accuracy: 0.8425\n",
      "Epoch 4/4\n",
      "25000/25000 [==============================] - 703s 28ms/step - loss: 0.2535 - accuracy: 0.9016 - val_loss: 0.3448 - val_accuracy: 0.8591\n"
     ]
    },
    {
     "data": {
      "text/plain": [
       "<keras.callbacks.callbacks.History at 0x1fbcb31b848>"
      ]
     },
     "execution_count": 149,
     "metadata": {},
     "output_type": "execute_result"
    }
   ],
   "source": [
    "model.fit(x_train, y_train, \n",
    "          batch_size=batch_size, epochs=epochs, verbose=1, \n",
    "          validation_data=(x_test, y_test), \n",
    "          callbacks=[modelcheckpoint])"
   ]
  },
  {
   "cell_type": "markdown",
   "metadata": {},
   "source": [
    "After the 4 epochs of training, the results are not conclusive. We've decided to extend the training for 4 more epochs, making a total of 8 epochs. If this was done right after the first 4 epochs of training, we just had to call `.fit()` again."
   ]
  },
  {
   "cell_type": "markdown",
   "metadata": {},
   "source": [
    "In order to do this after a break and not immediately after the first 4 epochs, we just need to use the Keras `load_model()` function like we've done before. "
   ]
  },
  {
   "cell_type": "code",
   "execution_count": 21,
   "metadata": {},
   "outputs": [
    {
     "name": "stderr",
     "output_type": "stream",
     "text": [
      "C:\\Users\\joaon\\Anaconda3\\envs\\DL-illustrated\\lib\\site-packages\\tensorflow_core\\python\\framework\\indexed_slices.py:433: UserWarning: Converting sparse IndexedSlices to a dense Tensor of unknown shape. This may consume a large amount of memory.\n",
      "  \"Converting sparse IndexedSlices to a dense Tensor of unknown shape. \"\n"
     ]
    }
   ],
   "source": [
    "output_dir = 'text_classification_NN/stacked_bi-lstm'\n",
    "model = load_model(output_dir+\"/weights.04.hdf5\")"
   ]
  },
  {
   "cell_type": "code",
   "execution_count": 22,
   "metadata": {},
   "outputs": [
    {
     "name": "stdout",
     "output_type": "stream",
     "text": [
      "Train on 25000 samples, validate on 25000 samples\n",
      "Epoch 5/8\n",
      "25000/25000 [==============================] - 516s 21ms/step - loss: 0.2131 - accuracy: 0.9198 - val_loss: 0.3691 - val_accuracy: 0.8569\n",
      "Epoch 6/8\n",
      "25000/25000 [==============================] - 500s 20ms/step - loss: 0.1773 - accuracy: 0.9372 - val_loss: 0.3675 - val_accuracy: 0.8548\n",
      "Epoch 7/8\n",
      "25000/25000 [==============================] - 529s 21ms/step - loss: 0.1526 - accuracy: 0.9452 - val_loss: 0.3879 - val_accuracy: 0.8598\n",
      "Epoch 8/8\n",
      "25000/25000 [==============================] - 549s 22ms/step - loss: 0.1921 - accuracy: 0.9267 - val_loss: 0.3823 - val_accuracy: 0.8500\n"
     ]
    },
    {
     "data": {
      "text/plain": [
       "<keras.callbacks.callbacks.History at 0x2912a42d588>"
      ]
     },
     "execution_count": 22,
     "metadata": {},
     "output_type": "execute_result"
    }
   ],
   "source": [
    "model.fit(x_train, y_train, \n",
    "          batch_size=batch_size, epochs=8, verbose=1, initial_epoch=4, \n",
    "          validation_data=(x_test, y_test), \n",
    "          callbacks=[modelcheckpoint])"
   ]
  },
  {
   "cell_type": "markdown",
   "metadata": {},
   "source": [
    "After the 8 epochs of training, the **highest validation accuracy** is achieved in **epoch 7** and the **lowest validation loss** is achieved in **epoch 1**."
   ]
  },
  {
   "cell_type": "markdown",
   "metadata": {},
   "source": [
    "Our model shows some signs of overfiting even after the introduction of recurrent dropout. We'll leave it like it is for now."
   ]
  },
  {
   "cell_type": "markdown",
   "metadata": {},
   "source": [
    "#### 4. Make predictions with the test set"
   ]
  },
  {
   "cell_type": "code",
   "execution_count": 184,
   "metadata": {},
   "outputs": [
    {
     "name": "stderr",
     "output_type": "stream",
     "text": [
      "C:\\Users\\joaon\\Anaconda3\\envs\\DL-illustrated\\lib\\site-packages\\tensorflow_core\\python\\framework\\indexed_slices.py:433: UserWarning: Converting sparse IndexedSlices to a dense Tensor of unknown shape. This may consume a large amount of memory.\n",
      "  \"Converting sparse IndexedSlices to a dense Tensor of unknown shape. \"\n"
     ]
    }
   ],
   "source": [
    "# load parameters of epoch 1\n",
    "\n",
    "output_dir = 'text_classification_NN/stacked_bi-lstm'\n",
    "model = load_model(output_dir+\"/weights.01.hdf5\")"
   ]
  },
  {
   "cell_type": "code",
   "execution_count": 185,
   "metadata": {},
   "outputs": [
    {
     "data": {
      "text/plain": [
       "array([[0.24861364],\n",
       "       [0.9267259 ],\n",
       "       [0.77547264]], dtype=float32)"
      ]
     },
     "execution_count": 185,
     "metadata": {},
     "output_type": "execute_result"
    }
   ],
   "source": [
    "predictions = model.predict(x_test)\n",
    "predictions[0:3]"
   ]
  },
  {
   "cell_type": "code",
   "execution_count": 186,
   "metadata": {
    "scrolled": true
   },
   "outputs": [
    {
     "data": {
      "text/plain": [
       "array([[0],\n",
       "       [1],\n",
       "       [1]])"
      ]
     },
     "execution_count": 186,
     "metadata": {},
     "output_type": "execute_result"
    }
   ],
   "source": [
    "predictions_class = model.predict_classes(x_test)\n",
    "predictions_class[0:3]"
   ]
  },
  {
   "cell_type": "markdown",
   "metadata": {},
   "source": [
    "#### 5. Evaluate model"
   ]
  },
  {
   "cell_type": "code",
   "execution_count": 187,
   "metadata": {},
   "outputs": [
    {
     "name": "stdout",
     "output_type": "stream",
     "text": [
      "[[11008  1492]\n",
      " [ 2094 10406]]\n"
     ]
    }
   ],
   "source": [
    "# confusion matrix\n",
    "\n",
    "print(confusion_matrix(y_test, predictions_class))"
   ]
  },
  {
   "cell_type": "code",
   "execution_count": 188,
   "metadata": {},
   "outputs": [
    {
     "name": "stdout",
     "output_type": "stream",
     "text": [
      "              precision    recall  f1-score   support\n",
      "\n",
      "           0       0.84      0.88      0.86     12500\n",
      "           1       0.87      0.83      0.85     12500\n",
      "\n",
      "    accuracy                           0.86     25000\n",
      "   macro avg       0.86      0.86      0.86     25000\n",
      "weighted avg       0.86      0.86      0.86     25000\n",
      "\n"
     ]
    }
   ],
   "source": [
    "# classification report\n",
    "\n",
    "print(classification_report(y_test, predictions_class))"
   ]
  },
  {
   "cell_type": "code",
   "execution_count": 189,
   "metadata": {},
   "outputs": [
    {
     "name": "stdout",
     "output_type": "stream",
     "text": [
      "0.85656\n"
     ]
    }
   ],
   "source": [
    "# accuracy score\n",
    "\n",
    "acc_stacked_bilstm = accuracy_score(y_test, predictions_class)\n",
    "print(acc_stacked_bilstm)"
   ]
  },
  {
   "cell_type": "markdown",
   "metadata": {},
   "source": [
    "Our stacked RNN model with 2 bidirectional LSTMs layer correctly classifies **85,7%** of our reviews as positive or negative. Let's plot the ROC curve and calculate the ROC AUC value of this model."
   ]
  },
  {
   "cell_type": "code",
   "execution_count": 190,
   "metadata": {},
   "outputs": [
    {
     "data": {
      "image/png": "[encoded data removed]",
      "text/plain": [
       "<Figure size 432x288 with 1 Axes>"
      ]
     },
     "metadata": {
      "needs_background": "light"
     },
     "output_type": "display_data"
    }
   ],
   "source": [
    "fpr, tpr, thresh = roc_curve(y_test, predictions)\n",
    "\n",
    "area_uc_stacked_bilstm = auc(fpr, tpr)\n",
    "\n",
    "plt.figure(figsize=(6,4))\n",
    "plt.plot(fpr, tpr)\n",
    "plt.xlabel('False positive rate (1 - specificity)')\n",
    "plt.ylabel('True positive rate (sensitivity)')\n",
    "plt.text(0.5, 0.5, 'AUC:{:.3f}'.format(area_uc_stacked_bilstm))\n",
    "plt.title('ROC Curve');"
   ]
  },
  {
   "cell_type": "markdown",
   "metadata": {},
   "source": [
    "Our stacked RNN model has a **ROC AUC** value of **0.930**. Let's store the accuracy and ROC AUC values for later."
   ]
  },
  {
   "cell_type": "code",
   "execution_count": 146,
   "metadata": {},
   "outputs": [
    {
     "data": {
      "text/plain": [
       "{'model': ['Dense',\n",
       "  'Convolutional',\n",
       "  'RNN - simple RNN layer',\n",
       "  'RNN - GRU layer',\n",
       "  'RNN - LSTM layer',\n",
       "  'RNN - bidirectional LSTM layer',\n",
       "  'RNN - 2 bidirectional LSTM layers'],\n",
       " 'accuracy': ['0.846', '0.891', '0.796', '0.842', '0.848', '0.868', '0.857'],\n",
       " 'roc_auc': ['0.928', '0.960', '0.864', '0.923', '0.929', '0.939', '0.930']}"
      ]
     },
     "execution_count": 146,
     "metadata": {},
     "output_type": "execute_result"
    }
   ],
   "source": [
    "model_scores['model'].append('RNN - 2 bidirectional LSTM layers')\n",
    "model_scores['accuracy'].append('{:.3f}'.format(acc_stacked_bilstm))\n",
    "model_scores['roc_auc'].append('{:.3f}'.format(area_uc_stacked_bilstm))\n",
    "\n",
    "model_scores"
   ]
  },
  {
   "cell_type": "markdown",
   "metadata": {},
   "source": [
    "This means we were not able to improve our previous result. We'll get back to this at a later stage.\n",
    "\n",
    "In **step 8**, and since our best result so far was obtained by our convolutional model, we'll try a different approach: a **bidirectional LSTM layer stacked on top of a convolutional layer**."
   ]
  },
  {
   "cell_type": "markdown",
   "metadata": {},
   "source": [
    "### Step 8"
   ]
  },
  {
   "cell_type": "markdown",
   "metadata": {},
   "source": [
    "#### 1. Perform necessary imports"
   ]
  },
  {
   "cell_type": "code",
   "execution_count": 191,
   "metadata": {},
   "outputs": [],
   "source": [
    "from keras.layers import MaxPooling1D "
   ]
  },
  {
   "cell_type": "markdown",
   "metadata": {},
   "source": [
    "#### 2. Design a stacked (convolutional layer + bi-LSTM layer) neural network "
   ]
  },
  {
   "cell_type": "code",
   "execution_count": 192,
   "metadata": {},
   "outputs": [],
   "source": [
    "# output directory name:\n",
    "output_dir = 'text_classification_NN/stacked_cnn_bi-lstm'\n",
    "\n",
    "# training:\n",
    "epochs = 4\n",
    "batch_size = 128\n",
    "\n",
    "# vector-space embedding:\n",
    "n_dim = 64 #number of dimensions of our word-vector space\n",
    "drop_embed = 0.2\n",
    "\n",
    "# convolutional layer architecture:\n",
    "n_conv = 256 #number of filters/kernels\n",
    "k_conv = 3 #kernel length\n",
    "\n",
    "# bi-LSTM layer architecture:\n",
    "n_lstm = 128 #number of neurons of LSTM layer\n",
    "drop_lstm = 0.2\n",
    "\n",
    "model = Sequential(name='model_stacked_cnn_bi-lstm')\n",
    "\n",
    "model.add(Embedding(n_unique_words, n_dim, input_length=max_review_length))\n",
    "model.add(SpatialDropout1D(drop_embed))\n",
    "\n",
    "model.add(Conv1D(n_conv, k_conv, activation='relu'))\n",
    "model.add(MaxPooling1D())\n",
    "\n",
    "model.add(Bidirectional(LSTM(n_lstm, dropout=drop_lstm)))\n",
    "\n",
    "model.add(Dense(1, activation='sigmoid')) #single output neuron; we use sigmoid because we only "
   ]
  },
  {
   "cell_type": "code",
   "execution_count": 193,
   "metadata": {},
   "outputs": [
    {
     "name": "stdout",
     "output_type": "stream",
     "text": [
      "Model: \"model_stacked_cnn_bi-lstm\"\n",
      "_________________________________________________________________\n",
      "Layer (type)                 Output Shape              Param #   \n",
      "=================================================================\n",
      "embedding_11 (Embedding)     (None, 200, 64)           640000    \n",
      "_________________________________________________________________\n",
      "spatial_dropout1d_10 (Spatia (None, 200, 64)           0         \n",
      "_________________________________________________________________\n",
      "conv1d_3 (Conv1D)            (None, 198, 256)          49408     \n",
      "_________________________________________________________________\n",
      "max_pooling1d_2 (MaxPooling1 (None, 99, 256)           0         \n",
      "_________________________________________________________________\n",
      "bidirectional_8 (Bidirection (None, 256)               394240    \n",
      "_________________________________________________________________\n",
      "dense_13 (Dense)             (None, 1)                 257       \n",
      "=================================================================\n",
      "Total params: 1,083,905\n",
      "Trainable params: 1,083,905\n",
      "Non-trainable params: 0\n",
      "_________________________________________________________________\n"
     ]
    }
   ],
   "source": [
    "model.summary()"
   ]
  },
  {
   "cell_type": "markdown",
   "metadata": {},
   "source": [
    "Our new stacked model is now ready to be compiled and trained."
   ]
  },
  {
   "cell_type": "markdown",
   "metadata": {},
   "source": [
    "#### 3. Compile model and create callback to save model parameters"
   ]
  },
  {
   "cell_type": "code",
   "execution_count": 194,
   "metadata": {},
   "outputs": [],
   "source": [
    "model.compile(loss='binary_crossentropy', optimizer='adam', metrics=['accuracy'])"
   ]
  },
  {
   "cell_type": "code",
   "execution_count": 195,
   "metadata": {},
   "outputs": [],
   "source": [
    "# callback to save model parameters after each epoch of training\n",
    "\n",
    "modelcheckpoint = ModelCheckpoint(filepath=output_dir+\"/weights.{epoch:02d}.hdf5\")"
   ]
  },
  {
   "cell_type": "code",
   "execution_count": 196,
   "metadata": {},
   "outputs": [],
   "source": [
    "# create folder if it does not exist\n",
    "\n",
    "if not os.path.exists(output_dir):\n",
    "    os.makedirs(output_dir)"
   ]
  },
  {
   "cell_type": "markdown",
   "metadata": {},
   "source": [
    "#### 4. Train model"
   ]
  },
  {
   "cell_type": "code",
   "execution_count": 47,
   "metadata": {},
   "outputs": [
    {
     "name": "stderr",
     "output_type": "stream",
     "text": [
      "C:\\Users\\joaon\\Anaconda3\\envs\\DL-illustrated\\lib\\site-packages\\tensorflow_core\\python\\framework\\indexed_slices.py:433: UserWarning: Converting sparse IndexedSlices to a dense Tensor of unknown shape. This may consume a large amount of memory.\n",
      "  \"Converting sparse IndexedSlices to a dense Tensor of unknown shape. \"\n"
     ]
    },
    {
     "name": "stdout",
     "output_type": "stream",
     "text": [
      "Train on 25000 samples, validate on 25000 samples\n",
      "Epoch 1/4\n",
      "25000/25000 [==============================] - 243s 10ms/step - loss: 0.4458 - accuracy: 0.7689 - val_loss: 0.3023 - val_accuracy: 0.8762\n",
      "Epoch 2/4\n",
      "25000/25000 [==============================] - 238s 10ms/step - loss: 0.2359 - accuracy: 0.9062 - val_loss: 0.2969 - val_accuracy: 0.8778\n",
      "Epoch 3/4\n",
      "25000/25000 [==============================] - 231s 9ms/step - loss: 0.1819 - accuracy: 0.9325 - val_loss: 0.3343 - val_accuracy: 0.8730\n",
      "Epoch 4/4\n",
      "25000/25000 [==============================] - 232s 9ms/step - loss: 0.1331 - accuracy: 0.9537 - val_loss: 0.3480 - val_accuracy: 0.8675\n"
     ]
    },
    {
     "data": {
      "text/plain": [
       "<keras.callbacks.callbacks.History at 0x2915a6f8b08>"
      ]
     },
     "execution_count": 47,
     "metadata": {},
     "output_type": "execute_result"
    }
   ],
   "source": [
    "model.fit(x_train, y_train, \n",
    "          batch_size=batch_size, epochs=epochs, verbose=1, \n",
    "          validation_data=(x_test, y_test), \n",
    "          callbacks=[modelcheckpoint])"
   ]
  },
  {
   "cell_type": "markdown",
   "metadata": {},
   "source": [
    "The **highest validation accuracy** and **lowest validation loss** is achieved in **epoch 2**."
   ]
  },
  {
   "cell_type": "markdown",
   "metadata": {},
   "source": [
    "#### 5. Make predictions with the test set"
   ]
  },
  {
   "cell_type": "code",
   "execution_count": 197,
   "metadata": {},
   "outputs": [
    {
     "name": "stderr",
     "output_type": "stream",
     "text": [
      "C:\\Users\\joaon\\Anaconda3\\envs\\DL-illustrated\\lib\\site-packages\\tensorflow_core\\python\\framework\\indexed_slices.py:433: UserWarning: Converting sparse IndexedSlices to a dense Tensor of unknown shape. This may consume a large amount of memory.\n",
      "  \"Converting sparse IndexedSlices to a dense Tensor of unknown shape. \"\n"
     ]
    }
   ],
   "source": [
    "# load parameters of epoch 2\n",
    "\n",
    "output_dir = 'text_classification_NN/stacked_cnn_bi-lstm'\n",
    "model = load_model(output_dir+\"/weights.02.hdf5\")"
   ]
  },
  {
   "cell_type": "code",
   "execution_count": 198,
   "metadata": {},
   "outputs": [
    {
     "data": {
      "text/plain": [
       "array([[0.08117866],\n",
       "       [0.97127086],\n",
       "       [0.9189605 ]], dtype=float32)"
      ]
     },
     "execution_count": 198,
     "metadata": {},
     "output_type": "execute_result"
    }
   ],
   "source": [
    "predictions = model.predict(x_test)\n",
    "predictions[0:3]"
   ]
  },
  {
   "cell_type": "code",
   "execution_count": 199,
   "metadata": {
    "scrolled": true
   },
   "outputs": [
    {
     "data": {
      "text/plain": [
       "array([[0],\n",
       "       [1],\n",
       "       [1]])"
      ]
     },
     "execution_count": 199,
     "metadata": {},
     "output_type": "execute_result"
    }
   ],
   "source": [
    "predictions_class = model.predict_classes(x_test)\n",
    "predictions_class[0:3]"
   ]
  },
  {
   "cell_type": "markdown",
   "metadata": {},
   "source": [
    "#### 6. Evaluate model"
   ]
  },
  {
   "cell_type": "code",
   "execution_count": 200,
   "metadata": {},
   "outputs": [
    {
     "name": "stdout",
     "output_type": "stream",
     "text": [
      "[[11154  1346]\n",
      " [ 1710 10790]]\n"
     ]
    }
   ],
   "source": [
    "# confusion matrix\n",
    "\n",
    "print(confusion_matrix(y_test, predictions_class))"
   ]
  },
  {
   "cell_type": "code",
   "execution_count": 201,
   "metadata": {},
   "outputs": [
    {
     "name": "stdout",
     "output_type": "stream",
     "text": [
      "              precision    recall  f1-score   support\n",
      "\n",
      "           0       0.87      0.89      0.88     12500\n",
      "           1       0.89      0.86      0.88     12500\n",
      "\n",
      "    accuracy                           0.88     25000\n",
      "   macro avg       0.88      0.88      0.88     25000\n",
      "weighted avg       0.88      0.88      0.88     25000\n",
      "\n"
     ]
    }
   ],
   "source": [
    "# classification report\n",
    "\n",
    "print(classification_report(y_test, predictions_class))"
   ]
  },
  {
   "cell_type": "code",
   "execution_count": 202,
   "metadata": {},
   "outputs": [
    {
     "name": "stdout",
     "output_type": "stream",
     "text": [
      "0.87776\n"
     ]
    }
   ],
   "source": [
    "# accuracy score\n",
    "\n",
    "acc_stacked_cnn_bilstm = accuracy_score(y_test, predictions_class)\n",
    "print(acc_stacked_cnn_bilstm)"
   ]
  },
  {
   "cell_type": "markdown",
   "metadata": {},
   "source": [
    "Our model with one bidirectional LSTM layer stacked on top of a convolutional layer correctly classifies **87,8%** of our reviews as positive or negative. Let's plot the ROC curve and calculate the ROC AUC value of this model."
   ]
  },
  {
   "cell_type": "code",
   "execution_count": 203,
   "metadata": {},
   "outputs": [
    {
     "data": {
      "image/png": "[encoded data removed]",
      "text/plain": [
       "<Figure size 432x288 with 1 Axes>"
      ]
     },
     "metadata": {
      "needs_background": "light"
     },
     "output_type": "display_data"
    }
   ],
   "source": [
    "fpr, tpr, thresh = roc_curve(y_test, predictions)\n",
    "\n",
    "area_uc_stacked_cnn_bilstm = auc(fpr, tpr)\n",
    "\n",
    "plt.figure(figsize=(6,4))\n",
    "plt.plot(fpr, tpr)\n",
    "plt.xlabel('False positive rate (1 - specificity)')\n",
    "plt.ylabel('True positive rate (sensitivity)')\n",
    "plt.text(0.5, 0.5, 'AUC:{:.3f}'.format(area_uc_stacked_cnn_bilstm))\n",
    "plt.title('ROC Curve');"
   ]
  },
  {
   "cell_type": "markdown",
   "metadata": {},
   "source": [
    "Our model has a **ROC AUC** value of **0.949**. Let's store the accuracy and ROC AUC values for later."
   ]
  },
  {
   "cell_type": "code",
   "execution_count": 160,
   "metadata": {},
   "outputs": [
    {
     "data": {
      "text/plain": [
       "{'model': ['Dense',\n",
       "  'Convolutional',\n",
       "  'RNN - simple RNN layer',\n",
       "  'RNN - GRU layer',\n",
       "  'RNN - LSTM layer',\n",
       "  'RNN - bidirectional LSTM layer',\n",
       "  'RNN - 2 bidirectional LSTM layers',\n",
       "  'Convolutional layer + bidirectional LSTM layer'],\n",
       " 'accuracy': ['0.846',\n",
       "  '0.891',\n",
       "  '0.796',\n",
       "  '0.842',\n",
       "  '0.848',\n",
       "  '0.868',\n",
       "  '0.857',\n",
       "  '0.878'],\n",
       " 'roc_auc': ['0.928',\n",
       "  '0.960',\n",
       "  '0.864',\n",
       "  '0.923',\n",
       "  '0.929',\n",
       "  '0.939',\n",
       "  '0.930',\n",
       "  '0.949']}"
      ]
     },
     "execution_count": 160,
     "metadata": {},
     "output_type": "execute_result"
    }
   ],
   "source": [
    "model_scores['model'].append('Convolutional layer + bidirectional LSTM layer')\n",
    "model_scores['accuracy'].append('{:.3f}'.format(acc_stacked_cnn_bilstm))\n",
    "model_scores['roc_auc'].append('{:.3f}'.format(area_uc_stacked_cnn_bilstm))\n",
    "\n",
    "model_scores"
   ]
  },
  {
   "cell_type": "markdown",
   "metadata": {},
   "source": [
    "This is an interesting result in terms of performance, but our CNN model is still the best one so far.\n",
    "\n",
    "In a last effort to improve our results, we will take advantage of the Keras functional API and design a **non-sequential architecture** - this will be our **step 9**. "
   ]
  },
  {
   "cell_type": "markdown",
   "metadata": {},
   "source": [
    "### Step 9"
   ]
  },
  {
   "cell_type": "markdown",
   "metadata": {},
   "source": [
    "#### 1. Perform necessary imports"
   ]
  },
  {
   "cell_type": "code",
   "execution_count": 204,
   "metadata": {},
   "outputs": [],
   "source": [
    "from keras.models import Model\n",
    "from keras.layers import Input, concatenate"
   ]
  },
  {
   "cell_type": "markdown",
   "metadata": {},
   "source": [
    "#### 2. Load data"
   ]
  },
  {
   "cell_type": "code",
   "execution_count": 205,
   "metadata": {},
   "outputs": [],
   "source": [
    "# considering the 5000 most frequent words as in our first step\n",
    "# and removing the skip_top parameter\n",
    "\n",
    "n_unique_words = 5000 #number of most frequent words to consider\n",
    "\n",
    "(x_train, y_train), (x_test, y_test) = imdb.load_data(num_words=n_unique_words)"
   ]
  },
  {
   "cell_type": "markdown",
   "metadata": {},
   "source": [
    "#### 3. Preprocess data"
   ]
  },
  {
   "cell_type": "code",
   "execution_count": 206,
   "metadata": {},
   "outputs": [],
   "source": [
    "max_review_length = 400 #maximum review length of 400 words\n",
    "pad_type = 'pre' #add padding characters to the start of every review < 400 words\n",
    "trunc_type = 'pre' #remove words from the beginning of every review > 400 words\n",
    "\n",
    "x_train = pad_sequences(x_train, maxlen=max_review_length, \n",
    "                        padding=pad_type, truncating=trunc_type, value=0)\n",
    "\n",
    "x_test = pad_sequences(x_test, maxlen=max_review_length,\n",
    "                       padding=pad_type, truncating=trunc_type, value=0)"
   ]
  },
  {
   "cell_type": "markdown",
   "metadata": {},
   "source": [
    "#### 4. Design a multi-convolutional neural network "
   ]
  },
  {
   "cell_type": "code",
   "execution_count": 207,
   "metadata": {},
   "outputs": [],
   "source": [
    "# output directory name:\n",
    "output_dir = 'text_classification_NN/multi-conv'\n",
    "\n",
    "# training:\n",
    "epochs = 4\n",
    "batch_size = 128\n",
    "\n",
    "# vector-space embedding:\n",
    "n_dim = 64 #number of dimensions of our word-vector space\n",
    "drop_embed = 0.2\n",
    "\n",
    "# convolutional layer architecture (3 parallel layers):\n",
    "n_conv_1 = n_conv_2 = n_conv_3 = 256 #number of filters/kernels\n",
    "k_conv_1 = 2 #kernel length\n",
    "k_conv_2 = 3 #kernel length\n",
    "k_conv_3 = 4 #kernel length\n",
    "\n",
    "# dense layer architecture: \n",
    "n_dense = 256\n",
    "dropout = 0.2\n",
    "\n",
    "# input:\n",
    "input_layer = Input(shape=(max_review_length, ), dtype='int16', name='input') \n",
    "\n",
    "# embedding: \n",
    "embedding_layer = Embedding(n_unique_words, n_dim, name='embedding')(input_layer)\n",
    "drop_embed_layer = SpatialDropout1D(drop_embed, name='drop_embed')(embedding_layer)\n",
    "\n",
    "# 3 parallel convolutional streams: \n",
    "conv_1 = Conv1D(n_conv_1, k_conv_1, activation='relu', name='conv_1')(drop_embed_layer)\n",
    "maxp_1 = GlobalMaxPooling1D(name='maxp_1')(conv_1)\n",
    "\n",
    "conv_2 = Conv1D(n_conv_2, k_conv_2, activation='relu', name='conv_2')(drop_embed_layer)\n",
    "maxp_2 = GlobalMaxPooling1D(name='maxp_2')(conv_2)\n",
    "\n",
    "conv_3 = Conv1D(n_conv_3, k_conv_3, activation='relu', name='conv_3')(drop_embed_layer)\n",
    "maxp_3 = GlobalMaxPooling1D(name='maxp_3')(conv_3)\n",
    "\n",
    "# concatenate the activations from the 3 streams: \n",
    "concat = concatenate([maxp_1, maxp_2, maxp_3])\n",
    "\n",
    "# hidden dense layer\n",
    "dense_layer = Dense(n_dense, activation='relu', name='dense')(concat)\n",
    "drop_dense_layer = Dropout(dropout, name='drop_dense')(dense_layer)\n",
    "\n",
    "# sigmoid output layer: \n",
    "result = Dense(1, activation='sigmoid', name='output')(drop_dense_layer)"
   ]
  },
  {
   "cell_type": "markdown",
   "metadata": {},
   "source": [
    "#### 5. Create model"
   ]
  },
  {
   "cell_type": "code",
   "execution_count": 208,
   "metadata": {},
   "outputs": [],
   "source": [
    "model = Model(input_layer, result, name='model_multi-conv')"
   ]
  },
  {
   "cell_type": "code",
   "execution_count": 209,
   "metadata": {},
   "outputs": [
    {
     "name": "stdout",
     "output_type": "stream",
     "text": [
      "Model: \"model_multi-conv\"\n",
      "__________________________________________________________________________________________________\n",
      "Layer (type)                    Output Shape         Param #     Connected to                     \n",
      "==================================================================================================\n",
      "input (InputLayer)              (None, 400)          0                                            \n",
      "__________________________________________________________________________________________________\n",
      "embedding (Embedding)           (None, 400, 64)      320000      input[0][0]                      \n",
      "__________________________________________________________________________________________________\n",
      "drop_embed (SpatialDropout1D)   (None, 400, 64)      0           embedding[0][0]                  \n",
      "__________________________________________________________________________________________________\n",
      "conv_1 (Conv1D)                 (None, 399, 256)     33024       drop_embed[0][0]                 \n",
      "__________________________________________________________________________________________________\n",
      "conv_2 (Conv1D)                 (None, 398, 256)     49408       drop_embed[0][0]                 \n",
      "__________________________________________________________________________________________________\n",
      "conv_3 (Conv1D)                 (None, 397, 256)     65792       drop_embed[0][0]                 \n",
      "__________________________________________________________________________________________________\n",
      "maxp_1 (GlobalMaxPooling1D)     (None, 256)          0           conv_1[0][0]                     \n",
      "__________________________________________________________________________________________________\n",
      "maxp_2 (GlobalMaxPooling1D)     (None, 256)          0           conv_2[0][0]                     \n",
      "__________________________________________________________________________________________________\n",
      "maxp_3 (GlobalMaxPooling1D)     (None, 256)          0           conv_3[0][0]                     \n",
      "__________________________________________________________________________________________________\n",
      "concatenate_2 (Concatenate)     (None, 768)          0           maxp_1[0][0]                     \n",
      "                                                                 maxp_2[0][0]                     \n",
      "                                                                 maxp_3[0][0]                     \n",
      "__________________________________________________________________________________________________\n",
      "dense (Dense)                   (None, 256)          196864      concatenate_2[0][0]              \n",
      "__________________________________________________________________________________________________\n",
      "drop_dense (Dropout)            (None, 256)          0           dense[0][0]                      \n",
      "__________________________________________________________________________________________________\n",
      "output (Dense)                  (None, 1)            257         drop_dense[0][0]                 \n",
      "==================================================================================================\n",
      "Total params: 665,345\n",
      "Trainable params: 665,345\n",
      "Non-trainable params: 0\n",
      "__________________________________________________________________________________________________\n"
     ]
    }
   ],
   "source": [
    "model.summary()"
   ]
  },
  {
   "cell_type": "markdown",
   "metadata": {},
   "source": [
    "Our new model is now ready to be compiled and trained."
   ]
  },
  {
   "cell_type": "markdown",
   "metadata": {},
   "source": [
    "#### 6. Compile model and create callback to save model parameters"
   ]
  },
  {
   "cell_type": "code",
   "execution_count": 210,
   "metadata": {},
   "outputs": [],
   "source": [
    "model.compile(loss='binary_crossentropy', optimizer='adam', metrics=['accuracy'])"
   ]
  },
  {
   "cell_type": "code",
   "execution_count": 211,
   "metadata": {},
   "outputs": [],
   "source": [
    "# callback to save model parameters after each epoch of training\n",
    "\n",
    "modelcheckpoint = ModelCheckpoint(filepath=output_dir+\"/weights.{epoch:02d}.hdf5\")"
   ]
  },
  {
   "cell_type": "code",
   "execution_count": 212,
   "metadata": {},
   "outputs": [],
   "source": [
    "# create folder if it does not exist\n",
    "\n",
    "if not os.path.exists(output_dir):\n",
    "    os.makedirs(output_dir)"
   ]
  },
  {
   "cell_type": "markdown",
   "metadata": {},
   "source": [
    "#### 7. Train model"
   ]
  },
  {
   "cell_type": "code",
   "execution_count": 69,
   "metadata": {},
   "outputs": [
    {
     "name": "stderr",
     "output_type": "stream",
     "text": [
      "C:\\Users\\joaon\\Anaconda3\\envs\\DL-illustrated\\lib\\site-packages\\tensorflow_core\\python\\framework\\indexed_slices.py:433: UserWarning: Converting sparse IndexedSlices to a dense Tensor of unknown shape. This may consume a large amount of memory.\n",
      "  \"Converting sparse IndexedSlices to a dense Tensor of unknown shape. \"\n"
     ]
    },
    {
     "name": "stdout",
     "output_type": "stream",
     "text": [
      "Train on 25000 samples, validate on 25000 samples\n",
      "Epoch 1/4\n",
      "25000/25000 [==============================] - 211s 8ms/step - loss: 0.4709 - accuracy: 0.7543 - val_loss: 0.2857 - val_accuracy: 0.8804\n",
      "Epoch 2/4\n",
      "25000/25000 [==============================] - 209s 8ms/step - loss: 0.2372 - accuracy: 0.9057 - val_loss: 0.2559 - val_accuracy: 0.8949\n",
      "Epoch 3/4\n",
      "25000/25000 [==============================] - 216s 9ms/step - loss: 0.1670 - accuracy: 0.9374 - val_loss: 0.2648 - val_accuracy: 0.8940\n",
      "Epoch 4/4\n",
      "25000/25000 [==============================] - 207s 8ms/step - loss: 0.1156 - accuracy: 0.9602 - val_loss: 0.2819 - val_accuracy: 0.8959\n"
     ]
    },
    {
     "data": {
      "text/plain": [
       "<keras.callbacks.callbacks.History at 0x29114d33c08>"
      ]
     },
     "execution_count": 69,
     "metadata": {},
     "output_type": "execute_result"
    }
   ],
   "source": [
    "model.fit(x_train, y_train, \n",
    "          batch_size=batch_size, epochs=epochs, verbose=1, \n",
    "          validation_data=(x_test, y_test), \n",
    "          callbacks=[modelcheckpoint])"
   ]
  },
  {
   "cell_type": "markdown",
   "metadata": {},
   "source": [
    "The **highest validation accuracy** is achieved in **epoch 4** and the **lowest validation loss** is achieved in **epoch 2**."
   ]
  },
  {
   "cell_type": "markdown",
   "metadata": {},
   "source": [
    "#### 8. Make predictions with the test set"
   ]
  },
  {
   "cell_type": "code",
   "execution_count": 213,
   "metadata": {},
   "outputs": [
    {
     "name": "stderr",
     "output_type": "stream",
     "text": [
      "C:\\Users\\joaon\\Anaconda3\\envs\\DL-illustrated\\lib\\site-packages\\tensorflow_core\\python\\framework\\indexed_slices.py:433: UserWarning: Converting sparse IndexedSlices to a dense Tensor of unknown shape. This may consume a large amount of memory.\n",
      "  \"Converting sparse IndexedSlices to a dense Tensor of unknown shape. \"\n"
     ]
    }
   ],
   "source": [
    "# load parameters of epoch 2\n",
    "\n",
    "output_dir = 'text_classification_NN/multi-conv'\n",
    "model = load_model(output_dir+\"/weights.02.hdf5\")"
   ]
  },
  {
   "cell_type": "code",
   "execution_count": 214,
   "metadata": {},
   "outputs": [
    {
     "data": {
      "text/plain": [
       "array([[0.02288392],\n",
       "       [0.996283  ],\n",
       "       [0.833138  ]], dtype=float32)"
      ]
     },
     "execution_count": 214,
     "metadata": {},
     "output_type": "execute_result"
    }
   ],
   "source": [
    "predictions = model.predict(x_test)\n",
    "predictions[0:3]"
   ]
  },
  {
   "cell_type": "code",
   "execution_count": 215,
   "metadata": {
    "scrolled": true
   },
   "outputs": [
    {
     "data": {
      "text/plain": [
       "array([[0],\n",
       "       [1],\n",
       "       [1]])"
      ]
     },
     "execution_count": 215,
     "metadata": {},
     "output_type": "execute_result"
    }
   ],
   "source": [
    "# since our model was defined using the functional API, there's no predict_classes attribute\n",
    "\n",
    "predictions_class = np.rint(predictions).astype('int')\n",
    "predictions_class[0:3]"
   ]
  },
  {
   "cell_type": "markdown",
   "metadata": {},
   "source": [
    "#### 9. Evaluate model"
   ]
  },
  {
   "cell_type": "code",
   "execution_count": 216,
   "metadata": {},
   "outputs": [
    {
     "name": "stdout",
     "output_type": "stream",
     "text": [
      "[[10888  1612]\n",
      " [ 1015 11485]]\n"
     ]
    }
   ],
   "source": [
    "# confusion matrix\n",
    "\n",
    "print(confusion_matrix(y_test, predictions_class))"
   ]
  },
  {
   "cell_type": "code",
   "execution_count": 217,
   "metadata": {},
   "outputs": [
    {
     "name": "stdout",
     "output_type": "stream",
     "text": [
      "              precision    recall  f1-score   support\n",
      "\n",
      "           0       0.91      0.87      0.89     12500\n",
      "           1       0.88      0.92      0.90     12500\n",
      "\n",
      "    accuracy                           0.89     25000\n",
      "   macro avg       0.90      0.89      0.89     25000\n",
      "weighted avg       0.90      0.89      0.89     25000\n",
      "\n"
     ]
    }
   ],
   "source": [
    "# classification report\n",
    "\n",
    "print(classification_report(y_test, predictions_class))"
   ]
  },
  {
   "cell_type": "code",
   "execution_count": 218,
   "metadata": {},
   "outputs": [
    {
     "name": "stdout",
     "output_type": "stream",
     "text": [
      "0.89492\n"
     ]
    }
   ],
   "source": [
    "# accuracy score\n",
    "\n",
    "acc_multi_conv = accuracy_score(y_test, predictions_class)\n",
    "print(acc_multi_conv)"
   ]
  },
  {
   "cell_type": "markdown",
   "metadata": {},
   "source": [
    "Our model with three parallel convolutional streams correctly classifies **89,5%** of our reviews as positive or negative. Let's plot the ROC curve and calculate the ROC AUC value of this model."
   ]
  },
  {
   "cell_type": "code",
   "execution_count": 219,
   "metadata": {},
   "outputs": [
    {
     "data": {
      "image/png": "[encoded data removed]",
      "text/plain": [
       "<Figure size 432x288 with 1 Axes>"
      ]
     },
     "metadata": {
      "needs_background": "light"
     },
     "output_type": "display_data"
    }
   ],
   "source": [
    "fpr, tpr, thresh = roc_curve(y_test, predictions)\n",
    "\n",
    "area_uc_multi_conv = auc(fpr, tpr)\n",
    "\n",
    "plt.figure(figsize=(6,4))\n",
    "plt.plot(fpr, tpr)\n",
    "plt.xlabel('False positive rate (1 - specificity)')\n",
    "plt.ylabel('True positive rate (sensitivity)')\n",
    "plt.text(0.5, 0.5, 'AUC:{:.3f}'.format(area_uc_multi_conv))\n",
    "plt.title('ROC Curve');"
   ]
  },
  {
   "cell_type": "markdown",
   "metadata": {},
   "source": [
    "Our model has a **ROC AUC** value of **0.961**. Let's store the accuracy and ROC AUC values for later."
   ]
  },
  {
   "cell_type": "code",
   "execution_count": 220,
   "metadata": {},
   "outputs": [
    {
     "data": {
      "text/plain": [
       "{'model': ['Dense',\n",
       "  'Convolutional',\n",
       "  'RNN - simple RNN layer',\n",
       "  'RNN - GRU layer',\n",
       "  'RNN - LSTM layer',\n",
       "  'RNN - bidirectional LSTM layer',\n",
       "  'RNN - 2 bidirectional LSTM layers',\n",
       "  'Convolutional layer + bidirectional LSTM layer',\n",
       "  'Multi-convolutional'],\n",
       " 'accuracy': ['0.846',\n",
       "  '0.891',\n",
       "  '0.796',\n",
       "  '0.842',\n",
       "  '0.848',\n",
       "  '0.868',\n",
       "  '0.857',\n",
       "  '0.878',\n",
       "  '0.895'],\n",
       " 'roc_auc': ['0.928',\n",
       "  '0.960',\n",
       "  '0.864',\n",
       "  '0.923',\n",
       "  '0.929',\n",
       "  '0.939',\n",
       "  '0.930',\n",
       "  '0.949',\n",
       "  '0.961']}"
      ]
     },
     "execution_count": 220,
     "metadata": {},
     "output_type": "execute_result"
    }
   ],
   "source": [
    "model_scores['model'].append('Multi-convolutional')\n",
    "model_scores['accuracy'].append('{:.3f}'.format(acc_multi_conv))\n",
    "model_scores['roc_auc'].append('{:.3f}'.format(area_uc_multi_conv))\n",
    "\n",
    "model_scores"
   ]
  },
  {
   "cell_type": "markdown",
   "metadata": {},
   "source": [
    "This is our best result so far, even if only by a slight margin.\n",
    "\n",
    "In **step 10** we'll briefly discuss these 9 models and **compare their performance**."
   ]
  },
  {
   "cell_type": "markdown",
   "metadata": {},
   "source": [
    "### Step 10"
   ]
  },
  {
   "cell_type": "markdown",
   "metadata": {},
   "source": [
    "#### 1. Create dataframe with accuracy and ROC AUC values"
   ]
  },
  {
   "cell_type": "code",
   "execution_count": 221,
   "metadata": {},
   "outputs": [],
   "source": [
    "df_models = pd.DataFrame(model_scores, columns = ['accuracy', 'roc_auc'], \n",
    "                         index = model_scores['model'])\n",
    "\n",
    "df_models.columns = ['Accuracy', 'ROC AUC']"
   ]
  },
  {
   "cell_type": "code",
   "execution_count": 222,
   "metadata": {},
   "outputs": [
    {
     "data": {
      "text/html": [
       "<div>\n",
       "<style scoped>\n",
       "    .dataframe tbody tr th:only-of-type {\n",
       "        vertical-align: middle;\n",
       "    }\n",
       "\n",
       "    .dataframe tbody tr th {\n",
       "        vertical-align: top;\n",
       "    }\n",
       "\n",
       "    .dataframe thead th {\n",
       "        text-align: right;\n",
       "    }\n",
       "</style>\n",
       "<table border=\"1\" class=\"dataframe\">\n",
       "  <thead>\n",
       "    <tr style=\"text-align: right;\">\n",
       "      <th></th>\n",
       "      <th>Accuracy</th>\n",
       "      <th>ROC AUC</th>\n",
       "    </tr>\n",
       "  </thead>\n",
       "  <tbody>\n",
       "    <tr>\n",
       "      <th>Dense</th>\n",
       "      <td>0.846</td>\n",
       "      <td>0.928</td>\n",
       "    </tr>\n",
       "    <tr>\n",
       "      <th>Convolutional</th>\n",
       "      <td>0.891</td>\n",
       "      <td>0.960</td>\n",
       "    </tr>\n",
       "    <tr>\n",
       "      <th>RNN - simple RNN layer</th>\n",
       "      <td>0.796</td>\n",
       "      <td>0.864</td>\n",
       "    </tr>\n",
       "    <tr>\n",
       "      <th>RNN - GRU layer</th>\n",
       "      <td>0.842</td>\n",
       "      <td>0.923</td>\n",
       "    </tr>\n",
       "    <tr>\n",
       "      <th>RNN - LSTM layer</th>\n",
       "      <td>0.848</td>\n",
       "      <td>0.929</td>\n",
       "    </tr>\n",
       "    <tr>\n",
       "      <th>RNN - bidirectional LSTM layer</th>\n",
       "      <td>0.868</td>\n",
       "      <td>0.939</td>\n",
       "    </tr>\n",
       "    <tr>\n",
       "      <th>RNN - 2 bidirectional LSTM layers</th>\n",
       "      <td>0.857</td>\n",
       "      <td>0.930</td>\n",
       "    </tr>\n",
       "    <tr>\n",
       "      <th>Convolutional layer + bidirectional LSTM layer</th>\n",
       "      <td>0.878</td>\n",
       "      <td>0.949</td>\n",
       "    </tr>\n",
       "    <tr>\n",
       "      <th>Multi-convolutional</th>\n",
       "      <td>0.895</td>\n",
       "      <td>0.961</td>\n",
       "    </tr>\n",
       "  </tbody>\n",
       "</table>\n",
       "</div>"
      ],
      "text/plain": [
       "                                               Accuracy ROC AUC\n",
       "Dense                                             0.846   0.928\n",
       "Convolutional                                     0.891   0.960\n",
       "RNN - simple RNN layer                            0.796   0.864\n",
       "RNN - GRU layer                                   0.842   0.923\n",
       "RNN - LSTM layer                                  0.848   0.929\n",
       "RNN - bidirectional LSTM layer                    0.868   0.939\n",
       "RNN - 2 bidirectional LSTM layers                 0.857   0.930\n",
       "Convolutional layer + bidirectional LSTM layer    0.878   0.949\n",
       "Multi-convolutional                               0.895   0.961"
      ]
     },
     "execution_count": 222,
     "metadata": {},
     "output_type": "execute_result"
    }
   ],
   "source": [
    "df_models"
   ]
  },
  {
   "cell_type": "markdown",
   "metadata": {},
   "source": [
    "Our **best result** is achieved by the **Multi-convolutional classifier**, both in terms of ROC AUC and accuracy, followed closely by our **Convolutional classifier**.\n",
    "\n",
    "As for our **recurrent models**, they all show some signs of **overfitting**. With a **better hyperparameter tuning**, we might achieve better results. Nonetheless, the relatively small dataset that we've used may also not be best use case for this kind of models."
   ]
  },
  {
   "cell_type": "markdown",
   "metadata": {},
   "source": [
    "#### 2. Top 5 models"
   ]
  },
  {
   "cell_type": "markdown",
   "metadata": {},
   "source": [
    "Ordering our models by their ROC AUC value, here's our **top 5**:"
   ]
  },
  {
   "cell_type": "code",
   "execution_count": 227,
   "metadata": {},
   "outputs": [
    {
     "data": {
      "text/html": [
       "<div>\n",
       "<style scoped>\n",
       "    .dataframe tbody tr th:only-of-type {\n",
       "        vertical-align: middle;\n",
       "    }\n",
       "\n",
       "    .dataframe tbody tr th {\n",
       "        vertical-align: top;\n",
       "    }\n",
       "\n",
       "    .dataframe thead th {\n",
       "        text-align: right;\n",
       "    }\n",
       "</style>\n",
       "<table border=\"1\" class=\"dataframe\">\n",
       "  <thead>\n",
       "    <tr style=\"text-align: right;\">\n",
       "      <th></th>\n",
       "      <th>Accuracy</th>\n",
       "      <th>ROC AUC</th>\n",
       "    </tr>\n",
       "  </thead>\n",
       "  <tbody>\n",
       "    <tr>\n",
       "      <th>Multi-convolutional</th>\n",
       "      <td>0.895</td>\n",
       "      <td>0.961</td>\n",
       "    </tr>\n",
       "    <tr>\n",
       "      <th>Convolutional</th>\n",
       "      <td>0.891</td>\n",
       "      <td>0.960</td>\n",
       "    </tr>\n",
       "    <tr>\n",
       "      <th>Convolutional layer + bidirectional LSTM layer</th>\n",
       "      <td>0.878</td>\n",
       "      <td>0.949</td>\n",
       "    </tr>\n",
       "    <tr>\n",
       "      <th>RNN - bidirectional LSTM layer</th>\n",
       "      <td>0.868</td>\n",
       "      <td>0.939</td>\n",
       "    </tr>\n",
       "    <tr>\n",
       "      <th>RNN - 2 bidirectional LSTM layers</th>\n",
       "      <td>0.857</td>\n",
       "      <td>0.930</td>\n",
       "    </tr>\n",
       "  </tbody>\n",
       "</table>\n",
       "</div>"
      ],
      "text/plain": [
       "                                               Accuracy ROC AUC\n",
       "Multi-convolutional                               0.895   0.961\n",
       "Convolutional                                     0.891   0.960\n",
       "Convolutional layer + bidirectional LSTM layer    0.878   0.949\n",
       "RNN - bidirectional LSTM layer                    0.868   0.939\n",
       "RNN - 2 bidirectional LSTM layers                 0.857   0.930"
      ]
     },
     "execution_count": 227,
     "metadata": {},
     "output_type": "execute_result"
    }
   ],
   "source": [
    "df_models.sort_values(by=['ROC AUC'], ascending=False).head()"
   ]
  }
 ],
 "metadata": {
  "kernelspec": {
   "display_name": "Python 3",
   "language": "python",
   "name": "python3"
  },
  "language_info": {
   "codemirror_mode": {
    "name": "ipython",
    "version": 3
   },
   "file_extension": ".py",
   "mimetype": "text/x-python",
   "name": "python",
   "nbconvert_exporter": "python",
   "pygments_lexer": "ipython3",
   "version": "3.7.6"
  }
 },
 "nbformat": 4,
 "nbformat_minor": 4
}
