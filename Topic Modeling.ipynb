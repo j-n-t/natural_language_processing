{
 "cells": [
  {
   "cell_type": "markdown",
   "metadata": {},
   "source": [
    "# Topic Modeling"
   ]
  },
  {
   "cell_type": "markdown",
   "metadata": {},
   "source": [
    "The goal of this project is to **assign over 400 000 quora questions to different categories**, or topics.\n",
    "\n",
    "For that, we'll be using three different methods:\n",
    "* **Latent Dirichlet Allocation (LDA)**\n",
    "* **Latent Semantic Analysis (LSA)**\n",
    "* **Non-Negative Matrix Factorization (NMF)**"
   ]
  },
  {
   "cell_type": "markdown",
   "metadata": {},
   "source": [
    "#### 1. Perform initial imports"
   ]
  },
  {
   "cell_type": "code",
   "execution_count": 1,
   "metadata": {},
   "outputs": [],
   "source": [
    "import pandas as pd"
   ]
  },
  {
   "cell_type": "markdown",
   "metadata": {},
   "source": [
    "#### 2. Load data"
   ]
  },
  {
   "cell_type": "code",
   "execution_count": 2,
   "metadata": {},
   "outputs": [],
   "source": [
    "quora = pd.read_csv(\"data/quora_questions.csv\")"
   ]
  },
  {
   "cell_type": "markdown",
   "metadata": {},
   "source": [
    "#### 3. Check the dataframe"
   ]
  },
  {
   "cell_type": "code",
   "execution_count": 3,
   "metadata": {},
   "outputs": [
    {
     "data": {
      "text/html": [
       "<div>\n",
       "<style scoped>\n",
       "    .dataframe tbody tr th:only-of-type {\n",
       "        vertical-align: middle;\n",
       "    }\n",
       "\n",
       "    .dataframe tbody tr th {\n",
       "        vertical-align: top;\n",
       "    }\n",
       "\n",
       "    .dataframe thead th {\n",
       "        text-align: right;\n",
       "    }\n",
       "</style>\n",
       "<table border=\"1\" class=\"dataframe\">\n",
       "  <thead>\n",
       "    <tr style=\"text-align: right;\">\n",
       "      <th></th>\n",
       "      <th>Question</th>\n",
       "    </tr>\n",
       "  </thead>\n",
       "  <tbody>\n",
       "    <tr>\n",
       "      <td>0</td>\n",
       "      <td>What is the step by step guide to invest in sh...</td>\n",
       "    </tr>\n",
       "    <tr>\n",
       "      <td>1</td>\n",
       "      <td>What is the story of Kohinoor (Koh-i-Noor) Dia...</td>\n",
       "    </tr>\n",
       "    <tr>\n",
       "      <td>2</td>\n",
       "      <td>How can I increase the speed of my internet co...</td>\n",
       "    </tr>\n",
       "    <tr>\n",
       "      <td>3</td>\n",
       "      <td>Why am I mentally very lonely? How can I solve...</td>\n",
       "    </tr>\n",
       "    <tr>\n",
       "      <td>4</td>\n",
       "      <td>Which one dissolve in water quikly sugar, salt...</td>\n",
       "    </tr>\n",
       "  </tbody>\n",
       "</table>\n",
       "</div>"
      ],
      "text/plain": [
       "                                            Question\n",
       "0  What is the step by step guide to invest in sh...\n",
       "1  What is the story of Kohinoor (Koh-i-Noor) Dia...\n",
       "2  How can I increase the speed of my internet co...\n",
       "3  Why am I mentally very lonely? How can I solve...\n",
       "4  Which one dissolve in water quikly sugar, salt..."
      ]
     },
     "execution_count": 3,
     "metadata": {},
     "output_type": "execute_result"
    }
   ],
   "source": [
    "quora.head()"
   ]
  },
  {
   "cell_type": "markdown",
   "metadata": {},
   "source": [
    "#### 4. Check missing values"
   ]
  },
  {
   "cell_type": "code",
   "execution_count": 4,
   "metadata": {},
   "outputs": [
    {
     "data": {
      "text/plain": [
       "Question    0\n",
       "dtype: int64"
      ]
     },
     "execution_count": 4,
     "metadata": {},
     "output_type": "execute_result"
    }
   ],
   "source": [
    "quora.isnull().sum()"
   ]
  },
  {
   "cell_type": "markdown",
   "metadata": {},
   "source": [
    "There are no missing questions."
   ]
  },
  {
   "cell_type": "markdown",
   "metadata": {},
   "source": [
    "#### 5. Check empty strings"
   ]
  },
  {
   "cell_type": "code",
   "execution_count": 5,
   "metadata": {},
   "outputs": [],
   "source": [
    "# using the isspace() method\n",
    "\n",
    "empty_strings = []\n",
    "\n",
    "for i, q in quora.itertuples():\n",
    "    if q.isspace():\n",
    "        empty_strings.append(i)"
   ]
  },
  {
   "cell_type": "code",
   "execution_count": 6,
   "metadata": {},
   "outputs": [
    {
     "name": "stdout",
     "output_type": "stream",
     "text": [
      "[]\n",
      "0\n"
     ]
    }
   ],
   "source": [
    "print(empty_strings)\n",
    "print(len(empty_strings))"
   ]
  },
  {
   "cell_type": "markdown",
   "metadata": {},
   "source": [
    "There are no questions that correspond to empty strings."
   ]
  },
  {
   "cell_type": "code",
   "execution_count": 7,
   "metadata": {},
   "outputs": [
    {
     "data": {
      "text/plain": [
       "404289"
      ]
     },
     "execution_count": 7,
     "metadata": {},
     "output_type": "execute_result"
    }
   ],
   "source": [
    "# check length\n",
    "\n",
    "len(quora)"
   ]
  },
  {
   "cell_type": "markdown",
   "metadata": {},
   "source": [
    "We have 404 289 quora questions. Our dataset is cleaned and we can now perform topic modeling with LDA, LSA and NMF."
   ]
  },
  {
   "cell_type": "markdown",
   "metadata": {},
   "source": [
    "## LDA"
   ]
  },
  {
   "cell_type": "markdown",
   "metadata": {},
   "source": [
    "In Latent Dirichlet Allocation, topics are represented as a distribution of words, i. e., the probability that each of a given set of terms will occur. Documents are in turn represented as a mixture (linear combination) of these topics. The probability for each of these topics within a document, as well as the probability of a word being assigned to a topic, is assumed to start with a Dirichlet probability distribution."
   ]
  },
  {
   "cell_type": "markdown",
   "metadata": {},
   "source": [
    "### The gensim way"
   ]
  },
  {
   "cell_type": "markdown",
   "metadata": {},
   "source": [
    "#### 7. Preprocess text"
   ]
  },
  {
   "cell_type": "code",
   "execution_count": 8,
   "metadata": {},
   "outputs": [
    {
     "name": "stderr",
     "output_type": "stream",
     "text": [
      "C:\\Users\\joaon\\Anaconda3\\envs\\NLP\\lib\\site-packages\\gensim\\utils.py:1197: UserWarning: detected Windows; aliasing chunkize to chunkize_serial\n",
      "  warnings.warn(\"detected Windows; aliasing chunkize to chunkize_serial\")\n"
     ]
    }
   ],
   "source": [
    "# imports\n",
    "\n",
    "import gensim\n",
    "from gensim.utils import simple_preprocess\n",
    "from gensim.parsing.preprocessing import STOPWORDS\n",
    "from nltk.stem import WordNetLemmatizer, SnowballStemmer"
   ]
  },
  {
   "cell_type": "code",
   "execution_count": 9,
   "metadata": {},
   "outputs": [],
   "source": [
    "# define stemmer and lemmatizer\n",
    "\n",
    "stemmer = SnowballStemmer(\"english\")\n",
    "lemmatizer = WordNetLemmatizer()"
   ]
  },
  {
   "cell_type": "code",
   "execution_count": 10,
   "metadata": {},
   "outputs": [],
   "source": [
    "# define function to tokenize, lemmatize and stem the text\n",
    "\n",
    "def preprocess(text):\n",
    "    result=[]\n",
    "    for token in simple_preprocess(text):\n",
    "        if token not in STOPWORDS: # remove stopwords\n",
    "            token_lemmatized = lemmatizer.lemmatize(token, pos='v')\n",
    "            token_stemmed = stemmer.stem(token_lemmatized)\n",
    "            result.append(token_stemmed)\n",
    "    return result"
   ]
  },
  {
   "cell_type": "code",
   "execution_count": 11,
   "metadata": {},
   "outputs": [],
   "source": [
    "# preprocess questions\n",
    "\n",
    "quora['Question_gensim'] = quora['Question'].apply(preprocess)"
   ]
  },
  {
   "cell_type": "code",
   "execution_count": 12,
   "metadata": {},
   "outputs": [
    {
     "data": {
      "text/html": [
       "<div>\n",
       "<style scoped>\n",
       "    .dataframe tbody tr th:only-of-type {\n",
       "        vertical-align: middle;\n",
       "    }\n",
       "\n",
       "    .dataframe tbody tr th {\n",
       "        vertical-align: top;\n",
       "    }\n",
       "\n",
       "    .dataframe thead th {\n",
       "        text-align: right;\n",
       "    }\n",
       "</style>\n",
       "<table border=\"1\" class=\"dataframe\">\n",
       "  <thead>\n",
       "    <tr style=\"text-align: right;\">\n",
       "      <th></th>\n",
       "      <th>Question</th>\n",
       "      <th>Question_gensim</th>\n",
       "    </tr>\n",
       "  </thead>\n",
       "  <tbody>\n",
       "    <tr>\n",
       "      <td>0</td>\n",
       "      <td>What is the step by step guide to invest in sh...</td>\n",
       "      <td>[step, step, guid, invest, share, market, india]</td>\n",
       "    </tr>\n",
       "    <tr>\n",
       "      <td>1</td>\n",
       "      <td>What is the story of Kohinoor (Koh-i-Noor) Dia...</td>\n",
       "      <td>[stori, kohinoor, koh, noor, diamond]</td>\n",
       "    </tr>\n",
       "    <tr>\n",
       "      <td>2</td>\n",
       "      <td>How can I increase the speed of my internet co...</td>\n",
       "      <td>[increas, speed, internet, connect, vpn]</td>\n",
       "    </tr>\n",
       "    <tr>\n",
       "      <td>3</td>\n",
       "      <td>Why am I mentally very lonely? How can I solve...</td>\n",
       "      <td>[mental, lone, solv]</td>\n",
       "    </tr>\n",
       "    <tr>\n",
       "      <td>4</td>\n",
       "      <td>Which one dissolve in water quikly sugar, salt...</td>\n",
       "      <td>[dissolv, water, quik, sugar, salt, methan, ca...</td>\n",
       "    </tr>\n",
       "  </tbody>\n",
       "</table>\n",
       "</div>"
      ],
      "text/plain": [
       "                                            Question  \\\n",
       "0  What is the step by step guide to invest in sh...   \n",
       "1  What is the story of Kohinoor (Koh-i-Noor) Dia...   \n",
       "2  How can I increase the speed of my internet co...   \n",
       "3  Why am I mentally very lonely? How can I solve...   \n",
       "4  Which one dissolve in water quikly sugar, salt...   \n",
       "\n",
       "                                     Question_gensim  \n",
       "0   [step, step, guid, invest, share, market, india]  \n",
       "1              [stori, kohinoor, koh, noor, diamond]  \n",
       "2           [increas, speed, internet, connect, vpn]  \n",
       "3                               [mental, lone, solv]  \n",
       "4  [dissolv, water, quik, sugar, salt, methan, ca...  "
      ]
     },
     "execution_count": 12,
     "metadata": {},
     "output_type": "execute_result"
    }
   ],
   "source": [
    "quora.head()"
   ]
  },
  {
   "cell_type": "markdown",
   "metadata": {},
   "source": [
    "We have created a new column `Question_gensim` in our dataframe where each question is now a list of tokens ready to be further processed with the help of gensim."
   ]
  },
  {
   "cell_type": "markdown",
   "metadata": {},
   "source": [
    "#### 8. Create a bag of words"
   ]
  },
  {
   "cell_type": "code",
   "execution_count": 13,
   "metadata": {},
   "outputs": [],
   "source": [
    "from gensim.corpora import Dictionary"
   ]
  },
  {
   "cell_type": "code",
   "execution_count": 14,
   "metadata": {},
   "outputs": [],
   "source": [
    "dct = Dictionary(quora['Question_gensim'])"
   ]
  },
  {
   "cell_type": "code",
   "execution_count": 15,
   "metadata": {},
   "outputs": [
    {
     "data": {
      "text/plain": [
       "46376"
      ]
     },
     "execution_count": 15,
     "metadata": {},
     "output_type": "execute_result"
    }
   ],
   "source": [
    "len(dct)"
   ]
  },
  {
   "cell_type": "code",
   "execution_count": 16,
   "metadata": {},
   "outputs": [
    {
     "name": "stdout",
     "output_type": "stream",
     "text": [
      "0 guid\n",
      "1 india\n",
      "2 invest\n",
      "3 market\n",
      "4 share\n",
      "5 step\n",
      "6 diamond\n",
      "7 koh\n",
      "8 kohinoor\n",
      "9 noor\n",
      "10 stori\n"
     ]
    }
   ],
   "source": [
    "example_count = 0\n",
    "\n",
    "for i, word in dct.items():\n",
    "    print(i, word)\n",
    "    example_count += 1\n",
    "    if example_count > 10:\n",
    "        break"
   ]
  },
  {
   "cell_type": "code",
   "execution_count": 17,
   "metadata": {},
   "outputs": [
    {
     "name": "stdout",
     "output_type": "stream",
     "text": [
      "Dictionary(46376 unique tokens: ['guid', 'india', 'invest', 'market', 'share']...)\n"
     ]
    }
   ],
   "source": [
    "print(dct)"
   ]
  },
  {
   "cell_type": "markdown",
   "metadata": {},
   "source": [
    "Our dictionary contains **46376 unique tokens (our vocabulary)**, and each token has a corresponding id."
   ]
  },
  {
   "cell_type": "code",
   "execution_count": 18,
   "metadata": {},
   "outputs": [],
   "source": [
    "# create a bag of words\n",
    "\n",
    "bow = [dct.doc2bow(question) for question in quora['Question_gensim']]"
   ]
  },
  {
   "cell_type": "code",
   "execution_count": 19,
   "metadata": {},
   "outputs": [
    {
     "data": {
      "text/plain": [
       "['step', 'step', 'guid', 'invest', 'share', 'market', 'india']"
      ]
     },
     "execution_count": 19,
     "metadata": {},
     "output_type": "execute_result"
    }
   ],
   "source": [
    "# first question\n",
    "\n",
    "quora['Question_gensim'][0]"
   ]
  },
  {
   "cell_type": "code",
   "execution_count": 20,
   "metadata": {},
   "outputs": [
    {
     "data": {
      "text/plain": [
       "[(0, 1), (1, 1), (2, 1), (3, 1), (4, 1), (5, 2)]"
      ]
     },
     "execution_count": 20,
     "metadata": {},
     "output_type": "execute_result"
    }
   ],
   "source": [
    "# bag of words for the first question\n",
    "\n",
    "bow[0]"
   ]
  },
  {
   "cell_type": "markdown",
   "metadata": {},
   "source": [
    "All the words with **id's from 0 to 4 appear once** in this question, and the word with **id=5 (step) appears twice**."
   ]
  },
  {
   "cell_type": "markdown",
   "metadata": {},
   "source": [
    "#### 9. Use `LDAMulticore` to create our LDA model"
   ]
  },
  {
   "cell_type": "code",
   "execution_count": 21,
   "metadata": {},
   "outputs": [
    {
     "data": {
      "text/plain": [
       "4"
      ]
     },
     "execution_count": 21,
     "metadata": {},
     "output_type": "execute_result"
    }
   ],
   "source": [
    "import multiprocessing\n",
    "\n",
    "# number of cores\n",
    "multiprocessing.cpu_count()"
   ]
  },
  {
   "cell_type": "code",
   "execution_count": 22,
   "metadata": {},
   "outputs": [
    {
     "name": "stdout",
     "output_type": "stream",
     "text": [
      "Wall time: 1min 33s\n"
     ]
    }
   ],
   "source": [
    "%%time\n",
    "\n",
    "# workers = number of cores - 1\n",
    "lda_model = gensim.models.LdaMulticore(bow, \n",
    "                                       num_topics=20, \n",
    "                                       id2word = dct, \n",
    "                                       passes = 2, \n",
    "                                       workers=3)"
   ]
  },
  {
   "cell_type": "markdown",
   "metadata": {},
   "source": [
    "#### 10. Check how we can have access to words and topics"
   ]
  },
  {
   "cell_type": "code",
   "execution_count": 23,
   "metadata": {},
   "outputs": [
    {
     "data": {
      "text/plain": [
       "([(2, 0.21110655), (11, 0.67639345)],\n",
       " [(0, [11]), (1, [11, 2]), (2, [11]), (3, [11]), (4, [11]), (5, [2, 11])],\n",
       " [(0, [(11, 1.0)]),\n",
       "  (1, [(2, 0.10889442), (11, 0.8911056)]),\n",
       "  (2, [(11, 0.99999994)]),\n",
       "  (3, [(11, 1.0000001)]),\n",
       "  (4, [(11, 1.0)]),\n",
       "  (5, [(2, 1.526031), (11, 0.47396907)])])"
      ]
     },
     "execution_count": 23,
     "metadata": {},
     "output_type": "execute_result"
    }
   ],
   "source": [
    "# most probable topic for a given document and most probable topic for each word\n",
    "# example with first question\n",
    "\n",
    "lda_model.get_document_topics(bow=bow[0], per_word_topics=True)"
   ]
  },
  {
   "cell_type": "code",
   "execution_count": 24,
   "metadata": {},
   "outputs": [
    {
     "data": {
      "text/plain": [
       "[(0, 0.0007628809),\n",
       " (10, 0.009788418),\n",
       " (16, 2.4625226e-07),\n",
       " (18, 7.290221e-06),\n",
       " (19, 0.048436616)]"
      ]
     },
     "execution_count": 24,
     "metadata": {},
     "output_type": "execute_result"
    }
   ],
   "source": [
    "# most relevant topics for a given word\n",
    "\n",
    "lda_model.get_term_topics('thing', minimum_probability=0)\n",
    "# this docstring doesn't seem right... it's the word and not word_id"
   ]
  },
  {
   "cell_type": "code",
   "execution_count": 25,
   "metadata": {},
   "outputs": [
    {
     "data": {
      "text/plain": [
       "[(116, 0.057453986),\n",
       " (316, 0.042467263),\n",
       " (671, 0.041471988),\n",
       " (155, 0.039485935),\n",
       " (153, 0.028141282),\n",
       " (1, 0.027203513),\n",
       " (516, 0.022662492),\n",
       " (857, 0.021236362),\n",
       " (291, 0.020539965),\n",
       " (737, 0.020228669)]"
      ]
     },
     "execution_count": 25,
     "metadata": {},
     "output_type": "execute_result"
    }
   ],
   "source": [
    "# most relevant words (id) for a given topic\n",
    "\n",
    "lda_model.get_topic_terms(topicid=1, topn=10)"
   ]
  },
  {
   "cell_type": "code",
   "execution_count": 26,
   "metadata": {},
   "outputs": [
    {
     "data": {
      "text/plain": [
       "[('money', 0.057453986),\n",
       " ('indian', 0.042467263),\n",
       " ('note', 0.041471988),\n",
       " ('year', 0.039485935),\n",
       " ('old', 0.028141282),\n",
       " ('india', 0.027203513),\n",
       " ('black', 0.022662492),\n",
       " ('bad', 0.021236362),\n",
       " ('help', 0.020539965),\n",
       " ('earn', 0.020228669)]"
      ]
     },
     "execution_count": 26,
     "metadata": {},
     "output_type": "execute_result"
    }
   ],
   "source": [
    "# most relevant words (string) for a given topic\n",
    "\n",
    "lda_model.show_topic(topicid=1, topn=10)"
   ]
  },
  {
   "cell_type": "code",
   "execution_count": 27,
   "metadata": {},
   "outputs": [
    {
     "data": {
      "text/plain": [
       "(20, 46376)"
      ]
     },
     "execution_count": 27,
     "metadata": {},
     "output_type": "execute_result"
    }
   ],
   "source": [
    "# lda_model.get_topics() gives us the probability for each word in each topic\n",
    "\n",
    "lda_model.get_topics().shape"
   ]
  },
  {
   "cell_type": "markdown",
   "metadata": {},
   "source": [
    "#### 11. Print out the top 15 words for each of the 20 topics"
   ]
  },
  {
   "cell_type": "code",
   "execution_count": 28,
   "metadata": {},
   "outputs": [
    {
     "name": "stdout",
     "output_type": "stream",
     "text": [
      "TOP 15 WORDS FOR TOPIC #1\n",
      "0.084*\"time\" + 0.045*\"love\" + 0.032*\"friend\" + 0.022*\"travel\" + 0.018*\"card\" + 0.016*\"girl\" + 0.015*\"stori\" + 0.015*\"know\" + 0.014*\"follow\" + 0.013*\"girlfriend\" + 0.012*\"want\" + 0.012*\"benefit\" + 0.012*\"polit\" + 0.012*\"talk\" + 0.011*\"peopl\"\n",
      "\n",
      "\n",
      "TOP 15 WORDS FOR TOPIC #2\n",
      "0.057*\"money\" + 0.042*\"indian\" + 0.041*\"note\" + 0.039*\"year\" + 0.028*\"old\" + 0.027*\"india\" + 0.023*\"black\" + 0.021*\"bad\" + 0.021*\"help\" + 0.020*\"earn\" + 0.020*\"rs\" + 0.020*\"govern\" + 0.019*\"rupe\" + 0.019*\"ban\" + 0.014*\"hair\"\n",
      "\n",
      "\n",
      "TOP 15 WORDS FOR TOPIC #3\n",
      "0.087*\"like\" + 0.054*\"work\" + 0.038*\"feel\" + 0.023*\"school\" + 0.022*\"stop\" + 0.020*\"look\" + 0.020*\"high\" + 0.014*\"law\" + 0.014*\"startup\" + 0.012*\"fall\" + 0.011*\"stay\" + 0.011*\"program\" + 0.009*\"text\" + 0.008*\"hire\" + 0.008*\"live\"\n",
      "\n",
      "\n",
      "TOP 15 WORDS FOR TOPIC #4\n",
      "0.034*\"develop\" + 0.029*\"video\" + 0.021*\"free\" + 0.020*\"safe\" + 0.020*\"download\" + 0.019*\"end\" + 0.018*\"web\" + 0.017*\"hotel\" + 0.015*\"polic\" + 0.015*\"period\" + 0.014*\"digit\" + 0.011*\"kill\" + 0.011*\"point\" + 0.011*\"appl\" + 0.011*\"pregnant\"\n",
      "\n",
      "\n",
      "TOP 15 WORDS FOR TOPIC #5\n",
      "0.029*\"increas\" + 0.027*\"websit\" + 0.027*\"human\" + 0.023*\"iphon\" + 0.021*\"problem\" + 0.020*\"averag\" + 0.016*\"chang\" + 0.016*\"die\" + 0.016*\"dog\" + 0.014*\"face\" + 0.011*\"line\" + 0.011*\"presidenti\" + 0.011*\"solv\" + 0.011*\"charg\" + 0.010*\"internet\"\n",
      "\n",
      "\n",
      "TOP 15 WORDS FOR TOPIC #6\n",
      "0.039*\"account\" + 0.029*\"facebook\" + 0.020*\"instagram\" + 0.018*\"bank\" + 0.016*\"delet\" + 0.016*\"email\" + 0.014*\"password\" + 0.014*\"whatsapp\" + 0.014*\"messag\" + 0.014*\"differ\" + 0.013*\"send\" + 0.012*\"photo\" + 0.012*\"posit\" + 0.011*\"light\" + 0.011*\"gmail\"\n",
      "\n",
      "\n",
      "TOP 15 WORDS FOR TOPIC #7\n",
      "0.051*\"trump\" + 0.034*\"think\" + 0.031*\"donald\" + 0.030*\"presid\" + 0.028*\"win\" + 0.022*\"clinton\" + 0.020*\"elect\" + 0.020*\"hillari\" + 0.019*\"power\" + 0.018*\"peopl\" + 0.015*\"term\" + 0.014*\"believ\" + 0.013*\"god\" + 0.013*\"exist\" + 0.013*\"american\"\n",
      "\n",
      "\n",
      "TOP 15 WORDS FOR TOPIC #8\n",
      "0.051*\"onlin\" + 0.033*\"improv\" + 0.032*\"buy\" + 0.031*\"best\" + 0.023*\"write\" + 0.023*\"car\" + 0.020*\"make\" + 0.017*\"laptop\" + 0.017*\"skill\" + 0.017*\"univers\" + 0.014*\"english\" + 0.013*\"sit\" + 0.012*\"train\" + 0.011*\"india\" + 0.011*\"new\"\n",
      "\n",
      "\n",
      "TOP 15 WORDS FOR TOPIC #9\n",
      "0.093*\"quora\" + 0.066*\"question\" + 0.050*\"peopl\" + 0.041*\"need\" + 0.037*\"ask\" + 0.033*\"answer\" + 0.028*\"state\" + 0.025*\"googl\" + 0.017*\"unit\" + 0.015*\"post\" + 0.012*\"add\" + 0.012*\"user\" + 0.011*\"search\" + 0.010*\"earth\" + 0.010*\"mark\"\n",
      "\n",
      "\n",
      "TOP 15 WORDS FOR TOPIC #10\n",
      "0.032*\"sex\" + 0.031*\"effect\" + 0.029*\"app\" + 0.021*\"water\" + 0.020*\"real\" + 0.020*\"android\" + 0.016*\"have\" + 0.015*\"reason\" + 0.014*\"test\" + 0.014*\"sleep\" + 0.013*\"form\" + 0.011*\"compar\" + 0.010*\"file\" + 0.009*\"tax\" + 0.009*\"hour\"\n",
      "\n",
      "\n",
      "TOP 15 WORDS FOR TOPIC #11\n",
      "0.038*\"engin\" + 0.028*\"studi\" + 0.026*\"go\" + 0.025*\"day\" + 0.025*\"exampl\" + 0.023*\"student\" + 0.022*\"colleg\" + 0.021*\"word\" + 0.015*\"live\" + 0.015*\"career\" + 0.013*\"mechan\" + 0.011*\"employe\" + 0.011*\"know\" + 0.011*\"month\" + 0.011*\"new\"\n",
      "\n",
      "\n",
      "TOP 15 WORDS FOR TOPIC #12\n",
      "0.035*\"prepar\" + 0.029*\"best\" + 0.026*\"exam\" + 0.026*\"song\" + 0.024*\"tell\" + 0.021*\"market\" + 0.019*\"social\" + 0.018*\"th\" + 0.018*\"invest\" + 0.016*\"class\" + 0.015*\"music\" + 0.013*\"good\" + 0.012*\"stock\" + 0.012*\"share\" + 0.010*\"media\"\n",
      "\n",
      "\n",
      "TOP 15 WORDS FOR TOPIC #13\n",
      "0.147*\"best\" + 0.086*\"way\" + 0.071*\"learn\" + 0.026*\"languag\" + 0.024*\"place\" + 0.024*\"program\" + 0.022*\"english\" + 0.015*\"visit\" + 0.013*\"good\" + 0.013*\"scienc\" + 0.009*\"network\" + 0.009*\"start\" + 0.009*\"speak\" + 0.009*\"drug\" + 0.009*\"center\"\n",
      "\n",
      "\n",
      "TOP 15 WORDS FOR TOPIC #14\n",
      "0.091*\"differ\" + 0.034*\"best\" + 0.032*\"phone\" + 0.027*\"number\" + 0.018*\"mobil\" + 0.016*\"design\" + 0.016*\"cultur\" + 0.016*\"type\" + 0.015*\"build\" + 0.014*\"compani\" + 0.014*\"product\" + 0.014*\"servic\" + 0.011*\"support\" + 0.011*\"window\" + 0.011*\"india\"\n",
      "\n",
      "\n",
      "TOP 15 WORDS FOR TOPIC #15\n",
      "0.042*\"job\" + 0.017*\"interview\" + 0.015*\"year\" + 0.015*\"process\" + 0.014*\"softwar\" + 0.014*\"good\" + 0.013*\"appli\" + 0.013*\"engin\" + 0.012*\"tip\" + 0.012*\"data\" + 0.012*\"provid\" + 0.011*\"code\" + 0.009*\"level\" + 0.009*\"new\" + 0.009*\"ca\"\n",
      "\n",
      "\n",
      "TOP 15 WORDS FOR TOPIC #16\n",
      "0.032*\"come\" + 0.030*\"women\" + 0.028*\"eat\" + 0.023*\"hack\" + 0.022*\"men\" + 0.022*\"com\" + 0.017*\"favorit\" + 0.017*\"food\" + 0.013*\"citi\" + 0.011*\"kind\" + 0.010*\"film\" + 0.010*\"famili\" + 0.010*\"peopl\" + 0.010*\"physic\" + 0.009*\"set\"\n",
      "\n",
      "\n",
      "TOP 15 WORDS FOR TOPIC #17\n",
      "0.089*\"mean\" + 0.029*\"creat\" + 0.023*\"energi\" + 0.015*\"dream\" + 0.015*\"space\" + 0.012*\"battl\" + 0.012*\"dark\" + 0.011*\"true\" + 0.010*\"limit\" + 0.010*\"child\" + 0.009*\"self\" + 0.009*\"america\" + 0.009*\"signific\" + 0.009*\"brain\" + 0.008*\"univers\"\n",
      "\n",
      "\n",
      "TOP 15 WORDS FOR TOPIC #18\n",
      "0.040*\"lose\" + 0.034*\"weight\" + 0.029*\"busi\" + 0.028*\"long\" + 0.027*\"compani\" + 0.025*\"start\" + 0.016*\"relationship\" + 0.014*\"success\" + 0.014*\"cat\" + 0.014*\"control\" + 0.013*\"parent\" + 0.013*\"manag\" + 0.012*\"deal\" + 0.011*\"home\" + 0.011*\"work\"\n",
      "\n",
      "\n",
      "TOP 15 WORDS FOR TOPIC #19\n",
      "0.042*\"world\" + 0.037*\"know\" + 0.031*\"countri\" + 0.025*\"girl\" + 0.025*\"india\" + 0.024*\"war\" + 0.021*\"like\" + 0.021*\"import\" + 0.018*\"peopl\" + 0.013*\"china\" + 0.013*\"guy\" + 0.013*\"game\" + 0.013*\"mind\" + 0.013*\"interest\" + 0.012*\"pakistan\"\n",
      "\n",
      "\n",
      "TOP 15 WORDS FOR TOPIC #20\n",
      "0.072*\"life\" + 0.056*\"best\" + 0.055*\"book\" + 0.048*\"thing\" + 0.040*\"movi\" + 0.024*\"read\" + 0.019*\"math\" + 0.016*\"watch\" + 0.016*\"ve\" + 0.014*\"man\" + 0.014*\"experi\" + 0.012*\"see\" + 0.010*\"fat\" + 0.010*\"good\" + 0.010*\"woman\"\n",
      "\n",
      "\n"
     ]
    }
   ],
   "source": [
    "for topic, top_words in lda_model.print_topics(num_topics=20, num_words=15):\n",
    "    print(f'TOP 15 WORDS FOR TOPIC #{topic+1}') #topic+1 to start with Topic #1 instead of #0\n",
    "    print(top_words)\n",
    "    print(\"\\n\")"
   ]
  },
  {
   "cell_type": "markdown",
   "metadata": {},
   "source": [
    "This is one possible approach with **gensim**. Let's now see how we can do something similar with scikit-learn."
   ]
  },
  {
   "cell_type": "markdown",
   "metadata": {},
   "source": [
    "### The scikit-learn way"
   ]
  },
  {
   "cell_type": "markdown",
   "metadata": {},
   "source": [
    "#### 12. Create a vectorized document-term matrix with `CountVectorizer`"
   ]
  },
  {
   "cell_type": "code",
   "execution_count": 30,
   "metadata": {},
   "outputs": [],
   "source": [
    "from sklearn.feature_extraction.text import CountVectorizer"
   ]
  },
  {
   "cell_type": "code",
   "execution_count": 9,
   "metadata": {},
   "outputs": [],
   "source": [
    "cv = CountVectorizer(max_df=0.95, min_df=2, stop_words='english')"
   ]
  },
  {
   "cell_type": "code",
   "execution_count": 10,
   "metadata": {},
   "outputs": [],
   "source": [
    "dtm = cv.fit_transform(quora['Question'])"
   ]
  },
  {
   "cell_type": "code",
   "execution_count": 11,
   "metadata": {},
   "outputs": [
    {
     "data": {
      "text/plain": [
       "<404289x38669 sparse matrix of type '<class 'numpy.int64'>'\n",
       "\twith 2002912 stored elements in Compressed Sparse Row format>"
      ]
     },
     "execution_count": 11,
     "metadata": {},
     "output_type": "execute_result"
    }
   ],
   "source": [
    "dtm"
   ]
  },
  {
   "cell_type": "markdown",
   "metadata": {},
   "source": [
    "We now have a sparse matrix for the 404 289 questions for a total of 38 669 different words. Let's try to  group these questions into 20 different topics with the LDA method."
   ]
  },
  {
   "cell_type": "markdown",
   "metadata": {},
   "source": [
    "#### 13. Create an instance of LatentDirichletAllocation with 20 expected components and fit it"
   ]
  },
  {
   "cell_type": "code",
   "execution_count": 12,
   "metadata": {},
   "outputs": [],
   "source": [
    "from sklearn.decomposition import LatentDirichletAllocation"
   ]
  },
  {
   "cell_type": "code",
   "execution_count": 13,
   "metadata": {},
   "outputs": [],
   "source": [
    "LDA = LatentDirichletAllocation(n_components=20,random_state=42)"
   ]
  },
  {
   "cell_type": "code",
   "execution_count": 14,
   "metadata": {},
   "outputs": [
    {
     "name": "stdout",
     "output_type": "stream",
     "text": [
      "Wall time: 8min 5s\n"
     ]
    },
    {
     "data": {
      "text/plain": [
       "LatentDirichletAllocation(batch_size=128, doc_topic_prior=None,\n",
       "                          evaluate_every=-1, learning_decay=0.7,\n",
       "                          learning_method='batch', learning_offset=10.0,\n",
       "                          max_doc_update_iter=100, max_iter=10,\n",
       "                          mean_change_tol=0.001, n_components=20, n_jobs=None,\n",
       "                          perp_tol=0.1, random_state=42, topic_word_prior=None,\n",
       "                          total_samples=1000000.0, verbose=0)"
      ]
     },
     "execution_count": 14,
     "metadata": {},
     "output_type": "execute_result"
    }
   ],
   "source": [
    "%%time\n",
    "\n",
    "LDA.fit(dtm)"
   ]
  },
  {
   "cell_type": "markdown",
   "metadata": {},
   "source": [
    "#### 14. Check how we can have access to words and topics "
   ]
  },
  {
   "cell_type": "code",
   "execution_count": 15,
   "metadata": {},
   "outputs": [
    {
     "name": "stdout",
     "output_type": "stream",
     "text": [
      "38669\n"
     ]
    }
   ],
   "source": [
    "# words\n",
    "\n",
    "print(len(cv.get_feature_names()))"
   ]
  },
  {
   "cell_type": "code",
   "execution_count": 16,
   "metadata": {},
   "outputs": [
    {
     "name": "stdout",
     "output_type": "stream",
     "text": [
      "spoil\n",
      "smayan\n",
      "close\n",
      "stops\n",
      "candidature\n",
      "journeys\n",
      "annie\n",
      "stories\n",
      "rabid\n",
      "crunchbase\n"
     ]
    }
   ],
   "source": [
    "import random\n",
    "\n",
    "for i in range(10):\n",
    "    random_word_id = random.randint(0,38668)\n",
    "    print(cv.get_feature_names()[random_word_id])"
   ]
  },
  {
   "cell_type": "markdown",
   "metadata": {},
   "source": [
    "Like we have seen before, we have a total of 38 669 different words. We've print out 10 random words of those 38 669 words."
   ]
  },
  {
   "cell_type": "code",
   "execution_count": 17,
   "metadata": {},
   "outputs": [
    {
     "data": {
      "text/plain": [
       "20"
      ]
     },
     "execution_count": 17,
     "metadata": {},
     "output_type": "execute_result"
    }
   ],
   "source": [
    "# topics\n",
    "\n",
    "len(LDA.components_)"
   ]
  },
  {
   "cell_type": "code",
   "execution_count": 18,
   "metadata": {},
   "outputs": [
    {
     "data": {
      "text/plain": [
       "38669"
      ]
     },
     "execution_count": 18,
     "metadata": {},
     "output_type": "execute_result"
    }
   ],
   "source": [
    "# words\n",
    "\n",
    "len(LDA.components_[0])"
   ]
  },
  {
   "cell_type": "markdown",
   "metadata": {},
   "source": [
    "As expected, we have 20 different topics. And for each topic, we have a certain combination of our total of 38 669 words."
   ]
  },
  {
   "cell_type": "code",
   "execution_count": 19,
   "metadata": {},
   "outputs": [
    {
     "name": "stdout",
     "output_type": "stream",
     "text": [
      "best\n",
      "service\n",
      "history\n",
      "career\n",
      "social\n",
      "india\n",
      "company\n",
      "good\n",
      "google\n",
      "media\n"
     ]
    }
   ],
   "source": [
    "# top 10 words for topic #0 in descending order\n",
    "\n",
    "top10_word_indices = LDA.components_[0].argsort()[-10:][::-1] #[::-1] to reverse order\n",
    "\n",
    "for index in top10_word_indices:\n",
    "    print(cv.get_feature_names()[index])"
   ]
  },
  {
   "cell_type": "markdown",
   "metadata": {},
   "source": [
    "These are the top 10 words for topic #0."
   ]
  },
  {
   "cell_type": "markdown",
   "metadata": {},
   "source": [
    "#### 15. Print out the top 15 words for each of the 20 topics"
   ]
  },
  {
   "cell_type": "code",
   "execution_count": 20,
   "metadata": {},
   "outputs": [
    {
     "name": "stdout",
     "output_type": "stream",
     "text": [
      "TOP 15 WORDS FOR TOPIC #1\n",
      "['best', 'service', 'history', 'career', 'social', 'india', 'company', 'good', 'google', 'media', 'services', 'open', 'code', 'development', 'sydney']\n",
      "\n",
      "\n",
      "TOP 15 WORDS FOR TOPIC #2\n",
      "['500', 'notes', '1000', 'indian', 'black', 'english', 'rs', 'money', 'word', 'india', 'rupee', 'government', 'making', 'process', 'economy']\n",
      "\n",
      "\n",
      "TOP 15 WORDS FOR TOPIC #3\n",
      "['does', 'average', 'cost', 'india', 'good', 'purpose', 'man', 'compare', 'state', 'home', 'legal', 'center', 'alcohol', 'ones', 'current']\n",
      "\n",
      "\n",
      "TOP 15 WORDS FOR TOPIC #4\n",
      "['new', 'iphone', 'does', 'tv', 'exist', 'big', 'worth', 'interesting', 'looking', 'series', 'mind', 'apple', 'facts', 'year', 'answers']\n",
      "\n",
      "\n",
      "TOP 15 WORDS FOR TOPIC #5\n",
      "['job', 'car', 'india', 'differences', 'college', 'jobs', 'apply', 'mba', 'canada', 'visa', 'student', 'students', 'usa', 'overcome', 'australia']\n",
      "\n",
      "\n",
      "TOP 15 WORDS FOR TOPIC #6\n",
      "['world', 'long', 'does', 'war', 'india', 'math', 'like', 'china', 'pakistan', 'countries', 'culture', 'relationship', 'win', 'russia', 'different']\n",
      "\n",
      "\n",
      "TOP 15 WORDS FOR TOPIC #7\n",
      "['best', 'start', 'live', 'learning', 'days', 'university', 'study', 'good', 'weight', 'write', 'meaning', 'place', 'places', 'visit', 'lose']\n",
      "\n",
      "\n",
      "TOP 15 WORDS FOR TOPIC #8\n",
      "['best', 'trump', 'online', 'donald', 'india', 'improve', 'money', 'business', 'ways', 'clinton', 'hillary', 'president', 'english', '2016', 'earn']\n",
      "\n",
      "\n",
      "TOP 15 WORDS FOR TOPIC #9\n",
      "['use', 'free', 'phone', 'data', 'android', 'app', 'mobile', 'using', 'internet', 'effects', 'whatsapp', 'download', 'snapchat', 'create', 'drive']\n",
      "\n",
      "\n",
      "TOP 15 WORDS FOR TOPIC #10\n",
      "['important', 'increase', 'youtube', 'market', 'age', 'height', 'deal', 'india', 'fall', 'family', 'child', 'wrong', 'stock', 'makes', 'industry']\n",
      "\n",
      "\n",
      "TOP 15 WORDS FOR TOPIC #11\n",
      "['know', 'things', 'language', 'day', 'programming', 'going', 'computer', 'science', 'energy', 'learn', 'windows', 'new', 'employees', 'best', 'universe']\n",
      "\n",
      "\n",
      "TOP 15 WORDS FOR TOPIC #12\n",
      "['people', 'difference', 'engineering', 'quora', 'ask', 'engineer', 'questions', 'mechanical', 'google', 'country', 'believe', 'software', 'working', 'like', 'god']\n",
      "\n",
      "\n",
      "TOP 15 WORDS FOR TOPIC #13\n",
      "['life', 'account', 'old', 'year', 'movie', 'school', 'number', 'read', 'thing', 'password', 'facebook', 'years', 'books', 'change', 'gmail']\n",
      "\n",
      "\n",
      "TOP 15 WORDS FOR TOPIC #14\n",
      "['did', 'make', 'card', 'instagram', 'tell', 'money', 'safe', 'game', 'police', 'hotel', 'happened', 'battle', 'credit', 'kill', 'friends']\n",
      "\n",
      "\n",
      "TOP 15 WORDS FOR TOPIC #15\n",
      "['think', 'earth', 'com', 'american', 'human', 'chinese', 'light', 'speed', 'space', 'air', 'indian', 'does', 'matter', 'review', 'indians']\n",
      "\n",
      "\n",
      "TOP 15 WORDS FOR TOPIC #16\n",
      "['quora', 'best', 'question', 'movies', 'questions', 'website', 'happens', 'girls', 'girl', 'answer', 'like', 'buy', 'asked', 'site', 'watch']\n",
      "\n",
      "\n",
      "TOP 15 WORDS FOR TOPIC #17\n",
      "['prepare', 'weight', 'exam', 'lose', 'states', 'united', '2017', 'cat', '2016', 'good', 'iit', 'jee', 'preparation', 'gate', 'months']\n",
      "\n",
      "\n",
      "TOP 15 WORDS FOR TOPIC #18\n",
      "['time', 'possible', 'water', 'travel', 'life', 'parents', 'living', 'law', 'biggest', 'die', 'humans', 'main', 'daily', 'future', 'past']\n",
      "\n",
      "\n",
      "TOP 15 WORDS FOR TOPIC #19\n",
      "['best', 'way', 'learn', 'book', 'women', 'men', 'hair', 'laptop', 'rid', 'sex', 'self', 'eat', 'fat', 'good', 'reduce']\n",
      "\n",
      "\n",
      "TOP 15 WORDS FOR TOPIC #20\n",
      "['does', 'like', 'work', 'mean', 'feel', 'love', 'stop', 'person', 'good', 'favorite', 'sex', 'guy', 'girl', 'look', 'time']\n",
      "\n",
      "\n"
     ]
    }
   ],
   "source": [
    "for index,topic in enumerate(LDA.components_):\n",
    "    print(f'TOP 15 WORDS FOR TOPIC #{index+1}') #index+1 to start with Topic #1 instead of #0\n",
    "    print([cv.get_feature_names()[i] for i in topic.argsort()[-15:]][::-1])\n",
    "    print('\\n')"
   ]
  },
  {
   "cell_type": "markdown",
   "metadata": {},
   "source": [
    "#### 16. Visualize topics and most relevant terms per topic"
   ]
  },
  {
   "cell_type": "code",
   "execution_count": 22,
   "metadata": {},
   "outputs": [],
   "source": [
    "import pyLDAvis\n",
    "import pyLDAvis.sklearn\n",
    "\n",
    "pyLDAvis.enable_notebook()\n",
    "\n",
    "import warnings\n",
    "warnings.filterwarnings(\"ignore\")"
   ]
  },
  {
   "cell_type": "code",
   "execution_count": 23,
   "metadata": {},
   "outputs": [
    {
     "name": "stdout",
     "output_type": "stream",
     "text": [
      "Wall time: 18min 39s\n"
     ]
    },
    {
     "data": {
      "text/html": [
       "\n",
       "<link rel=\"stylesheet\" type=\"text/css\" href=\"https://cdn.rawgit.com/bmabey/pyLDAvis/files/ldavis.v1.0.0.css\">\n",
       "\n",
       "\n",
       "<div id=\"ldavis_el1417227870804640723357435806\"></div>\n",
       "<script type=\"text/javascript\">\n",
       "\n",
       "var ldavis_el1417227870804640723357435806_data = {\"mdsDat\": {\"x\": [-0.10145638413938263, 0.056434564233626264, 0.1392378145569974, 0.061751371864018724, -0.0039889591904209475, 0.1828789580389555, -0.17602884908551633, -0.21922197900161683, -0.06381794335774872, 0.10766356483294191, -0.06623241524846672, 0.015466383681428244, -0.01719276794722563, 0.033527128183823536, 0.17925414683837787, -0.11097370384304804, -0.11349319234869604, 0.12983230663165052, -0.18854203826943888, 0.1549019935697423], \"y\": [0.1627297642842337, 0.004201339308472438, -0.03156165273615483, 0.05393746744822261, 0.07994583446888356, -0.011908526147880185, -0.1906603458780008, -0.05048247117369276, 0.23755394754015896, -0.08707425427611809, 0.13019049934060287, 0.12359443978629701, 0.021418183237523394, 0.05656330371137983, -0.009267604766174423, 0.03365043407067803, -0.1712971120639309, -0.0871161808525715, -0.12562931847657868, -0.13878774682534986], \"topics\": [1, 2, 3, 4, 5, 6, 7, 8, 9, 10, 11, 12, 13, 14, 15, 16, 17, 18, 19, 20], \"cluster\": [1, 1, 1, 1, 1, 1, 1, 1, 1, 1, 1, 1, 1, 1, 1, 1, 1, 1, 1, 1], \"Freq\": [4.8021044566869655, 4.763971004060278, 4.356175846562238, 4.317268738208611, 5.4824945886492085, 5.017839602177349, 5.094416625198918, 5.499448406818945, 5.251725845756853, 4.263859227785427, 4.741657677726525, 5.114490764865881, 5.29164151572285, 4.545806956662384, 4.956969496911723, 4.632986736103201, 4.753560405715956, 4.751396789466264, 5.520166835827458, 6.842018479092991]}, \"tinfo\": {\"Category\": [\"Default\", \"Default\", \"Default\", \"Default\", \"Default\", \"Default\", \"Default\", \"Default\", \"Default\", \"Default\", \"Default\", \"Default\", \"Default\", \"Default\", \"Default\", \"Default\", \"Default\", \"Default\", \"Default\", \"Default\", \"Default\", \"Default\", \"Default\", \"Default\", \"Default\", \"Default\", \"Default\", \"Default\", \"Default\", \"Default\", \"Topic1\", \"Topic1\", \"Topic1\", \"Topic1\", \"Topic1\", \"Topic1\", \"Topic1\", \"Topic1\", \"Topic1\", \"Topic1\", \"Topic1\", \"Topic1\", \"Topic1\", \"Topic1\", \"Topic1\", \"Topic1\", \"Topic1\", \"Topic1\", \"Topic1\", \"Topic1\", \"Topic1\", \"Topic1\", \"Topic1\", \"Topic1\", \"Topic1\", \"Topic1\", \"Topic1\", \"Topic1\", \"Topic1\", \"Topic1\", \"Topic1\", \"Topic1\", \"Topic1\", \"Topic1\", \"Topic1\", \"Topic1\", \"Topic1\", \"Topic1\", \"Topic1\", \"Topic1\", \"Topic1\", \"Topic1\", \"Topic1\", \"Topic1\", \"Topic1\", \"Topic1\", \"Topic1\", \"Topic1\", \"Topic1\", \"Topic1\", \"Topic1\", \"Topic1\", \"Topic1\", \"Topic1\", \"Topic1\", \"Topic1\", \"Topic1\", \"Topic1\", \"Topic1\", \"Topic1\", \"Topic1\", \"Topic1\", \"Topic1\", \"Topic1\", \"Topic1\", \"Topic2\", \"Topic2\", \"Topic2\", \"Topic2\", \"Topic2\", \"Topic2\", \"Topic2\", \"Topic2\", \"Topic2\", \"Topic2\", \"Topic2\", \"Topic2\", \"Topic2\", \"Topic2\", \"Topic2\", \"Topic2\", \"Topic2\", \"Topic2\", \"Topic2\", \"Topic2\", \"Topic2\", \"Topic2\", \"Topic2\", \"Topic2\", \"Topic2\", \"Topic2\", \"Topic2\", \"Topic2\", \"Topic2\", \"Topic2\", \"Topic2\", \"Topic2\", \"Topic2\", \"Topic2\", \"Topic2\", \"Topic2\", \"Topic2\", \"Topic2\", \"Topic2\", \"Topic2\", \"Topic2\", \"Topic2\", \"Topic2\", \"Topic2\", \"Topic2\", \"Topic2\", \"Topic2\", \"Topic2\", \"Topic3\", \"Topic3\", \"Topic3\", \"Topic3\", \"Topic3\", \"Topic3\", \"Topic3\", \"Topic3\", \"Topic3\", \"Topic3\", \"Topic3\", \"Topic3\", \"Topic3\", \"Topic3\", \"Topic3\", \"Topic3\", \"Topic3\", \"Topic3\", \"Topic3\", \"Topic3\", \"Topic3\", \"Topic3\", \"Topic3\", \"Topic3\", \"Topic3\", \"Topic3\", \"Topic3\", \"Topic3\", \"Topic3\", \"Topic3\", \"Topic3\", \"Topic3\", \"Topic3\", \"Topic3\", \"Topic3\", \"Topic3\", \"Topic3\", \"Topic3\", \"Topic3\", \"Topic3\", \"Topic3\", \"Topic3\", \"Topic3\", \"Topic3\", \"Topic3\", \"Topic3\", \"Topic3\", \"Topic3\", \"Topic3\", \"Topic3\", \"Topic3\", \"Topic3\", \"Topic3\", \"Topic3\", \"Topic3\", \"Topic3\", \"Topic4\", \"Topic4\", \"Topic4\", \"Topic4\", \"Topic4\", \"Topic4\", \"Topic4\", \"Topic4\", \"Topic4\", \"Topic4\", \"Topic4\", \"Topic4\", \"Topic4\", \"Topic4\", \"Topic4\", \"Topic4\", \"Topic4\", \"Topic4\", \"Topic4\", \"Topic4\", \"Topic4\", \"Topic4\", \"Topic4\", \"Topic4\", \"Topic4\", \"Topic4\", \"Topic4\", \"Topic4\", \"Topic4\", \"Topic4\", \"Topic4\", \"Topic4\", \"Topic4\", \"Topic4\", \"Topic4\", \"Topic4\", \"Topic4\", \"Topic4\", \"Topic4\", \"Topic4\", \"Topic4\", \"Topic4\", \"Topic4\", \"Topic4\", \"Topic4\", \"Topic4\", \"Topic4\", \"Topic4\", \"Topic4\", \"Topic4\", \"Topic4\", \"Topic4\", \"Topic4\", \"Topic4\", \"Topic4\", \"Topic4\", \"Topic5\", \"Topic5\", \"Topic5\", \"Topic5\", \"Topic5\", \"Topic5\", \"Topic5\", \"Topic5\", \"Topic5\", \"Topic5\", \"Topic5\", \"Topic5\", \"Topic5\", \"Topic5\", \"Topic5\", \"Topic5\", \"Topic5\", \"Topic5\", \"Topic5\", \"Topic5\", \"Topic5\", \"Topic5\", \"Topic5\", \"Topic5\", \"Topic5\", \"Topic5\", \"Topic5\", \"Topic5\", \"Topic5\", \"Topic5\", \"Topic5\", \"Topic5\", \"Topic5\", \"Topic5\", \"Topic5\", \"Topic5\", \"Topic5\", \"Topic5\", \"Topic5\", \"Topic5\", \"Topic5\", \"Topic5\", \"Topic5\", \"Topic5\", \"Topic5\", \"Topic5\", \"Topic5\", \"Topic5\", \"Topic5\", \"Topic5\", \"Topic5\", \"Topic5\", \"Topic5\", \"Topic5\", \"Topic5\", \"Topic5\", \"Topic5\", \"Topic5\", \"Topic5\", \"Topic5\", \"Topic5\", \"Topic5\", \"Topic5\", \"Topic5\", \"Topic5\", \"Topic6\", \"Topic6\", \"Topic6\", \"Topic6\", \"Topic6\", \"Topic6\", \"Topic6\", \"Topic6\", \"Topic6\", \"Topic6\", \"Topic6\", \"Topic6\", \"Topic6\", \"Topic6\", \"Topic6\", \"Topic6\", \"Topic6\", \"Topic6\", \"Topic6\", \"Topic6\", \"Topic6\", \"Topic6\", \"Topic6\", \"Topic6\", \"Topic6\", \"Topic6\", \"Topic6\", \"Topic6\", \"Topic6\", \"Topic6\", \"Topic6\", \"Topic6\", \"Topic6\", \"Topic6\", \"Topic6\", \"Topic6\", \"Topic6\", \"Topic6\", \"Topic6\", \"Topic6\", \"Topic6\", \"Topic6\", \"Topic6\", \"Topic6\", \"Topic6\", \"Topic6\", \"Topic6\", \"Topic6\", \"Topic6\", \"Topic6\", \"Topic6\", \"Topic6\", \"Topic6\", \"Topic6\", \"Topic6\", \"Topic6\", \"Topic6\", \"Topic6\", \"Topic7\", \"Topic7\", \"Topic7\", \"Topic7\", \"Topic7\", \"Topic7\", \"Topic7\", \"Topic7\", \"Topic7\", \"Topic7\", \"Topic7\", \"Topic7\", \"Topic7\", \"Topic7\", \"Topic7\", \"Topic7\", \"Topic7\", \"Topic7\", \"Topic7\", \"Topic7\", \"Topic7\", \"Topic7\", \"Topic7\", \"Topic7\", \"Topic7\", \"Topic7\", \"Topic7\", \"Topic7\", \"Topic7\", \"Topic7\", \"Topic7\", \"Topic7\", \"Topic7\", \"Topic7\", \"Topic7\", \"Topic7\", \"Topic7\", \"Topic7\", \"Topic7\", \"Topic7\", \"Topic7\", \"Topic7\", \"Topic7\", \"Topic7\", \"Topic7\", \"Topic7\", \"Topic7\", \"Topic7\", \"Topic7\", \"Topic7\", \"Topic7\", \"Topic7\", \"Topic7\", \"Topic7\", \"Topic7\", \"Topic7\", \"Topic7\", \"Topic7\", \"Topic7\", \"Topic8\", \"Topic8\", \"Topic8\", \"Topic8\", \"Topic8\", \"Topic8\", \"Topic8\", \"Topic8\", \"Topic8\", \"Topic8\", \"Topic8\", \"Topic8\", \"Topic8\", \"Topic8\", \"Topic8\", \"Topic8\", \"Topic8\", \"Topic8\", \"Topic8\", \"Topic8\", \"Topic8\", \"Topic8\", \"Topic8\", \"Topic8\", \"Topic8\", \"Topic8\", \"Topic8\", \"Topic8\", \"Topic8\", \"Topic8\", \"Topic8\", \"Topic8\", \"Topic8\", \"Topic8\", \"Topic8\", \"Topic8\", \"Topic8\", \"Topic8\", \"Topic8\", \"Topic8\", \"Topic8\", \"Topic8\", \"Topic8\", \"Topic8\", \"Topic8\", \"Topic8\", \"Topic8\", \"Topic8\", \"Topic8\", \"Topic8\", \"Topic9\", \"Topic9\", \"Topic9\", \"Topic9\", \"Topic9\", \"Topic9\", \"Topic9\", \"Topic9\", \"Topic9\", \"Topic9\", \"Topic9\", \"Topic9\", \"Topic9\", \"Topic9\", \"Topic9\", \"Topic9\", \"Topic9\", \"Topic9\", \"Topic9\", \"Topic9\", \"Topic9\", \"Topic9\", \"Topic9\", \"Topic9\", \"Topic9\", \"Topic9\", \"Topic9\", \"Topic9\", \"Topic9\", \"Topic9\", \"Topic9\", \"Topic9\", \"Topic9\", \"Topic9\", \"Topic9\", \"Topic9\", \"Topic9\", \"Topic9\", \"Topic9\", \"Topic9\", \"Topic9\", \"Topic9\", \"Topic9\", \"Topic9\", \"Topic9\", \"Topic9\", \"Topic9\", \"Topic9\", \"Topic9\", \"Topic9\", \"Topic9\", \"Topic9\", \"Topic9\", \"Topic9\", \"Topic9\", \"Topic9\", \"Topic9\", \"Topic10\", \"Topic10\", \"Topic10\", \"Topic10\", \"Topic10\", \"Topic10\", \"Topic10\", \"Topic10\", \"Topic10\", \"Topic10\", \"Topic10\", \"Topic10\", \"Topic10\", \"Topic10\", \"Topic10\", \"Topic10\", \"Topic10\", \"Topic10\", \"Topic10\", \"Topic10\", \"Topic10\", \"Topic10\", \"Topic10\", \"Topic10\", \"Topic10\", \"Topic10\", \"Topic10\", \"Topic10\", \"Topic10\", \"Topic10\", \"Topic10\", \"Topic10\", \"Topic10\", \"Topic10\", \"Topic10\", \"Topic10\", \"Topic10\", \"Topic10\", \"Topic10\", \"Topic10\", \"Topic10\", \"Topic10\", \"Topic10\", \"Topic10\", \"Topic10\", \"Topic10\", \"Topic10\", \"Topic10\", \"Topic10\", \"Topic10\", \"Topic10\", \"Topic10\", \"Topic10\", \"Topic10\", \"Topic10\", \"Topic11\", \"Topic11\", \"Topic11\", \"Topic11\", \"Topic11\", \"Topic11\", \"Topic11\", \"Topic11\", \"Topic11\", \"Topic11\", \"Topic11\", \"Topic11\", \"Topic11\", \"Topic11\", \"Topic11\", \"Topic11\", \"Topic11\", \"Topic11\", \"Topic11\", \"Topic11\", \"Topic11\", \"Topic11\", \"Topic11\", \"Topic11\", \"Topic11\", \"Topic11\", \"Topic11\", \"Topic11\", \"Topic11\", \"Topic11\", \"Topic11\", \"Topic11\", \"Topic11\", \"Topic11\", \"Topic11\", \"Topic11\", \"Topic11\", \"Topic11\", \"Topic11\", \"Topic11\", \"Topic11\", \"Topic11\", \"Topic11\", \"Topic11\", \"Topic11\", \"Topic11\", \"Topic11\", \"Topic11\", \"Topic11\", \"Topic11\", \"Topic11\", \"Topic11\", \"Topic11\", \"Topic11\", \"Topic11\", \"Topic11\", \"Topic11\", \"Topic11\", \"Topic12\", \"Topic12\", \"Topic12\", \"Topic12\", \"Topic12\", \"Topic12\", \"Topic12\", \"Topic12\", \"Topic12\", \"Topic12\", \"Topic12\", \"Topic12\", \"Topic12\", \"Topic12\", \"Topic12\", \"Topic12\", \"Topic12\", \"Topic12\", \"Topic12\", \"Topic12\", \"Topic12\", \"Topic12\", \"Topic12\", \"Topic12\", \"Topic12\", \"Topic12\", \"Topic12\", \"Topic12\", \"Topic12\", \"Topic12\", \"Topic12\", \"Topic12\", \"Topic12\", \"Topic12\", \"Topic12\", \"Topic12\", \"Topic12\", \"Topic12\", \"Topic12\", \"Topic12\", \"Topic12\", \"Topic12\", \"Topic12\", \"Topic12\", \"Topic12\", \"Topic12\", \"Topic12\", \"Topic12\", \"Topic12\", \"Topic12\", \"Topic12\", \"Topic12\", \"Topic12\", \"Topic12\", \"Topic12\", \"Topic12\", \"Topic12\", \"Topic12\", \"Topic12\", \"Topic12\", \"Topic12\", \"Topic13\", \"Topic13\", \"Topic13\", \"Topic13\", \"Topic13\", \"Topic13\", \"Topic13\", \"Topic13\", \"Topic13\", \"Topic13\", \"Topic13\", \"Topic13\", \"Topic13\", \"Topic13\", \"Topic13\", \"Topic13\", \"Topic13\", \"Topic13\", \"Topic13\", \"Topic13\", \"Topic13\", \"Topic13\", \"Topic13\", \"Topic13\", \"Topic13\", \"Topic13\", \"Topic13\", \"Topic13\", \"Topic13\", \"Topic13\", \"Topic13\", \"Topic13\", \"Topic13\", \"Topic13\", \"Topic13\", \"Topic13\", \"Topic13\", \"Topic13\", \"Topic13\", \"Topic13\", \"Topic13\", \"Topic13\", \"Topic13\", \"Topic13\", \"Topic13\", \"Topic13\", \"Topic13\", \"Topic13\", \"Topic13\", \"Topic13\", \"Topic13\", \"Topic13\", \"Topic13\", \"Topic13\", \"Topic13\", \"Topic13\", \"Topic13\", \"Topic13\", \"Topic13\", \"Topic13\", \"Topic13\", \"Topic13\", \"Topic13\", \"Topic13\", \"Topic13\", \"Topic13\", \"Topic13\", \"Topic14\", \"Topic14\", \"Topic14\", \"Topic14\", \"Topic14\", \"Topic14\", \"Topic14\", \"Topic14\", \"Topic14\", \"Topic14\", \"Topic14\", \"Topic14\", \"Topic14\", \"Topic14\", \"Topic14\", \"Topic14\", \"Topic14\", \"Topic14\", \"Topic14\", \"Topic14\", \"Topic14\", \"Topic14\", \"Topic14\", \"Topic14\", \"Topic14\", \"Topic14\", \"Topic14\", \"Topic14\", \"Topic14\", \"Topic14\", \"Topic14\", \"Topic14\", \"Topic14\", \"Topic14\", \"Topic14\", \"Topic14\", \"Topic14\", \"Topic14\", \"Topic14\", \"Topic14\", \"Topic14\", \"Topic14\", \"Topic14\", \"Topic14\", \"Topic14\", \"Topic14\", \"Topic14\", \"Topic14\", \"Topic14\", \"Topic15\", \"Topic15\", \"Topic15\", \"Topic15\", \"Topic15\", \"Topic15\", \"Topic15\", \"Topic15\", \"Topic15\", \"Topic15\", \"Topic15\", \"Topic15\", \"Topic15\", \"Topic15\", \"Topic15\", \"Topic15\", \"Topic15\", \"Topic15\", \"Topic15\", \"Topic15\", \"Topic15\", \"Topic15\", \"Topic15\", \"Topic15\", \"Topic15\", \"Topic15\", \"Topic15\", \"Topic15\", \"Topic15\", \"Topic15\", \"Topic15\", \"Topic15\", \"Topic15\", \"Topic15\", \"Topic15\", \"Topic15\", \"Topic15\", \"Topic15\", \"Topic15\", \"Topic15\", \"Topic15\", \"Topic15\", \"Topic15\", \"Topic15\", \"Topic15\", \"Topic15\", \"Topic15\", \"Topic15\", \"Topic15\", \"Topic15\", \"Topic15\", \"Topic15\", \"Topic15\", \"Topic15\", \"Topic15\", \"Topic15\", \"Topic15\", \"Topic15\", \"Topic15\", \"Topic15\", \"Topic15\", \"Topic15\", \"Topic16\", \"Topic16\", \"Topic16\", \"Topic16\", \"Topic16\", \"Topic16\", \"Topic16\", \"Topic16\", \"Topic16\", \"Topic16\", \"Topic16\", \"Topic16\", \"Topic16\", \"Topic16\", \"Topic16\", \"Topic16\", \"Topic16\", \"Topic16\", \"Topic16\", \"Topic16\", \"Topic16\", \"Topic16\", \"Topic16\", \"Topic16\", \"Topic16\", \"Topic16\", \"Topic16\", \"Topic16\", \"Topic16\", \"Topic16\", \"Topic16\", \"Topic16\", \"Topic16\", \"Topic16\", \"Topic16\", \"Topic16\", \"Topic16\", \"Topic16\", \"Topic16\", \"Topic16\", \"Topic16\", \"Topic16\", \"Topic16\", \"Topic16\", \"Topic16\", \"Topic16\", \"Topic16\", \"Topic16\", \"Topic16\", \"Topic16\", \"Topic16\", \"Topic16\", \"Topic16\", \"Topic16\", \"Topic16\", \"Topic16\", \"Topic16\", \"Topic17\", \"Topic17\", \"Topic17\", \"Topic17\", \"Topic17\", \"Topic17\", \"Topic17\", \"Topic17\", \"Topic17\", \"Topic17\", \"Topic17\", \"Topic17\", \"Topic17\", \"Topic17\", \"Topic17\", \"Topic17\", \"Topic17\", \"Topic17\", \"Topic17\", \"Topic17\", \"Topic17\", \"Topic17\", \"Topic17\", \"Topic17\", \"Topic17\", \"Topic17\", \"Topic17\", \"Topic17\", \"Topic17\", \"Topic17\", \"Topic17\", \"Topic17\", \"Topic17\", \"Topic17\", \"Topic17\", \"Topic17\", \"Topic17\", \"Topic17\", \"Topic17\", \"Topic17\", \"Topic17\", \"Topic17\", \"Topic17\", \"Topic17\", \"Topic17\", \"Topic17\", \"Topic17\", \"Topic17\", \"Topic17\", \"Topic17\", \"Topic17\", \"Topic17\", \"Topic17\", \"Topic17\", \"Topic17\", \"Topic17\", \"Topic17\", \"Topic17\", \"Topic17\", \"Topic18\", \"Topic18\", \"Topic18\", \"Topic18\", \"Topic18\", \"Topic18\", \"Topic18\", \"Topic18\", \"Topic18\", \"Topic18\", \"Topic18\", \"Topic18\", \"Topic18\", \"Topic18\", \"Topic18\", \"Topic18\", \"Topic18\", \"Topic18\", \"Topic18\", \"Topic18\", \"Topic18\", \"Topic18\", \"Topic18\", \"Topic18\", \"Topic18\", \"Topic18\", \"Topic18\", \"Topic18\", \"Topic18\", \"Topic18\", \"Topic18\", \"Topic18\", \"Topic18\", \"Topic18\", \"Topic18\", \"Topic18\", \"Topic18\", \"Topic18\", \"Topic18\", \"Topic18\", \"Topic18\", \"Topic18\", \"Topic18\", \"Topic18\", \"Topic18\", \"Topic18\", \"Topic18\", \"Topic18\", \"Topic18\", \"Topic18\", \"Topic18\", \"Topic18\", \"Topic18\", \"Topic18\", \"Topic18\", \"Topic19\", \"Topic19\", \"Topic19\", \"Topic19\", \"Topic19\", \"Topic19\", \"Topic19\", \"Topic19\", \"Topic19\", \"Topic19\", \"Topic19\", \"Topic19\", \"Topic19\", \"Topic19\", \"Topic19\", \"Topic19\", \"Topic19\", \"Topic19\", \"Topic19\", \"Topic19\", \"Topic19\", \"Topic19\", \"Topic19\", \"Topic19\", \"Topic19\", \"Topic19\", \"Topic19\", \"Topic19\", \"Topic19\", \"Topic19\", \"Topic19\", \"Topic19\", \"Topic19\", \"Topic19\", \"Topic19\", \"Topic19\", \"Topic19\", \"Topic19\", \"Topic19\", \"Topic19\", \"Topic19\", \"Topic19\", \"Topic19\", \"Topic19\", \"Topic19\", \"Topic19\", \"Topic19\", \"Topic19\", \"Topic19\", \"Topic19\", \"Topic19\", \"Topic19\", \"Topic19\", \"Topic19\", \"Topic19\", \"Topic19\", \"Topic19\", \"Topic19\", \"Topic19\", \"Topic20\", \"Topic20\", \"Topic20\", \"Topic20\", \"Topic20\", \"Topic20\", \"Topic20\", \"Topic20\", \"Topic20\", \"Topic20\", \"Topic20\", \"Topic20\", \"Topic20\", \"Topic20\", \"Topic20\", \"Topic20\", \"Topic20\", \"Topic20\", \"Topic20\", \"Topic20\", \"Topic20\", \"Topic20\", \"Topic20\", \"Topic20\", \"Topic20\", \"Topic20\", \"Topic20\", \"Topic20\", \"Topic20\", \"Topic20\", \"Topic20\", \"Topic20\", \"Topic20\", \"Topic20\", \"Topic20\", \"Topic20\", \"Topic20\", \"Topic20\", \"Topic20\", \"Topic20\", \"Topic20\", \"Topic20\", \"Topic20\", \"Topic20\", \"Topic20\", \"Topic20\", \"Topic20\", \"Topic20\", \"Topic20\", \"Topic20\", \"Topic20\", \"Topic20\", \"Topic20\", \"Topic20\", \"Topic20\", \"Topic20\", \"Topic20\", \"Topic20\", \"Topic20\", \"Topic20\"], \"Freq\": [27886.0, 33067.0, 12338.0, 9165.0, 8693.0, 8737.0, 8225.0, 7193.0, 7771.0, 6573.0, 12192.0, 5072.0, 4901.0, 5470.0, 6024.0, 4717.0, 6127.0, 7054.0, 4371.0, 5095.0, 3698.0, 7099.0, 4584.0, 3558.0, 3546.0, 5334.0, 3294.0, 3338.0, 4168.0, 3561.0, 1475.274160238745, 898.985397431739, 681.9131507024105, 1414.069346641023, 735.0979663946462, 477.6500406579369, 414.49622884375367, 358.17245178635505, 626.6063618664009, 350.19286114193886, 267.46626075941566, 256.61169935419247, 229.96868500099697, 208.25956219577148, 208.25956219494563, 206.28600557586083, 205.29922726670463, 254.3542793944317, 186.55043938778527, 176.68265629429246, 170.76198643860866, 170.76198643848554, 170.76198643649303, 287.34968993729944, 147.07930700142535, 144.11897208574848, 142.14541546524038, 138.1983022299433, 138.19768543645972, 137.2115239176295, 690.0964361170521, 385.94737549291267, 159.61672306205932, 236.4308000855012, 214.57879864869054, 190.86440102673478, 241.2750076816306, 896.8394312323016, 238.60011046907678, 831.0837134491861, 1226.4477056318608, 1212.76587632024, 602.1344305847756, 533.6930706058046, 800.5707736026579, 460.51056619924736, 827.5086120250667, 287.1060994880712, 333.9056567539594, 502.9788315089448, 417.3023090775311, 430.16776178655886, 1120.502274832007, 331.17106186141547, 727.1252849705966, 958.2430475867911, 2945.068588962511, 634.6939507739756, 619.6664650613423, 1173.5242408086342, 1027.8829454384318, 430.8270711488727, 542.1869723012026, 582.351445634042, 432.35932635540985, 3697.7937546826265, 3557.971572748186, 3545.9005930127673, 1469.6920785295877, 1281.5859776416778, 1005.9652736944875, 967.7405045331918, 929.5157353627509, 893.3027961659077, 807.8000230377509, 782.6521485897297, 1121.230585940176, 672.9692091965364, 849.7532089867138, 1842.7651545716133, 510.049189567276, 494.9604648980662, 365.1973407426917, 339.04364331450597, 273.6591697500172, 267.6236798818965, 266.61776490089824, 241.46989045275953, 228.39299574285602, 223.29864513270147, 181.1149917058111, 164.00152516158553, 144.90205255998745, 141.88430763930546, 140.87839265888806, 2940.279012868831, 2299.049419517998, 462.8443044474125, 879.3060208767454, 318.34969979703027, 1215.1106053755018, 1076.6714651797504, 3520.9292804078855, 1346.849491183795, 2421.7700350702967, 541.0493261321608, 747.2218845474126, 865.3470493047444, 2267.038900257936, 772.7989702967952, 1740.4326788819828, 751.9602907617228, 804.747413874579, 1785.9067502585197, 810.7923612657754, 1062.0057422235293, 1577.6816288010968, 599.7357175729344, 567.2654646971847, 543.9271567925072, 519.5747807856665, 494.2073957261558, 380.5615106583595, 373.45864284276433, 369.39936102060693, 890.5992026728421, 319.67978651771756, 292.2830106524233, 234.44537271558895, 204.00451064645355, 204.00451064616226, 201.9751198425588, 194.87225202537113, 645.1910778164785, 190.8134690774435, 187.76938420874563, 179.65182098745936, 173.5636485695521, 174.57222592329572, 167.47547615972312, 164.43138995449058, 162.40199914767723, 183.58325235788732, 542.9740862628558, 629.5503363467004, 785.069834356028, 294.0096392254673, 658.2990416871496, 459.06430742501476, 820.3061939041688, 246.60172080492396, 714.4149538240135, 770.8971300663342, 661.6460383651125, 1024.3607266616052, 416.6150872219616, 928.274596970204, 387.69113346975837, 925.4624393713002, 592.6552012296297, 611.788623055108, 975.0616644641736, 628.4403666572662, 2556.7641662931483, 686.7911089986347, 1500.162497160753, 1216.2091810360125, 570.7102053020873, 689.6563472419947, 1125.3867780286707, 950.0591360561585, 692.5650665245219, 596.9416651450856, 570.7710500305247, 522.4560682808057, 1158.2693036503113, 487.1454219638935, 422.8064184114114, 420.7932941806559, 401.6686139037575, 357.3783161556317, 972.6047999695451, 458.63424301269623, 283.90084588691946, 1354.128775911311, 544.507543823625, 225.51871931277742, 222.50055657908104, 228.48648624407312, 195.32337934494635, 192.30369298386327, 188.27744450541965, 185.2573164036276, 180.2249475480658, 226.14882495374164, 161.10026727160525, 227.11445133854556, 157.0740187202862, 153.047770313485, 2298.410533512788, 1403.5431355416301, 617.5391819176091, 502.71095900871177, 1211.6616136401835, 306.00211376045064, 1209.478000178847, 1331.4011351165948, 760.7688054393637, 4319.976427074839, 1035.593819290906, 688.6542588892571, 876.6197491034287, 728.6510309461039, 433.01589315792273, 540.8974690092916, 692.8588152629021, 650.6945925060253, 591.1619908815051, 731.5499996788889, 902.6023893466413, 1543.7263993982242, 554.1168444674286, 647.087891425642, 633.8016664931308, 600.5648215215821, 622.6879242954889, 461.11713150236517, 863.6152101577652, 328.11678377521156, 337.9271009229098, 372.29992807751677, 265.06476707698647, 318.9538937487689, 233.53875872679487, 230.58319544380646, 209.8942524645208, 202.99793813792317, 187.23493396549864, 186.24974620451172, 184.27927805027042, 181.32380739703072, 169.5015542656231, 224.34820754888258, 163.59042770053793, 159.64967665611448, 154.703627299869, 148.81261128631624, 145.85704728151512, 135.0199826331066, 133.04960711149212, 130.09404383076736, 119.25697845838171, 128.01006624559045, 1418.8451205582364, 111.37547637146984, 1033.926933255766, 760.6879329295434, 305.36915102289, 665.4398440266835, 291.0739761713785, 718.9440806481643, 888.0294088750469, 450.7243079388555, 721.4427972094574, 364.6251044305394, 788.628208721726, 331.92119289184296, 893.8991432907765, 898.5199527206104, 663.0719072241485, 465.06297528297057, 1428.8506931461718, 550.5818532857526, 2703.4771364468265, 667.2575897641417, 704.9013592916724, 1379.9963476502248, 399.97741730435024, 612.7952669272572, 813.184405278348, 827.2664347262463, 846.7570826465613, 574.2352214750217, 609.9777227986087, 1427.6493782552413, 592.2308459180701, 700.1741391986866, 547.9446291557794, 635.1597215944795, 568.9093856900839, 2591.488041746307, 4898.920109480907, 1860.9228446652144, 1160.352066360623, 725.691480395572, 706.9842853934643, 461.82157100941475, 378.1314877852713, 346.5752340396771, 285.58010163195644, 270.7548369530415, 253.08865756003246, 248.16571148805508, 241.27358698676588, 3281.172379461508, 220.59721348218724, 220.59644508690886, 204.84378605468353, 175.3061096217198, 163.4910390485041, 158.56808753132293, 153.64514689459327, 455.9859251300386, 146.75302240517598, 143.79925476033443, 142.81466554595482, 135.92254104581406, 129.03032473543706, 126.07664890021026, 122.13829204309718, 1475.9107731583485, 380.5277529640844, 668.2098153888281, 1571.6220180731646, 653.9913552215279, 521.1298696343277, 302.62116417342696, 279.1751462060202, 1164.8906633897066, 544.5407796822125, 420.0425910565437, 509.5341913432707, 441.038054250391, 432.00722524161773, 398.19730187788537, 488.0011586809251, 905.6303620352008, 309.8322756249194, 346.5171214620276, 3032.878235581333, 1936.2723037566334, 1769.9033517731916, 738.4975797022635, 723.0063547477628, 645.3076438265017, 509.14146854103547, 477.2579795049313, 489.01977897183764, 1658.6533106436427, 1210.7231526484843, 972.6691641069006, 706.4373517593275, 2226.897360646019, 473.2416126930295, 362.4736343598934, 344.01230463866506, 312.9195387893466, 290.5716133359862, 285.7133686514013, 284.74171973868016, 822.06265658422, 249.76235816139658, 247.81905982195892, 223.52783697623266, 1229.5626159091103, 211.86389067254663, 197.2933157925695, 183.69007439810198, 180.77528393209425, 173.97373185258493, 645.4549355251398, 154.54076275170965, 154.54076275117626, 153.56911381884797, 351.51648724081423, 142.8809755574983, 131.22118836507073, 121.50469903661573, 2109.191696123518, 224.3928641488303, 171.38987491903987, 709.7557993900774, 552.292237387865, 1639.6402331226395, 1327.2481352960979, 804.9256963108426, 1337.377472218241, 795.0494525989591, 3407.8993441175526, 724.0278984680593, 606.5938137038942, 1329.8906053553376, 1532.1629151172808, 438.9577748970315, 874.8041522158853, 387.0360146431114, 963.3823793925264, 812.9306802735346, 505.55975397716867, 665.8424179876359, 1397.9844741065635, 647.9667494303945, 3437.1828973041997, 1037.1620679542582, 1002.6181157331001, 1487.1348595796464, 1021.5285361940274, 5071.882140709495, 3069.119390937529, 2877.657827041601, 2198.0640581304615, 2009.445981683179, 1290.0433739533382, 1165.8725805855559, 1074.8860454274836, 942.1896895227993, 928.916502288382, 691.9629441598034, 661.6323993884553, 611.397434604073, 552.6320041030052, 550.7363450545474, 549.788515527881, 538.4145612397108, 528.9362659974628, 460.6700496963196, 422.7793592820516, 353.5878040117901, 294.8223735098932, 294.8223734943078, 1228.080486261181, 253.11787444475976, 253.11177918133853, 654.4711802002256, 247.4224160265075, 240.7960906278445, 240.7960317398242, 4676.006401659403, 2681.4294306507877, 556.3857051896925, 730.2997619927123, 676.4645121259499, 667.584048263121, 1830.6850220710635, 2229.181133496588, 1509.5937017419908, 995.5298845958624, 2792.2119748499117, 1255.9884078705063, 7117.742259670675, 1745.4162363722771, 1620.9965664817835, 683.8463602527997, 2905.1738699267808, 1166.3583638087891, 1157.9260412259446, 1102.9230002431646, 2163.204092486709, 811.5854512077914, 665.9405770379343, 679.7792472091749, 644.1405730282088, 620.3587504696216, 782.4480040781508, 541.0860086179772, 475.6859965760645, 331.0132427040836, 323.0859685174389, 414.89560124839807, 297.29832198570017, 281.4677790455509, 492.76169978586535, 267.5950492192361, 262.6405028551374, 252.73141012249275, 246.78595448307186, 237.86777102573103, 212.1041299227898, 197.2404908245212, 177.42230536016146, 174.4486588054033, 161.49402583102398, 145.71320861764355, 144.72229244881655, 135.78553052106636, 130.84956952097397, 484.0365686906124, 727.6839591650775, 213.08049797799143, 2600.6478203972265, 422.00690321213676, 568.4071936447538, 2122.0691829828647, 1229.6556263575426, 627.51530282197, 1208.7381418908433, 543.181882486018, 584.1695817038775, 1530.9400184761664, 1832.6160888952832, 1173.1308112148288, 561.2742897098996, 2294.388085299514, 782.265134470509, 3038.407828237439, 915.7942753545036, 793.8224492444147, 1269.3927480354075, 544.0108626929907, 663.8442584921142, 734.2747884711462, 625.3198965324942, 725.5817478413213, 585.0790909706704, 985.2191818822687, 705.603545087914, 650.4746767022158, 537.2326365241527, 495.1401625635774, 489.1269230606701, 385.89964496404826, 376.8797857140643, 331.78048945645014, 554.2814515981055, 265.63485494293707, 259.6216154430176, 257.61720227899775, 247.4981412979337, 210.51310032353516, 187.46274143603688, 188.38081303042887, 154.3899241803236, 156.30615130073667, 175.1897276306019, 430.01495886424857, 137.35241226469248, 135.34799909714292, 222.90767963601763, 130.33696617778023, 124.32332749115352, 120.31490034560993, 117.30828059261135, 108.2884213416715, 107.28621475615466, 886.6481438650828, 1527.8189545798175, 1129.3527252114525, 951.5732758945893, 440.5696732841224, 226.07602124289303, 813.8362498842713, 1935.0594250859658, 765.6706084018824, 1755.0823730489667, 400.0332866143816, 799.9976688410142, 825.2854242329756, 1065.770741327107, 508.41491285315686, 543.3762990311128, 510.81822637919583, 568.8339613754843, 732.5075660783978, 438.62244285617146, 526.8800298674807, 450.9929413828888, 900.5438079923761, 587.7849717858735, 452.2286915910145, 2221.02055784579, 2547.7807705662717, 1183.781853820996, 501.3064372548366, 454.4051430547325, 1980.4006803519376, 447.5653709841095, 435.76988620423947, 385.030312055854, 414.2631049617176, 380.1447605768755, 358.6483340701233, 321.5181428300938, 313.701260460762, 290.25061336388137, 289.27350306627807, 249.21198091711085, 224.7842235457634, 218.92156176669354, 218.92156175037945, 193.51669407910575, 384.0571349850903, 182.76848082560733, 176.9058190527578, 174.95159845840692, 172.02026757196012, 172.02026757139657, 181.6839252124288, 161.27205431670095, 160.29494402099388, 683.4646264035792, 800.260805233494, 2393.5101211418737, 199.67627942255606, 2656.4983719515044, 3092.131686104082, 600.6574366842551, 1660.8477839458708, 5450.857521167955, 2650.6362865255123, 430.9661970564889, 880.1388914690255, 359.9567527991212, 1031.0741626967472, 355.613575914197, 429.28973923102376, 591.829580478371, 1409.1027026196748, 520.3008406614633, 1130.1830431552087, 619.79606966385, 601.6998172039059, 585.3423537631116, 927.6898809637557, 557.1847542776054, 469.7938594810126, 450.547542189138, 440.3135086339601, 1248.9749443240921, 1279.7805949817541, 788.3341583111991, 591.7465101946677, 227.47532271869719, 896.0349538254496, 198.5658634119497, 191.82008927652547, 185.0743706291108, 178.32862423795214, 158.09138506698298, 150.38196061806832, 3317.602436676772, 144.5998922815825, 143.6362142261566, 155.08456390021612, 134.96311172351795, 130.14472144258568, 102.19805782413029, 100.27070171210713, 129.86558192889677, 96.41598948773077, 92.56120782129148, 102.06116719312503, 597.8186909060571, 142.9504653555746, 79.06978448234683, 67.50564781325025, 74.14709858204442, 358.17629738080853, 295.0325111070226, 175.3427019309852, 6724.441152802169, 11179.151559072527, 287.66613478685764, 161.97003453958231, 796.7683383585062, 226.59121289406997, 771.6070694282545, 496.13928949351975, 1099.9438544620225, 553.4411538191106, 1059.0351330653875, 933.7311330099035, 506.18498875097214, 680.1603557008372, 1286.799226649055, 812.0635161478793, 302.874992712566, 1060.3980591964353, 1141.6493761697895, 507.0701429462892, 1246.302800026973, 1277.8271401940378, 398.3821198980986, 1714.333213970049, 392.07413559119794, 1015.4802158373392, 699.7158330283594, 568.0018036077569, 554.8837339161106, 3193.250679080704, 1126.8897729730165, 993.9205659208645, 334.8979945022612, 1504.428078690379, 286.3690862941137, 277.6338019518086, 256.2811634499487, 222.3109278094689, 356.62089960124615, 179.60548856223724, 178.5796662757186, 158.25276917357644, 149.41806923103331, 128.1648461778951, 128.16484617742532, 127.19426801628626, 127.1942680162039, 127.19426801606706, 127.15739127055423, 116.51790824230825, 474.682080146331, 109.72386111649695, 108.75328295517089, 105.84154847193349, 105.83644877399823, 103.90008510320817, 96.13571725962161, 92.25345421522069, 91.28287605258197, 2777.121248990591, 379.0839710726325, 322.3659996686696, 519.6849832954429, 200.0702966837511, 347.85074636990635, 1784.0958534515917, 383.01224398744097, 840.2007894666234, 226.49444207987796, 618.6172921139155, 885.071973324093, 460.4931286871753, 5765.64743137948, 1549.5021649841228, 2027.4824904774139, 371.13002760845615, 2694.62383316174, 407.0436426468084, 958.521398257168, 678.9808471913119, 1406.7282236985488, 1535.6007523930964, 1680.7016621230898, 1496.4434332355274, 616.0245485818815, 1263.6896952528293, 1337.5024924179027, 555.1244140348406, 754.0898025545674, 798.4801815705051, 744.8462937773545, 466.8989193376475, 492.69197354182097, 560.2906611317273, 521.3016287354529, 521.3472584133494, 1257.9355844457605, 1127.4287204123364, 894.5241630591999, 765.0211979774851, 534.1244385319973, 524.0854489901948, 501.99967200194226, 500.99577304744685, 472.8866023314781, 456.82421906641, 446.7852295262506, 429.71894730552157, 409.64096822265867, 391.5707870503801, 513.6429236003826, 357.43822260919256, 333.34464771112766, 330.3329508480482, 323.30565816897655, 293.18868954438864, 284.1535989594102, 274.1146094180742, 260.06002406019996, 249.01713556609283, 242.99374184231587, 231.950853346084, 191.78289114408733, 179.74810773063743, 172.7208150529018, 150.63503806162117, 9029.026672287675, 1876.2020374006893, 1384.351245295574, 330.3333702447776, 1457.496564098099, 1001.6509830239972, 1391.1636363942291, 6895.316253576627, 1669.9004886931039, 610.507508714847, 408.2417765184533, 353.4046791077254, 1448.0851461029608, 440.52893604550627, 596.3344480146551, 468.4457579857899, 478.8602766732817, 425.77234393524725, 418.6942171971327, 1059.4144447183728, 766.8416649102716, 668.6589385686212, 566.549724264878, 425.1722669716074, 412.395805826512, 389.8271530078941, 358.4092739085882, 344.66395180222645, 343.6821430794878, 339.75474277409586, 333.86405586160936, 319.136830882822, 285.7553911399211, 253.35574066970318, 240.59222728565442, 236.66499239940103, 232.73775751017573, 222.9196702932169, 229.71660100376596, 195.42902608172272, 195.4290260800443, 240.34493648309999, 185.61093886355798, 174.81104292302834, 194.343154394407, 164.992935895303, 391.4288327502338, 155.174865560958, 154.1930597646971, 287.8258422790164, 216.1902227025379, 1623.2990997858049, 435.4346065054709, 487.3725630212791, 4851.923173571403, 1187.979041247603, 335.7147313865949, 929.9418330643289, 608.8415059878995, 876.6580479705606, 888.8663532343734, 535.7887955373442, 1488.9697424371768, 1111.2978183708271, 365.17593906306814, 1118.2132785695853, 752.921072758258, 704.7171031159809, 622.008614549163, 697.5541868235551, 568.3808566446039, 537.5283130344467, 512.7209228718335, 449.4341372373051, 812.6979747778695, 477.62435710710974, 550.038911372209, 773.9795649664948, 550.3645773567862, 539.4078331903632, 478.0937711803882, 2679.1261986645472, 1510.848953969618, 1576.6695825932188, 737.5256923965469, 664.4599412174463, 512.4831787667725, 902.1137605756837, 2355.989494265063, 404.3458670224063, 355.6353229250251, 336.1511659207031, 246.5226449264721, 229.96227420850272, 216.32333398711347, 530.4935097822905, 173.4580932965107, 151.04477905431114, 146.18021285686297, 145.20600284068286, 126.69601254264929, 125.72180252400794, 708.6520361880843, 118.90233241490812, 116.95391238492638, 114.03128233748178, 109.16023225606638, 832.6513837985111, 105.26339219559196, 104.28918217947218, 103.31497216382157, 423.2005994476971, 461.9183000629555, 1464.1682032779693, 410.65984502157943, 754.0563675967292, 775.4103866975382, 278.11025449728464, 6481.597972872331, 811.564963862217, 412.67368552799775, 870.2163282461013, 1644.9200618674145, 2256.164005570945, 1487.966793835229, 657.8821031680989, 857.3036361746762, 509.39615488822756, 1128.4048644270817, 3635.6805294210317, 845.4195338951738, 596.6584928878891, 1158.7674268562314, 508.99043846295314, 579.5185076816758, 636.8807331221946, 598.8673215623204, 546.6578317746951, 2382.6116358545237, 1877.5219884914602, 879.995960268018, 829.9423023484018, 779.888487599064, 597.6926019119524, 618.5769695502007, 466.55160727061235, 458.5429969118885, 451.5348122791806, 425.50734832324935, 592.280704039668, 432.46719490813337, 360.4375200042362, 310.3837052375979, 280.35141640686294, 268.33850086753665, 245.31374608166385, 664.9627819249037, 230.2976016585489, 216.28253352838794, 210.27607575546085, 333.72782766425604, 719.0295494767893, 179.24271061378926, 171.23410025443042, 171.23409683489606, 167.22979507426604, 164.2265661896779, 147.2082691709583, 1255.9652741732136, 364.72955379422757, 1206.1735238638205, 187.69023356258754, 479.9122232664899, 960.1906839231932, 809.1995134748232, 374.5858138402342, 399.5588920346206, 423.5031463400377, 351.87313883721026, 448.2559994914535, 1811.6230470976798, 1899.337648663258, 774.4727509485468, 586.2877543057155, 722.0294617213484, 659.0778864764925, 972.3891543746112, 945.4213289582808, 589.03550344578, 568.2770411067992, 754.2936188509639, 940.849170274544, 620.3166951808347, 571.6992842892271, 526.4073219837638, 692.3000227477637, 571.3461966387703, 1592.23097948076, 990.4770697363306, 1944.4988041462805, 925.369268934932, 1040.347315832113, 580.1006334885357, 749.4789754385629, 446.9255879637387, 388.7231606581723, 325.58832426318725, 318.682951531515, 305.85868788765237, 301.9127606123079, 829.2897707450027, 215.10236056562587, 247.5067375225167, 210.1699514732566, 968.9820912257397, 177.61605145606904, 199.15044542815326, 161.83234235803315, 304.04483413599667, 158.8728969011834, 587.4139035662745, 150.96949895168066, 148.98879326055288, 144.07566944016813, 137.17021839003766, 134.21085099007536, 179.26926887338377, 254.67225444409087, 274.92259455839667, 235.84358507582164, 204.0744758243479, 358.5531036931118, 2910.0677052709357, 315.620556101958, 572.5916296402196, 882.4651298475741, 757.2501667684459, 468.69488414403946, 583.4181528637666, 3824.4061804109, 514.4145991957945, 424.7405017358274, 741.8419754619025, 440.57401806469375, 525.7823235405959, 1183.6880507122871, 493.0014078554731, 349.25137785159785, 348.6945120567832, 460.64360002111727, 366.59401194724285, 350.96415344084136, 2378.590359930741, 1843.1163158448035, 1561.4164940626874, 1410.4619762697746, 821.0534450945323, 401.92738237284743, 386.5444338613912, 352.8942607325956, 317.32121170096207, 303.8611390916195, 291.36250024541215, 275.9667109763128, 247.13654739375946, 243.29081236410377, 226.94643846692094, 223.10070345510346, 217.3321009071034, 227.84524135007698, 200.0262932700958, 190.41150947885424, 177.91331684630896, 163.49181048022587, 2580.539810064998, 156.76177417792843, 153.82731181001827, 131.74189795787134, 122.15015890263032, 120.22729138938183, 120.227291388098, 114.45868227842278, 316.73535864851004, 519.6315867878427, 399.6290842141223, 7370.821790199401, 1007.0904464355244, 1430.637900270086, 211.25187671723666, 830.2067242333734, 933.2133545547347, 4393.667968397698, 714.0420331825926, 659.245646917443, 411.1721176813687, 12989.91130776325, 984.2716357305682, 478.66617701208895, 603.9032887742821, 379.75237536462504, 1358.2383802869003, 613.9372915921542, 479.2317599342843, 665.0399555044489, 677.5116587622539, 512.1750234075562, 598.3014695760266, 764.3440937090272, 751.2844134002398, 902.0855157216888, 510.22179704716825, 4370.236862723202, 3560.376662802835, 1357.697420499815, 885.1400160629173, 824.1648739360278, 766.0479358275883, 587.8861747421712, 555.4931272743405, 554.5403690447605, 547.8712337525021, 444.9386685960755, 399.24431006557376, 464.7459541220459, 340.1746352681181, 292.53780075214166, 292.5377483654759, 216.31886547985343, 204.8860252463214, 178.20862683722095, 171.54024108423081, 276.70206753479823, 160.10740080317518, 157.24919073098283, 631.7934143755632, 151.53277058731643, 149.6272972067417, 144.8635605709811, 136.2889835445188, 126.76161664146743, 121.04519649999065, 196.581101763989, 1146.6439795525916, 2633.6424026495743, 588.2425908463792, 4750.208898314874, 277.0709514503535, 831.1612610992851, 1331.4834961389327, 321.82487893090524, 260.76896023085, 634.6187909756613, 2856.5888647566353, 501.89660573542153, 18543.106704853726, 816.0224629805007, 1215.9302038976045, 711.5323375103847, 2201.691688510096, 6463.25574099368, 554.5191361616895, 817.9146488827807, 1334.5384645033264, 1321.20340229652, 985.6109101238609, 1134.1188291221586, 1507.9336220256098, 1186.3064877065115, 738.4752430331481, 680.8062548000913, 714.2291997398061], \"Term\": [\"does\", \"best\", \"people\", \"did\", \"make\", \"quora\", \"way\", \"difference\", \"life\", \"know\", \"like\", \"trump\", \"world\", \"think\", \"new\", \"online\", \"learn\", \"money\", \"mean\", \"work\", \"500\", \"time\", \"start\", \"notes\", \"1000\", \"indian\", \"long\", \"engineering\", \"english\", \"feel\", \"service\", \"media\", \"source\", \"history\", \"sydney\", \"internship\", \"funniest\", \"sales\", \"heard\", \"room\", \"joke\", \"symbol\", \"networking\", \"pride\", \"floor\", \"individuals\", \"fi\", \"architecture\", \"legit\", \"enterprise\", \"jokes\", \"wi\", \"arts\", \"customer\", \"computing\", \"prank\", \"apache\", \"tiles\", \"printer\", \"ruby\", \"options\", \"manager\", \"cheat\", \"chrome\", \"alternatives\", \"developers\", \"cloud\", \"services\", \"pdf\", \"open\", \"career\", \"social\", \"quality\", \"file\", \"development\", \"option\", \"code\", \"php\", \"hp\", \"function\", \"professional\", \"solution\", \"company\", \"events\", \"companies\", \"google\", \"best\", \"ve\", \"web\", \"india\", \"good\", \"advice\", \"use\", \"does\", \"friends\", \"500\", \"notes\", \"1000\", \"rupee\", \"making\", \"2000\", \"currency\", \"ban\", \"banning\", \"porn\", \"speak\", \"economy\", \"rupees\", \"decision\", \"word\", \"corruption\", \"demonetization\", \"spanish\", \"acid\", \"fluently\", \"curb\", \"identify\", \"define\", \"scrapping\", \"christmas\", \"celebrate\", \"demonetisation\", \"denomination\", \"introducing\", \"arabic\", \"black\", \"rs\", \"french\", \"sentence\", \"banned\", \"process\", \"tips\", \"indian\", \"government\", \"english\", \"impact\", \"note\", \"modi\", \"money\", \"white\", \"india\", \"interview\", \"help\", \"average\", \"alcohol\", \"purpose\", \"cost\", \"county\", \"rehab\", \"structure\", \"inpatient\", \"temperatures\", \"gst\", \"spotify\", \"manage\", \"legal\", \"sahara\", \"gifts\", \"fiction\", \"invited\", \"visitor\", \"gobi\", \"lewis\", \"cold\", \"icloud\", \"daniel\", \"quotes\", \"explanation\", \"magnetic\", \"tesla\", \"ek\", \"meditation\", \"circuit\", \"charge\", \"price\", \"ones\", \"profit\", \"desert\", \"bring\", \"center\", \"usually\", \"drug\", \"current\", \"foreign\", \"man\", \"muslim\", \"state\", \"battery\", \"home\", \"successful\", \"near\", \"compare\", \"salary\", \"does\", \"non\", \"india\", \"good\", \"available\", \"time\", \"series\", \"facts\", \"pro\", \"macbook\", \"recruit\", \"grads\", \"looking\", \"buying\", \"bang\", \"resolution\", \"york\", \"plus\", \"apple\", \"intelligence\", \"gps\", \"exist\", \"blowing\", \"6s\", \"temple\", \"artificial\", \"zone\", \"button\", \"royal\", \"longest\", \"psychopath\", \"feed\", \"nano\", \"released\", \"oldest\", \"comfort\", \"iphone\", \"tv\", \"fix\", \"stories\", \"worth\", \"release\", \"interesting\", \"big\", \"rate\", \"new\", \"mind\", \"city\", \"answers\", \"post\", \"capital\", \"solve\", \"problem\", \"universities\", \"design\", \"2017\", \"year\", \"does\", \"majors\", \"don\", \"people\", \"know\", \"address\", \"fear\", \"visa\", \"log\", \"finance\", \"abroad\", \"applying\", \"javascript\", \"similarities\", \"html\", \"js\", \"ip\", \"faux\", \"pas\", \"percentile\", \"immigration\", \"criteria\", \"presence\", \"pizza\", \"sat\", \"iits\", \"css\", \"biotechnology\", \"cultures\", \"node\", \"cuisine\", \"commission\", \"thank\", \"differences\", \"pr\", \"jobs\", \"australia\", \"loan\", \"avoid\", \"protein\", \"required\", \"canada\", \"passport\", \"uk\", \"sign\", \"overcome\", \"driver\", \"mba\", \"apply\", \"information\", \"greatest\", \"car\", \"colleges\", \"job\", \"amazon\", \"international\", \"college\", \"phd\", \"degree\", \"usa\", \"students\", \"student\", \"pay\", \"experience\", \"india\", \"major\", \"real\", \"power\", \"different\", \"need\", \"war\", \"world\", \"math\", \"culture\", \"russia\", \"distance\", \"corporate\", \"relationships\", \"tata\", \"plant\", \"removed\", \"cyrus\", \"mistry\", \"iii\", \"long\", \"batman\", \"ii\", \"frac\", \"tested\", \"sons\", \"bjp\", \"michael\", \"formula\", \"sqrt\", \"sin\", \"richest\", \"superman\", \"karma\", \"punjab\", \"bomb\", \"pakistan\", \"art\", \"term\", \"china\", \"cell\", \"fight\", \"equation\", \"turkey\", \"countries\", \"japan\", \"nuclear\", \"calculate\", \"role\", \"likely\", \"works\", \"party\", \"relationship\", \"israel\", \"pok\\u00e9mon\", \"does\", \"india\", \"like\", \"win\", \"different\", \"country\", \"america\", \"support\", \"happen\", \"days\", \"visit\", \"period\", \"week\", \"live\", \"kerala\", \"goa\", \"pounds\", \"trip\", \"harvard\", \"medicine\", \"listen\", \"plan\", \"francisco\", \"essay\", \"loose\", \"places\", \"lyrics\", \"xbox\", \"stanford\", \"10th\", \"bay\", \"healthy\", \"elon\", \"ps4\", \"musk\", \"competitive\", \"safely\", \"juice\", \"pack\", \"learning\", \"novel\", \"credits\", \"hours\", \"eating\", \"university\", \"place\", \"pregnant\", \"write\", \"machine\", \"start\", \"fast\", \"mumbai\", \"meaning\", \"study\", \"spend\", \"music\", \"morning\", \"food\", \"song\", \"area\", \"program\", \"weight\", \"bangalore\", \"best\", \"lose\", \"day\", \"good\", \"like\", \"trump\", \"donald\", \"improve\", \"clinton\", \"hillary\", \"skills\", \"election\", \"writing\", \"presidential\", \"digital\", \"institute\", \"safety\", \"proposed\", \"handling\", \"precautions\", \"communication\", \"nra\", \"shotguns\", \"seo\", \"presidency\", \"trading\", \"fund\", \"debate\", \"marketing\", \"wins\", \"films\", \"investment\", \"funding\", \"skill\", \"investors\", \"online\", \"business\", \"speaking\", \"invest\", \"pros\", \"cons\", \"president\", \"ways\", \"earn\", \"delhi\", \"money\", \"win\", \"best\", \"english\", \"2016\", \"startup\", \"india\", \"start\", \"make\", \"good\", \"data\", \"snapchat\", \"sim\", \"messages\", \"jio\", \"numbers\", \"drive\", \"earthquake\", \"commit\", \"4g\", \"devices\", \"phones\", \"analytics\", \"cambodia\", \"names\", \"emotions\", \"3g\", \"reliance\", \"usb\", \"attractions\", \"redmi\", \"painless\", \"described\", \"contacts\", \"medals\", \"hadoop\", \"unlimited\", \"vpn\", \"digit\", \"device\", \"suicide\", \"saved\", \"free\", \"update\", \"store\", \"android\", \"internet\", \"message\", \"effects\", \"ios\", \"photos\", \"mobile\", \"app\", \"whatsapp\", \"network\", \"phone\", \"seen\", \"use\", \"download\", \"create\", \"using\", \"send\", \"video\", \"number\", \"compare\", \"best\", \"google\", \"height\", \"industry\", \"happy\", \"rich\", \"personality\", \"memory\", \"channel\", \"disorder\", \"forget\", \"news\", \"symptoms\", \"cook\", \"notice\", \"went\", \"angry\", \"silicon\", \"member\", \"debt\", \"teachers\", \"vision\", \"anxiety\", \"unexpected\", \"venezuela\", \"carry\", \"boring\", \"glasses\", \"borderline\", \"racism\", \"sri\", \"maharashtra\", \"fall\", \"youtube\", \"market\", \"deal\", \"minister\", \"shot\", \"child\", \"important\", \"stock\", \"increase\", \"dead\", \"wrong\", \"family\", \"age\", \"prime\", \"oil\", \"iq\", \"known\", \"makes\", \"dogs\", \"20\", \"dream\", \"india\", \"love\", \"videos\", \"computer\", \"programming\", \"windows\", \"infinite\", \"applications\", \"science\", \"install\", \"vacuum\", \"candy\", \"positive\", \"imported\", \"taffy\", \"saltwater\", \"cool\", \"kvpy\", \"cutoff\", \"virtual\", \"sa\", \"gun\", \"biology\", \"kong\", \"potential\", \"hong\", \"expands\", \"chain\", \"triangle\", \"ipod\", \"expansion\", \"desktop\", \"divided\", \"languages\", \"created\", \"going\", \"tricks\", \"language\", \"things\", \"develop\", \"energy\", \"know\", \"day\", \"linux\", \"universe\", \"image\", \"employees\", \"expected\", \"master\", \"apps\", \"learn\", \"project\", \"new\", \"examples\", \"used\", \"using\", \"best\", \"good\", \"use\", \"10\", \"want\", \"mechanical\", \"engineer\", \"advantages\", \"disadvantages\", \"analyst\", \"hate\", \"liberal\", \"atheists\", \"petrol\", \"obsessed\", \"googling\", \"diesel\", \"engineering\", \"answering\", \"engines\", \"stack\", \"electron\", \"conservative\", \"isro\", \"automobile\", \"soda\", \"equations\", \"aerospace\", \"wipro\", \"engine\", \"refer\", \"socially\", \"silly\", \"belief\", \"engineers\", \"feelings\", \"electoral\", \"difference\", \"people\", \"completing\", \"leader\", \"easily\", \"community\", \"search\", \"scope\", \"believe\", \"developer\", \"working\", \"god\", \"electrical\", \"instead\", \"ask\", \"tech\", \"prove\", \"software\", \"country\", \"research\", \"google\", \"questions\", \"care\", \"quora\", \"chemical\", \"like\", \"use\", \"job\", \"don\", \"account\", \"gmail\", \"hack\", \"league\", \"password\", \"planets\", \"reservation\", \"quickbooks\", \"hacked\", \"remember\", \"motivated\", \"gap\", \"clash\", \"taught\", \"ivy\", \"millionaire\", \"forgotten\", \"nba\", \"soccer\", \"savings\", \"fantasy\", \"favourite\", \"clans\", \"username\", \"lesson\", \"awesome\", \"unblock\", \"ap\", \"deactivate\", \"premier\", \"old\", \"forgot\", \"messenger\", \"changed\", \"actress\", \"recovery\", \"school\", \"reset\", \"popular\", \"learned\", \"star\", \"education\", \"blocked\", \"life\", \"read\", \"movie\", \"13\", \"year\", \"accounts\", \"email\", \"date\", \"years\", \"thing\", \"number\", \"facebook\", \"recover\", \"change\", \"books\", \"medical\", \"high\", \"instagram\", \"indian\", \"join\", \"bank\", \"india\", \"want\", \"best\", \"police\", \"hotel\", \"battle\", \"credit\", \"significance\", \"crush\", \"couples\", \"moral\", \"followers\", \"staff\", \"unmarried\", \"viewed\", \"station\", \"harassment\", \"income\", \"pan\", \"thrones\", \"hitler\", \"invented\", \"historical\", \"hill\", \"lord\", \"hotels\", \"debit\", \"somme\", \"dhoni\", \"graphics\", \"bored\", \"figures\", \"widely\", \"did\", \"card\", \"game\", \"mexico\", \"tell\", \"happened\", \"safe\", \"make\", \"instagram\", \"kill\", \"cards\", \"contrast\", \"money\", \"likes\", \"friends\", \"video\", \"facebook\", \"compare\", \"know\", \"light\", \"matter\", \"force\", \"americans\", \"flat\", \"harry\", \"gravity\", \"potter\", \"ball\", \"east\", \"korean\", \"object\", \"surgical\", \"rights\", \"fly\", \"africa\", \"strike\", \"wake\", \"wave\", \"plane\", \"constitution\", \"direction\", \"peace\", \"dragon\", \"experiment\", \"aircraft\", \"african\", \"hole\", \"foreigners\", \"velocity\", \"bible\", \"century\", \"earth\", \"middle\", \"sun\", \"think\", \"american\", \"double\", \"speed\", \"japanese\", \"air\", \"space\", \"moon\", \"com\", \"chinese\", \"super\", \"human\", \"review\", \"indians\", \"profile\", \"dark\", \"view\", \"south\", \"faster\", \"understand\", \"indian\", \"order\", \"happen\", \"does\", \"india\", \"like\", \"people\", \"question\", \"girls\", \"happens\", \"improvement\", \"blog\", \"needing\", \"asked\", \"movies\", \"marked\", \"writer\", \"boys\", \"actors\", \"horror\", \"theories\", \"hollywood\", \"conspiracy\", \"asks\", \"impress\", \"underrated\", \"grammatically\", \"lakhs\", \"guys\", \"saudi\", \"actresses\", \"poker\", \"metro\", \"add\", \"arabia\", \"brahmin\", \"bite\", \"anime\", \"gift\", \"answer\", \"birthday\", \"000\", \"house\", \"romantic\", \"quora\", \"traffic\", \"details\", \"site\", \"website\", \"questions\", \"girl\", \"songs\", \"watch\", \"bollywood\", \"buy\", \"best\", \"ask\", \"month\", \"like\", \"websites\", \"phone\", \"make\", \"good\", \"money\", \"prepare\", \"exam\", \"iit\", \"jee\", \"gate\", \"obama\", \"religion\", \"rank\", \"crack\", \"neet\", \"ssc\", \"exams\", \"upsc\", \"hacker\", \"cgl\", \"po\", \"mains\", \"gandhi\", \"blood\", \"ibps\", \"entrance\", \"mr\", \"cse\", \"marks\", \"bernie\", \"barack\", \"ceo\", \"sanders\", \"syllabus\", \"november\", \"states\", \"advanced\", \"united\", \"candidates\", \"islam\", \"cat\", \"preparation\", \"step\", \"chemistry\", \"preparing\", \"12th\", \"board\", \"lose\", \"weight\", \"months\", \"ias\", \"score\", \"gain\", \"2017\", \"2016\", \"test\", \"class\", \"year\", \"good\", \"books\", \"president\", \"modi\", \"best\", \"better\", \"travel\", \"living\", \"water\", \"biggest\", \"parents\", \"moment\", \"daily\", \"smoking\", \"global\", \"embarrassing\", \"regret\", \"ice\", \"convince\", \"humans\", \"lie\", \"mistake\", \"introvert\", \"law\", \"egg\", \"salt\", \"warming\", \"khan\", \"concentrate\", \"past\", \"2010\", \"fitness\", \"faced\", \"jail\", \"gen\", \"alien\", \"ok\", \"requirements\", \"basis\", \"smoke\", \"weed\", \"possible\", \"adult\", \"brain\", \"die\", \"main\", \"studies\", \"problems\", \"time\", \"words\", \"depression\", \"future\", \"reasons\", \"story\", \"life\", \"common\", \"special\", \"drink\", \"want\", \"cause\", \"examples\", \"women\", \"men\", \"hair\", \"rid\", \"wear\", \"acne\", \"gaming\", \"beginners\", \"strongest\", \"expensive\", \"anger\", \"clothes\", \"confidence\", \"coast\", \"novels\", \"weakest\", \"laptops\", \"brown\", \"masturbate\", \"piano\", \"anal\", \"photography\", \"book\", \"shirt\", \"pimples\", \"wash\", \"fruit\", \"remedies\", \"muscles\", \"beard\", \"hacking\", \"belly\", \"fastest\", \"way\", \"self\", \"laptop\", \"naturally\", \"reduce\", \"fat\", \"learn\", \"remove\", \"python\", \"meth\", \"best\", \"eat\", \"gold\", \"grow\", \"skin\", \"sex\", \"build\", \"easiest\", \"java\", \"body\", \"health\", \"control\", \"books\", \"buy\", \"good\", \"ways\", \"mean\", \"feel\", \"favorite\", \"boyfriend\", \"dog\", \"solar\", \"ex\", \"installation\", \"balance\", \"panel\", \"feeling\", \"positions\", \"thinking\", \"departments\", \"taste\", \"shoes\", \"respond\", \"vagina\", \"yellow\", \"uri\", \"thoughts\", \"shepherd\", \"jealous\", \"beautiful\", \"innovations\", \"ups\", \"feels\", \"shy\", \"sperm\", \"lonely\", \"plants\", \"girlfriend\", \"stop\", \"says\", \"work\", \"trust\", \"sleep\", \"guy\", \"hurt\", \"loves\", \"talk\", \"love\", \"mix\", \"does\", \"differ\", \"look\", \"california\", \"person\", \"like\", \"marriage\", \"woman\", \"sex\", \"girl\", \"bad\", \"really\", \"good\", \"time\", \"friend\", \"having\", \"don\"], \"Total\": [27886.0, 33067.0, 12338.0, 9165.0, 8693.0, 8737.0, 8225.0, 7193.0, 7771.0, 6573.0, 12192.0, 5072.0, 4901.0, 5470.0, 6024.0, 4717.0, 6127.0, 7054.0, 4371.0, 5095.0, 3698.0, 7099.0, 4584.0, 3558.0, 3546.0, 5334.0, 3294.0, 3338.0, 4168.0, 3561.0, 1476.2170722994722, 899.9388017607075, 682.8472785326009, 1416.035589889927, 736.130707670537, 478.58416848854745, 415.43035668779726, 359.1838682725733, 628.5502662392344, 351.2918774796925, 268.4003885882308, 257.5458271848707, 230.90281283130358, 209.193690024755, 209.1936900247336, 207.22013340595166, 206.23335509654993, 255.5718130181303, 187.48456721807844, 177.61678412420122, 171.6961142678667, 171.6961142678623, 171.6961142678027, 289.1245056838737, 148.01343484219336, 145.05309991431653, 143.07954329547866, 139.13243005799103, 139.13244075933952, 138.1456517485186, 700.2312095954118, 389.76862302426673, 160.83265546860721, 240.83887579070014, 218.04793612584186, 193.41190910024454, 246.71002938599324, 1026.7151335148797, 249.85444260205819, 1039.5556879254418, 1647.13798582388, 1631.995831923422, 736.5661933570482, 652.3071456478447, 1069.4280505234196, 550.9933828899129, 1136.976175057248, 311.64570109683086, 390.87549313914167, 690.1637228429095, 551.3434328632262, 578.5648189831824, 2443.742911597462, 407.41907071385845, 1749.666527671745, 3043.378543953625, 33067.06366418247, 1634.289276317371, 1576.1516285421862, 14106.981054810472, 11755.178156291866, 746.783958189068, 5643.67038437004, 27886.398996659773, 1431.872963352236, 3698.7269256775326, 3558.9047437429476, 3546.833764007584, 1470.6252495241852, 1282.5191486476347, 1006.8984446904335, 968.6736755284679, 930.4489063664332, 894.2359671604072, 808.7331940347251, 783.5853195860877, 1122.5777884214267, 673.939382767748, 850.980202921047, 1845.7922135161161, 510.9823605624425, 495.89363589323534, 366.1306005061072, 339.9768143113079, 274.59234074482765, 268.5568508771305, 267.55093589903936, 242.40306145038423, 229.32616673723834, 224.29438892440177, 182.0481627736068, 164.94772083342374, 145.83522356759445, 142.8174786337654, 141.81156365567156, 2959.9088040781185, 2365.5395879765106, 474.39083672963415, 922.5862615034972, 330.73341304504345, 1423.9868380209964, 1303.6303755431315, 5334.526611053833, 1971.416356172016, 4168.153475220913, 653.0680922003266, 999.07534617508, 1392.6374884699458, 7054.781019974884, 1372.7833491559359, 14106.981054810472, 1658.5785293702527, 2386.1945301332867, 1786.847041879237, 811.725093240118, 1063.3555815929562, 1579.815512742097, 600.6684495463486, 568.1981966703876, 544.8601950632127, 520.5075127587985, 495.1401276994383, 381.49424263343377, 374.39137481685526, 370.33256695078643, 892.8557369915007, 320.61251849107157, 293.21574262688654, 235.3781046914508, 204.9372426203755, 204.9372426203574, 202.90785181567432, 195.80498399902, 648.2954215171249, 191.7462023505169, 188.70211618239966, 180.5845529632572, 174.4963805488566, 175.51087766292736, 168.4082081348322, 165.36412192781282, 163.3347311229259, 184.64174761165125, 548.6856434718278, 662.3072180629662, 848.8797444215364, 304.0009545849996, 719.6496207817652, 491.8182804404929, 960.0035916482261, 258.1195196245867, 898.0024232098126, 1020.7808819449664, 869.395504954275, 1560.6095135378448, 503.4481872570744, 1397.7626948261945, 466.18061914283754, 1697.0923364562543, 877.5742796256258, 1008.2747389093421, 2738.375218484648, 1195.8578222846293, 27886.398996659773, 1538.6927772162755, 14106.981054810472, 11755.178156291866, 1205.798240102611, 7099.106158430089, 1126.3199166767054, 951.1773037281891, 693.498205163977, 597.87480378325, 571.7041886685182, 523.3892069182524, 1160.4792482156315, 488.15563901967556, 423.73955705820794, 421.7264328186465, 402.60175254244825, 358.3129949424286, 975.2997275373175, 459.95839663799524, 284.8339845261072, 1358.8495290754222, 546.5167887712404, 226.45339388918845, 223.4336952184179, 229.47079105458366, 196.25651798387833, 193.2368316244045, 189.2105831452693, 186.19089679994065, 181.15808618691244, 227.44299727897027, 162.0334059107714, 228.45814797127412, 158.00715742898223, 153.9809089523748, 2313.836615930617, 1425.9362628459903, 623.9441483440111, 507.17373231296483, 1244.1544397544078, 310.90650920373565, 1287.045634340853, 1452.560593649606, 826.3492169642834, 6024.041439917813, 1398.0541080028058, 892.6438870449449, 1202.577418112026, 992.2326431771493, 512.7214480439649, 717.6967378574479, 1059.5040062577355, 1096.302715359704, 983.4325356289852, 1785.2937413371797, 4354.9334010353205, 27886.398996659773, 973.7982558766824, 3649.823720062016, 12338.65897079285, 6573.747768912957, 623.6221316541917, 462.0513388608159, 865.9924643096209, 329.05099113449575, 338.903173642761, 373.3813482387424, 265.9989744347136, 320.1847794900631, 234.47296608478246, 231.5174028019496, 210.82845982234332, 203.93214549579585, 188.16914132089448, 187.18395355995824, 185.21357666442225, 182.25801475519606, 170.43576162398392, 225.61187084356428, 164.52463505837116, 160.58388401461272, 155.65750651611617, 149.7468186443264, 146.79125535558495, 135.95418999125505, 133.98381446938623, 131.02825118662938, 120.19118581629925, 129.05413372977964, 1430.6967650458719, 112.30968372882027, 1051.5298713530367, 773.3635335474147, 310.33927348489505, 688.5580193911995, 296.61266930556474, 747.2295912989874, 928.0894031803666, 471.8333030852556, 773.4490909525601, 381.49420904067745, 860.5446187007883, 346.80686192740905, 1006.7172240639012, 1037.4463965382529, 746.58991240374, 515.3150175337449, 1821.79370422124, 636.131943489808, 4039.86568385516, 848.4452939379184, 970.5100805778653, 2356.6672746062004, 472.8447691680321, 902.3678416814573, 1508.1209193928346, 1559.1668760405794, 1806.8013764429136, 1160.993230981138, 1447.386915131614, 14106.981054810472, 1403.7378683991853, 2444.144493003636, 1221.114464762129, 2814.384649465444, 2762.0951636227624, 2592.4222790301487, 4901.285014626264, 1861.8570819492193, 1161.8144714005637, 726.625717749385, 707.9185226785468, 462.7558082942677, 379.06572507067835, 347.55898004153875, 286.5143389175731, 271.74486120243625, 254.0228948426464, 249.09994877067274, 242.20782426989925, 3294.990130406271, 221.53145076755536, 221.53143983302007, 205.77802333730548, 176.24034690543039, 164.42527633268864, 159.50233035184087, 154.5793841886786, 458.807445682443, 147.6872596880093, 144.73349204476295, 143.74890283039093, 136.8567783296368, 129.96465244621385, 127.01088618564803, 123.07252932807424, 1503.3914018399037, 386.95458821078256, 685.4466620061136, 1672.3951869635255, 696.6693094278374, 567.0922896641856, 320.03191476899303, 294.8277490839701, 1396.1994591869698, 618.7446786641926, 465.3701045826878, 578.175640516934, 514.3530259212257, 508.7321606052591, 468.60257259884526, 619.0541188490664, 1466.9773121658181, 343.93162869875727, 417.0140530813559, 27886.398996659773, 14106.981054810472, 12192.690414907742, 2042.8563150027426, 2814.384649465444, 2202.901753193183, 1190.0309794513828, 1299.5780729134035, 2424.4511517024853, 1659.588194943345, 1211.6580369467301, 973.6040484231968, 707.3722408632962, 2230.9750458681356, 474.1764969912793, 363.4085186580456, 344.9471889358509, 313.8544230879115, 291.50649763470534, 286.6482529716422, 285.67660403819946, 824.9791302390854, 250.69724245932582, 248.75394460038558, 224.4627212751097, 1234.867784013852, 212.80285312893486, 198.228200090943, 184.62512054575086, 181.7101682342428, 174.90862583810468, 649.0504042110116, 155.47564705004083, 155.47564705004095, 154.50399811729145, 353.7296038956876, 143.81585985705445, 132.15607266407176, 122.43958333661732, 2149.2894545283816, 226.37971931759867, 172.96701625731035, 739.8300456245428, 584.3585959264992, 1834.0469911175755, 1478.4166042484, 895.0728793577923, 1547.755812182594, 908.2483060137871, 4584.08631793769, 833.9777040022843, 695.1530134735152, 1707.3612679521564, 2009.3188766460394, 487.69478863495766, 1180.455815026168, 421.7433803687568, 1417.2152470624626, 1150.390085368962, 608.0854102658959, 944.9681700921236, 3299.1963762377927, 996.4141347598684, 33067.06366418247, 2849.6699455357116, 3657.537849712037, 11755.178156291866, 12192.690414907742, 5072.819288008032, 3070.055466205559, 2878.5939023107435, 2199.0001334381764, 2010.3820581619157, 1290.9794492225944, 1166.8140670839725, 1075.8221482674537, 943.1260179936954, 929.8565575845798, 692.8990194325481, 662.5684746569674, 612.333509872692, 553.5680793702995, 551.6724203218353, 550.7245907976209, 539.3506365068257, 529.8723412645, 461.6292414888114, 423.71543455057025, 354.5238792816721, 295.7584487793023, 295.7584487802059, 1232.3454105686149, 254.0539497130851, 254.0541983611674, 656.9419653835304, 248.3674980080203, 241.73216589808962, 241.73216620297708, 4717.2395602081815, 2774.7118602398655, 563.3971926028271, 778.6617285038743, 750.1783754603326, 747.7058511493252, 2404.8075466458727, 3098.643993012334, 1961.9447695662802, 1251.4285813337478, 7054.781019974884, 2042.8563150027426, 33067.06366418247, 4168.153475220913, 3898.3674265777718, 813.1556986016474, 14106.981054810472, 4584.08631793769, 8693.087468597252, 11755.178156291866, 2164.138399198105, 812.538052987781, 666.8744983184014, 680.7465293194273, 645.0744943084994, 621.2926717521617, 783.7960043225021, 542.0199298980518, 476.6199178679915, 331.94716398443353, 324.01988979896487, 416.1797876939474, 298.2555890021644, 282.401700325573, 494.4269819021539, 268.52897050099676, 263.57442413519937, 253.665331403403, 247.71987576433804, 238.80169230576382, 213.03805120314516, 198.17441210543402, 178.35622664188153, 175.38348602842623, 162.5004357197446, 146.6471299001358, 145.65622034245936, 136.73777835660437, 131.78349080256694, 487.4986803307454, 734.1013784675057, 215.00931065032415, 2709.201630882213, 430.00776971975574, 597.3860628113398, 2360.954818016615, 1357.9042963660092, 669.6623677480933, 1341.4820518616596, 586.9961897446603, 642.1496072579614, 1896.7130931061397, 2344.237365483137, 1430.450744198546, 621.6011346359278, 3380.08270571057, 967.2095559362044, 5643.67038437004, 1381.7580680378624, 1254.2279851654046, 2953.2281325013982, 716.7314739329522, 1580.2652364164214, 3182.503297521991, 2738.375218484648, 33067.06366418247, 3043.378543953625, 986.1525382978605, 706.5369015085137, 651.4153025278819, 538.1661919245739, 496.0735189791655, 490.0602794782477, 386.8330013804995, 377.8131421292828, 332.7138458728891, 556.1722123316314, 266.56821136363595, 260.55497186260123, 258.55055869584453, 248.52543200531713, 211.44684882982034, 188.3960978526908, 189.3968757102816, 155.32328059800074, 157.32631011322528, 176.3612983957691, 432.90077604724075, 138.28576867909578, 136.28135551212665, 224.47756189227624, 131.27032259464355, 125.25707092248875, 121.24825676003604, 118.24163700949923, 109.22177775826663, 108.2195711746934, 897.4543269195199, 1564.4067149657826, 1177.7412369180242, 1018.083633107505, 460.97433559722475, 232.36157082781003, 883.5022538356868, 2219.5745199925123, 864.292933891606, 2150.406958887923, 435.1823627729778, 964.193187164092, 1000.4923911876526, 1376.9340212951433, 593.5301946480497, 647.6061034704497, 677.0666050415193, 815.268482342522, 1237.7030242274382, 590.9908959484984, 867.2420782872991, 663.4815000259015, 14106.981054810472, 3599.222647749125, 873.7495373050352, 2221.9551690771377, 2549.2801174637957, 1185.2464261454131, 502.24104848420905, 455.339754286176, 1984.4944293155468, 448.49998221564454, 436.77499603583453, 385.9649232850256, 415.28060569534, 381.0793718060708, 359.58294529866765, 322.4527540585911, 314.6358716921986, 291.18522459325436, 290.208114297448, 250.1465921705942, 225.7188347752281, 219.85617300038516, 219.85617300032624, 194.45130530987612, 385.9696027981307, 183.70309205617144, 177.84043028145447, 175.88620968980248, 172.95487880245605, 172.9548788024731, 182.7264984102246, 162.20666554873134, 161.2295552529392, 689.0008845428986, 814.000511367899, 2484.4296484209235, 201.29573938584747, 2869.8018112092427, 3447.3285807079565, 631.9191491403257, 1826.0337049980901, 6573.747768912957, 3657.537849712037, 475.7494961361606, 1086.5704558090604, 390.6177437109291, 1401.5010036250321, 390.73610153418434, 544.619577426799, 982.4521459761359, 6127.547275361324, 849.5228443795248, 6024.041439917813, 2417.4379718386617, 3236.2881246061465, 2953.2281325013982, 33067.06366418247, 11755.178156291866, 5643.67038437004, 2195.5137910211693, 4087.777684119983, 1249.9102271659967, 1280.7486931535268, 789.2722332843078, 592.681793055378, 228.41147341991925, 900.2163617206452, 199.50114625482584, 192.75540097291352, 186.00965347251037, 179.2639070812942, 159.0266679078154, 151.31724346076152, 3338.620657666829, 145.53517512547202, 144.5714970695842, 156.13840686564197, 135.8983945666404, 131.08000428726243, 103.13334066665931, 101.20598455489615, 131.07935420254776, 97.3512723313607, 93.49656177247515, 103.13432082776399, 604.3758872984156, 144.57640715271364, 80.0050673254877, 68.44093065491474, 75.19084458080937, 363.4270498955423, 302.53923090419244, 179.2152295194431, 7193.442579961891, 12338.65897079285, 296.0456685871574, 165.8711092769513, 860.4979942695011, 236.21581954841628, 847.1926047011742, 537.7396943403464, 1331.165416436528, 634.6673948301361, 1412.7391872888081, 1231.3782460266361, 648.8829079592834, 965.772123194665, 2133.1053328859966, 1259.5205337489067, 363.6342295652956, 1909.2893598025446, 2202.901753193183, 776.073330922719, 3043.378543953625, 3559.256194317907, 571.6140946178057, 8737.30987434485, 637.3828203680431, 12192.690414907742, 5643.67038437004, 4039.86568385516, 3649.823720062016, 3194.1856169176826, 1127.8247118566483, 994.8555037579594, 335.83293233898047, 1509.3206174361299, 287.30402428834935, 278.56882176903065, 257.2161012860687, 223.24586564589995, 358.1648527014363, 180.5404265602785, 179.57189636771668, 159.18770701018013, 150.4556215775329, 129.09978401461186, 129.09978401460265, 128.1292058534849, 128.12920585345657, 128.1292058534585, 128.13088207109627, 117.45284608081846, 478.51873964485105, 110.65879895281874, 109.68822079167347, 106.77648630822448, 106.7766753781835, 104.83534052709744, 97.07070631299756, 93.1883920521752, 92.2178138910006, 2958.8632279234707, 390.4137284779046, 331.1400398681847, 540.700004117981, 204.97584940362242, 362.6318919906373, 1998.6687546390121, 403.58660879975014, 933.8811736681843, 235.00514654911345, 680.5925333786282, 1000.6896354473246, 503.1879558096538, 7771.54893901309, 2000.2697523073134, 2780.2260866157285, 419.0408562363259, 4354.9334010353205, 472.4322753588529, 1329.3669996656322, 902.0177041323511, 2381.3390286711538, 2741.408160013752, 3182.503297521991, 2920.95540308919, 862.0623349777887, 2480.5311077917036, 2868.494939954, 838.1298682840373, 1805.3102264735073, 2469.2654131528375, 5334.526611053833, 877.079144470491, 1535.039757601226, 14106.981054810472, 4087.777684119983, 33067.06366418247, 1258.8688562431787, 1128.3619922088865, 895.4574348553417, 765.9544697750569, 535.0577103297167, 525.0187207885326, 502.93294379825636, 501.9290448441233, 473.8198741289878, 457.7574908632689, 447.7185013222147, 430.65221910229184, 410.57424002006695, 392.504058846164, 514.9681021766625, 358.3714944063408, 334.277919507731, 331.26622264536115, 324.2389299665674, 294.1219613432133, 285.0868707563291, 275.04788121520284, 260.9932958576391, 249.9504073624859, 243.92701363786637, 232.8841251426047, 192.7276597771548, 180.68137952876046, 173.65408685008757, 151.56830985962324, 9165.328890280221, 1951.5870504679206, 1469.406760022571, 337.1581480003327, 1600.8414882612205, 1085.2004241099553, 1557.5828345578125, 8693.087468597252, 2469.2654131528375, 742.8463539205699, 464.0892149080804, 384.0829445559657, 7054.781019974884, 659.8961873164617, 1431.872963352236, 1580.2652364164214, 2920.95540308919, 2738.375218484648, 6573.747768912957, 1060.3551092843065, 767.776079445338, 669.5951846851375, 567.4871728747535, 426.106643302477, 413.34316660559574, 390.76152931626, 359.34365021717565, 345.59832811130997, 344.6165193894534, 340.68927877711405, 334.79843217098465, 320.07129855540495, 286.6898060515514, 254.29011697954743, 241.52660359555233, 237.5993687081966, 233.67213382071282, 223.85404660232908, 230.72446522772626, 196.36340239063085, 196.36340239060428, 241.52730393430454, 186.54531517217177, 175.74541923185572, 195.38421730485908, 165.9273324490282, 393.70434329851616, 156.10924476143617, 155.12743607308738, 289.61383646397877, 217.98422765577692, 1691.979005433699, 442.8396408131149, 499.79859605061733, 5470.704379517512, 1273.264297307979, 343.60128120388816, 994.16744219325, 640.9418331356798, 965.5174134426201, 1000.9785023019151, 577.6580043194955, 1783.1143023730933, 1299.9280108055473, 387.7159514558455, 1451.5872443425735, 954.3370153922054, 889.3023169692042, 837.2920855038195, 1007.8136372468931, 746.277694249636, 696.4975565186052, 744.3011317279539, 585.6706427854213, 5334.526611053833, 946.4403567986934, 2424.4511517024853, 27886.398996659773, 14106.981054810472, 12192.690414907742, 12338.65897079285, 2680.0610117898987, 1511.9788171991117, 1578.2381640017663, 738.4604486400657, 665.3946974613497, 513.4179350097176, 904.1102775653065, 2361.408447359886, 405.28062326526225, 356.5701215248006, 337.08592216511295, 247.45859624734405, 230.89703045210632, 217.25809023209035, 532.862224819691, 174.39284954059193, 151.9861303223939, 147.11496910053435, 146.14075908482295, 127.63076878624267, 126.65655877047597, 714.0459417029159, 119.83708866049811, 117.88866862906326, 114.96603858190672, 110.09498850327888, 839.9307152118114, 106.19814844048814, 105.22393842474106, 104.24972840900274, 427.803054091713, 470.7873399026718, 1538.4593752014425, 421.12843947661264, 803.3379444796922, 836.6117348183218, 293.05310497251105, 8737.30987434485, 936.3916331444781, 453.4594366245405, 1021.664277452438, 2250.0535943261048, 3559.256194317907, 3004.330803400819, 1007.9680502543247, 1540.9450818008734, 717.2294075725288, 3157.778863714816, 33067.06366418247, 2133.1053328859966, 1217.6774665938171, 12192.690414907742, 1012.8491141777749, 3380.08270571057, 8693.087468597252, 11755.178156291866, 7054.781019974884, 2383.5450487841536, 1878.9865109325253, 880.9295241675268, 830.8757152776092, 780.8219005288133, 598.626014843252, 619.6493745529687, 467.48502020153416, 459.47640984177633, 452.46886545151335, 426.4408872191318, 593.608683524685, 433.44702051783094, 361.370932934198, 311.31711818478146, 281.2848293362208, 269.271913796532, 246.24715901205278, 667.6234065109209, 231.2310145874761, 217.2159464578008, 211.2094886878233, 335.31992352375113, 722.6813931371552, 180.17612354367245, 172.16751318390712, 172.16751301879788, 168.16320800398086, 165.15997911908832, 148.14168210437748, 1270.1507263321353, 367.31268383796635, 1236.3416091123922, 189.1638333536949, 498.52174328964617, 1028.2901413561472, 862.330380663925, 388.4363118206936, 417.9650365110338, 446.7640353342302, 365.9784754010564, 496.55810269642296, 2849.6699455357116, 3299.1963762377927, 1030.3782042620778, 739.1798563419056, 1020.2894074920504, 905.3850218689329, 1785.2937413371797, 3898.3674265777718, 1346.3292471019192, 1203.26354973294, 4354.9334010353205, 11755.178156291866, 2868.494939954, 2404.8075466458727, 1392.6374884699458, 33067.06366418247, 4531.044483775196, 1593.1651221357101, 991.4112127239472, 1946.34680345525, 926.3034126722581, 1041.7288042950697, 581.0347761426663, 750.7033851293858, 447.85973061727486, 389.65730331354314, 326.52246691637566, 319.6170941853962, 306.79283054220593, 302.84690326732334, 832.5859221845695, 216.03650322114197, 248.59303667367175, 211.1040941276349, 973.6494633981199, 178.550194110341, 200.2511961737822, 162.76648501107104, 305.82317084606984, 159.80703955491313, 590.9273326318742, 151.91507534356523, 149.9422391358044, 145.00981227015814, 138.10443772871758, 135.14499409381006, 180.51800292959646, 257.5054267486928, 278.22592118192665, 238.76522261308912, 206.1694536450231, 374.1627095836484, 3607.358496842421, 333.6968016963266, 634.9111367105097, 1093.6304699988034, 922.5571273219982, 544.3418979451137, 704.8221130511238, 7099.106158430089, 640.6694757836625, 556.2012821281157, 1324.1075918056104, 602.8914865992408, 946.9753563493067, 7771.54893901309, 1104.1764355660766, 473.4935334769979, 551.4677026392624, 4087.777684119983, 1005.9857103581095, 2417.4379718386617, 2379.5703305292714, 1844.0519858073644, 1562.3518891194967, 1411.4070218583804, 822.0473615382973, 402.8627774287173, 387.4798376772368, 353.82965579004303, 318.2566067580858, 304.7965341514026, 292.2978953023092, 276.91512592953666, 248.07194245174315, 244.2262074212865, 227.88183354190397, 224.03609851124776, 218.2674959655294, 228.84620710614377, 200.9616883282946, 191.3473467156681, 178.84871190301826, 164.42720553873085, 2595.477446870208, 157.69716923539198, 154.81410728540314, 132.70038870953235, 123.08555396104983, 121.16268644581147, 121.16268644579313, 115.39408405817926, 320.2033352549099, 534.1558880100706, 408.9595516896772, 8225.037108654871, 1060.9824034211097, 1612.1927603618924, 215.45092787777577, 914.1713248589098, 1064.6912478329066, 6127.547275361324, 857.6187739292344, 828.1287722104669, 472.54595869396377, 33067.06366418247, 1390.715872544641, 573.2999123307142, 774.6199432815152, 453.38623783070904, 2905.995041947924, 978.8345607211587, 666.755400837075, 1224.5762355782529, 1308.0315889207084, 811.8316623880353, 1161.6084587579185, 2868.494939954, 3157.778863714816, 11755.178156291866, 3098.643993012334, 4371.187163841251, 3561.362082658565, 1358.6332504115362, 886.075852350946, 825.1007038471482, 766.9837657392623, 588.8220046543789, 556.4289571843672, 555.4762208974018, 548.8070636620171, 445.91281171122296, 400.18013997621927, 465.9310059424384, 341.1104651780113, 293.4736306633395, 293.4736318440204, 217.25469544145542, 205.82185515630812, 179.14523486693028, 172.47607099605378, 278.2573662019835, 161.043230712514, 158.18502064162868, 635.6043491259421, 152.46860049997332, 150.56312711930576, 145.79944488192467, 137.22481345516874, 127.69744655224625, 121.98102641046913, 198.22322624939554, 1183.188221185348, 2776.1688219302428, 602.6708248844196, 5095.7908421745315, 282.26863502695244, 883.2613818610738, 1446.2444963607231, 332.6480939238626, 267.90434213402114, 698.4263874525802, 3599.222647749125, 544.4195747701805, 27886.398996659773, 941.6934352152874, 1551.9411544536763, 850.4986777910001, 3281.086246390142, 12192.690414907742, 644.2082337768576, 1129.9080691949816, 2905.995041947924, 3004.330803400819, 2032.7710742162285, 3340.6167778671634, 11755.178156291866, 7099.106158430089, 1541.1445604752976, 1488.632902507733, 3649.823720062016], \"loglift\": [30.0, 29.0, 28.0, 27.0, 26.0, 25.0, 24.0, 23.0, 22.0, 21.0, 20.0, 19.0, 18.0, 17.0, 16.0, 15.0, 14.0, 13.0, 12.0, 11.0, 10.0, 9.0, 8.0, 7.0, 6.0, 5.0, 4.0, 3.0, 2.0, 1.0, 3.0355, 3.0351, 3.0347, 3.0347, 3.0347, 3.0342, 3.0339, 3.0333, 3.033, 3.033, 3.0326, 3.0325, 3.0321, 3.0316, 3.0316, 3.0316, 3.0316, 3.0313, 3.0311, 3.0308, 3.0307, 3.0307, 3.0307, 3.03, 3.0298, 3.0297, 3.0296, 3.0294, 3.0294, 3.0293, 3.0215, 3.0263, 3.0285, 3.0176, 3.0201, 3.0229, 3.0138, 2.9009, 2.99, 2.8123, 2.7412, 2.7392, 2.8346, 2.8354, 2.7466, 2.8567, 2.7184, 2.9541, 2.8786, 2.7197, 2.7576, 2.7397, 2.2564, 2.8289, 2.158, 1.8805, 0.6177, 2.0903, 2.1026, 0.5495, 0.5993, 2.486, 0.6934, -0.8327, 1.8386, 3.0438, 3.0438, 3.0438, 3.0435, 3.0434, 3.0432, 3.0431, 3.0431, 3.043, 3.0429, 3.0429, 3.0429, 3.0426, 3.0426, 3.0424, 3.0423, 3.0422, 3.0415, 3.0413, 3.0407, 3.0406, 3.0406, 3.0402, 3.04, 3.0396, 3.0389, 3.0383, 3.0377, 3.0375, 3.0375, 3.0374, 3.0156, 3.0194, 2.996, 3.0059, 2.8855, 2.8528, 2.6286, 2.6631, 2.5011, 2.8559, 2.7536, 2.5683, 1.9089, 2.4695, 0.9516, 2.2531, 1.9572, 3.133, 3.1324, 3.1323, 3.1322, 3.132, 3.1319, 3.1319, 3.1318, 3.1317, 3.1311, 3.1311, 3.1311, 3.131, 3.1307, 3.1304, 3.1296, 3.129, 3.129, 3.129, 3.1288, 3.1288, 3.1287, 3.1286, 3.1284, 3.1282, 3.1282, 3.128, 3.1279, 3.1278, 3.1278, 3.1231, 3.0829, 3.0554, 3.1002, 3.0445, 3.0647, 2.9763, 3.0879, 2.9049, 2.8528, 2.8605, 2.7126, 2.9443, 2.7243, 2.9492, 2.5272, 2.741, 2.634, 2.101, 2.4902, 0.7442, 2.3269, 0.8925, 0.865, 2.3856, 0.802, 3.1417, 3.1414, 3.1412, 3.141, 3.1409, 3.1408, 3.1406, 3.1405, 3.1403, 3.1403, 3.1402, 3.1399, 3.1398, 3.1397, 3.1393, 3.1391, 3.1389, 3.1384, 3.1384, 3.1382, 3.1378, 3.1377, 3.1376, 3.1375, 3.1374, 3.1368, 3.1368, 3.1366, 3.1366, 3.1365, 3.1359, 3.1267, 3.1322, 3.1337, 3.1161, 3.1266, 3.0804, 3.0555, 3.0599, 2.81, 2.8424, 2.8831, 2.8264, 2.8338, 2.9736, 2.8597, 2.7178, 2.6209, 2.6336, 2.2504, 1.5688, 0.2486, 2.5787, 1.4126, 0.1738, 0.7496, 2.9021, 2.9016, 2.9009, 2.9008, 2.9007, 2.9007, 2.9001, 2.8998, 2.8996, 2.8996, 2.8992, 2.899, 2.8986, 2.8986, 2.8986, 2.8985, 2.8981, 2.898, 2.8979, 2.8978, 2.8975, 2.8974, 2.8972, 2.8967, 2.8966, 2.8965, 2.8958, 2.8955, 2.8953, 2.8953, 2.8867, 2.8871, 2.8875, 2.8695, 2.8848, 2.865, 2.8595, 2.8578, 2.834, 2.8584, 2.8163, 2.8597, 2.7848, 2.7598, 2.785, 2.801, 2.6607, 2.7592, 2.5019, 2.6634, 2.5838, 2.3684, 2.7363, 2.5166, 2.2859, 2.2698, 2.1457, 2.1996, 2.0395, 0.613, 2.0406, 1.6535, 2.1023, 1.415, 1.3236, 2.9918, 2.9917, 2.9917, 2.9909, 2.9909, 2.9909, 2.9901, 2.9897, 2.9893, 2.9889, 2.9885, 2.9885, 2.9884, 2.9883, 2.988, 2.9879, 2.9879, 2.9876, 2.9869, 2.9865, 2.9863, 2.9861, 2.986, 2.9858, 2.9857, 2.9857, 2.9853, 2.985, 2.9848, 2.9846, 2.9737, 2.9754, 2.9667, 2.93, 2.929, 2.9076, 2.9362, 2.9376, 2.811, 2.8644, 2.8897, 2.8658, 2.8384, 2.8287, 2.8294, 2.7543, 2.5098, 2.8878, 2.807, 0.7735, 1.0063, 1.0623, 1.9747, 1.6331, 1.7644, 2.1432, 1.9904, 1.3912, 2.9765, 2.9763, 2.9761, 2.9757, 2.9752, 2.9751, 2.9744, 2.9743, 2.974, 2.9738, 2.9738, 2.9737, 2.9735, 2.9733, 2.9733, 2.9729, 2.9727, 2.9726, 2.9723, 2.9719, 2.9719, 2.9717, 2.9715, 2.971, 2.971, 2.971, 2.9707, 2.9705, 2.9699, 2.9694, 2.9582, 2.9682, 2.9679, 2.9355, 2.9206, 2.865, 2.8692, 2.8709, 2.8309, 2.8439, 2.6805, 2.8356, 2.8408, 2.7272, 2.7059, 2.8717, 2.6774, 2.8911, 2.591, 2.6298, 2.7924, 2.6269, 2.1184, 2.5467, 0.7131, 1.9663, 1.6828, 0.9096, 0.4975, 2.9003, 2.9002, 2.9002, 2.9001, 2.9001, 2.8998, 2.8997, 2.8997, 2.8995, 2.8995, 2.8992, 2.8991, 2.899, 2.8988, 2.8988, 2.8988, 2.8988, 2.8988, 2.8984, 2.8983, 2.8979, 2.8974, 2.8974, 2.8971, 2.8968, 2.8968, 2.8968, 2.8967, 2.8966, 2.8966, 2.8917, 2.8663, 2.888, 2.8364, 2.7971, 2.7872, 2.6277, 2.5712, 2.6384, 2.6718, 1.9737, 2.4141, 1.3646, 2.03, 2.023, 2.7273, 1.3203, 1.5318, 0.8846, 0.5342, 2.9462, 2.9454, 2.9452, 2.9452, 2.9452, 2.9451, 2.9449, 2.9449, 2.9447, 2.9438, 2.9437, 2.9435, 2.9434, 2.9433, 2.9432, 2.9431, 2.9431, 2.9429, 2.9428, 2.9427, 2.9422, 2.9419, 2.9414, 2.9413, 2.9404, 2.9402, 2.9402, 2.9396, 2.9395, 2.9395, 2.9378, 2.9376, 2.9057, 2.9278, 2.8969, 2.8399, 2.8474, 2.8816, 2.8424, 2.869, 2.852, 2.7324, 2.7004, 2.7483, 2.8445, 2.5592, 2.7344, 2.3274, 2.5353, 2.4892, 2.1023, 2.6709, 2.0793, 1.4801, 1.4698, -0.8727, 1.2976, 3.154, 3.1537, 3.1536, 3.1533, 3.1531, 3.1531, 3.1526, 3.1525, 3.1522, 3.1516, 3.1515, 3.1514, 3.1514, 3.1509, 3.1506, 3.15, 3.1496, 3.149, 3.1485, 3.1483, 3.1483, 3.1482, 3.1481, 3.148, 3.1479, 3.1475, 3.1473, 3.1471, 3.1464, 3.1463, 3.1429, 3.1313, 3.113, 3.0874, 3.1097, 3.1276, 3.0729, 3.0178, 3.0338, 2.9519, 3.0708, 2.9683, 2.9625, 2.8988, 3.0002, 2.9795, 2.8732, 2.7951, 2.6305, 2.8568, 2.6567, 2.7689, 0.4036, 1.3429, 2.4964, 3.0484, 3.0482, 3.0475, 3.0469, 3.0467, 3.0467, 3.0467, 3.0465, 3.0464, 3.0463, 3.0463, 3.0462, 3.0459, 3.0458, 3.0456, 3.0456, 3.045, 3.0446, 3.0445, 3.0445, 3.044, 3.0438, 3.0437, 3.0435, 3.0435, 3.0434, 3.0434, 3.0431, 3.043, 3.043, 3.0407, 3.0318, 3.0115, 3.0407, 2.9715, 2.94, 2.998, 2.954, 2.8615, 2.7268, 2.9499, 2.8381, 2.967, 2.7418, 2.9546, 2.8108, 2.542, 1.5789, 2.5585, 1.3754, 1.6877, 1.3664, 1.4303, -0.5248, -0.0004, 0.5628, 1.4651, 0.8205, 2.9723, 2.9723, 2.9719, 2.9715, 2.969, 2.9684, 2.9684, 2.9682, 2.9681, 2.9679, 2.9672, 2.9669, 2.9668, 2.9666, 2.9666, 2.9663, 2.9662, 2.9659, 2.964, 2.9638, 2.9638, 2.9634, 2.963, 2.9626, 2.9622, 2.9618, 2.9613, 2.9593, 2.9591, 2.9585, 2.948, 2.9512, 2.9057, 2.8744, 2.9444, 2.9493, 2.8961, 2.9315, 2.8796, 2.8926, 2.7823, 2.8361, 2.6849, 2.6964, 2.7247, 2.6225, 2.4677, 2.5342, 2.7903, 2.385, 2.3158, 2.5475, 2.0803, 1.9487, 2.612, 1.3445, 2.4872, 0.4876, 0.8855, 1.0113, 1.0894, 2.9387, 2.9382, 2.9381, 2.9363, 2.9358, 2.9358, 2.9357, 2.9354, 2.9348, 2.9347, 2.9338, 2.9335, 2.9332, 2.9321, 2.9318, 2.9318, 2.9317, 2.9317, 2.9317, 2.9314, 2.931, 2.931, 2.9306, 2.9305, 2.9302, 2.9302, 2.9301, 2.9294, 2.929, 2.9289, 2.8757, 2.9096, 2.9122, 2.8994, 2.9148, 2.8974, 2.8255, 2.8867, 2.8333, 2.9022, 2.8436, 2.8163, 2.8504, 2.6405, 2.6837, 2.6233, 2.8176, 2.459, 2.7901, 2.612, 2.655, 2.4126, 2.3595, 2.3006, 2.2702, 2.603, 2.2646, 2.1761, 2.5271, 2.0661, 1.8101, 0.9703, 2.3086, 1.8026, -0.2869, 0.8796, -1.2108, 3.0902, 3.0901, 3.0899, 3.0897, 3.0892, 3.0892, 3.0891, 3.0891, 3.089, 3.0889, 3.0889, 3.0888, 3.0887, 3.0886, 3.0884, 3.0884, 3.0882, 3.0881, 3.0881, 3.0878, 3.0877, 3.0876, 3.0874, 3.0872, 3.0871, 3.0869, 3.0861, 3.0858, 3.0856, 3.0848, 3.076, 3.0516, 3.0313, 3.0705, 2.9972, 3.0108, 2.978, 2.8593, 2.6998, 2.8948, 2.9627, 3.0077, 1.5075, 2.6869, 2.215, 1.875, 1.2827, 1.2297, 0.3373, 3.0035, 3.0032, 3.003, 3.0027, 3.0022, 3.0021, 3.002, 3.0018, 3.0017, 3.0017, 3.0016, 3.0016, 3.0015, 3.0011, 3.0007, 3.0005, 3.0004, 3.0004, 3.0002, 3.0, 2.9996, 2.9996, 2.9995, 2.9994, 2.999, 2.999, 2.9987, 2.9986, 2.9984, 2.9983, 2.9982, 2.9961, 2.9629, 2.9875, 2.9792, 2.8843, 2.935, 2.9812, 2.9376, 2.953, 2.9078, 2.8856, 2.9291, 2.8241, 2.8476, 2.9445, 2.7435, 2.7673, 2.7717, 2.7072, 2.6364, 2.7321, 2.7453, 2.6317, 2.7396, 1.1228, 2.3205, 1.521, -0.58, -0.2395, -0.1137, -0.2463, 3.0716, 3.0712, 3.071, 3.0707, 3.0706, 3.0701, 3.0698, 3.0697, 3.0697, 3.0693, 3.0692, 3.0682, 3.0679, 3.0677, 3.0675, 3.0666, 3.0658, 3.0656, 3.0656, 3.0646, 3.0646, 3.0644, 3.0641, 3.064, 3.0638, 3.0634, 3.0633, 3.0631, 3.063, 3.063, 3.0612, 3.0529, 3.0225, 3.0468, 3.0087, 2.996, 3.0196, 2.7733, 2.9289, 2.9777, 2.9115, 2.7587, 2.6161, 2.3693, 2.6453, 2.4856, 2.7298, 2.0429, 0.8642, 2.1465, 2.3586, 0.7185, 2.3839, 1.3085, 0.4583, 0.095, 0.5143, 3.0459, 3.0455, 3.0452, 3.0452, 3.0451, 3.0447, 3.0445, 3.0443, 3.0442, 3.0442, 3.0441, 3.044, 3.044, 3.0437, 3.0433, 3.043, 3.0428, 3.0425, 3.0423, 3.0422, 3.042, 3.0418, 3.0415, 3.0412, 3.0411, 3.0408, 3.0408, 3.0407, 3.0406, 3.04, 3.035, 3.0392, 3.0216, 3.0385, 3.0082, 2.9778, 2.9827, 3.01, 3.0012, 2.9928, 3.007, 2.9439, 2.5933, 2.4941, 2.7608, 2.8145, 2.7005, 2.7288, 2.4387, 1.6296, 2.2196, 2.2961, 1.293, 0.521, 1.515, 1.6097, 2.0734, -0.82, 0.9756, 3.0461, 3.0458, 3.0458, 3.0457, 3.0454, 3.0451, 3.0451, 3.0446, 3.0443, 3.0439, 3.0438, 3.0437, 3.0436, 3.0428, 3.0424, 3.0424, 3.0423, 3.0419, 3.0415, 3.0412, 3.041, 3.0409, 3.0409, 3.0408, 3.0405, 3.0404, 3.0403, 3.0399, 3.0398, 3.0398, 3.0357, 3.0348, 3.0344, 3.0365, 3.0041, 2.8319, 2.991, 2.9434, 2.8322, 2.8493, 2.8971, 2.8577, 2.4282, 2.8272, 2.7771, 2.4674, 2.7331, 2.4583, 1.1649, 2.2404, 2.7424, 2.5883, 0.8636, 2.0373, 1.117, 2.8964, 2.8963, 2.8962, 2.8961, 2.8956, 2.8944, 2.8943, 2.8941, 2.8938, 2.8937, 2.8936, 2.8933, 2.893, 2.8929, 2.8926, 2.8926, 2.8925, 2.8924, 2.8921, 2.8919, 2.8915, 2.8911, 2.891, 2.8908, 2.8904, 2.8895, 2.8891, 2.889, 2.889, 2.8886, 2.8859, 2.8692, 2.8737, 2.7871, 2.8446, 2.7773, 2.8771, 2.8004, 2.765, 2.5641, 2.7135, 2.6687, 2.7576, 1.9624, 2.5511, 2.7164, 2.6478, 2.7195, 2.1362, 2.4303, 2.5665, 2.2863, 2.2389, 2.4361, 2.2333, 1.5742, 1.4609, 0.3294, 1.0929, 2.6819, 2.6818, 2.6814, 2.681, 2.681, 2.6809, 2.6805, 2.6804, 2.6804, 2.6804, 2.6799, 2.6797, 2.6795, 2.6793, 2.6789, 2.6789, 2.6778, 2.6775, 2.6768, 2.6766, 2.6765, 2.6763, 2.6762, 2.6761, 2.6759, 2.6759, 2.6756, 2.6752, 2.6747, 2.6744, 2.6738, 2.6507, 2.6294, 2.6579, 2.6119, 2.6635, 2.6213, 2.5994, 2.649, 2.6551, 2.5863, 2.451, 2.6008, 2.274, 2.5388, 2.4381, 2.5037, 2.2831, 2.0474, 2.5322, 2.359, 1.9039, 1.8606, 1.9582, 1.6018, 0.6285, 0.893, 1.9464, 1.8998, 1.0509], \"logprob\": [30.0, 29.0, 28.0, 27.0, 26.0, 25.0, 24.0, 23.0, 22.0, 21.0, 20.0, 19.0, 18.0, 17.0, 16.0, 15.0, 14.0, 13.0, 12.0, 11.0, 10.0, 9.0, 8.0, 7.0, 6.0, 5.0, 4.0, 3.0, 2.0, 1.0, -4.205, -4.7003, -4.9767, -4.2473, -4.9016, -5.3327, -5.4745, -5.6205, -5.0612, -5.6431, -5.9126, -5.954, -6.0636, -6.1628, -6.1628, -6.1723, -6.1771, -5.9628, -6.2729, -6.3272, -6.3613, -6.3613, -6.3613, -5.8409, -6.5106, -6.5309, -6.5447, -6.5729, -6.5729, -6.58, -4.9647, -5.5459, -6.4288, -6.0359, -6.1329, -6.25, -6.0156, -4.7027, -6.0268, -4.7788, -4.3897, -4.4009, -5.1011, -5.2217, -4.8162, -5.3692, -4.7831, -5.8417, -5.6907, -5.281, -5.4678, -5.4374, -4.48, -5.6989, -4.9125, -4.6365, -3.5137, -5.0484, -5.0724, -4.4338, -4.5663, -5.4359, -5.206, -5.1345, -5.4323, -3.2781, -3.3166, -3.32, -4.2008, -4.3377, -4.5799, -4.6186, -4.6589, -4.6987, -4.7993, -4.8309, -4.4714, -4.9819, -4.7486, -3.9746, -5.2591, -5.2891, -5.5932, -5.6675, -5.8817, -5.904, -5.9078, -6.0068, -6.0625, -6.0851, -6.2945, -6.3937, -6.5175, -6.5386, -6.5457, -3.5073, -3.7533, -5.3562, -4.7145, -5.7304, -4.391, -4.512, -3.3271, -4.2881, -3.7013, -5.2001, -4.8772, -4.7305, -3.7674, -4.8436, -4.0317, -4.8709, -4.8031, -3.9164, -4.7061, -4.4362, -4.0404, -5.0076, -5.0633, -5.1053, -5.1511, -5.2011, -5.4625, -5.4813, -5.4922, -4.6122, -5.6368, -5.7264, -5.9469, -6.086, -6.086, -6.096, -6.1318, -4.9346, -6.1528, -6.1689, -6.2131, -6.2476, -6.2418, -6.2833, -6.3016, -6.314, -6.1914, -5.107, -4.9591, -4.7383, -5.7205, -4.9144, -5.2749, -4.6944, -5.8963, -4.8326, -4.7565, -4.9094, -4.4723, -5.3719, -4.5708, -5.4439, -4.5738, -5.0195, -4.9877, -4.5216, -4.9609, -3.5576, -4.8721, -4.0908, -4.3006, -5.0572, -4.8679, -4.3692, -4.5386, -4.8547, -5.0033, -5.0481, -5.1366, -4.3404, -5.2066, -5.3482, -5.353, -5.3995, -5.5163, -4.5152, -5.2669, -5.7465, -4.1842, -5.0952, -5.9767, -5.9902, -5.9637, -6.1205, -6.1361, -6.1572, -6.1734, -6.2009, -5.9739, -6.3131, -5.9697, -6.3384, -6.3644, -3.6552, -4.1484, -4.9694, -5.1751, -4.2954, -5.6715, -4.2972, -4.2011, -4.7608, -3.0241, -4.4524, -4.8604, -4.6191, -4.8039, -5.3244, -5.1019, -4.8543, -4.9171, -5.013, -4.8, -4.5898, -4.0532, -5.0778, -4.9226, -4.9434, -4.9973, -5.2, -5.5004, -4.8729, -5.8407, -5.8112, -5.7144, -6.0541, -5.869, -6.1807, -6.1935, -6.2875, -6.3209, -6.4017, -6.407, -6.4176, -6.4338, -6.5012, -6.2209, -6.5367, -6.5611, -6.5926, -6.6314, -6.6514, -6.7286, -6.7433, -6.7658, -6.8528, -6.782, -4.3765, -6.9212, -4.6929, -4.9998, -5.9125, -5.1336, -5.9605, -5.0563, -4.8451, -5.5232, -5.0528, -5.7352, -4.9638, -5.8292, -4.8385, -4.8333, -5.1372, -5.4919, -4.3694, -5.3231, -3.7318, -5.1309, -5.076, -4.4042, -5.6427, -5.216, -4.9331, -4.9159, -4.8927, -5.281, -5.2206, -4.3703, -5.2502, -5.0827, -5.3279, -5.1802, -5.2903, -3.6855, -3.0487, -4.0167, -4.489, -4.9584, -4.9845, -5.4103, -5.6103, -5.6974, -5.891, -5.9443, -6.0118, -6.0314, -6.0596, -3.4496, -6.1492, -6.1492, -6.2233, -6.379, -6.4487, -6.4793, -6.5109, -5.423, -6.5568, -6.5771, -6.584, -6.6334, -6.6855, -6.7086, -6.7404, -4.2485, -5.6039, -5.0409, -4.1856, -5.0624, -5.2895, -5.833, -5.9137, -4.4851, -5.2456, -5.5052, -5.312, -5.4564, -5.4771, -5.5586, -5.3552, -4.7369, -5.8095, -5.6976, -3.5282, -3.977, -4.0668, -4.9409, -4.9621, -5.0758, -5.3128, -5.3775, -5.3531, -4.1469, -4.4617, -4.6806, -5.0004, -3.8523, -5.401, -5.6677, -5.72, -5.8147, -5.8888, -5.9057, -5.9091, -4.8488, -6.0401, -6.048, -6.1511, -4.4462, -6.2047, -6.276, -6.3474, -6.3634, -6.4017, -5.0907, -6.5202, -6.5202, -6.5265, -5.6984, -6.5986, -6.6838, -6.7607, -3.9066, -6.1473, -6.4167, -4.9957, -5.2466, -4.1584, -4.3698, -4.8699, -4.3622, -4.8822, -3.4268, -4.9758, -5.1528, -4.3678, -4.2262, -5.4762, -4.7867, -5.6021, -4.6902, -4.86, -5.335, -5.0596, -4.3179, -5.0868, -3.4182, -4.6164, -4.6503, -4.256, -4.6316, -3.1057, -3.608, -3.6724, -3.9418, -4.0315, -4.4747, -4.5759, -4.6572, -4.7889, -4.8031, -5.0976, -5.1424, -5.2214, -5.3225, -5.3259, -5.3276, -5.3485, -5.3663, -5.5045, -5.5903, -5.769, -5.9508, -5.9508, -4.5239, -6.1033, -6.1033, -5.1533, -6.1261, -6.1532, -6.1532, -3.187, -3.7431, -5.3157, -5.0437, -5.1203, -5.1335, -4.1247, -3.9278, -4.3176, -4.7339, -3.7026, -4.5015, -2.7668, -4.1724, -4.2464, -5.1094, -3.6629, -4.5755, -4.5828, -4.6314, -3.9117, -4.8921, -5.0899, -5.0693, -5.1231, -5.1608, -4.9286, -5.2975, -5.4263, -5.7889, -5.8131, -5.563, -5.8963, -5.951, -5.391, -6.0016, -6.0203, -6.0587, -6.0825, -6.1193, -6.234, -6.3066, -6.4125, -6.4294, -6.5066, -6.6094, -6.6162, -6.68, -6.717, -5.4089, -5.0012, -6.2294, -3.7275, -5.546, -5.2482, -3.9309, -4.4766, -5.1493, -4.4937, -5.2936, -5.2209, -4.2574, -4.0776, -4.5236, -5.2609, -3.8528, -4.9289, -3.572, -4.7713, -4.9142, -4.4448, -5.2921, -5.093, -4.9922, -5.1528, -5.0041, -5.2193, -4.4898, -4.8236, -4.905, -5.0963, -5.1778, -5.1901, -5.4271, -5.4508, -5.5782, -5.065, -5.8006, -5.8235, -5.8312, -5.8713, -6.0331, -6.1491, -6.1442, -6.3432, -6.3309, -6.2168, -5.3189, -6.4601, -6.4748, -5.9759, -6.5126, -6.5598, -6.5926, -6.6179, -6.6979, -6.7072, -4.5952, -4.0511, -4.3533, -4.5246, -5.2946, -5.9618, -4.6809, -3.8148, -4.7419, -3.9124, -5.3911, -4.6981, -4.667, -4.4112, -5.1514, -5.0849, -5.1467, -5.0391, -4.7862, -5.299, -5.1157, -5.2712, -4.5797, -5.0063, -5.2685, -3.7832, -3.6459, -4.4124, -5.2717, -5.3699, -3.8978, -5.3851, -5.4118, -5.5356, -5.4624, -5.5483, -5.6066, -5.7158, -5.7405, -5.8181, -5.8215, -5.9706, -6.0738, -6.1002, -6.1002, -6.2235, -5.5381, -6.2807, -6.3133, -6.3244, -6.3413, -6.3413, -6.2866, -6.4058, -6.4119, -4.9617, -4.804, -3.7084, -6.1922, -3.6041, -3.4523, -5.0909, -4.0738, -2.8854, -3.6063, -5.4229, -4.7088, -5.6029, -4.5505, -5.615, -5.4268, -5.1057, -4.2382, -5.2345, -4.4588, -5.0595, -5.0891, -5.1167, -4.6562, -5.166, -5.3366, -5.3784, -5.4014, -4.4345, -4.4101, -4.8947, -5.1815, -6.1375, -4.7666, -6.2735, -6.308, -6.3438, -6.381, -6.5014, -6.5514, -3.4576, -6.5906, -6.5973, -6.5206, -6.6596, -6.6959, -6.9377, -6.9567, -6.6981, -6.9959, -7.0367, -6.939, -5.1713, -6.6021, -7.1943, -7.3524, -7.2585, -5.6836, -5.8775, -6.3978, -2.7511, -2.2428, -5.9028, -6.4772, -4.884, -6.1414, -4.9161, -5.3577, -4.5616, -5.2484, -4.5995, -4.7254, -5.3377, -5.0423, -4.4047, -4.865, -5.8513, -4.5982, -4.5244, -5.3359, -4.4366, -4.4117, -5.5772, -4.1178, -5.5931, -4.6415, -5.0139, -5.2225, -5.2458, -3.5298, -4.5714, -4.697, -5.7848, -4.2825, -5.9414, -5.9723, -6.0524, -6.1946, -5.722, -6.4079, -6.4136, -6.5344, -6.5919, -6.7453, -6.7453, -6.7529, -6.7529, -6.7529, -6.7532, -6.8406, -5.436, -6.9007, -6.9096, -6.9367, -6.9367, -6.9552, -7.0329, -7.0741, -7.0847, -3.6695, -5.6609, -5.8229, -5.3454, -6.3, -5.7469, -4.112, -5.6506, -4.865, -6.1759, -5.1711, -4.813, -5.4663, -2.939, -4.2529, -3.9841, -5.6821, -3.6996, -5.5897, -4.7332, -5.078, -4.3496, -4.262, -4.1717, -4.2878, -5.1753, -4.4568, -4.4001, -5.2794, -4.9731, -4.9159, -4.9855, -5.4525, -5.3988, -5.2702, -5.3423, -5.3422, -4.3095, -4.419, -4.6504, -4.8068, -5.1661, -5.1851, -5.2281, -5.2301, -5.2879, -5.3224, -5.3446, -5.3836, -5.4314, -5.4765, -5.2052, -5.5678, -5.6375, -5.6466, -5.6681, -5.7659, -5.7972, -5.8332, -5.8858, -5.9292, -5.9537, -6.0002, -6.1903, -6.2552, -6.295, -6.4319, -2.3385, -3.9097, -4.2137, -5.6466, -4.1622, -4.5373, -4.2088, -2.6081, -4.0262, -5.0324, -5.4349, -5.5791, -4.1687, -5.3587, -5.0559, -5.2973, -5.2753, -5.3928, -5.4096, -4.5678, -4.891, -5.028, -5.1937, -5.4808, -5.5113, -5.5676, -5.6516, -5.6907, -5.6936, -5.7051, -5.7226, -5.7677, -5.8782, -5.9985, -6.0502, -6.0667, -6.0834, -6.1265, -6.0965, -6.2581, -6.2581, -6.0512, -6.3096, -6.3696, -6.2637, -6.4274, -5.5635, -6.4887, -6.4951, -5.8709, -6.1571, -4.1411, -5.457, -5.3443, -3.0462, -4.4533, -5.717, -4.6982, -5.1217, -4.7572, -4.7434, -5.2496, -4.2275, -4.52, -5.6329, -4.5138, -4.9093, -4.9755, -5.1003, -4.9857, -5.1905, -5.2463, -5.2936, -5.4253, -4.8329, -5.3645, -5.2233, -4.8818, -5.2227, -5.2428, -5.3635, -3.5725, -4.1453, -4.1026, -4.8624, -4.9667, -5.2264, -4.661, -3.701, -5.4634, -5.5918, -5.6481, -5.9583, -6.0278, -6.0889, -5.1919, -6.3098, -6.4481, -6.4809, -6.4876, -6.6239, -6.6316, -4.9023, -6.6874, -6.7039, -6.7292, -6.7729, -4.7411, -6.8092, -6.8185, -6.8279, -5.4179, -5.3303, -4.1767, -5.4479, -4.8402, -4.8123, -5.8377, -2.689, -4.7667, -5.4431, -4.697, -4.0603, -3.7443, -4.1605, -4.9767, -4.7119, -5.2325, -4.4371, -3.2672, -4.7259, -5.0744, -4.4106, -5.2333, -5.1035, -5.0091, -5.0707, -5.1619, -3.7154, -3.9537, -4.7115, -4.77, -4.8323, -5.0983, -5.064, -5.346, -5.3633, -5.3787, -5.4381, -5.1074, -5.4219, -5.6041, -5.7536, -5.8554, -5.8992, -5.9889, -4.9917, -6.052, -6.1148, -6.143, -5.6811, -4.9135, -6.3027, -6.3484, -6.3484, -6.372, -6.3902, -6.4996, -4.3557, -5.5922, -4.3962, -6.2566, -5.3178, -4.6243, -4.7954, -5.5656, -5.501, -5.4428, -5.6281, -5.386, -3.9894, -3.9421, -4.8392, -5.1176, -4.9093, -5.0006, -4.6116, -4.6398, -5.1129, -5.1488, -4.8656, -4.6446, -5.0612, -5.1428, -5.2253, -4.9514, -5.1434, -4.1181, -4.5928, -3.9182, -4.6608, -4.5436, -5.1277, -4.8716, -5.3886, -5.5281, -5.7053, -5.7267, -5.7678, -5.7808, -4.7704, -6.1198, -5.9795, -6.143, -4.6147, -6.3113, -6.1969, -6.4044, -5.7738, -6.4228, -5.1152, -6.4739, -6.4871, -6.5206, -6.5697, -6.5915, -6.3021, -5.951, -5.8745, -6.0278, -6.1725, -5.6089, -3.515, -5.7364, -5.1408, -4.7082, -4.8613, -5.341, -5.122, -3.2418, -5.2479, -5.4395, -4.8818, -5.4029, -5.2261, -4.4146, -5.2904, -5.6352, -5.6368, -5.3583, -5.5867, -5.6303, -3.8667, -4.1217, -4.2876, -4.3892, -4.9303, -5.6446, -5.6837, -5.7747, -5.881, -5.9243, -5.9663, -6.0206, -6.131, -6.1467, -6.2162, -6.2333, -6.2595, -6.2122, -6.3425, -6.3917, -6.4596, -6.5442, -3.7852, -6.5862, -6.6051, -6.7601, -6.8357, -6.8515, -6.8515, -6.9007, -5.8828, -5.3878, -5.6504, -2.7356, -4.7261, -4.375, -6.2879, -4.9192, -4.8023, -3.253, -5.07, -5.1498, -5.6219, -2.169, -4.749, -5.4699, -5.2375, -5.7014, -4.427, -5.221, -5.4687, -5.1411, -5.1225, -5.4022, -5.2468, -5.0019, -5.0191, -4.8362, -5.4061, -3.473, -3.678, -4.642, -5.0698, -5.1412, -5.2143, -5.4791, -5.5357, -5.5375, -5.5496, -5.7577, -5.866, -5.7141, -6.0261, -6.177, -6.177, -6.4788, -6.5331, -6.6726, -6.7108, -6.2326, -6.7797, -6.7978, -5.407, -6.8348, -6.8474, -6.8798, -6.9408, -7.0133, -7.0594, -6.5745, -4.811, -3.9795, -5.4785, -3.3896, -6.2313, -5.1328, -4.6615, -6.0816, -6.292, -5.4026, -3.8982, -5.6372, -2.0277, -5.1511, -4.7523, -5.2882, -4.1586, -3.0817, -5.5375, -5.1488, -4.6592, -4.6693, -4.9623, -4.822, -4.5371, -4.777, -5.251, -5.3323, -5.2844]}, \"token.table\": {\"Topic\": [4, 16, 1, 4, 6, 7, 8, 9, 10, 11, 13, 14, 16, 17, 18, 20, 2, 7, 7, 17, 4, 13, 7, 10, 13, 16, 2, 18, 4, 8, 11, 12, 13, 16, 17, 20, 4, 6, 13, 17, 9, 9, 2, 4, 5, 13, 2, 9, 13, 2, 19, 16, 3, 13, 16, 4, 9, 11, 14, 16, 5, 10, 18, 17, 19, 12, 1, 7, 13, 12, 15, 15, 10, 13, 18, 1, 4, 15, 15, 3, 18, 1, 5, 7, 16, 1, 5, 20, 3, 4, 6, 8, 10, 11, 12, 13, 14, 15, 17, 18, 2, 11, 15, 15, 19, 12, 9, 1, 9, 11, 16, 19, 19, 10, 2, 16, 12, 16, 12, 4, 12, 16, 5, 10, 13, 1, 1, 8, 9, 11, 16, 4, 9, 11, 1, 5, 14, 5, 9, 11, 16, 16, 2, 1, 5, 7, 10, 1, 6, 4, 1, 12, 16, 4, 16, 16, 12, 9, 5, 6, 12, 1, 3, 8, 9, 11, 12, 17, 19, 3, 5, 7, 16, 18, 13, 2, 3, 5, 6, 7, 8, 9, 10, 11, 12, 13, 14, 16, 17, 18, 19, 20, 20, 15, 2, 4, 1, 5, 7, 8, 16, 19, 2, 4, 5, 11, 13, 14, 17, 20, 2, 8, 10, 2, 17, 3, 5, 18, 6, 3, 4, 9, 15, 14, 7, 19, 18, 20, 19, 12, 12, 13, 15, 17, 18, 17, 19, 17, 1, 4, 7, 8, 9, 11, 12, 13, 14, 16, 17, 19, 1, 2, 3, 4, 5, 6, 7, 8, 9, 10, 11, 12, 13, 14, 15, 16, 17, 18, 19, 20, 15, 20, 4, 9, 18, 11, 5, 10, 16, 16, 6, 2, 15, 19, 13, 14, 16, 17, 20, 4, 5, 1, 6, 7, 10, 17, 1, 3, 5, 6, 10, 15, 17, 18, 19, 20, 13, 16, 6, 17, 19, 7, 8, 13, 17, 19, 10, 14, 10, 20, 16, 16, 15, 18, 20, 2, 3, 19, 3, 5, 11, 14, 15, 16, 19, 5, 8, 12, 16, 4, 3, 4, 5, 8, 9, 14, 16, 19, 4, 3, 6, 15, 19, 3, 6, 20, 9, 5, 6, 10, 14, 17, 11, 4, 8, 17, 3, 5, 9, 15, 16, 18, 9, 14, 7, 14, 16, 6, 9, 12, 19, 20, 1, 12, 13, 10, 5, 8, 17, 20, 2, 3, 4, 5, 6, 7, 9, 17, 18, 19, 20, 2, 6, 9, 16, 1, 3, 4, 15, 17, 17, 11, 1, 2, 3, 4, 5, 6, 9, 10, 11, 12, 13, 14, 15, 18, 20, 13, 16, 10, 3, 9, 20, 1, 6, 12, 7, 11, 17, 19, 10, 15, 6, 10, 11, 15, 2, 5, 15, 20, 2, 1, 4, 3, 1, 4, 7, 13, 13, 7, 10, 17, 8, 19, 1, 9, 19, 1, 5, 7, 9, 11, 14, 16, 3, 6, 18, 5, 7, 8, 12, 13, 17, 19, 5, 8, 12, 13, 17, 1, 14, 15, 19, 4, 5, 9, 2, 3, 4, 7, 10, 11, 12, 15, 17, 18, 19, 20, 8, 12, 16, 1, 5, 6, 8, 9, 10, 12, 1, 4, 5, 8, 9, 12, 16, 20, 1, 3, 4, 5, 6, 9, 10, 11, 14, 7, 17, 1, 12, 11, 1, 18, 19, 2, 8, 12, 16, 15, 9, 9, 14, 1, 2, 6, 9, 12, 13, 15, 19, 18, 10, 11, 6, 2, 1, 3, 5, 6, 7, 10, 12, 15, 2, 3, 5, 6, 9, 10, 12, 13, 19, 3, 14, 17, 1, 2, 5, 9, 11, 13, 14, 15, 16, 18, 11, 15, 14, 7, 16, 5, 14, 12, 17, 5, 5, 5, 6, 5, 2, 2, 1, 2, 3, 5, 11, 13, 15, 1, 9, 11, 6, 18, 3, 11, 15, 9, 2, 9, 13, 16, 20, 7, 11, 18, 20, 7, 13, 10, 20, 10, 12, 18, 8, 14, 10, 2, 2, 5, 11, 12, 5, 7, 8, 10, 17, 2, 2, 2, 20, 5, 18, 9, 3, 10, 1, 4, 8, 9, 11, 12, 19, 11, 5, 16, 8, 10, 11, 18, 1, 9, 11, 12, 1, 9, 1, 6, 8, 9, 11, 12, 19, 4, 9, 11, 9, 14, 2, 6, 13, 14, 15, 17, 10, 14, 16, 18, 12, 3, 11, 20, 5, 11, 12, 15, 18, 4, 5, 18, 1, 2, 3, 4, 5, 6, 9, 10, 11, 12, 13, 14, 15, 16, 17, 18, 19, 20, 9, 8, 15, 12, 10, 6, 11, 1, 2, 3, 4, 5, 6, 9, 10, 12, 14, 15, 16, 17, 18, 20, 20, 10, 18, 19, 20, 2, 4, 5, 9, 10, 11, 12, 13, 15, 16, 18, 19, 20, 8, 11, 15, 1, 4, 7, 9, 10, 13, 15, 16, 15, 10, 20, 7, 18, 20, 9, 1, 5, 3, 19, 8, 16, 15, 18, 9, 8, 9, 19, 8, 12, 15, 7, 18, 19, 7, 19, 20, 2, 3, 5, 10, 13, 15, 2, 6, 9, 18, 3, 8, 8, 12, 1, 11, 12, 12, 7, 5, 13, 18, 9, 11, 20, 11, 15, 12, 18, 12, 1, 11, 12, 1, 12, 12, 2, 8, 1, 17, 2, 6, 15, 12, 7, 1, 5, 20, 7, 17, 1, 5, 6, 9, 10, 11, 12, 13, 15, 16, 18, 19, 20, 17, 3, 4, 11, 11, 2, 10, 11, 19, 1, 3, 5, 6, 7, 9, 10, 11, 12, 13, 14, 16, 18, 19, 20, 15, 3, 5, 9, 12, 13, 14, 18, 4, 10, 19, 20, 1, 3, 4, 7, 10, 14, 18, 13, 7, 14, 19, 12, 15, 19, 10, 19, 17, 19, 5, 20, 13, 16, 5, 4, 20, 20, 12, 20, 20, 1, 3, 2, 6, 14, 1, 2, 5, 9, 8, 5, 18, 1, 4, 9, 15, 1, 2, 15, 14, 5, 7, 19, 20, 15, 3, 6, 8, 15, 10, 2, 5, 13, 13, 6, 15, 6, 7, 8, 9, 2, 13, 1, 9, 10, 12, 13, 14, 16, 20, 1, 4, 5, 7, 13, 14, 20, 19, 1, 5, 6, 12, 8, 8, 1, 1, 2, 3, 5, 6, 10, 11, 12, 18, 7, 17, 19, 2, 11, 14, 19, 17, 13, 17, 18, 14, 16, 3, 10, 13, 14, 16, 20, 10, 16, 20, 16, 10, 18, 13, 7, 3, 3, 4, 6, 11, 12, 14, 15, 18, 2, 11, 2, 6, 19, 1, 2, 3, 4, 5, 6, 7, 8, 9, 10, 11, 12, 13, 14, 15, 16, 17, 18, 19, 20, 1, 4, 9, 11, 12, 13, 16, 12, 2, 5, 6, 4, 4, 16, 14, 15, 5, 18, 13, 19, 3, 11, 10, 13, 14, 16, 20, 16, 19, 13, 13, 17, 13, 19, 9, 19, 8, 2, 3, 4, 5, 6, 8, 9, 10, 11, 12, 13, 14, 15, 17, 18, 20, 4, 5, 6, 14, 16, 10, 14, 15, 7, 12, 17, 1, 3, 5, 6, 7, 9, 10, 12, 13, 15, 16, 17, 18, 19, 20, 3, 9, 10, 17, 18, 19, 20, 7, 19, 1, 12, 10, 1, 2, 3, 4, 5, 7, 8, 10, 11, 12, 13, 14, 16, 17, 18, 19, 20, 1, 2, 3, 4, 5, 7, 10, 13, 17, 18, 19, 20, 14, 8, 14, 1, 14, 14, 11, 15, 8, 16, 1, 3, 4, 5, 8, 9, 10, 11, 14, 16, 17, 18, 19, 20, 11, 16, 14, 14, 7, 20, 3, 15, 16, 18, 19, 1, 4, 5, 1, 15, 18, 19, 20, 4, 17, 18, 19, 12, 20, 7, 17, 17, 18, 3, 2, 6, 6, 17, 5, 10, 11, 5, 2, 3, 8, 10, 15, 1, 10, 13, 14, 11, 16, 8, 16, 14, 10, 16, 1, 2, 3, 4, 5, 6, 7, 8, 9, 10, 12, 13, 14, 15, 16, 17, 18, 19, 20, 2, 3, 5, 10, 13, 15, 17, 19, 10, 12, 15, 1, 10, 11, 5, 9, 11, 12, 13, 20, 3, 13, 14, 11, 20, 1, 2, 3, 5, 6, 12, 14, 15, 18, 8, 4, 2, 4, 5, 7, 11, 13, 20, 2, 4, 5, 6, 7, 8, 11, 13, 15, 20, 9, 12, 1, 2, 12, 16, 17, 2, 18, 14, 8, 16, 17, 5, 8, 8, 3, 9, 11, 5, 4, 9, 11, 3, 10, 12, 3, 6, 17, 6, 10, 18, 12, 13, 18, 6, 11, 2, 6, 15, 19, 1, 9, 11, 19, 5, 20, 17, 9, 1, 2, 5, 12, 19, 1, 3, 5, 12, 13, 17, 1, 1, 5, 7, 6, 7, 4, 18, 14, 20, 4, 5, 11, 14, 20, 4, 6, 8, 10, 14, 11, 15, 11, 16, 2, 8, 11, 2, 11, 4, 8, 11, 14, 19, 19, 5, 18, 12, 15, 17, 13, 2, 8, 11, 13, 19, 5, 13, 7, 8, 3, 15, 1, 13, 3, 12, 18, 3, 10, 13, 18, 20, 15, 1, 2, 4, 6, 7, 9, 10, 11, 12, 13, 14, 15, 16, 17, 18, 19, 20, 6, 7, 10, 12, 17, 18, 14, 16, 20, 4, 11, 19, 7, 4, 7, 12, 18, 3, 4, 5, 10, 12, 5, 20, 6, 20, 4, 4, 6, 12, 13, 14, 16, 20, 4, 20, 7, 14, 7, 17, 9, 10, 16, 18, 20, 11, 20, 7, 4, 7, 18, 3, 10, 5, 6, 10, 18, 17, 4, 5, 6, 9, 11, 12, 18, 20, 4, 19, 8, 9, 14, 16, 20, 1, 3, 4, 5, 10, 16, 17, 18, 19, 20, 2, 3, 10, 20, 3, 1, 5, 16, 2, 10, 1, 8, 16, 17, 13, 14, 16, 18, 20, 11, 12, 19, 6, 15, 5, 7, 8, 12, 17, 20, 2, 7, 18, 12, 9, 1, 7, 13, 17, 7, 3, 10, 10, 19, 9, 13, 14, 9, 9, 13, 6, 19, 16, 14, 15, 6, 7, 15, 17, 13, 4, 5, 10, 10, 17, 18, 6, 19, 20, 1, 4, 8, 9, 11, 13, 16, 2, 17, 18, 2, 8, 14, 16, 7, 16, 17, 7, 16, 17, 1, 9, 15, 18, 14, 7, 15, 19, 20, 13, 4, 6, 7, 13, 14, 15, 16, 18, 20, 8, 15, 16, 17, 3, 5, 7, 8, 19, 1, 5, 7, 9, 20, 7, 3, 6, 10, 15, 17, 9, 20, 4, 15, 19, 13, 3, 7, 20, 1, 3, 4, 5, 6, 7, 8, 9, 10, 11, 12, 13, 14, 15, 16, 17, 18, 19, 20, 16, 17, 9, 12, 1, 2, 4, 11, 10, 12, 5, 2, 3, 4, 5, 7, 9, 11, 12, 13, 15, 18, 19, 2, 9, 2, 10, 7, 8, 19, 17, 8, 6, 11, 1, 5, 6, 9, 11, 12, 13, 14, 16, 9, 17, 15, 12, 3, 10, 19, 2, 18, 2, 13, 4, 3, 11, 8, 9, 1, 13, 1, 4, 5, 7, 8, 12, 13, 1, 8, 1, 2, 4, 5, 6, 11, 12, 13, 14, 15, 16, 17, 2, 5, 7, 9, 6, 15, 14, 20, 18, 1, 6, 7, 8, 9, 10, 12, 17, 20, 5, 5, 15, 5, 13, 6, 10, 14, 18, 1, 2, 3, 4, 5, 9, 10, 12, 14, 16, 1, 4, 15, 4, 5, 10, 12, 14, 15, 17, 20, 5, 7, 3, 6, 9, 10, 12, 13, 15, 16, 17, 18, 20, 10, 12, 1, 5, 7, 11, 12, 6, 9, 13, 16, 9, 19, 1, 4, 9, 13, 14, 19, 1, 5, 8, 11, 19, 19, 5, 1, 6, 7, 8, 14, 19, 7, 8, 7, 9, 15, 13, 6, 5, 20, 4, 17, 16, 4, 6, 14, 8, 12, 13, 2, 20, 11, 1, 7, 9, 10, 11, 13, 18, 4, 5, 12, 11, 15, 15, 7, 1, 3, 4, 5, 6, 8, 10, 11, 15, 17, 18, 20, 5, 1, 8, 7, 20, 13, 7, 17, 17, 7, 8, 17, 5, 8, 8, 15, 17, 8, 3, 4, 1, 9, 10, 17, 1, 4, 1, 2, 4, 5, 6, 8, 9, 10, 15, 17, 18, 1, 4, 7, 11, 12, 18, 2, 5, 6, 7, 1, 5, 13, 14, 14, 15, 3, 16, 1, 5, 7, 11, 12, 11, 1, 5, 6, 8, 9, 11, 12, 8, 2, 8, 5, 17, 6, 12, 18, 7, 4, 6, 3, 1, 7, 11, 19, 1, 19, 16, 4, 12, 16, 13, 4, 12, 16, 3, 10, 17, 2, 4, 5, 6, 12, 13, 15, 18, 19, 1, 13, 19, 2, 3, 4, 5, 6, 9, 10, 11, 12, 13, 14, 15, 16, 17, 18, 20, 3, 4, 6, 7, 8, 9, 12, 14, 15, 16, 17, 18, 19, 20, 3, 6, 7, 8, 9, 12, 18, 9, 13, 3, 13, 4, 9, 2, 19, 12, 13, 18, 3, 6, 10, 20, 6, 4, 15, 4, 9, 17, 19, 5, 13, 2, 6, 13, 15, 16, 18, 19, 6, 1, 5, 7, 8, 15, 16, 17, 14, 18, 5, 11, 12, 13, 13, 19, 4, 20, 4, 15, 10, 6, 19, 15, 6, 12, 16, 19, 20, 1, 4, 2, 16, 19, 1, 2, 2, 6, 11, 4, 14, 19, 7, 8, 3, 1, 3, 4, 5, 7, 12, 13, 17, 1, 18, 11, 17, 5, 16, 1, 9, 16, 13, 9, 18, 20, 7, 13, 7, 11, 12, 1, 5, 12, 5, 17, 2, 12, 14, 4, 9, 16, 13, 19, 5, 9, 13, 14, 1, 2, 8, 4, 1, 1, 3, 8, 17, 7, 10, 19, 20, 20, 19, 20, 6, 7, 10, 19, 8, 20, 4, 5, 16, 14, 10, 12, 9, 5, 6, 8, 16, 8, 8, 6, 15, 18, 19, 20, 7, 20, 6, 18, 18, 9, 13, 1, 5, 10, 12, 12, 1, 8, 9, 11, 12, 20, 1, 2, 6, 9, 10, 12, 16, 17, 19, 2, 4, 6, 14, 1, 7, 9, 13, 18, 20, 1, 2, 7, 9, 16, 19, 20, 6, 1, 7, 8, 11, 15, 17, 4, 7, 9, 12, 15, 18, 2, 2, 2, 8, 3, 15, 18, 20, 7, 9, 15, 3, 7, 10, 16, 20, 3, 6, 10, 17, 12, 14, 7, 4, 13, 14, 7, 8, 13, 16, 1, 2, 5, 8, 20, 3, 5, 6, 8, 15, 17, 18, 19, 17, 18, 14, 14, 17, 8, 10, 2, 20, 1, 4, 8, 9, 11, 4, 7, 4, 7, 9, 13, 14, 15, 18, 20, 15, 19, 3, 1, 5, 7, 11, 12, 13, 17, 1, 5, 7, 8, 10, 11, 12, 13, 17, 18, 19, 7, 13, 18, 5, 7, 8, 11, 12, 13, 17, 19, 1, 3, 6, 8, 9, 11, 12, 13, 18, 9, 12, 1, 15, 18, 11, 15, 6, 1, 4, 6, 8, 9, 12, 13, 15, 1, 17, 1, 10, 11, 2, 6, 12, 16, 20, 20, 6, 13, 10, 1, 5, 6, 7, 12, 13, 17, 13, 14, 16, 3, 4, 2, 6, 8, 14, 17, 3, 5, 7, 10, 11, 12, 17, 19, 6, 5, 16, 1, 4, 5, 8, 9, 10, 11, 13, 14, 16, 18, 20, 10, 11, 2, 15, 20, 4, 20, 14, 1, 3, 4, 5, 7, 8, 9, 10, 11, 12, 13, 15, 16, 17, 18, 19, 20, 2, 7, 18, 8, 3, 6, 16, 18, 11, 1, 11, 7, 8, 4, 20, 3, 6, 4, 9, 5, 7, 9, 18, 13, 16, 12, 15, 17, 18, 19, 10, 4, 6, 10, 17, 18, 11, 15, 4, 5, 11, 5, 7, 19, 9, 14, 1, 9, 11, 20, 17, 20, 1, 3, 5, 6, 8, 9, 10, 11, 12, 13, 14, 15, 17, 18, 9, 1, 2, 3, 4, 5, 6, 7, 9, 10, 11, 12, 14, 15, 18, 19, 1, 2, 3, 4, 5, 6, 7, 9, 10, 11, 12, 13, 14, 15, 16, 18, 20, 13, 1, 2, 3, 5, 6, 7, 8, 9, 11, 12, 13, 14, 15, 16, 18, 19, 3, 6, 20, 11, 20, 1, 7, 9, 13, 14, 16, 20, 15, 10, 1, 3, 6, 7, 8, 9, 10, 11, 13, 14, 16, 1, 9, 10, 14, 16, 2, 9, 13, 14, 15, 14, 11, 5, 14, 10, 7, 3, 9, 15, 1, 3, 4, 5, 6, 7, 8, 9, 10, 11, 12, 13, 14, 15, 16, 17, 18, 19, 20, 6, 18, 19, 2, 4, 8, 9, 10, 13, 15, 16, 3, 18, 15, 7, 8, 9, 14, 19, 7, 8, 9, 10, 19, 19, 19, 1, 8, 9, 11, 12, 19, 8, 9, 16, 1, 4, 7, 8, 9, 11, 15, 16, 19, 4, 18, 7, 7, 17, 19, 10, 9, 13, 2, 16, 19, 20, 1, 14, 6, 8, 13, 1, 11, 8, 12, 3, 20, 19, 1, 2, 2, 18, 1, 5, 6, 11, 12, 20, 1, 3, 5, 7, 8, 11, 12, 13, 16, 1, 3, 6, 9, 12, 14, 5, 6, 3, 4, 5, 7, 5, 7, 12, 16, 8, 4, 10, 13, 15, 16, 7, 4, 11, 13, 17, 1, 4, 5, 6, 9, 10, 13, 14, 16, 17, 18, 20, 4, 10, 16, 4], \"Freq\": [0.059750694374443816, 0.9385838241318882, 0.02368466106323748, 0.019129918551076427, 0.025506558068101905, 0.15759409092077248, 0.0004554742512161054, 0.06376639517025476, 0.11660140831132298, 0.20541888729846355, 0.11705688256253909, 0.01093138202918653, 0.20541888729846355, 0.0505576418849877, 0.0022773712560805273, 0.0018218970048644216, 0.9997649272384727, 0.996091752920908, 0.03552121469918139, 0.9618051980086038, 0.11216090102081472, 0.8853551974196225, 0.25367772794705035, 0.6076734664913434, 0.09685876885251013, 0.04151090093679005, 0.9991077107178274, 0.9939764020029235, 0.12825881844568227, 0.4158150894009019, 0.09850277256628398, 0.0002565176368913645, 0.11158517204774357, 0.0012825881844568225, 0.24240916686233946, 0.0015391058213481872, 0.4100165608891533, 0.03584844248211176, 0.009522242534310938, 0.5444482201970724, 0.9978206378062512, 0.9971466423358931, 0.9998034659783922, 0.9979978489992942, 0.9963004358807468, 0.9996288202816382, 0.052917637731271325, 0.08255151486078327, 0.8614991422650972, 0.9971268208001577, 0.9978583838541152, 0.9981467758473597, 0.01951449408131742, 0.9757247040658709, 0.9924617977334238, 0.003571723173909015, 0.00238114878260601, 0.001190574391303005, 0.001190574391303005, 0.9917484679554032, 0.9990023900329813, 0.05094444991256007, 0.9469674219040578, 0.9937037735430162, 0.0027224760918986746, 0.9983880931943927, 0.5771414815138289, 0.14328106385610137, 0.27852767553335595, 0.9946889836047283, 0.9978196869921868, 0.9944112134189039, 0.7741837905910125, 0.22513787531258336, 0.0007262512106857528, 0.04142856404565216, 0.049714276854782594, 0.9083212667009236, 0.9929154088085873, 0.9991067256067893, 0.9915908501924404, 0.9860217153163844, 0.004586147513099462, 0.004586147513099462, 0.004586147513099462, 0.20979549450247104, 0.7861437911974617, 0.0035358791208281635, 0.0008403142584246092, 0.0016806285168492184, 0.427719957538126, 0.22436390699937064, 0.04789791273020272, 0.007562828325821482, 0.0016806285168492184, 0.0016806285168492184, 0.03949477014595663, 0.1924319651792355, 0.04789791273020272, 0.005882199808972264, 0.03377146448770573, 0.03220069869757988, 0.9330348793347536, 0.9991415261911815, 0.9952545819649041, 0.9938204793358855, 0.9957902247318647, 0.0012706723470973633, 0.8987889068468683, 0.09911244307359433, 0.0004235574490324544, 0.0004235574490324544, 0.9955596830385424, 0.9978867084929699, 0.009350096876920552, 0.9887727447343484, 0.04745006672044333, 0.9516013380647812, 0.9963227094411325, 0.7292669784011387, 0.26110585087566424, 0.009978567549388443, 0.00461999633787154, 0.9932992126423811, 0.9889698308205862, 0.9924549430993832, 0.06782589610639995, 0.0029860457405333314, 0.7819174060567995, 0.0993926653634666, 0.0477767318485333, 0.9976420299602416, 0.002050651654594536, 0.997057682151482, 0.030844967129653615, 0.8665507952987063, 0.1021739536169776, 0.9962444425327708, 0.39085873197260795, 0.6025738784577707, 0.005089306405893333, 0.9887178029176322, 0.9942771686966085, 0.9938498185712725, 0.129915960268568, 0.8321199480493089, 0.03617912817605691, 0.01550569545574601, 0.9846116614398717, 0.9935905086315155, 0.9959456609092683, 0.6033457327016976, 0.39613608712737713, 0.0011060597637413397, 0.9976659068946884, 0.9935117084677259, 0.9960810386162945, 0.9966428533314692, 0.9840132964497262, 0.015516635423648771, 0.9880838612439762, 0.19986759972339266, 0.47354522590065234, 0.14927870518759617, 0.08624991855283336, 0.020733153498277247, 0.038149002436830136, 0.029855741037519236, 0.0024879784197932697, 0.9995259572535397, 0.9657864424961186, 0.0014523104398437873, 0.011618483518750299, 0.018880035717969236, 0.9927261700607117, 0.006887150342493905, 0.014266239995165944, 0.004427453791603224, 0.0014758179305344081, 0.000491939310178136, 0.000491939310178136, 0.008854907583206449, 0.039355144814250884, 0.03591156964300393, 0.0777264110081455, 0.023121147578372393, 0.029024419300510026, 0.008362968273028312, 0.029024419300510026, 0.09100877238295517, 0.144630157192372, 0.48505215983564215, 0.9991426799573302, 0.9982687181544545, 0.9995175378643989, 0.9982546895943766, 0.1977089576790038, 0.05319073480704163, 0.6503320029238298, 0.09233108683486471, 0.0040143950797767265, 0.0010035987699441816, 0.30552954584895986, 0.028663752702247833, 0.12051805113445112, 0.08143111563138589, 0.3211643200501859, 0.006514489250510871, 0.11530645973404241, 0.020846365601634786, 0.9614994659057648, 0.009070749678356272, 0.027212249035068817, 0.9986178512095282, 0.993218737017709, 0.00418821463635207, 0.00418821463635207, 0.9884186541790885, 0.9976010143674228, 0.8322954324300577, 0.04933710037600857, 0.10081929207271317, 0.015015639244872175, 0.9994891606931428, 0.9948051399194817, 0.9879189295572866, 0.004719917357591213, 0.9943292566658823, 0.9976552112677199, 0.9841623725940525, 0.8263435831623783, 0.0262927503733484, 0.1021661157364395, 0.0015024428784770514, 0.043570843475834495, 0.02620957723063806, 0.9734985828522708, 0.9934723673673256, 0.08906143073084413, 0.0014515954754093442, 0.10394028435378992, 0.215259512374244, 0.02195538156556633, 0.02806417919124732, 3.0241572404361337e-05, 0.015755859222672256, 0.0007257977377046721, 0.10995835726225782, 0.020927168103818044, 0.3928380255326538, 0.026263260143685692, 0.004855392631605758, 0.006841689617262659, 0.06687199851711567, 0.07481718645974327, 0.0320014514355834, 0.10130114626850195, 0.10240464459386689, 0.051202322296933445, 0.010152184593357493, 0.04921602531127654, 0.06907899516784556, 0.06974109416306452, 0.020525068851787977, 0.018759471531204063, 0.061795906220436916, 0.12601950875667672, 0.0320014514355834, 0.04921602531127654, 0.026925359138904658, 0.9944276265123144, 0.0034528737031677584, 0.9163128931205679, 0.08261273266301138, 0.9985928879733932, 0.9961057586482915, 0.9946096560475062, 0.02137115225745711, 0.9759492864238747, 0.9880121662849837, 0.9968506394186668, 0.9932738454473028, 0.006081268441514099, 0.0003378482467507833, 0.9141713244305256, 0.0834678165784393, 0.9979039546502688, 0.9960705294551743, 0.0029957008404666897, 0.9972246254782938, 0.0018297699550060436, 0.008055452077569763, 0.05840202756238078, 0.02819408227149417, 0.0020138630193924406, 0.9022106326878134, 0.012996628020296629, 0.0007645075306056841, 0.0007645075306056841, 0.018348180734536416, 0.03210931628543873, 0.13073078773357197, 0.04969298948936946, 0.13073078773357197, 0.5183361057506538, 0.10550203922358439, 0.2886105865354767, 0.7096753069882011, 0.991285388104642, 0.005393997939331776, 0.9944220486725224, 0.0006972297465625205, 0.05020054175250148, 0.4664467004503262, 0.21614122143438136, 0.26634176318688285, 0.9897049508719413, 0.9962288337041837, 0.9903228500583011, 0.9987858236424212, 0.9967785003949793, 0.9883682511502223, 0.09135136658729824, 0.9024885009400326, 0.004725070685549909, 0.06506468196208459, 0.9332715318936509, 0.9963022891362526, 0.007151361712078017, 0.004086492406901725, 0.15937320386916726, 0.031670316153488365, 0.0490379088828207, 0.12055152600360088, 0.6272765844594147, 0.02450704917307039, 0.9662264534264958, 0.0010811933458707524, 0.00720795563913835, 0.9935994002074692, 0.003483461152520219, 0.16625610046119227, 0.0557353784403235, 0.07885289336159404, 0.016150592616230107, 0.08423642423367074, 0.3572131072766188, 0.23782539323115312, 0.997632642281883, 0.07610144204736917, 0.8820848964581426, 0.039780299252033885, 0.0017295782283492992, 0.11640229736409781, 0.0458554504767658, 0.8371559163963398, 0.9950365018200774, 0.9568043735409664, 0.03771188409226782, 0.00323244720790867, 0.0010774824026362232, 0.9938474848333254, 0.9974999715600762, 0.8445131399357241, 0.07606469389721303, 0.07801507066380824, 0.14985231278790645, 0.7843917764612394, 0.0005489095706516721, 0.0005489095706516721, 0.0010978191413033441, 0.06257569105429062, 0.03791785766474391, 0.9612689321494537, 0.021547581108905204, 0.8791413092433322, 0.09696411499007342, 0.001749432019636645, 0.001749432019636645, 0.6962739438153847, 0.02449204827491303, 0.27466082708295325, 0.7443213686719565, 0.22159649230445688, 0.03339125226505515, 0.9934177746772512, 0.018477275270715028, 0.005834929032857377, 0.9335886452571804, 0.04181699140214454, 0.047714395448930406, 0.022863147819279152, 0.012922648767418651, 0.0009940499051860501, 0.11630383890676786, 0.05666084459560486, 0.0009940499051860501, 0.05666084459560486, 0.3648163152032804, 0.0735596929837677, 0.2455303265809544, 0.9942423875218653, 0.9387524197629992, 0.0028708025069204865, 0.05741605013840973, 0.14479112495959676, 0.8541634709846715, 0.004587487868980682, 0.9908973796998274, 0.9932187379702092, 0.9957692073199789, 0.9949614600748664, 0.11368533098181982, 0.010884765732301897, 0.008869068374468212, 0.0008062789431334739, 0.06006778126344381, 0.0028219763009671587, 0.00040313947156673694, 0.011691044675435372, 0.0028219763009671587, 0.024591507765570956, 0.5095682920603555, 0.02015697357833685, 0.09473777581818318, 0.13666428086112384, 0.0024188368294004218, 0.9617162863689117, 0.03698908793726583, 0.9978466124205361, 0.9896377032286617, 0.0036450744133652365, 0.005467611620047855, 0.9948228457325339, 0.38281546380416626, 0.6150150074230868, 0.0023925446213097327, 0.03588816931964599, 0.957017848523893, 0.0047850892426194655, 0.9213332467076957, 0.07809827275532064, 0.9399692203456963, 0.02511368145961784, 0.0005979447966575676, 0.034082853409481355, 0.014616194006178822, 0.1284686525806244, 0.854662712677088, 0.0007692733687462538, 0.9942290623915784, 0.9799082445688488, 0.016608614314726253, 0.9965243634229405, 0.0067216054319967555, 0.7718643571076275, 0.22069271168389348, 0.9940465741626237, 0.9925389527088032, 0.5227449964221091, 0.00415536563133632, 0.472049535719806, 0.999545187186227, 0.9966952837030306, 0.9768553009368762, 0.020266707488316934, 0.9949792144166932, 0.7282474498274419, 0.000879525905588698, 0.000879525905588698, 0.20053190647422314, 0.05804870976885407, 0.002638577716766094, 0.00879525905588698, 0.9949167903894601, 0.0015425066517666048, 0.0015425066517666048, 0.585572691940825, 0.1510607813992273, 0.0004243280376382789, 0.1311173636302282, 0.07765203088780503, 0.053041004704784865, 0.0008486560752765578, 0.8661725065671506, 0.078600045967981, 0.00471600275807886, 0.03772802206463088, 0.01257600735487696, 0.009533881242147635, 0.1531029164180179, 0.8350558335034016, 0.0016824496309672296, 0.9936296716323568, 0.9900892415012872, 0.9986993454432948, 0.019924352025064988, 0.2336583101121258, 0.0009056523647756813, 0.04166000877968134, 0.09418784593667086, 0.0018113047295513626, 0.08784827938324109, 0.0018113047295513626, 0.0679239273581761, 0.4464866158344109, 0.002716957094327044, 0.0009056523647756813, 0.9986842955449449, 0.9609855954354177, 0.03810075047981833, 0.41550774876365043, 0.13602592050309326, 0.1954658185380584, 0.04915222337506731, 0.08687369712802595, 0.0028576874055271694, 0.11430749622108677, 0.4587225582036403, 0.0004092083480853169, 0.1522255054877379, 0.1816885065498807, 0.02005120905618053, 0.15099788044348195, 0.026189334277460282, 0.009411792005962288, 0.07632263051067766, 0.35605054903306566, 0.028484043922645252, 0.006573240905225827, 0.12197013679696812, 0.22823753143145234, 0.026292963620903307, 0.0003651800502903237, 0.1555667014236779, 0.995110378445459, 0.0028270181205836903, 0.02364500056159127, 0.9728228802483265, 0.9995701222551964, 0.9931530888174182, 0.9949499123620532, 0.9956789049130307, 0.10565652238586376, 0.8933994551108481, 0.9917607243520103, 0.9920131499412898, 0.9930567388116519, 0.9921116516739666, 0.07810812853115019, 0.9190723123832005, 0.0473481400598703, 0.08694840265539819, 0.00688700219052659, 0.22727107228737745, 0.05337426697658107, 0.0008608752738158237, 0.06112214444092348, 0.5148034137418626, 0.9972035267384729, 0.9978700392526231, 0.9979790235335256, 0.9983667232680371, 0.9980775059214153, 0.0006329853023561547, 0.9988508071180122, 0.0007162300439382183, 0.8344080011880244, 0.007162300439382183, 0.03008166184540517, 0.002148690131814655, 0.12462402764524999, 0.005447360501940488, 0.00635525391893057, 0.08534198119706765, 0.2927956269793012, 0.0009078934169900814, 0.07989462069512716, 0.5184071411013365, 0.010440774295385936, 0.0009078934169900814, 0.9988871572215031, 0.9981449936621559, 0.9989631462430457, 0.0007973032110809761, 0.0031892128443239045, 0.0007973032110809761, 0.6330587495982951, 0.15866333900511426, 0.045446283031615645, 0.006378425688647809, 0.08929795964106933, 0.06139234725323516, 0.0007973032110809761, 0.982800365389978, 0.015970505937587143, 0.9987538818392989, 0.9886277956348385, 0.005781449097279757, 0.9974432500560223, 0.9980596486407141, 0.0029822266135915085, 0.9960636889395639, 0.9950127912493406, 0.9921524466875102, 0.0008607226236341359, 0.9984382434155977, 0.9929815330346463, 0.9979265065280898, 0.9993045382098359, 0.001959284343363933, 0.06269709898764586, 0.7553041143667962, 0.08914743762305896, 0.058778530300917994, 0.02840962297877703, 0.0029389265150458997, 0.9926519349203952, 0.003458717543276638, 0.9958370760915054, 0.9959732179129758, 0.9977309478508717, 0.9962792352486339, 0.3066043051809801, 0.6925883657486217, 0.9994739711662955, 0.04434502761614409, 0.022172513808072045, 0.752756843784046, 0.17405423339336556, 0.006651754142421614, 0.2742281942698057, 0.724804529420992, 0.0005468159407174591, 0.0005468159407174591, 0.9996455777733675, 0.9872474239977246, 0.9191548973887725, 0.07812816627804567, 0.9350901723998869, 0.04518292849831386, 0.01964475152100603, 0.9974355803415457, 0.9961976162691042, 0.9914804748334825, 0.9988481483850243, 0.9942118657990984, 0.6793238540701383, 0.11525233413261728, 0.20501617129359803, 0.0007990867516660198, 0.07990867516660198, 0.7958904046593557, 0.002397260254998059, 0.121461186253235, 0.9942544169229182, 0.9981979282883402, 0.9942728269127155, 0.9967445584601698, 0.23552624599996047, 0.7641118667937649, 0.9923959669509903, 0.9143338382992624, 0.08337390622789627, 0.005084232846538978, 0.6009563224609071, 0.0671118735743145, 0.0010168465693077956, 0.17286391678232524, 0.10778573634662633, 0.04372440248023521, 0.9925609373409576, 0.08821075661750881, 0.9107760620757784, 0.02848465665977606, 0.01424232832988803, 0.9510710362514119, 0.0063299237021724585, 0.06302513777426, 0.003151256888713, 0.06144950932990351, 0.8713225297291446, 0.9875296763706807, 0.010340624883462626, 0.7489984946700804, 0.01122095123101244, 0.04675396346255183, 0.009350792692510367, 0.1701844270036887, 0.0009350792692510367, 0.012156030500263476, 0.0020512876041460177, 0.9928232004066725, 0.004102575208292035, 0.9968523852051254, 0.9962035834685455, 0.002073029809126587, 0.012438178854759521, 0.00010910683205929405, 0.9851255866633659, 0.00010910683205929405, 0.00010910683205929405, 0.0009143856425297789, 0.18927782800366424, 0.002743156927589337, 0.8064881367112651, 0.9912948225156963, 0.11468700530476708, 0.016990667452558086, 0.8665240400804624, 0.0009731084834817829, 0.0020852324646038205, 0.9347402061330726, 0.014874658247507253, 0.04698723820240609, 0.006989601321758335, 0.9918244275575078, 0.0006989601321758335, 0.04583595210573007, 0.03979555531660285, 0.000710634916367908, 0.000355317458183954, 0.22562658594681081, 0.25689452226699877, 0.033044523611107726, 0.0572061107676166, 0.04192746006570657, 0.001065952374551862, 0.031267936320187956, 0.011725476120070483, 0.10446333270608248, 0.00177658729091977, 0.000355317458183954, 0.049033809229385654, 0.0920272216696441, 0.006395714247311173, 0.9940547120295915, 0.9990788282584092, 0.9930567388117862, 0.9988496473767766, 0.9978477664257519, 0.9987025022666854, 0.9923738842359873, 0.020870389183978606, 0.015957599977440687, 0.0916934452636311, 0.05536749295543465, 0.0007889150550644834, 0.1087626982732081, 0.008857364481860336, 0.0026177635918048768, 7.171955046040758e-05, 0.00021515865138122274, 0.027755466028177734, 0.001721269211049782, 0.00028687820184163034, 7.171955046040758e-05, 0.6649478120936689, 0.9986659763565635, 0.7428202414107178, 0.20135673969903284, 0.04737805639977243, 0.006768293771396062, 0.007397617548373331, 0.17726883532583498, 0.1041146173474765, 0.0019179008458745672, 0.02274082431536987, 0.04959143615761381, 0.1520621384943407, 0.11863586660909822, 0.030686413533993075, 0.06438667125436047, 0.06274275624361084, 0.012329362580622217, 0.19562588627920585, 0.9996562061444241, 0.0203724502291547, 0.9778776109994256, 0.14329570753378404, 0.003618578473075355, 0.003618578473075355, 0.662923576267405, 0.018816608059991843, 0.000723715694615071, 0.001447431389230142, 0.16573089406685124, 0.9970767683355196, 0.6797476643770678, 0.3195266182881117, 0.29013485147771667, 0.6328566447857694, 0.07616039851290062, 0.9977085819363745, 0.040368290068408086, 0.9573051644793917, 0.7950980771832264, 0.20378564163099502, 0.7696444993881301, 0.22987395312850772, 0.9592317604342745, 0.04018962397383282, 0.9981182797129919, 0.10798562697746121, 0.17247704308900053, 0.7184043794750544, 0.07321341876395926, 0.9262078532519926, 0.9982109987340547, 0.28977881676335293, 0.00215716240766764, 0.7075492697149859, 0.944625447196178, 0.001711277984051047, 0.049627061537480366, 0.9985944952432692, 0.008993797558397668, 0.10093039482201827, 0.000999310839821963, 0.8843900932424373, 0.003997243359287852, 0.09168963522792208, 0.006708997699604054, 0.9012420243134779, 0.9969185465572723, 0.9917507987106883, 0.9993023163613317, 0.01673964879014107, 0.9764795127582291, 0.19880320226911352, 0.018493321141312885, 0.77980170812536, 0.993389218691617, 0.9969406974078214, 0.2783279561573771, 0.7213959728511476, 0.9983999051541238, 0.9980301175697733, 0.7356398585040481, 0.2640026650305507, 0.9096217640745778, 0.08981214287069883, 0.9894504604958413, 0.009927596593603758, 0.9994154254011508, 0.004492873416317576, 0.0014976244721058587, 0.9938235996894479, 0.011006335387389838, 0.9850670171713906, 0.9960469589015244, 0.5810726534899566, 0.4186506112056046, 0.9965274445923425, 0.994402130793666, 0.01249875345365883, 0.9467805741146563, 0.0406209487243912, 0.9861196233084526, 0.9969691149959581, 0.8124312870775515, 0.18408563906591047, 0.9986039844844768, 0.0005322017982469222, 0.9994749771077198, 0.13526717285378348, 0.10755188055652509, 0.10631089731933441, 0.03557485279946599, 0.05708522891077101, 0.256469869019406, 0.05625790675264389, 0.005377594027826255, 0.04798468517137273, 0.02936993661351262, 0.14519503875130887, 0.009927865897525392, 0.007859560502207602, 0.9972899932744698, 0.0022077499648112155, 0.9964311507847953, 0.9952742451189283, 0.9960241212054882, 0.005118544184034211, 0.08189670694454737, 0.9111008647580895, 0.9973866692624301, 0.12850744887595356, 0.0020727007883218317, 0.4214491602921057, 0.0055272021021915505, 0.0020727007883218317, 0.06632642522629861, 0.04974481891972395, 0.026945110248183808, 0.0006909002627739438, 0.07668992916790776, 0.015199805781026764, 0.01796340683212254, 0.041454015766436626, 0.0835989317956472, 0.06218102364965494, 0.9957585282443561, 0.9971553533242622, 0.16330273289880662, 0.1595368417837398, 0.0006847074754666944, 0.5121611916490874, 0.16398744037427332, 0.9930362486900071, 0.9987622667997075, 0.9883511320788836, 0.0011142628321069714, 0.010028365488962743, 0.00499753925571054, 0.08295915164479496, 0.02098966487398427, 0.049975392557105404, 0.8245939771922391, 0.00499753925571054, 0.00999507851142108, 0.9961444435283683, 0.8681287239760752, 0.01318980105488512, 0.1175091366707947, 0.03761918235297559, 0.6892371623955884, 0.272739072059073, 0.019561836780549104, 0.9780918390274552, 0.12304036523888025, 0.8763103875410326, 0.9937867531695822, 0.9995339062904987, 0.9926466001154676, 0.00626934694809769, 0.9977246276065167, 0.9936555651471636, 0.9996175388441412, 0.9979529367911185, 0.975080154459109, 0.023137495190555128, 0.9945168180676401, 0.9940196138690925, 0.9941451449222207, 0.07935216334302059, 0.9187217133714161, 0.9962333921305737, 0.8186327615185836, 0.056721745648291376, 0.0015330201526565237, 0.12264161221252189, 0.9958504981694153, 0.997335009781546, 0.9937159859607604, 0.004808122662841214, 0.99047326854529, 0.004808122662841214, 0.9974028959184956, 0.9942938526272352, 0.9978428358809247, 0.9949265941009764, 0.9982696501903915, 0.15664522411832021, 0.6795015802970377, 0.1580564423536204, 0.004939263823550638, 0.9991111275905944, 0.7614486113944392, 0.15182963248348336, 0.08511661214983157, 0.9928944325934617, 0.9978544750038391, 0.010245541353257968, 0.017929697368201446, 0.9707650432211925, 0.9911869753194588, 0.9938809936306349, 0.004359127165046644, 0.9962191135637931, 0.9972187868821933, 0.03986414254624206, 0.9600614329886629, 0.9759884975684595, 0.021079665174264784, 0.03309228823042487, 0.059047024097424766, 0.0006488683966749975, 0.24721885913317404, 0.004542078776724982, 0.17259899351554933, 0.003893210380049985, 0.47886487674614814, 0.30170274253144724, 0.0006983859780820538, 0.002793543912328215, 0.0006983859780820538, 0.1131385284492927, 0.41623804293690403, 0.16412070484928262, 0.9911804925426639, 0.7288125749757635, 0.004346794681763997, 0.2550119546634878, 0.011591452484703993, 0.9974355803445931, 0.9944940540973033, 0.9965569278586153, 0.08685094830034244, 0.03776128186971411, 0.021146317847039898, 0.0022656769121828465, 0.08685094830034244, 0.0015104512747885642, 0.05966282535414829, 0.14424809674230787, 0.5603774229465573, 0.2562445748451814, 0.727867132857649, 0.015463034688933362, 0.0006805467534290093, 0.05716592728803678, 0.9418767067457489, 0.9987616447861825, 0.9949353364438542, 0.9968152234325933, 0.998947390527524, 0.9915276618162027, 0.01699281038792139, 0.9813347999024603, 0.9958537607292336, 0.00033285282661550707, 0.06290918423033084, 0.0013314113064620283, 0.49528500600387454, 0.4396985839590849, 0.0008451740662176086, 0.028735918251398696, 0.9694146539515971, 0.9993526250579853, 0.9899640721818679, 0.998313124615005, 0.9992687588346149, 0.9961241451817178, 0.9955257925824427, 0.0008120981536150744, 0.06415575413559088, 0.0008120981536150744, 0.0016241963072301487, 0.7584996754764795, 0.07308883382535669, 0.09014289505127325, 0.01136937415061104, 0.03622561824489698, 0.9636014453142597, 0.1604744707285579, 0.003488575450620824, 0.8355138204236873, 0.08745082263596074, 0.005104133616884868, 0.10344377463553334, 0.011654438425220449, 0.045681995871119575, 0.00017013778722949562, 0.12649744480512998, 0.09383098965706684, 0.02279846348875241, 0.013355816297515406, 0.04738337374341453, 0.04193896455207067, 0.03019945723323547, 0.021012016722842707, 0.0028072734892866775, 0.05095626727523394, 0.08004982889147769, 0.010548542808228728, 0.07673214204050252, 0.1282838915710397, 0.31478174212119897, 0.001971493165686006, 0.1922205836543856, 0.04797300036502615, 0.4094134140741273, 0.0318724728452571, 0.001314328777124004, 0.9935440519422155, 0.683265103174617, 0.22268253919350917, 0.09384116116355169, 0.9970720329335183, 0.9973457478681456, 0.9950578626749551, 0.9962244143990739, 0.9980511660971526, 0.9023606613008321, 0.0950874675349264, 0.21946246217187565, 0.7797372185400758, 0.998704455852277, 0.9961057586480246, 0.00138289203867861, 0.0276578407735722, 0.00968024427075027, 0.04010386912167969, 0.920314651740615, 0.9929333094578173, 0.007002350560351321, 0.9991400723474637, 0.9944193114515452, 0.9962062999282579, 0.009369046695318576, 0.9899959341386629, 0.9955871628679231, 0.9991347089417489, 0.9989737858964958, 0.027635120613979627, 0.002474786920654892, 0.002062322433879077, 0.01319886357682609, 0.2016951340333737, 0.1369382096095707, 0.010724076656171198, 0.0618696730163723, 0.08373029081549051, 0.015261186010705167, 0.030522372021410334, 0.04784588046599458, 0.22685546772669843, 0.007424360761964676, 0.11672744975755574, 0.014436257037153536, 0.06726867993981124, 0.004607443831493921, 0.004607443831493921, 0.9233317438313817, 0.9992154770870406, 0.9978273422156501, 0.9987157869204059, 0.9967504806801915, 0.9982624825216073, 0.9953162796190617, 0.0033325321862245367, 0.022839747759655193, 0.0033587864352434106, 0.0826261463069879, 0.0047023010093407746, 0.06583221413077085, 0.0450077382322617, 0.10076359305730231, 0.06314518498257612, 0.07926735987174449, 0.0053740582963894565, 0.004030543722292093, 0.0013435145740973641, 0.027542048768995967, 0.035603136213580154, 0.4574667124801525, 0.09731081412569983, 0.05543021057793028, 0.004927129829149358, 0.0012317824572873396, 0.2081712352815604, 0.6306726181311179, 0.0012317824572873396, 0.9937594920444811, 0.0030814247815332744, 0.9975335843090005, 0.0015909626544003198, 0.9988312778671646, 0.05657543770853387, 0.3373572396694057, 0.0004190773163595101, 0.0004190773163595101, 0.05950897892305044, 0.08591084985369958, 0.03436433994147983, 0.05950897892305044, 0.0004190773163595101, 0.0372978811559964, 0.02807818019608718, 0.021372943134335017, 0.02975448946152522, 0.12614227222421254, 0.0004190773163595101, 0.11943703516246039, 0.0016763092654380404, 0.07644115563980888, 0.018833328201112335, 0.25923522347413447, 0.060377434527095424, 0.03822057781990444, 0.002215685670719098, 0.0653627272862134, 0.41765674893055, 0.0326813636431067, 0.0055392141767977455, 0.022710778124870757, 0.0005539214176797745, 0.9961875804611918, 0.9993125395462495, 0.9961853873879752, 0.9985624726493737, 0.0007061969396388782, 0.9961776282675318, 0.002539977058982496, 0.9931310300621559, 0.0018766577051664306, 0.9946285837382082, 0.0023569725194520124, 0.5450498951232778, 0.0005892431298630031, 0.06658447367451935, 0.0960466301676695, 0.004124701909041022, 0.005303188168767028, 0.0005892431298630031, 0.05597809733698529, 0.0017677293895890093, 0.04772869351890325, 0.0005892431298630031, 0.16498807636164087, 0.007070917558356037, 0.9961726716284315, 0.9961150195377139, 0.9987929474598659, 0.9961941709867486, 0.95967986728714, 0.03919819176243248, 0.001195297601481958, 0.001195297601481958, 0.9263556411485175, 0.06693666568298966, 0.001195297601481958, 0.8544920463486426, 0.14326812753150894, 0.997765166697243, 0.00413340639591898, 0.7701913917729032, 0.2218261432476519, 0.002755604263945986, 0.0006889010659864966, 0.0012010772382220483, 0.0012010772382220483, 0.995693030486078, 0.0012010772382220483, 0.03006179858733484, 0.967989914512182, 0.20563330926281737, 0.7927705212369144, 0.9946762566013375, 0.9974157461867517, 0.9961083852437774, 0.9979408186437918, 0.9976010636078534, 0.9950132731114693, 0.9989448370817119, 0.9957759408406809, 0.07680142667098364, 0.9216171200518035, 0.9930976162728109, 0.8283975384209246, 0.10412390501409033, 0.055124420301577236, 0.0030624677945320688, 0.009187403383596205, 0.0009010735985592171, 0.8717887066060426, 0.11488688381630018, 0.011713956781269822, 0.9971675931946794, 0.9924211036623173, 0.9997936831901622, 0.9993764748797127, 0.9981200735102417, 0.8161245910902342, 0.18322113327040015, 0.08322120767289658, 0.12334318684057927, 0.10633033348325799, 0.007726670899783413, 0.1012264774760616, 0.13723701708239164, 0.0003544344449441933, 0.2059264125125763, 0.03310417715778765, 0.06386908697894363, 0.0001417737779776773, 0.03969665783374965, 0.014673586020689602, 0.03898778894386126, 0.003048136226520062, 0.011696336683158379, 0.01056214645933696, 0.005812724897084769, 0.013043187573946312, 0.6600398229721134, 0.015371560773562425, 0.0001874580582141759, 0.02924345708141144, 0.13965625336956106, 0.15240340132812502, 0.002624412814998463, 0.0001874580582141759, 0.2057792906957389, 0.001124476998337371, 0.7927562838278466, 0.9941118974015842, 0.9992400941729054, 0.9975289783900487, 0.888037715196805, 0.0013394234015034767, 0.06161347646915992, 0.045540395651118205, 0.0026788468030069534, 0.9969265770234875, 0.9990249655454374, 0.3231730358953548, 0.6763144986782488, 0.9988852124069781, 0.9974319144143793, 0.010354409451083688, 0.11389850396192057, 0.039346755914118015, 0.00931896850597532, 0.0010354409451083688, 0.7040998426736909, 0.02899234646303433, 0.08594159844399461, 0.005177204725541844, 0.9987025245997831, 0.9979163405973225, 0.003107892908590268, 0.9393606316214085, 0.000776973227147567, 0.0046618393628854015, 0.04739536685600158, 0.000776973227147567, 0.003107892908590268, 0.007212702000820053, 0.02266849200257731, 0.726422130082591, 0.019577334002225857, 0.02369887800269446, 0.16280098801850976, 0.005151930000585752, 0.0020607720002343006, 0.005151930000585752, 0.02266849200257731, 0.9058075766397502, 0.09352647336036445, 0.9987793819206507, 0.45340029831781775, 0.0012058518572282387, 0.30086003837844555, 0.24418500108871832, 0.9942760603142862, 0.9947699066084082, 0.9961789598593385, 0.9375059454926938, 0.008989783038971038, 0.05265444351397322, 0.0015222044757274538, 0.9955217271257548, 0.9969711676584972, 0.9954266847333764, 0.9250485939886621, 0.0732543085479051, 0.9954291389739973, 0.9931556896361727, 0.006050556855920983, 0.9944790293914539, 0.14769595672772512, 0.7547263388786755, 0.09747933144029859, 0.02005930560623491, 0.01604744448498793, 0.9628466690992756, 0.9013419358169082, 0.046520874106679135, 0.04942842873834658, 0.989010918687077, 0.9914811320328206, 0.992002880234109, 0.8808156559448722, 0.11798081263114801, 0.015602039815496205, 0.003120407963099241, 0.9501642247637189, 0.03120407963099241, 0.036747405912830496, 0.10942560871820636, 0.3103114277083464, 0.5430449984896062, 0.9962997007791876, 0.992508641862409, 0.9989460333699649, 0.9983343097301479, 0.013614314015389402, 0.12500415595948453, 0.6690816506108647, 0.14059873383165783, 0.05123932729428375, 0.004754976664206736, 0.011411943994096166, 0.9833291741579528, 0.2998589142816501, 0.5324490987434625, 0.16646160260502252, 0.9947824643786966, 0.995945660908897, 0.9960704554639283, 0.9912522168617224, 0.9925775783795284, 0.9975188627046166, 0.0032698634221647337, 0.9940384803380791, 0.8225119458085571, 0.1763487150587905, 0.0914242561666436, 0.013234459711311135, 0.8292073550155977, 0.06373837493148696, 0.002433923625068715, 0.12143238962892562, 0.001226589794231572, 0.0036797693826947156, 0.6979295929177645, 0.17662893036934635, 0.9976790831557705, 0.9979768110708145, 0.9959296540718714, 0.9948162276249288, 0.072827328766628, 0.0010453683555018372, 0.9254994507376265, 0.007256884732908772, 0.9912904545153383, 0.02605147537728191, 0.010544644795566488, 0.027912295047087764, 0.04776103819168351, 0.8876109824973909, 0.9941929238711311, 0.004108254716270944, 0.9952247050166362, 0.9766619437596706, 0.006028777430615251, 0.012057554861230502, 0.9975198014882598, 0.012403005082570905, 0.04030976651835544, 0.2299451863334527, 0.0001631974352969856, 0.7170895306949546, 0.0340418076687869, 0.9616810666432299, 0.9812545237015448, 0.018145531732745492, 0.9979215712968886, 0.0011200017635206382, 0.997415428772253, 0.9927279278887016, 0.9958888482684177, 0.9974880031306401, 0.995202184789665, 0.04066113492687198, 0.00012867447761668346, 0.7419370379377969, 0.15235058149815323, 0.06485193671880847, 0.998722023148244, 0.0004920981174642086, 0.002132425175678237, 0.0004920981174642086, 0.14516894465194152, 0.08382071267473686, 8.201635291070143e-05, 0.00016403270582140286, 0.006643324585766816, 0.08324659820436195, 0.0030346050576959527, 0.00016403270582140286, 0.044206814218868073, 0.09505695302350296, 0.003198637763517356, 0.0018043597640354314, 8.201635291070143e-05, 0.5300716888618634, 0.8491698254068157, 0.0294850633821811, 0.041279088735053544, 0.0019656708921454067, 0.06486713944079843, 0.011794025352872441, 0.6682869343333738, 0.0030307797475436454, 0.32883960260848555, 0.07356812836220623, 0.9059389521174539, 0.018917518721710175, 0.9976315735043217, 0.0004482345070833689, 0.9982182472746625, 0.0004482345070833689, 0.9985765616670101, 0.003222279889911105, 0.003222279889911105, 0.9827953664228871, 0.003222279889911105, 0.00644455977982221, 0.9968059931049831, 0.9919575491423728, 0.9957541206945751, 0.003945383593120841, 0.9936038935285851, 0.0006443543282103542, 0.07345639341598037, 0.11405071609323268, 0.023196755815572748, 0.0006443543282103542, 0.004510480297472479, 0.7835348631037906, 0.9978635996986214, 0.0008617129531076177, 0.9979385384241931, 0.9961901861938615, 0.36390179207404794, 0.6358631120908147, 0.02722810161835558, 0.16336860971013348, 0.014725401895641282, 0.0005556755432317465, 0.7937825135065499, 0.022396053577207253, 0.9742283306085155, 0.9962272445264236, 0.9985368110886855, 0.87531129398873, 0.12331429550533052, 0.9970891965801202, 0.9887305857761651, 0.0877994409247339, 0.0010839437151201716, 0.08996732835497424, 0.82054539234597, 0.9952764706181237, 0.01638482548471038, 0.4217311603021107, 0.09617180175808268, 0.21086558015105536, 0.1837949989154469, 0.0035619185836326915, 0.044880174153771914, 0.022796278935249225, 0.5689063383064389, 0.4302739273472886, 0.13320928889570452, 0.00011503392823463257, 0.7931589351777916, 0.07327661228546095, 0.00023006785646926514, 0.0008079482561046419, 0.061404067463952786, 0.0016158965122092838, 0.004039741280523209, 0.5922260717247025, 0.06301996397616207, 0.0032317930244185676, 0.02908613721976711, 0.05817227443953422, 0.18663604716017226, 0.9995952117766178, 0.6561538880271397, 0.003844651687659022, 0.3389701237952704, 0.9964017019573558, 0.9903311277469554, 0.007696874049846804, 0.9968401566920606, 0.039906898499191636, 0.9586146469273905, 0.0024343824176825345, 0.9964738696380507, 0.002767471279865133, 0.9949059251115152, 0.009313758634879998, 0.004656879317439999, 0.001552293105813333, 0.12418344846506664, 0.8615226737263999, 0.7877058001236852, 0.20932042241048976, 0.995214568825061, 0.9995396628680425, 0.9989891851724546, 0.8880348707963037, 0.004966637979845099, 0.015893241535504317, 0.07449956969767649, 0.015893241535504317, 0.999728411574075, 0.18976651636745406, 0.7789798357059071, 0.031042053603318104, 0.9992717659666962, 0.9907665741750237, 0.9989568159980758, 0.0524978307837714, 0.6621885473862074, 0.28396553923949075, 0.9977385071601803, 0.9918282467314231, 0.9926246105959088, 0.997836430491007, 0.9994295248640164, 0.9377860101528575, 0.03135908632676753, 0.029865796501683358, 0.9989033666904279, 0.02415896308759436, 0.9723982642756731, 0.1269717768105133, 0.869756671152016, 0.9900541476213854, 0.9787691679919727, 0.0177958030543995, 0.996251866368083, 0.006774461280141011, 0.9822968856204466, 0.009032615040188015, 0.9914811320328913, 0.7410299744978974, 0.18597277352263836, 0.07295854961272735, 0.9566693109468956, 0.043386363308249236, 0.9976144276541011, 0.9955843075195275, 0.07714638111190206, 0.9220829361470199, 0.0991188391556485, 0.0010544557356983882, 0.0005272278678491941, 0.8071858656771161, 0.0021089114713967764, 0.012126240960531465, 0.07750249657383153, 0.6211235925799705, 0.37770058924516126, 0.998219080535014, 0.32134236251716725, 0.3957599806563436, 0.20525087822005214, 0.07753607070881803, 0.43936100870499306, 0.4902776115829549, 0.06980502007462507, 0.246511425561361, 0.0009705174234699251, 0.751180485765722, 0.006924512375989946, 0.060589483289912024, 0.9278846583826528, 0.0017311280939974864, 0.9981490514373165, 0.91761961897688, 0.049793312657660155, 0.023711101265552457, 0.009484440506220982, 0.9970066174619453, 0.10682584464255843, 0.0014387319143778913, 0.06186547231824933, 0.7290773976109964, 0.0007193659571889456, 0.0010790489357834184, 0.09243852549877951, 0.005395244678917092, 0.0007193659571889456, 0.0016939043325910434, 0.00042347608314776086, 0.9977096518961247, 0.9942735115958214, 0.0014385322089064054, 0.09350459357891634, 0.873189050806188, 0.030209176387034513, 0.9904039231887344, 0.014401216702569379, 0.000847130394268787, 0.7412390949851886, 0.11436260322628625, 0.12876381992885563, 0.9967379606778277, 0.8282878170084034, 0.07746576705833988, 0.08541097393611832, 0.003972603438889224, 0.003972603438889224, 0.9971138672556582, 0.0020225433412893673, 0.9936222663162405, 0.013924284427783411, 0.9793413380874333, 0.991186975319678, 0.6069774203229615, 0.05157324486404248, 0.34117685063905023, 0.05828908508309051, 0.024981036464181646, 0.02751534451127254, 0.2060030398278168, 0.0018102200336363513, 0.07639128541945402, 0.01484380427581808, 0.03910075272654519, 0.010861320201818108, 0.09630370578945388, 0.02751534451127254, 0.0633577011772723, 0.010861320201818108, 0.022446728417090757, 0.1154920381459992, 0.07132266932527224, 0.011947452221999917, 0.020636508383454405, 0.1010102778769084, 0.9972382441028463, 0.9989637619573106, 0.9025080051190352, 0.09491617166136021, 0.9960900743467203, 0.09511886757668413, 0.7171265408922782, 0.18758171092784132, 0.9960943530016991, 0.0017980042472954857, 0.9926572140576649, 0.0123481440098613, 0.44648289130393226, 0.034444822764349944, 0.09163622659949701, 0.003249511581542447, 0.012998046326169788, 0.051342282988370666, 0.07603857100809326, 0.0123481440098613, 0.12608104936384695, 0.13193017021062337, 0.0006499023163084894, 0.7476913556718816, 0.25123230290982906, 0.9997457802868879, 0.9978705956056657, 0.9894879306115755, 0.004417356833087391, 0.9961303034638703, 0.9922933094308118, 0.9974958099325268, 0.9025074792387606, 0.09454840258691778, 0.05655925011614421, 0.04556161814911617, 0.07038484458897946, 0.23063605325138806, 0.0003142180562008012, 0.003456398618208813, 0.5282005524735468, 0.0018853083372048069, 0.06252939318395943, 0.9979193835515295, 0.9989542471798256, 0.9976151854541037, 0.9929494614846198, 0.016985633614402664, 0.8384726411473314, 0.1436058114672225, 0.007766826607315968, 0.9902703924327858, 0.061172141480505586, 0.9385361154219006, 0.9936258746415655, 0.9247481815400521, 0.07421545915544367, 0.991257692198621, 0.008479535433692224, 0.7993799751683917, 0.1991235317206463, 0.836670664867325, 0.0018149038283456073, 0.0036298076566912145, 0.005444711485036822, 0.0018149038283456073, 0.03448317273856654, 0.11433894118577326, 0.9853888123591017, 0.012852897552510022, 0.012679087397107247, 0.006339543698553623, 0.052829530821280196, 0.15214904876528695, 0.002113181232851208, 0.023244993561363288, 0.004226362465702416, 0.017962040479235268, 0.03803726219132174, 0.5050503146514387, 0.14792268629958455, 0.03698067157489614, 0.08250589040599965, 0.9168612328216018, 0.9964097939192688, 0.9940738458968699, 0.9817802590819789, 0.01795939498320693, 0.9961729813119966, 0.998529421876184, 0.9983404468726008, 0.0016153676545423538, 0.7882994154166687, 0.0016153676545423538, 0.006461470618169415, 0.08884522099982946, 0.0016153676545423538, 0.06623007383623651, 0.04361492667264356, 0.0016153676545423538, 0.9936749195780876, 0.9558460520929122, 0.04238785153405375, 0.0026501990059572406, 0.9964748262399225, 0.0016922554513533782, 0.0016922554513533782, 0.0016922554513533782, 0.9933539499444329, 0.0051679887874363315, 0.000861331464572722, 0.016365297826881717, 0.00861331464572722, 0.4944042606647424, 0.00861331464572722, 0.1412583601899264, 0.000861331464572722, 0.20069023124544422, 0.1214477365047538, 0.9565569357542063, 0.04002330275122202, 0.9936764750426728, 0.0513832176981921, 0.0011346451857644944, 8.10460846974639e-05, 0.9060141808329488, 0.002188244286831525, 0.03874002848538774, 0.00024313825409239166, 0.00024313825409239166, 0.993447690572808, 0.9993795748649823, 0.014629301516474826, 0.0009143313447796766, 0.05912676029575242, 0.1273968340393016, 0.0003047771149265589, 0.04937389261810254, 0.005181210953751501, 0.04845956127332286, 0.02163917515978568, 0.0015238855746327943, 0.6711192070682827, 0.9978359679803618, 0.9945720372375212, 0.002114858966843378, 0.8459435867373513, 0.02537830760212054, 0.06979034590583148, 0.054986333137927834, 0.016271791192292072, 0.6786816180930547, 0.1331328370278442, 0.17159343439144364, 0.9971651970402393, 0.99132013747935, 0.0031145390067903117, 0.009343617020370936, 0.9094453899827711, 0.029588120564507964, 0.045160815598459525, 0.0015572695033951559, 0.9209175643684774, 0.044922808017974505, 0.006417544002567787, 0.025670176010271148, 0.9929586339251927, 0.9947413882385905, 0.9968112066731829, 0.04261315776551904, 0.0054111946368913064, 0.8975819103943455, 0.04734795307279893, 0.004734795307279893, 0.0006763993296114133, 0.996058052467747, 0.003239213178756901, 0.9963888416932171, 0.002424303751078387, 0.996860041578117, 0.9954611694299117, 0.9982048405691797, 0.005044817496522053, 0.9938290468148443, 0.9963356200836658, 0.9954322835708816, 0.9915971830131516, 0.16786005047734828, 0.8321062502234265, 0.9993098119483458, 0.07067280277292574, 0.02891160113437871, 0.8994720352917822, 0.9990934043017732, 0.9970509781512661, 0.9969162882210794, 0.0002772111507285223, 0.04241330606146391, 0.0895392016853127, 0.03631466074543642, 0.003049322658013745, 0.021345258606096217, 0.8066844486199999, 0.7347067293268311, 0.1955186632227781, 0.06954014310500871, 0.9948970002200902, 0.0025908776047398182, 0.9962608210375679, 0.9972541044941606, 0.004913544285276147, 0.007370316427914221, 0.015559556903374466, 0.4487703780552214, 0.14576848046319235, 0.0008189240475460245, 0.09335734142024679, 0.0008189240475460245, 0.13266569570245595, 0.005732468332822171, 0.10236550594325305, 0.040946202377301226, 0.9883386393288881, 0.992739900664387, 0.9987811239114637, 0.8993681057318831, 0.09943324398774857, 0.9867941578788667, 0.06030171401355961, 0.9381555122494178, 0.99977132851572, 0.04700467884414559, 0.0022383180401974088, 0.9490468490437013, 0.9928555583642941, 0.9983115211478452, 0.7613914895409423, 0.0008316673834417721, 0.2378568716643468, 0.998806078962713, 0.9512201933153405, 0.0483159463271284, 0.9942938526271335, 0.10951422621142899, 0.8558957986985528, 0.033696684988132, 0.9918606993943395, 0.9992816056908768, 0.0698440020641118, 0.09627146230458654, 0.6540796409517498, 0.0037753514629249624, 0.0018876757314624812, 0.023595946643281015, 0.002831513597193722, 0.0009438378657312406, 0.0009438378657312406, 0.12836194973944873, 0.01604524371743109, 0.0014187977100648453, 0.005675190840259381, 0.0014187977100648453, 0.11492261451525247, 0.0468203244321399, 0.8271590649678049, 0.8532382235277971, 0.1446642584746718, 0.0007022536819158824, 0.0007022536819158824, 0.7563343918588883, 0.09612883157918724, 0.1360313654422461, 0.00906875769614974, 0.25558583880705243, 0.7428709894298441, 0.9671022263773738, 0.029605170195225728, 0.004232946808790444, 0.17566729256480343, 0.7047856436636089, 0.001058236702197611, 0.11217309043294676, 0.9994978513914472, 0.16008986797680735, 0.07533640845967406, 0.0011771313821824071, 0.0011771313821824071, 0.014125576586188885, 0.6121083187348517, 0.13537010895097681, 0.997822249066576, 0.09731018966683083, 0.9011190166407896, 0.9810774458194749, 0.0168570007872762, 0.16225095220142285, 0.8332548901191716, 0.002750016139007167, 0.9969406974078207, 0.99360731717094, 0.9920409484886953, 0.9987251850496468, 0.0036226250079348255, 0.10626366689942156, 0.09298070853699386, 0.79576996007635, 0.8173060417778126, 0.18056761388114465, 0.9996041090910874, 0.006742981873098725, 0.3590637847425071, 0.6338402960712801, 0.9952720639182842, 0.06191837164760805, 0.1961702199704255, 0.7418759427352964, 0.9967629957620121, 0.989499155788925, 0.9989624903888363, 0.041144832356596224, 0.9209181595108743, 0.001210142128135183, 0.001210142128135183, 0.001210142128135183, 0.01694198979389256, 0.014521705537622196, 0.001210142128135183, 0.002420284256270366, 0.005499258281195068, 0.7748954850774868, 0.21947039867678497, 0.13297086196430388, 0.03436785355385085, 0.016774785663189108, 0.28639877961542376, 0.11292294739122423, 0.019638773459343343, 0.0004091411137363197, 0.099830431751662, 0.001227423341208959, 0.13460742641924917, 0.029049019075278695, 0.0004091411137363197, 0.0016365644549452788, 0.0016365644549452788, 0.11578693518737847, 0.01186509229835327, 0.13081416668182014, 0.1463801544791992, 0.05118815217984266, 0.038016931735906534, 0.03622085622082434, 0.00927972349459136, 0.02185225210016675, 0.10746518498575156, 0.007184302060328794, 0.010477107171312824, 0.0410103909277102, 0.0374182398975458, 0.022151598019347116, 0.33945827235053555, 0.021562752649452274, 0.07464029763271941, 0.06634693122908392, 0.03317346561454196, 0.019904079368725177, 0.05141887170254004, 0.7314749168006502, 0.2842021859200153, 0.714565496027467, 0.038606643015174906, 0.9596508406629192, 0.9987682639335593, 0.9951273906361671, 0.09079260937528308, 0.9079260937528307, 0.9890963734418403, 0.006916757856236645, 0.9980692703969136, 0.9978912346476829, 0.6175964634806781, 0.13088136974424966, 0.25085595867647853, 0.9971885480532969, 0.9842186990027911, 0.012865603908533217, 0.9936174394118897, 0.9973771291499628, 0.9989520290350699, 0.9904039231885844, 0.002792010417710062, 0.9967477191224922, 0.0046640770020387355, 0.04081067376783894, 0.0023320385010193677, 0.0011660192505096839, 0.06762911652956168, 0.04897280852140673, 0.8325377448639144, 0.9972589685812628, 0.001338276764791388, 0.962220993885008, 0.017397597942288043, 0.012044490883122492, 0.001338276764791388, 0.002676553529582776, 0.001338276764791388, 0.007188402832862715, 0.9884053895186233, 0.22678269306167664, 0.11854549864587643, 0.6532887805810799, 0.9979580565929153, 0.9489908526425744, 0.049555658101439914, 0.9982774785687695, 0.9942247718103127, 0.20956957214722063, 0.7890294391342857, 0.9978330264106643, 0.9947902014161836, 0.9990031069446376, 0.9975938940381182, 0.8573877818841492, 0.13998167867496314, 0.9486335250605071, 0.04436056052441221, 0.0034123508095701698, 0.99632249544464, 0.9936019268840799, 0.9718712853867608, 0.020714090032166718, 0.007186521031568045, 0.9917069286364211, 0.999574841024668, 0.9986061316614409, 0.9991388720023245, 0.9968153531540959, 0.01155636772609277, 0.8930504170552802, 0.09501902352565167, 0.99432705226068, 0.9991420137258089, 0.9980895365722015, 0.00334487923686295, 0.5251460401874831, 0.024250374467256388, 0.26257302009374156, 0.0267590338949036, 0.14884712604040126, 0.0008362198092157375, 0.007525978282941637, 0.9967040048923497, 0.9937518666670216, 0.9985959057477647, 0.9930828626678356, 0.9963639936959079, 0.9930147780636627, 0.004650961379185708, 0.9906547737665559, 0.004650961379185708, 0.9911740085386381, 0.019911367042367387, 0.0033185611737278978, 0.975656985076002, 0.107071269065119, 0.8925941308980014, 0.001511720040975223, 0.9977352270436471, 0.0005039066803250743, 0.07438543299108431, 0.0018596358247771078, 0.9223793690894455, 0.2910938776969652, 0.7076423558828582, 0.9942171154905413, 0.9112449704070581, 0.08852768494887223, 0.00930511898353662, 0.808511449458404, 0.18093286912432316, 0.049953703123730334, 0.9491203593508762, 0.1730076109530524, 0.7590011319230685, 0.06418024277290653, 0.0027904453379524576, 0.04552419838937824, 0.9527564377205588, 0.9986369115466299, 0.9988281156559853, 0.9991755465220461, 0.8736600549844727, 0.10713779938494092, 0.014609699916128305, 0.003895919977634215, 0.04129394519529618, 0.03165869131639374, 0.46730981312676845, 0.45939514029767, 0.9935220455532445, 0.9955790630943329, 0.9983861178905772, 0.012910912890252105, 0.00860727526016807, 0.9726221043989919, 0.004303637630084035, 0.9983536765432627, 0.9910744024762774, 0.03407653299034443, 0.9567641954981321, 0.0078638153054641, 0.9980231845849584, 0.9925895606724169, 0.9935575005965662, 0.9986886613289209, 0.9979828545154692, 0.9949321194811211, 0.14779806178260899, 0.8515517466945021, 0.9969711689159386, 0.9992413130796278, 0.002205624954089128, 0.1345431221994368, 0.01985062458680215, 0.8381374825538686, 0.004411249908178256, 0.05774055228424067, 0.9408313519255687, 0.0048503790562581224, 0.9894773274766571, 0.9980803574009882, 0.9993378119513264, 0.991186975319663, 0.7432617021885369, 0.12990229255067587, 0.12622581257282656, 0.9874374541627626, 0.991765642964033, 0.22207215361209018, 0.0005237550792737976, 0.14350889172102055, 0.07803950681179585, 0.5551803840302254, 0.9987173578070273, 0.7432183670547364, 0.08296391074099384, 0.024197807299456538, 0.0017284148071040383, 0.0034568296142080766, 0.04321037017760096, 0.05012402940601711, 0.048395614598913075, 0.0017284148071040383, 0.12540115518523673, 0.7538002772801453, 0.11982777051033733, 0.9961996269948084, 0.05997965462112774, 0.7067168001011138, 0.0052156221409676295, 0.0008692703568279383, 0.0017385407136558766, 0.22514102241843603, 0.13095653177369512, 0.016865613940551645, 0.18651384828374762, 0.002976284813038526, 0.6527984689931167, 0.002976284813038526, 0.005952569626077052, 0.991331768664297, 0.9987591976138184, 0.0028715104328532917, 0.05886596387349248, 0.02153632824639969, 0.7724363064375355, 0.14501127685909124, 0.0009990224542288722, 0.0009990224542288722, 0.0019980449084577444, 0.04195894307761263, 0.8881309618094674, 0.06393743707064782, 0.9969120294655941, 0.9992530237978464, 0.010649680329929802, 0.9868703772401617, 0.10771002430696881, 0.08025452791499638, 0.7370744800614141, 0.07391864413223351, 0.0010058667761175951, 0.06336960689540849, 0.9354561017893634, 0.07791758469751298, 0.9001531495317946, 0.018454164796779388, 0.0041009255103954196, 0.9945382889707125, 0.9962836354936438, 0.9953465201435713, 0.9888137898563535, 0.9989661234831235, 0.9927089888484544, 0.9983452136155317, 0.9966141089365141, 0.06905747226858408, 0.9095016028564583, 0.020570310888514406, 0.743441498181301, 0.2543582121124991, 0.0017451678361063404, 0.00021814597951329254, 0.13773499981934836, 0.0012297767841013248, 0.0012297767841013248, 0.8411673203253062, 0.017216874977418545, 0.6639181339114166, 0.1523863820292368, 0.004292574141668642, 0.019316583637508888, 0.0443565994639093, 0.05651889286530379, 0.038633167275017775, 0.019316583637508888, 0.9888590180371751, 0.010235005759938914, 0.9986013734811057, 0.03346751991096275, 0.9654092282008486, 0.11338748259660135, 0.8862735884591494, 0.05114962709698209, 0.9487895617848651, 0.0016739593744352376, 0.01673959374435238, 0.0016739593744352376, 0.9508089246792151, 0.026783349990963802, 0.9917706063089456, 0.005915132840808821, 0.0432957412514508, 0.03273580436085304, 0.09715141939349936, 0.06969558347794519, 0.1995828072322976, 0.0010559936890597757, 0.5554526804454419, 0.0010559936890597757, 0.9974773977243487, 0.9960515925470136, 0.9984212554504686, 0.0027673213365841027, 0.468784234417347, 0.0780384616916717, 0.04483060565266246, 0.1588442447199275, 0.08910774703800811, 0.15773731618529385, 0.02693746297808529, 0.5304114734018223, 0.11416353357379003, 0.1738107730252646, 0.002565472664579551, 0.03719935363640349, 0.014110099655187532, 0.08530196609727007, 0.006413681661448878, 0.0006413681661448878, 0.008337786159883542, 0.07348322837356389, 0.06429782482686841, 0.8615908526800367, 0.0024884054283837785, 0.7624474232567897, 0.0004976810856767557, 0.0019907243427070226, 0.0004976810856767557, 0.0024884054283837785, 0.22843561832563086, 0.0004976810856767557, 0.0022790093630059467, 0.6757262761312632, 0.18346025372197872, 0.00683702808901784, 0.0045580187260118935, 0.0011395046815029734, 0.11395046815029734, 0.01025554213352676, 0.0011395046815029734, 0.9916886432222171, 0.008173258048534755, 0.012004835642620226, 0.974392492992675, 0.010004029702183522, 0.054163363465306265, 0.9414108411827041, 0.9937395988704839, 0.10234090800088651, 0.04693831118837652, 0.36704220388287867, 0.08618181726390442, 0.12080844027172316, 0.010003246646703191, 0.26547077639327704, 0.9966529377665536, 0.9984639851880176, 0.9929766331693956, 0.9978806599554071, 0.9978684203914291, 0.9983788294014238, 0.06586234544742653, 0.015749691302645474, 0.0014317901184223156, 0.008590740710533895, 0.9091867251981705, 0.9983861219072085, 0.9983916973128649, 0.9903252430034143, 0.9915696865179717, 0.057164609921598664, 0.05478275117486539, 0.041285551610043485, 0.0039697645778887965, 0.6446897674491405, 0.08018924447335368, 0.11750503150550837, 0.004997371731469383, 0.9101463265938614, 0.08370597650211217, 0.997697363563047, 0.9980589533821479, 0.014589027205607442, 0.9745470173345772, 0.004376708161682233, 0.0014589027205607443, 0.004376708161682233, 0.9916381264878447, 0.0965588471615211, 0.04753666321797962, 0.14929483291896725, 0.024511091971770742, 0.0014855207255618631, 0.4374858536779687, 0.2421398782665837, 0.9929621852929287, 0.9918318483932732, 0.9942092364397276, 0.012037609167922831, 0.0021886562123496055, 0.10213728990964827, 0.0003647760353916009, 0.10323161801582306, 0.03684237957455169, 0.00802507277861522, 0.560295990361499, 0.0762381913968446, 0.0003647760353916009, 0.08243938399850181, 0.01605014555723044, 0.10268820964182683, 0.8969263960805892, 0.11278255178804163, 0.8869059015811637, 0.9980018373309257, 0.003593795246642681, 0.9954812833200226, 0.9961770747238917, 0.9918607756831457, 0.09719533482122038, 0.005211923751282831, 0.01253678956389654, 0.08127783795919442, 0.0028172560817745036, 0.0001408628040887252, 0.060289280149974374, 0.0001408628040887252, 0.0028172560817745036, 0.001690353649064702, 0.0002817256081774504, 0.0007043140204436259, 0.0004225884122661755, 0.538659362835285, 0.029017737642277386, 0.16706328564922807, 0.8261544224537491, 0.12810379623934645, 0.045258227413900835, 0.9985223018468218, 0.06514368330605125, 0.0672795417751021, 0.8671585384346494, 0.9992686745902721, 0.994479029391552, 0.004967815032007116, 0.9935630064014233, 0.9972776452232053, 0.9998384945409017, 0.014170897873998858, 0.981334677774421, 0.050877164875439994, 0.9463152666831839, 0.9846162388757768, 0.014727165966090678, 0.932188050168932, 0.0012929099170165494, 0.007757459502099296, 0.05688803634872817, 0.9920318804432029, 0.9921941072978769, 0.001707444298802563, 0.7666424901623509, 0.04951588466527433, 0.015366998689223067, 0.1656220969838486, 0.9907020896555196, 0.018603272615335183, 0.0016176758795943636, 0.0008088379397971818, 0.9754585553954013, 0.0024265138193915454, 0.809887656428825, 0.188667010872624, 0.5938140906514152, 0.3794572376512884, 0.025540390995759797, 0.05779568381473637, 0.8941973722279967, 0.04743608011209494, 0.9954947317669202, 0.9983951940335438, 0.013953236249452688, 0.9813776162115058, 0.0023255393749087813, 0.9962598603650179, 0.9966615977285939, 0.9972397852449649, 0.001326153608959416, 0.002652307217918832, 0.5390814420420026, 0.15184458822585312, 0.21682611506486452, 0.004641537631357956, 0.00331538402239854, 0.001326153608959416, 0.020555380938870948, 0.03182768661502598, 0.009946152067195619, 0.011272305676155035, 0.001989230413439124, 0.00331538402239854, 0.9970939927120629, 0.09603679220902965, 0.01878210327335266, 0.07069867175535577, 0.00974543094372072, 0.009922620597242917, 0.0019490861887441443, 0.00035437930704438985, 0.5383021674004281, 0.00035437930704438985, 0.08327913715543162, 0.12403275746553645, 0.014352361935297788, 0.0007087586140887797, 0.00903667232963194, 0.022148706690274366, 0.08806385248367966, 0.1959034472794839, 0.0361525289143527, 0.0006179919472538924, 0.10876658271668506, 0.11247453440020841, 0.0006179919472538924, 0.04696738799129582, 0.030899597362694618, 0.1860155761234216, 0.048512367859430555, 0.020702730233005395, 0.02935461749455989, 0.034607549046217975, 0.02502867386378264, 0.02997260944181378, 0.005561927525285031, 0.9937256636427663, 0.12054605469929149, 0.0010158375396007709, 0.000677225026400514, 0.0033861251320025697, 0.000338612513200257, 0.027089001056020558, 0.000338612513200257, 0.4296992792511261, 0.19808832022215034, 0.06636805258725037, 0.002708900105602056, 0.029797901161622616, 0.02776622608242107, 0.061288864889246515, 0.001354450052801028, 0.029797901161622616, 0.9569210432409021, 0.01162252279239962, 0.030993394113065655, 0.9982256401056188, 0.996006958757203, 0.3885481041831704, 0.03181811246854308, 0.16153810945568028, 0.24047150384879679, 0.0018356603347236395, 0.10340886552276503, 0.07281452661070437, 0.992732194242183, 0.9905977196417551, 0.026577816832346255, 0.0018984154880247325, 0.0006328051626749108, 0.03164025813374554, 0.026577816832346255, 0.4201826280161408, 0.12909225318568182, 0.056319659478067066, 0.010124882602798573, 0.2961528161318583, 0.0006328051626749108, 0.0755365206871162, 0.2323320257497665, 0.5173107174329776, 0.17167391065253682, 0.003433478213050736, 0.10049878293014058, 0.0013399837724018746, 0.03885952939965436, 0.09647883161293497, 0.7611107827242647, 0.9984855085533951, 0.9954163190445855, 0.9976992128780136, 0.0011547444593495526, 0.9922811954314703, 0.9994569119944202, 0.9954266847334643, 0.9946044292552401, 0.9971236030170867, 0.0007338950969995914, 0.01345474344499251, 0.02128295781298815, 0.07241098290395968, 0.0022016852909987742, 0.09687415280394607, 0.04941560319797249, 0.009785267959994553, 0.011742321551993463, 0.10763794755994008, 0.10274531357994279, 0.12745311517892904, 0.019570535919989106, 0.0012231584949993191, 0.06409350513796432, 0.0425659156259763, 0.11277521323893722, 0.024707801598986244, 0.11938026911193353, 0.9994513706190332, 0.9952908916659415, 0.994722029706594, 0.08955543038478828, 0.17586609879911322, 0.048671429556950155, 0.0032447619704633435, 0.03699028646328212, 0.018170667034594724, 0.07073581095610089, 0.5561522017374171, 0.0005137830515223448, 0.9987942521594385, 0.9961848060587162, 0.0002431599971622598, 0.051428339399817946, 0.051914659394142464, 0.0001215799985811299, 0.8961661695415085, 0.06099442221378405, 0.7193469159498659, 0.0009681654319648262, 0.05357182056872038, 0.16458812343402046, 0.9953753055059752, 0.9987259109544037, 0.39336316936299476, 0.07359698007436676, 0.08121046077171505, 0.17193777241511546, 0.2721819349302012, 0.006979023972569262, 0.06622064486629518, 0.20221740546419, 0.7310936966782253, 0.045416438989871195, 0.029619416732524693, 0.062200775138301856, 0.05825151957396523, 0.15007171144479178, 0.07997242517781666, 0.0009873138910841564, 0.5025427705618356, 0.06911197237589095, 0.040089510835249545, 0.9594756259903057, 0.9980600866361091, 0.4237395536891914, 0.5755947156336012, 0.00030310411565750463, 0.9938620687910745, 0.8200212448819475, 0.17896456836298258, 0.5630895803589719, 0.0764869417046469, 0.19522381311281303, 0.16462903643095428, 0.9959456609089226, 0.9962504704304641, 0.36125888765652575, 0.6148254239791279, 0.02349651301831062, 0.0008437064039519104, 0.9989483822790618, 0.9958514728297853, 0.9890015193908309, 0.2752436312996474, 0.7239527022608089, 0.9997603220539633, 0.0010835455829506008, 0.9984872546889787, 0.19510840569874327, 0.8022857642332323, 0.01864283738134365, 0.03296838610595509, 0.00941953888741574, 0.00372856747626873, 0.0027473655088295908, 0.9321418690671825, 0.003539223690393635, 0.03610008164201508, 0.02123534214236181, 0.00707844738078727, 0.07573938697442378, 0.016988273713889446, 0.7496075776253719, 0.08281783435521106, 0.006370602642708543, 0.012804027017445327, 0.0469480990639662, 0.8493337921572067, 0.08322617561339463, 0.0021340045029075547, 0.004268009005815109, 0.00020402812670877756, 0.9995337927463013, 0.02089772713838671, 0.9741555881432574, 0.004018793680458982, 0.0008037587360917965, 0.13374202724401046, 0.8638313547113139, 0.001938290249913195, 0.9984010956320104, 0.9992357953693576, 0.00414854621796789, 0.829709243593578, 0.1171964306575929, 0.007259955881443808, 0.039411189070694956, 0.9938041101600099, 0.20735104692653283, 0.0004592492733699509, 0.6188383958660089, 0.1731369760604715, 0.0025195908384990223, 0.0020996590320825187, 0.07264820251005515, 0.056690793866228, 0.00041993180641650374, 0.16041395005110443, 0.5908440516280208, 0.0113381587732456, 0.00335945445133203, 0.036534067158235824, 0.06340970276889206, 0.9936072267410241, 0.9985053404793989, 0.9767281010638088, 0.023011918611450993, 0.9935975732333051], \"Term\": [\"000\", \"000\", \"10\", \"10\", \"10\", \"10\", \"10\", \"10\", \"10\", \"10\", \"10\", \"10\", \"10\", \"10\", \"10\", \"10\", \"1000\", \"10th\", \"12th\", \"12th\", \"13\", \"13\", \"20\", \"20\", \"20\", \"20\", \"2000\", \"2010\", \"2016\", \"2016\", \"2016\", \"2016\", \"2016\", \"2016\", \"2016\", \"2016\", \"2017\", \"2017\", \"2017\", \"2017\", \"3g\", \"4g\", \"500\", \"6s\", \"abroad\", \"account\", \"accounts\", \"accounts\", \"accounts\", \"acid\", \"acne\", \"actors\", \"actress\", \"actress\", \"actresses\", \"add\", \"add\", \"add\", \"add\", \"add\", \"address\", \"adult\", \"adult\", \"advanced\", \"advanced\", \"advantages\", \"advice\", \"advice\", \"advice\", \"aerospace\", \"africa\", \"african\", \"age\", \"age\", \"age\", \"air\", \"air\", \"air\", \"aircraft\", \"alcohol\", \"alien\", \"alternatives\", \"alternatives\", \"alternatives\", \"alternatives\", \"amazon\", \"amazon\", \"amazon\", \"america\", \"america\", \"america\", \"america\", \"america\", \"america\", \"america\", \"america\", \"america\", \"america\", \"america\", \"america\", \"american\", \"american\", \"american\", \"americans\", \"anal\", \"analyst\", \"analytics\", \"android\", \"android\", \"android\", \"android\", \"android\", \"anger\", \"angry\", \"anime\", \"anime\", \"answer\", \"answer\", \"answering\", \"answers\", \"answers\", \"answers\", \"anxiety\", \"anxiety\", \"ap\", \"apache\", \"app\", \"app\", \"app\", \"app\", \"app\", \"apple\", \"apple\", \"applications\", \"apply\", \"apply\", \"apply\", \"applying\", \"apps\", \"apps\", \"apps\", \"arabia\", \"arabic\", \"architecture\", \"area\", \"area\", \"area\", \"art\", \"art\", \"artificial\", \"arts\", \"ask\", \"ask\", \"asked\", \"asked\", \"asks\", \"atheists\", \"attractions\", \"australia\", \"australia\", \"automobile\", \"available\", \"available\", \"available\", \"available\", \"available\", \"available\", \"available\", \"available\", \"average\", \"avoid\", \"avoid\", \"avoid\", \"avoid\", \"awesome\", \"bad\", \"bad\", \"bad\", \"bad\", \"bad\", \"bad\", \"bad\", \"bad\", \"bad\", \"bad\", \"bad\", \"bad\", \"bad\", \"bad\", \"bad\", \"bad\", \"bad\", \"balance\", \"ball\", \"ban\", \"bang\", \"bangalore\", \"bangalore\", \"bangalore\", \"bangalore\", \"bangalore\", \"bangalore\", \"bank\", \"bank\", \"bank\", \"bank\", \"bank\", \"bank\", \"bank\", \"bank\", \"banned\", \"banned\", \"banned\", \"banning\", \"barack\", \"basis\", \"basis\", \"basis\", \"batman\", \"battery\", \"battery\", \"battery\", \"battery\", \"battle\", \"bay\", \"beard\", \"beautiful\", \"beautiful\", \"beginners\", \"belief\", \"believe\", \"believe\", \"believe\", \"believe\", \"believe\", \"belly\", \"belly\", \"bernie\", \"best\", \"best\", \"best\", \"best\", \"best\", \"best\", \"best\", \"best\", \"best\", \"best\", \"best\", \"best\", \"better\", \"better\", \"better\", \"better\", \"better\", \"better\", \"better\", \"better\", \"better\", \"better\", \"better\", \"better\", \"better\", \"better\", \"better\", \"better\", \"better\", \"better\", \"better\", \"better\", \"bible\", \"bible\", \"big\", \"big\", \"biggest\", \"biology\", \"biotechnology\", \"birthday\", \"birthday\", \"bite\", \"bjp\", \"black\", \"black\", \"black\", \"blocked\", \"blocked\", \"blog\", \"blood\", \"blood\", \"blowing\", \"blowing\", \"board\", \"board\", \"board\", \"board\", \"board\", \"body\", \"body\", \"body\", \"body\", \"body\", \"body\", \"body\", \"body\", \"body\", \"body\", \"bollywood\", \"bollywood\", \"bomb\", \"book\", \"book\", \"books\", \"books\", \"books\", \"books\", \"books\", \"borderline\", \"bored\", \"boring\", \"boyfriend\", \"boys\", \"brahmin\", \"brain\", \"brain\", \"brain\", \"bring\", \"bring\", \"brown\", \"build\", \"build\", \"build\", \"build\", \"build\", \"build\", \"build\", \"business\", \"business\", \"business\", \"business\", \"button\", \"buy\", \"buy\", \"buy\", \"buy\", \"buy\", \"buy\", \"buy\", \"buy\", \"buying\", \"calculate\", \"calculate\", \"calculate\", \"calculate\", \"california\", \"california\", \"california\", \"cambodia\", \"canada\", \"canada\", \"canada\", \"canada\", \"candidates\", \"candy\", \"capital\", \"capital\", \"capital\", \"car\", \"car\", \"car\", \"car\", \"car\", \"car\", \"card\", \"card\", \"cards\", \"cards\", \"cards\", \"care\", \"care\", \"care\", \"care\", \"care\", \"career\", \"career\", \"career\", \"carry\", \"cat\", \"cat\", \"cat\", \"cat\", \"cause\", \"cause\", \"cause\", \"cause\", \"cause\", \"cause\", \"cause\", \"cause\", \"cause\", \"cause\", \"cause\", \"celebrate\", \"cell\", \"cell\", \"cell\", \"center\", \"center\", \"century\", \"century\", \"ceo\", \"cgl\", \"chain\", \"change\", \"change\", \"change\", \"change\", \"change\", \"change\", \"change\", \"change\", \"change\", \"change\", \"change\", \"change\", \"change\", \"change\", \"change\", \"changed\", \"changed\", \"channel\", \"charge\", \"charge\", \"charge\", \"cheat\", \"chemical\", \"chemical\", \"chemistry\", \"chemistry\", \"chemistry\", \"chemistry\", \"child\", \"child\", \"china\", \"china\", \"china\", \"china\", \"chinese\", \"chinese\", \"chinese\", \"chinese\", \"christmas\", \"chrome\", \"chrome\", \"circuit\", \"city\", \"city\", \"city\", \"clans\", \"clash\", \"class\", \"class\", \"class\", \"clinton\", \"clothes\", \"cloud\", \"cloud\", \"coast\", \"code\", \"code\", \"code\", \"code\", \"code\", \"code\", \"code\", \"cold\", \"cold\", \"cold\", \"college\", \"college\", \"college\", \"college\", \"college\", \"college\", \"college\", \"colleges\", \"colleges\", \"colleges\", \"colleges\", \"colleges\", \"com\", \"com\", \"com\", \"com\", \"comfort\", \"commission\", \"commit\", \"common\", \"common\", \"common\", \"common\", \"common\", \"common\", \"common\", \"common\", \"common\", \"common\", \"common\", \"common\", \"communication\", \"community\", \"community\", \"companies\", \"companies\", \"companies\", \"companies\", \"companies\", \"companies\", \"companies\", \"company\", \"company\", \"company\", \"company\", \"company\", \"company\", \"company\", \"company\", \"compare\", \"compare\", \"compare\", \"compare\", \"compare\", \"compare\", \"compare\", \"compare\", \"compare\", \"competitive\", \"competitive\", \"completing\", \"completing\", \"computer\", \"computing\", \"concentrate\", \"confidence\", \"cons\", \"cons\", \"conservative\", \"conspiracy\", \"constitution\", \"contacts\", \"contrast\", \"contrast\", \"control\", \"control\", \"control\", \"control\", \"control\", \"control\", \"control\", \"control\", \"convince\", \"cook\", \"cool\", \"corporate\", \"corruption\", \"cost\", \"cost\", \"countries\", \"countries\", \"countries\", \"countries\", \"countries\", \"countries\", \"country\", \"country\", \"country\", \"country\", \"country\", \"country\", \"country\", \"country\", \"country\", \"county\", \"couples\", \"crack\", \"create\", \"create\", \"create\", \"create\", \"create\", \"create\", \"create\", \"create\", \"create\", \"create\", \"created\", \"created\", \"credit\", \"credits\", \"credits\", \"criteria\", \"crush\", \"cse\", \"cse\", \"css\", \"cuisine\", \"culture\", \"culture\", \"cultures\", \"curb\", \"currency\", \"current\", \"current\", \"current\", \"current\", \"current\", \"current\", \"current\", \"customer\", \"customer\", \"cutoff\", \"cyrus\", \"daily\", \"daniel\", \"dark\", \"dark\", \"data\", \"date\", \"date\", \"date\", \"date\", \"date\", \"day\", \"day\", \"day\", \"day\", \"days\", \"deactivate\", \"dead\", \"dead\", \"deal\", \"deal\", \"deal\", \"debate\", \"debit\", \"debt\", \"decision\", \"define\", \"degree\", \"degree\", \"degree\", \"delhi\", \"delhi\", \"delhi\", \"delhi\", \"delhi\", \"demonetisation\", \"demonetization\", \"denomination\", \"departments\", \"depression\", \"depression\", \"described\", \"desert\", \"desert\", \"design\", \"design\", \"design\", \"design\", \"design\", \"design\", \"design\", \"desktop\", \"details\", \"details\", \"develop\", \"develop\", \"develop\", \"develop\", \"developer\", \"developer\", \"developer\", \"developer\", \"developers\", \"developers\", \"development\", \"development\", \"development\", \"development\", \"development\", \"development\", \"development\", \"device\", \"device\", \"device\", \"devices\", \"dhoni\", \"did\", \"did\", \"did\", \"did\", \"did\", \"did\", \"die\", \"die\", \"die\", \"die\", \"diesel\", \"differ\", \"differ\", \"differ\", \"difference\", \"difference\", \"difference\", \"difference\", \"difference\", \"differences\", \"differences\", \"differences\", \"different\", \"different\", \"different\", \"different\", \"different\", \"different\", \"different\", \"different\", \"different\", \"different\", \"different\", \"different\", \"different\", \"different\", \"different\", \"different\", \"different\", \"different\", \"digit\", \"digital\", \"direction\", \"disadvantages\", \"disorder\", \"distance\", \"divided\", \"does\", \"does\", \"does\", \"does\", \"does\", \"does\", \"does\", \"does\", \"does\", \"does\", \"does\", \"does\", \"does\", \"does\", \"does\", \"dog\", \"dogs\", \"dogs\", \"dogs\", \"dogs\", \"don\", \"don\", \"don\", \"don\", \"don\", \"don\", \"don\", \"don\", \"don\", \"don\", \"don\", \"don\", \"don\", \"donald\", \"double\", \"double\", \"download\", \"download\", \"download\", \"download\", \"download\", \"download\", \"download\", \"download\", \"dragon\", \"dream\", \"dream\", \"drink\", \"drink\", \"drink\", \"drive\", \"driver\", \"driver\", \"drug\", \"drug\", \"earn\", \"earn\", \"earth\", \"earth\", \"earthquake\", \"easiest\", \"easiest\", \"easiest\", \"easily\", \"easily\", \"east\", \"eat\", \"eat\", \"eat\", \"eating\", \"eating\", \"eating\", \"economy\", \"education\", \"education\", \"education\", \"education\", \"education\", \"effects\", \"effects\", \"effects\", \"egg\", \"ek\", \"election\", \"electoral\", \"electoral\", \"electrical\", \"electrical\", \"electrical\", \"electron\", \"elon\", \"email\", \"email\", \"embarrassing\", \"emotions\", \"employees\", \"employees\", \"energy\", \"energy\", \"engine\", \"engine\", \"engineer\", \"engineering\", \"engineering\", \"engineering\", \"engineers\", \"engineers\", \"engines\", \"english\", \"english\", \"enterprise\", \"entrance\", \"equation\", \"equation\", \"equation\", \"equations\", \"essay\", \"events\", \"events\", \"ex\", \"exam\", \"exam\", \"examples\", \"examples\", \"examples\", \"examples\", \"examples\", \"examples\", \"examples\", \"examples\", \"examples\", \"examples\", \"examples\", \"examples\", \"examples\", \"exams\", \"exist\", \"exist\", \"expands\", \"expansion\", \"expected\", \"expected\", \"expected\", \"expensive\", \"experience\", \"experience\", \"experience\", \"experience\", \"experience\", \"experience\", \"experience\", \"experience\", \"experience\", \"experience\", \"experience\", \"experience\", \"experience\", \"experience\", \"experience\", \"experiment\", \"explanation\", \"facebook\", \"facebook\", \"facebook\", \"facebook\", \"facebook\", \"faced\", \"facts\", \"fall\", \"fall\", \"fall\", \"family\", \"family\", \"family\", \"family\", \"family\", \"family\", \"family\", \"fantasy\", \"fast\", \"fast\", \"fast\", \"faster\", \"faster\", \"faster\", \"fastest\", \"fastest\", \"fat\", \"fat\", \"faux\", \"favorite\", \"favourite\", \"favourite\", \"fear\", \"feed\", \"feel\", \"feeling\", \"feelings\", \"feelings\", \"feels\", \"fi\", \"fiction\", \"fight\", \"fight\", \"figures\", \"file\", \"file\", \"file\", \"file\", \"films\", \"finance\", \"fitness\", \"fix\", \"fix\", \"fix\", \"flat\", \"floor\", \"fluently\", \"fly\", \"followers\", \"food\", \"food\", \"food\", \"food\", \"force\", \"foreign\", \"foreign\", \"foreign\", \"foreigners\", \"forget\", \"forgot\", \"forgot\", \"forgot\", \"forgotten\", \"formula\", \"formula\", \"frac\", \"francisco\", \"free\", \"free\", \"french\", \"french\", \"friend\", \"friend\", \"friend\", \"friend\", \"friend\", \"friend\", \"friend\", \"friend\", \"friends\", \"friends\", \"friends\", \"friends\", \"friends\", \"friends\", \"friends\", \"fruit\", \"function\", \"function\", \"function\", \"function\", \"fund\", \"funding\", \"funniest\", \"future\", \"future\", \"future\", \"future\", \"future\", \"future\", \"future\", \"future\", \"future\", \"gain\", \"gain\", \"gain\", \"game\", \"game\", \"game\", \"gaming\", \"gandhi\", \"gap\", \"gate\", \"gen\", \"gift\", \"gift\", \"gifts\", \"girl\", \"girl\", \"girl\", \"girl\", \"girl\", \"girlfriend\", \"girlfriend\", \"girlfriend\", \"girls\", \"glasses\", \"global\", \"gmail\", \"goa\", \"gobi\", \"god\", \"god\", \"god\", \"god\", \"god\", \"god\", \"god\", \"god\", \"going\", \"going\", \"gold\", \"gold\", \"gold\", \"good\", \"good\", \"good\", \"good\", \"good\", \"good\", \"good\", \"good\", \"good\", \"good\", \"good\", \"good\", \"good\", \"good\", \"good\", \"good\", \"good\", \"good\", \"good\", \"good\", \"google\", \"google\", \"google\", \"google\", \"google\", \"google\", \"google\", \"googling\", \"government\", \"government\", \"government\", \"gps\", \"grads\", \"grammatically\", \"graphics\", \"gravity\", \"greatest\", \"greatest\", \"grow\", \"grow\", \"gst\", \"gun\", \"guy\", \"guy\", \"guy\", \"guy\", \"guy\", \"guys\", \"guys\", \"hack\", \"hacked\", \"hacker\", \"hacking\", \"hacking\", \"hadoop\", \"hair\", \"handling\", \"happen\", \"happen\", \"happen\", \"happen\", \"happen\", \"happen\", \"happen\", \"happen\", \"happen\", \"happen\", \"happen\", \"happen\", \"happen\", \"happen\", \"happen\", \"happen\", \"happened\", \"happened\", \"happened\", \"happened\", \"happens\", \"happy\", \"harassment\", \"harry\", \"harvard\", \"hate\", \"hate\", \"having\", \"having\", \"having\", \"having\", \"having\", \"having\", \"having\", \"having\", \"having\", \"having\", \"having\", \"having\", \"having\", \"having\", \"having\", \"health\", \"health\", \"health\", \"health\", \"health\", \"health\", \"health\", \"healthy\", \"healthy\", \"heard\", \"heard\", \"height\", \"help\", \"help\", \"help\", \"help\", \"help\", \"help\", \"help\", \"help\", \"help\", \"help\", \"help\", \"help\", \"help\", \"help\", \"help\", \"help\", \"help\", \"high\", \"high\", \"high\", \"high\", \"high\", \"high\", \"high\", \"high\", \"high\", \"high\", \"high\", \"high\", \"hill\", \"hillary\", \"historical\", \"history\", \"history\", \"hitler\", \"hole\", \"hole\", \"hollywood\", \"hollywood\", \"home\", \"home\", \"home\", \"home\", \"home\", \"home\", \"home\", \"home\", \"home\", \"home\", \"home\", \"home\", \"home\", \"home\", \"hong\", \"horror\", \"hotel\", \"hotels\", \"hours\", \"hours\", \"house\", \"house\", \"house\", \"house\", \"house\", \"hp\", \"hp\", \"html\", \"human\", \"human\", \"human\", \"human\", \"human\", \"humans\", \"humans\", \"humans\", \"humans\", \"hurt\", \"hurt\", \"ias\", \"ias\", \"ibps\", \"ice\", \"icloud\", \"identify\", \"ii\", \"iii\", \"iit\", \"iits\", \"image\", \"image\", \"immigration\", \"impact\", \"impact\", \"impact\", \"impact\", \"impact\", \"important\", \"important\", \"important\", \"important\", \"imported\", \"impress\", \"improve\", \"improvement\", \"income\", \"increase\", \"increase\", \"india\", \"india\", \"india\", \"india\", \"india\", \"india\", \"india\", \"india\", \"india\", \"india\", \"india\", \"india\", \"india\", \"india\", \"india\", \"india\", \"india\", \"india\", \"india\", \"indian\", \"indian\", \"indian\", \"indian\", \"indian\", \"indian\", \"indian\", \"indian\", \"indians\", \"indians\", \"indians\", \"individuals\", \"industry\", \"infinite\", \"information\", \"information\", \"information\", \"information\", \"information\", \"innovations\", \"inpatient\", \"instagram\", \"instagram\", \"install\", \"installation\", \"instead\", \"instead\", \"instead\", \"instead\", \"instead\", \"instead\", \"instead\", \"instead\", \"instead\", \"institute\", \"intelligence\", \"interesting\", \"interesting\", \"interesting\", \"interesting\", \"interesting\", \"interesting\", \"interesting\", \"international\", \"international\", \"international\", \"international\", \"international\", \"international\", \"international\", \"international\", \"international\", \"international\", \"internet\", \"internet\", \"internship\", \"interview\", \"interview\", \"interview\", \"interview\", \"introducing\", \"introvert\", \"invented\", \"invest\", \"invest\", \"invest\", \"investment\", \"investment\", \"investors\", \"invited\", \"ios\", \"ios\", \"ip\", \"iphone\", \"iphone\", \"ipod\", \"iq\", \"iq\", \"iq\", \"islam\", \"islam\", \"islam\", \"israel\", \"israel\", \"israel\", \"isro\", \"ivy\", \"jail\", \"japan\", \"japan\", \"japanese\", \"japanese\", \"japanese\", \"japanese\", \"java\", \"java\", \"java\", \"java\", \"javascript\", \"jealous\", \"jee\", \"jio\", \"job\", \"job\", \"job\", \"job\", \"job\", \"jobs\", \"jobs\", \"jobs\", \"join\", \"join\", \"join\", \"joke\", \"jokes\", \"js\", \"juice\", \"karma\", \"kerala\", \"khan\", \"khan\", \"kill\", \"kill\", \"know\", \"know\", \"know\", \"know\", \"know\", \"known\", \"known\", \"known\", \"known\", \"known\", \"kong\", \"korean\", \"kvpy\", \"lakhs\", \"language\", \"language\", \"language\", \"languages\", \"languages\", \"laptop\", \"laptop\", \"laptop\", \"laptop\", \"laptop\", \"laptops\", \"law\", \"law\", \"leader\", \"leader\", \"leader\", \"league\", \"learn\", \"learn\", \"learn\", \"learn\", \"learn\", \"learned\", \"learned\", \"learning\", \"learning\", \"legal\", \"legal\", \"legit\", \"lesson\", \"lewis\", \"liberal\", \"lie\", \"life\", \"life\", \"life\", \"life\", \"life\", \"light\", \"like\", \"like\", \"like\", \"like\", \"like\", \"like\", \"like\", \"like\", \"like\", \"like\", \"like\", \"like\", \"like\", \"like\", \"like\", \"like\", \"like\", \"likely\", \"likely\", \"likely\", \"likely\", \"likely\", \"likely\", \"likes\", \"likes\", \"likes\", \"linux\", \"linux\", \"linux\", \"listen\", \"live\", \"live\", \"live\", \"living\", \"loan\", \"loan\", \"loan\", \"loan\", \"loan\", \"log\", \"lonely\", \"long\", \"long\", \"longest\", \"look\", \"look\", \"look\", \"look\", \"look\", \"look\", \"look\", \"looking\", \"looking\", \"loose\", \"lord\", \"lose\", \"lose\", \"love\", \"love\", \"love\", \"love\", \"love\", \"loves\", \"loves\", \"lyrics\", \"macbook\", \"machine\", \"machine\", \"magnetic\", \"maharashtra\", \"main\", \"main\", \"main\", \"main\", \"mains\", \"major\", \"major\", \"major\", \"major\", \"major\", \"major\", \"major\", \"major\", \"majors\", \"majors\", \"make\", \"make\", \"make\", \"make\", \"make\", \"makes\", \"makes\", \"makes\", \"makes\", \"makes\", \"makes\", \"makes\", \"makes\", \"makes\", \"makes\", \"making\", \"man\", \"man\", \"man\", \"manage\", \"manager\", \"manager\", \"marked\", \"market\", \"market\", \"marketing\", \"marketing\", \"marks\", \"marks\", \"marriage\", \"marriage\", \"marriage\", \"marriage\", \"marriage\", \"master\", \"master\", \"masturbate\", \"math\", \"matter\", \"mba\", \"mba\", \"mba\", \"mba\", \"mba\", \"mean\", \"meaning\", \"meaning\", \"meaning\", \"mechanical\", \"medals\", \"media\", \"medical\", \"medical\", \"medical\", \"medicine\", \"meditation\", \"member\", \"memory\", \"men\", \"message\", \"message\", \"message\", \"messages\", \"messenger\", \"messenger\", \"meth\", \"meth\", \"metro\", \"mexico\", \"mexico\", \"michael\", \"middle\", \"middle\", \"middle\", \"millionaire\", \"mind\", \"mind\", \"mind\", \"minister\", \"minister\", \"mistake\", \"mistry\", \"mix\", \"mix\", \"mobile\", \"mobile\", \"mobile\", \"mobile\", \"mobile\", \"mobile\", \"mobile\", \"modi\", \"modi\", \"moment\", \"money\", \"money\", \"money\", \"money\", \"month\", \"month\", \"month\", \"months\", \"months\", \"months\", \"moon\", \"moon\", \"moon\", \"moon\", \"moral\", \"morning\", \"morning\", \"morning\", \"morning\", \"motivated\", \"movie\", \"movie\", \"movie\", \"movie\", \"movie\", \"movie\", \"movie\", \"movie\", \"movie\", \"movies\", \"movies\", \"movies\", \"mr\", \"mumbai\", \"mumbai\", \"mumbai\", \"mumbai\", \"muscles\", \"music\", \"music\", \"music\", \"music\", \"music\", \"musk\", \"muslim\", \"muslim\", \"muslim\", \"muslim\", \"muslim\", \"names\", \"names\", \"nano\", \"naturally\", \"naturally\", \"nba\", \"near\", \"near\", \"near\", \"need\", \"need\", \"need\", \"need\", \"need\", \"need\", \"need\", \"need\", \"need\", \"need\", \"need\", \"need\", \"need\", \"need\", \"need\", \"need\", \"need\", \"need\", \"need\", \"needing\", \"neet\", \"network\", \"network\", \"networking\", \"new\", \"new\", \"new\", \"news\", \"news\", \"node\", \"non\", \"non\", \"non\", \"non\", \"non\", \"non\", \"non\", \"non\", \"non\", \"non\", \"non\", \"non\", \"note\", \"note\", \"notes\", \"notice\", \"novel\", \"novel\", \"novels\", \"november\", \"nra\", \"nuclear\", \"nuclear\", \"number\", \"number\", \"number\", \"number\", \"number\", \"number\", \"number\", \"number\", \"number\", \"numbers\", \"obama\", \"object\", \"obsessed\", \"oil\", \"oil\", \"oil\", \"ok\", \"ok\", \"old\", \"old\", \"oldest\", \"ones\", \"ones\", \"online\", \"online\", \"open\", \"open\", \"option\", \"option\", \"option\", \"option\", \"option\", \"option\", \"option\", \"options\", \"options\", \"order\", \"order\", \"order\", \"order\", \"order\", \"order\", \"order\", \"order\", \"order\", \"order\", \"order\", \"order\", \"overcome\", \"overcome\", \"pack\", \"painless\", \"pakistan\", \"pakistan\", \"pan\", \"panel\", \"parents\", \"party\", \"party\", \"party\", \"party\", \"party\", \"party\", \"party\", \"party\", \"party\", \"pas\", \"passport\", \"passport\", \"password\", \"password\", \"past\", \"past\", \"past\", \"past\", \"pay\", \"pay\", \"pay\", \"pay\", \"pay\", \"pay\", \"pay\", \"pay\", \"pay\", \"pay\", \"pdf\", \"pdf\", \"peace\", \"people\", \"people\", \"people\", \"people\", \"people\", \"people\", \"people\", \"people\", \"percentile\", \"period\", \"person\", \"person\", \"person\", \"person\", \"person\", \"person\", \"person\", \"person\", \"person\", \"person\", \"person\", \"personality\", \"petrol\", \"phd\", \"phd\", \"phd\", \"phd\", \"phd\", \"phone\", \"phone\", \"phone\", \"phone\", \"phones\", \"photography\", \"photos\", \"photos\", \"photos\", \"photos\", \"photos\", \"photos\", \"php\", \"php\", \"php\", \"php\", \"piano\", \"pimples\", \"pizza\", \"place\", \"place\", \"place\", \"place\", \"place\", \"place\", \"places\", \"places\", \"plan\", \"plan\", \"plane\", \"planets\", \"plant\", \"plants\", \"plants\", \"plus\", \"po\", \"poker\", \"pok\\u00e9mon\", \"pok\\u00e9mon\", \"police\", \"popular\", \"popular\", \"popular\", \"porn\", \"positions\", \"positive\", \"possible\", \"possible\", \"possible\", \"possible\", \"possible\", \"possible\", \"possible\", \"post\", \"post\", \"post\", \"potential\", \"potential\", \"potter\", \"pounds\", \"power\", \"power\", \"power\", \"power\", \"power\", \"power\", \"power\", \"power\", \"power\", \"power\", \"power\", \"power\", \"pr\", \"prank\", \"precautions\", \"pregnant\", \"pregnant\", \"premier\", \"preparation\", \"preparation\", \"prepare\", \"preparing\", \"preparing\", \"preparing\", \"presence\", \"presidency\", \"president\", \"president\", \"president\", \"presidential\", \"price\", \"price\", \"pride\", \"prime\", \"prime\", \"prime\", \"printer\", \"pro\", \"problem\", \"problem\", \"problem\", \"problem\", \"problem\", \"problem\", \"problem\", \"problem\", \"problem\", \"problem\", \"problem\", \"problems\", \"problems\", \"problems\", \"problems\", \"problems\", \"problems\", \"process\", \"process\", \"process\", \"process\", \"professional\", \"professional\", \"professional\", \"professional\", \"profile\", \"profile\", \"profit\", \"profit\", \"program\", \"program\", \"program\", \"program\", \"program\", \"programming\", \"project\", \"project\", \"project\", \"project\", \"project\", \"project\", \"project\", \"proposed\", \"pros\", \"pros\", \"protein\", \"protein\", \"prove\", \"prove\", \"prove\", \"ps4\", \"psychopath\", \"punjab\", \"purpose\", \"python\", \"python\", \"python\", \"python\", \"quality\", \"quality\", \"question\", \"questions\", \"questions\", \"questions\", \"quickbooks\", \"quora\", \"quora\", \"quora\", \"quotes\", \"racism\", \"rank\", \"rate\", \"rate\", \"rate\", \"rate\", \"rate\", \"rate\", \"rate\", \"rate\", \"rate\", \"read\", \"read\", \"read\", \"real\", \"real\", \"real\", \"real\", \"real\", \"real\", \"real\", \"real\", \"real\", \"real\", \"real\", \"real\", \"real\", \"real\", \"real\", \"real\", \"really\", \"really\", \"really\", \"really\", \"really\", \"really\", \"really\", \"really\", \"really\", \"really\", \"really\", \"really\", \"really\", \"really\", \"reasons\", \"reasons\", \"reasons\", \"reasons\", \"reasons\", \"reasons\", \"reasons\", \"recover\", \"recover\", \"recovery\", \"recovery\", \"recruit\", \"redmi\", \"reduce\", \"reduce\", \"refer\", \"refer\", \"regret\", \"rehab\", \"relationship\", \"relationship\", \"relationship\", \"relationships\", \"release\", \"release\", \"released\", \"reliance\", \"religion\", \"remedies\", \"remember\", \"remember\", \"remove\", \"remove\", \"remove\", \"remove\", \"remove\", \"remove\", \"remove\", \"removed\", \"required\", \"required\", \"required\", \"required\", \"required\", \"required\", \"required\", \"requirements\", \"requirements\", \"research\", \"research\", \"research\", \"reservation\", \"reset\", \"reset\", \"resolution\", \"respond\", \"review\", \"review\", \"rich\", \"richest\", \"rid\", \"rights\", \"role\", \"role\", \"romantic\", \"romantic\", \"romantic\", \"room\", \"royal\", \"rs\", \"rs\", \"rs\", \"ruby\", \"rupee\", \"rupees\", \"russia\", \"sa\", \"safe\", \"safe\", \"safe\", \"safely\", \"safety\", \"sahara\", \"salary\", \"salary\", \"salary\", \"salary\", \"salary\", \"salary\", \"salary\", \"salary\", \"sales\", \"salt\", \"saltwater\", \"sanders\", \"sat\", \"saudi\", \"saved\", \"saved\", \"saved\", \"savings\", \"says\", \"says\", \"says\", \"school\", \"school\", \"science\", \"science\", \"science\", \"scope\", \"scope\", \"scope\", \"score\", \"score\", \"scrapping\", \"search\", \"search\", \"seen\", \"seen\", \"seen\", \"self\", \"self\", \"send\", \"send\", \"send\", \"send\", \"sentence\", \"sentence\", \"seo\", \"series\", \"service\", \"services\", \"services\", \"services\", \"services\", \"sex\", \"sex\", \"sex\", \"sex\", \"shepherd\", \"shirt\", \"shoes\", \"shot\", \"shot\", \"shot\", \"shot\", \"shotguns\", \"shy\", \"sign\", \"sign\", \"sign\", \"significance\", \"silicon\", \"silly\", \"sim\", \"similarities\", \"sin\", \"site\", \"site\", \"skill\", \"skills\", \"skin\", \"skin\", \"skin\", \"skin\", \"skin\", \"sleep\", \"sleep\", \"smoke\", \"smoke\", \"smoking\", \"snapchat\", \"soccer\", \"social\", \"social\", \"social\", \"socially\", \"soda\", \"software\", \"software\", \"software\", \"software\", \"software\", \"solar\", \"solution\", \"solution\", \"solution\", \"solution\", \"solution\", \"solution\", \"solution\", \"solution\", \"solution\", \"solve\", \"solve\", \"solve\", \"somme\", \"song\", \"song\", \"song\", \"song\", \"song\", \"song\", \"songs\", \"songs\", \"songs\", \"songs\", \"songs\", \"songs\", \"songs\", \"sons\", \"source\", \"south\", \"south\", \"south\", \"south\", \"south\", \"space\", \"space\", \"space\", \"space\", \"space\", \"space\", \"spanish\", \"speak\", \"speaking\", \"speaking\", \"special\", \"special\", \"special\", \"special\", \"speed\", \"speed\", \"speed\", \"spend\", \"spend\", \"spend\", \"spend\", \"sperm\", \"spotify\", \"sqrt\", \"sri\", \"ssc\", \"stack\", \"staff\", \"stanford\", \"star\", \"star\", \"star\", \"start\", \"start\", \"start\", \"start\", \"startup\", \"startup\", \"startup\", \"startup\", \"startup\", \"state\", \"state\", \"state\", \"state\", \"state\", \"state\", \"state\", \"state\", \"states\", \"states\", \"station\", \"step\", \"step\", \"stock\", \"stock\", \"stop\", \"stop\", \"store\", \"store\", \"store\", \"store\", \"store\", \"stories\", \"stories\", \"story\", \"story\", \"story\", \"story\", \"story\", \"story\", \"story\", \"story\", \"strike\", \"strongest\", \"structure\", \"student\", \"student\", \"student\", \"student\", \"student\", \"student\", \"student\", \"students\", \"students\", \"students\", \"students\", \"students\", \"students\", \"students\", \"students\", \"students\", \"students\", \"students\", \"studies\", \"studies\", \"studies\", \"study\", \"study\", \"study\", \"study\", \"study\", \"study\", \"study\", \"study\", \"successful\", \"successful\", \"successful\", \"successful\", \"successful\", \"successful\", \"successful\", \"successful\", \"successful\", \"suicide\", \"suicide\", \"sun\", \"sun\", \"sun\", \"super\", \"super\", \"superman\", \"support\", \"support\", \"support\", \"support\", \"support\", \"support\", \"support\", \"surgical\", \"sydney\", \"syllabus\", \"symbol\", \"symptoms\", \"taffy\", \"talk\", \"talk\", \"talk\", \"talk\", \"talk\", \"taste\", \"tata\", \"taught\", \"teachers\", \"tech\", \"tech\", \"tech\", \"tech\", \"tech\", \"tech\", \"tech\", \"tell\", \"tell\", \"tell\", \"temperatures\", \"temple\", \"term\", \"term\", \"term\", \"term\", \"term\", \"tesla\", \"test\", \"test\", \"test\", \"test\", \"test\", \"test\", \"test\", \"tested\", \"thank\", \"theories\", \"thing\", \"thing\", \"thing\", \"thing\", \"thing\", \"thing\", \"thing\", \"thing\", \"thing\", \"thing\", \"thing\", \"thing\", \"things\", \"things\", \"think\", \"think\", \"thinking\", \"thoughts\", \"thoughts\", \"thrones\", \"tiles\", \"time\", \"time\", \"time\", \"time\", \"time\", \"time\", \"time\", \"time\", \"time\", \"time\", \"time\", \"time\", \"time\", \"time\", \"time\", \"time\", \"tips\", \"tips\", \"tips\", \"trading\", \"traffic\", \"traffic\", \"traffic\", \"travel\", \"triangle\", \"tricks\", \"tricks\", \"trip\", \"trump\", \"trust\", \"trust\", \"turkey\", \"turkey\", \"tv\", \"tv\", \"uk\", \"uk\", \"uk\", \"uk\", \"unblock\", \"underrated\", \"understand\", \"understand\", \"understand\", \"understand\", \"understand\", \"unexpected\", \"united\", \"united\", \"united\", \"united\", \"united\", \"universe\", \"universe\", \"universities\", \"universities\", \"universities\", \"university\", \"university\", \"university\", \"unlimited\", \"unmarried\", \"update\", \"update\", \"update\", \"ups\", \"upsc\", \"uri\", \"usa\", \"usa\", \"usa\", \"usa\", \"usa\", \"usa\", \"usa\", \"usa\", \"usa\", \"usa\", \"usa\", \"usa\", \"usa\", \"usa\", \"usb\", \"use\", \"use\", \"use\", \"use\", \"use\", \"use\", \"use\", \"use\", \"use\", \"use\", \"use\", \"use\", \"use\", \"use\", \"use\", \"used\", \"used\", \"used\", \"used\", \"used\", \"used\", \"used\", \"used\", \"used\", \"used\", \"used\", \"used\", \"used\", \"used\", \"used\", \"used\", \"used\", \"username\", \"using\", \"using\", \"using\", \"using\", \"using\", \"using\", \"using\", \"using\", \"using\", \"using\", \"using\", \"using\", \"using\", \"using\", \"using\", \"using\", \"usually\", \"usually\", \"usually\", \"vacuum\", \"vagina\", \"ve\", \"ve\", \"ve\", \"ve\", \"ve\", \"ve\", \"ve\", \"velocity\", \"venezuela\", \"video\", \"video\", \"video\", \"video\", \"video\", \"video\", \"video\", \"video\", \"video\", \"video\", \"video\", \"videos\", \"videos\", \"videos\", \"videos\", \"videos\", \"view\", \"view\", \"view\", \"view\", \"view\", \"viewed\", \"virtual\", \"visa\", \"visa\", \"vision\", \"visit\", \"visitor\", \"vpn\", \"wake\", \"want\", \"want\", \"want\", \"want\", \"want\", \"want\", \"want\", \"want\", \"want\", \"want\", \"want\", \"want\", \"want\", \"want\", \"want\", \"want\", \"want\", \"want\", \"want\", \"war\", \"warming\", \"wash\", \"watch\", \"watch\", \"watch\", \"watch\", \"watch\", \"watch\", \"watch\", \"watch\", \"water\", \"water\", \"wave\", \"way\", \"way\", \"way\", \"way\", \"way\", \"ways\", \"ways\", \"ways\", \"ways\", \"ways\", \"weakest\", \"wear\", \"web\", \"web\", \"web\", \"web\", \"web\", \"web\", \"website\", \"website\", \"website\", \"websites\", \"websites\", \"websites\", \"websites\", \"websites\", \"websites\", \"websites\", \"websites\", \"websites\", \"weed\", \"weed\", \"week\", \"weight\", \"weight\", \"weight\", \"went\", \"whatsapp\", \"whatsapp\", \"white\", \"white\", \"white\", \"white\", \"wi\", \"widely\", \"win\", \"win\", \"win\", \"windows\", \"windows\", \"wins\", \"wipro\", \"woman\", \"woman\", \"women\", \"word\", \"word\", \"words\", \"words\", \"work\", \"work\", \"work\", \"work\", \"work\", \"work\", \"working\", \"working\", \"working\", \"working\", \"working\", \"working\", \"working\", \"working\", \"working\", \"works\", \"works\", \"works\", \"works\", \"works\", \"works\", \"world\", \"world\", \"worth\", \"worth\", \"worth\", \"worth\", \"write\", \"write\", \"write\", \"writer\", \"writing\", \"wrong\", \"wrong\", \"wrong\", \"wrong\", \"wrong\", \"xbox\", \"year\", \"year\", \"year\", \"year\", \"years\", \"years\", \"years\", \"years\", \"years\", \"years\", \"years\", \"years\", \"years\", \"years\", \"years\", \"yellow\", \"york\", \"youtube\", \"youtube\", \"zone\"]}, \"R\": 30, \"lambda.step\": 0.01, \"plot.opts\": {\"xlab\": \"PC1\", \"ylab\": \"PC2\"}, \"topic.order\": [1, 2, 3, 4, 5, 6, 7, 8, 9, 10, 11, 12, 13, 14, 15, 16, 17, 18, 19, 20]};\n",
       "\n",
       "function LDAvis_load_lib(url, callback){\n",
       "  var s = document.createElement('script');\n",
       "  s.src = url;\n",
       "  s.async = true;\n",
       "  s.onreadystatechange = s.onload = callback;\n",
       "  s.onerror = function(){console.warn(\"failed to load library \" + url);};\n",
       "  document.getElementsByTagName(\"head\")[0].appendChild(s);\n",
       "}\n",
       "\n",
       "if(typeof(LDAvis) !== \"undefined\"){\n",
       "   // already loaded: just create the visualization\n",
       "   !function(LDAvis){\n",
       "       new LDAvis(\"#\" + \"ldavis_el1417227870804640723357435806\", ldavis_el1417227870804640723357435806_data);\n",
       "   }(LDAvis);\n",
       "}else if(typeof define === \"function\" && define.amd){\n",
       "   // require.js is available: use it to load d3/LDAvis\n",
       "   require.config({paths: {d3: \"https://cdnjs.cloudflare.com/ajax/libs/d3/3.5.5/d3.min\"}});\n",
       "   require([\"d3\"], function(d3){\n",
       "      window.d3 = d3;\n",
       "      LDAvis_load_lib(\"https://cdn.rawgit.com/bmabey/pyLDAvis/files/ldavis.v1.0.0.js\", function(){\n",
       "        new LDAvis(\"#\" + \"ldavis_el1417227870804640723357435806\", ldavis_el1417227870804640723357435806_data);\n",
       "      });\n",
       "    });\n",
       "}else{\n",
       "    // require.js not available: dynamically load d3 & LDAvis\n",
       "    LDAvis_load_lib(\"https://cdnjs.cloudflare.com/ajax/libs/d3/3.5.5/d3.min.js\", function(){\n",
       "         LDAvis_load_lib(\"https://cdn.rawgit.com/bmabey/pyLDAvis/files/ldavis.v1.0.0.js\", function(){\n",
       "                 new LDAvis(\"#\" + \"ldavis_el1417227870804640723357435806\", ldavis_el1417227870804640723357435806_data);\n",
       "            })\n",
       "         });\n",
       "}\n",
       "</script>"
      ],
      "text/plain": [
       "PreparedData(topic_coordinates=              x         y  topics  cluster      Freq\n",
       "topic                                               \n",
       "0     -0.101456  0.162730       1        1  4.802104\n",
       "1      0.056435  0.004201       2        1  4.763971\n",
       "2      0.139238 -0.031562       3        1  4.356176\n",
       "3      0.061751  0.053937       4        1  4.317269\n",
       "4     -0.003989  0.079946       5        1  5.482495\n",
       "5      0.182879 -0.011909       6        1  5.017840\n",
       "6     -0.176029 -0.190660       7        1  5.094417\n",
       "7     -0.219222 -0.050482       8        1  5.499448\n",
       "8     -0.063818  0.237554       9        1  5.251726\n",
       "9      0.107664 -0.087074      10        1  4.263859\n",
       "10    -0.066232  0.130190      11        1  4.741658\n",
       "11     0.015466  0.123594      12        1  5.114491\n",
       "12    -0.017193  0.021418      13        1  5.291642\n",
       "13     0.033527  0.056563      14        1  4.545807\n",
       "14     0.179254 -0.009268      15        1  4.956969\n",
       "15    -0.110974  0.033650      16        1  4.632987\n",
       "16    -0.113493 -0.171297      17        1  4.753560\n",
       "17     0.129832 -0.087116      18        1  4.751397\n",
       "18    -0.188542 -0.125629      19        1  5.520167\n",
       "19     0.154902 -0.138788      20        1  6.842018, topic_info=      Category          Freq    Term         Total  loglift  logprob\n",
       "11005  Default  27886.000000    does  27886.000000  30.0000  30.0000\n",
       "4632   Default  33067.000000    best  33067.000000  29.0000  29.0000\n",
       "25777  Default  12338.000000  people  12338.000000  28.0000  28.0000\n",
       "10447  Default   9165.000000     did   9165.000000  27.0000  27.0000\n",
       "21116  Default   8693.000000    make   8693.000000  26.0000  26.0000\n",
       "...        ...           ...     ...           ...      ...      ...\n",
       "15060  Topic20   1507.933622    good  11755.178156   0.6285  -4.5371\n",
       "34869  Topic20   1186.306488    time   7099.106158   0.8930  -4.7770\n",
       "14185  Topic20    738.475243  friend   1541.144560   1.9464  -5.2510\n",
       "15914  Topic20    680.806255  having   1488.632903   1.8998  -5.3323\n",
       "11065  Topic20    714.229200     don   3649.823720   1.0509  -5.2844\n",
       "\n",
       "[1186 rows x 6 columns], token_table=       Topic      Freq     Term\n",
       "term                           \n",
       "1          4  0.059751      000\n",
       "1         16  0.938584      000\n",
       "34         1  0.023685       10\n",
       "34         4  0.019130       10\n",
       "34         6  0.025507       10\n",
       "...      ...       ...      ...\n",
       "38340     20  0.993607   yellow\n",
       "38399      4  0.998505     york\n",
       "38422     10  0.976728  youtube\n",
       "38422     16  0.023012  youtube\n",
       "38558      4  0.993598     zone\n",
       "\n",
       "[2824 rows x 3 columns], R=30, lambda_step=0.01, plot_opts={'xlab': 'PC1', 'ylab': 'PC2'}, topic_order=[1, 2, 3, 4, 5, 6, 7, 8, 9, 10, 11, 12, 13, 14, 15, 16, 17, 18, 19, 20])"
      ]
     },
     "execution_count": 23,
     "metadata": {},
     "output_type": "execute_result"
    }
   ],
   "source": [
    "%%time\n",
    "\n",
    "pyLDAvis.sklearn.prepare(LDA, dtm, cv, sort_topics=False)\n",
    "# sort_topics = False to keep the original topic order"
   ]
  },
  {
   "cell_type": "markdown",
   "metadata": {},
   "source": [
    "With $\\lambda=1$, the terms are ranked by their probabilities within each topic (as we had in our top 15 words for each of the 20 topics). With $\\lambda=0$, the terms are ranked only by their lift, the ratio between a term's probability within a topic and its margin probability across the corpus. For other values of $\\lambda$, the terms are ranked by their relevance, a combination of those two values.\n",
    "\n",
    "As we can see in our intertopic distance map, there is **some overlaping between different topics**. Let's try to avoid this overlaping by **reducing the total number of topics to 15**."
   ]
  },
  {
   "cell_type": "code",
   "execution_count": 27,
   "metadata": {},
   "outputs": [],
   "source": [
    "LDA = LatentDirichletAllocation(n_components=15,random_state=42)"
   ]
  },
  {
   "cell_type": "code",
   "execution_count": 28,
   "metadata": {},
   "outputs": [
    {
     "name": "stdout",
     "output_type": "stream",
     "text": [
      "Wall time: 9min 30s\n"
     ]
    },
    {
     "data": {
      "text/plain": [
       "LatentDirichletAllocation(batch_size=128, doc_topic_prior=None,\n",
       "                          evaluate_every=-1, learning_decay=0.7,\n",
       "                          learning_method='batch', learning_offset=10.0,\n",
       "                          max_doc_update_iter=100, max_iter=10,\n",
       "                          mean_change_tol=0.001, n_components=15, n_jobs=None,\n",
       "                          perp_tol=0.1, random_state=42, topic_word_prior=None,\n",
       "                          total_samples=1000000.0, verbose=0)"
      ]
     },
     "execution_count": 28,
     "metadata": {},
     "output_type": "execute_result"
    }
   ],
   "source": [
    "%%time\n",
    "\n",
    "LDA.fit(dtm)"
   ]
  },
  {
   "cell_type": "code",
   "execution_count": 29,
   "metadata": {},
   "outputs": [
    {
     "name": "stdout",
     "output_type": "stream",
     "text": [
      "Wall time: 19min 44s\n"
     ]
    },
    {
     "data": {
      "text/html": [
       "\n",
       "<link rel=\"stylesheet\" type=\"text/css\" href=\"https://cdn.rawgit.com/bmabey/pyLDAvis/files/ldavis.v1.0.0.css\">\n",
       "\n",
       "\n",
       "<div id=\"ldavis_el1417227856841499603215352587\"></div>\n",
       "<script type=\"text/javascript\">\n",
       "\n",
       "var ldavis_el1417227856841499603215352587_data = {\"mdsDat\": {\"x\": [-0.10230863270737507, 0.08004824283031962, 0.15162351770002636, 0.058468477134727644, 0.000703329388369047, 0.2193904401518021, -0.13303908056077793, -0.2664179930174509, -0.13872472915343703, 0.08336598132651526, -0.09265148241322214, -0.02962822646064167, 0.016564278930290426, -0.03006955811314555, 0.18267543496400043], \"y\": [-0.10953302615879995, 0.05472983978749905, 0.07288551267089803, -0.18337506104653326, -0.026767260200131253, 0.024417920806711627, 0.22952726196547296, 0.13607506624278162, -0.1509623170027336, 0.14193910502601134, -0.18300412847528494, -0.10823074225618749, 0.09050546651861545, 0.05197165731559694, -0.04017929519391652], \"topics\": [1, 2, 3, 4, 5, 6, 7, 8, 9, 10, 11, 12, 13, 14, 15], \"cluster\": [1, 1, 1, 1, 1, 1, 1, 1, 1, 1, 1, 1, 1, 1, 1], \"Freq\": [6.090068394521486, 5.961436170012865, 6.069565324338161, 5.895823682058013, 7.09082657036163, 8.41780871449695, 7.03219981456041, 8.671695029669703, 6.574201870087017, 5.648120186264743, 5.775134019904595, 6.703527949102154, 7.056417236304838, 6.012234965436108, 7.000940072881321]}, \"tinfo\": {\"Category\": [\"Default\", \"Default\", \"Default\", \"Default\", \"Default\", \"Default\", \"Default\", \"Default\", \"Default\", \"Default\", \"Default\", \"Default\", \"Default\", \"Default\", \"Default\", \"Default\", \"Default\", \"Default\", \"Default\", \"Default\", \"Default\", \"Default\", \"Default\", \"Default\", \"Default\", \"Default\", \"Default\", \"Default\", \"Default\", \"Default\", \"Topic1\", \"Topic1\", \"Topic1\", \"Topic1\", \"Topic1\", \"Topic1\", \"Topic1\", \"Topic1\", \"Topic1\", \"Topic1\", \"Topic1\", \"Topic1\", \"Topic1\", \"Topic1\", \"Topic1\", \"Topic1\", \"Topic1\", \"Topic1\", \"Topic1\", \"Topic1\", \"Topic1\", \"Topic1\", \"Topic1\", \"Topic1\", \"Topic1\", \"Topic1\", \"Topic1\", \"Topic1\", \"Topic1\", \"Topic1\", \"Topic1\", \"Topic1\", \"Topic1\", \"Topic1\", \"Topic1\", \"Topic1\", \"Topic1\", \"Topic1\", \"Topic1\", \"Topic1\", \"Topic1\", \"Topic1\", \"Topic1\", \"Topic1\", \"Topic1\", \"Topic1\", \"Topic1\", \"Topic1\", \"Topic1\", \"Topic1\", \"Topic1\", \"Topic1\", \"Topic1\", \"Topic1\", \"Topic1\", \"Topic1\", \"Topic1\", \"Topic1\", \"Topic1\", \"Topic1\", \"Topic1\", \"Topic1\", \"Topic1\", \"Topic1\", \"Topic1\", \"Topic1\", \"Topic1\", \"Topic1\", \"Topic1\", \"Topic2\", \"Topic2\", \"Topic2\", \"Topic2\", \"Topic2\", \"Topic2\", \"Topic2\", \"Topic2\", \"Topic2\", \"Topic2\", \"Topic2\", \"Topic2\", \"Topic2\", \"Topic2\", \"Topic2\", \"Topic2\", \"Topic2\", \"Topic2\", \"Topic2\", \"Topic2\", \"Topic2\", \"Topic2\", \"Topic2\", \"Topic2\", \"Topic2\", \"Topic2\", \"Topic2\", \"Topic2\", \"Topic2\", \"Topic2\", \"Topic2\", \"Topic2\", \"Topic2\", \"Topic2\", \"Topic2\", \"Topic2\", \"Topic2\", \"Topic2\", \"Topic2\", \"Topic2\", \"Topic2\", \"Topic2\", \"Topic2\", \"Topic2\", \"Topic2\", \"Topic2\", \"Topic3\", \"Topic3\", \"Topic3\", \"Topic3\", \"Topic3\", \"Topic3\", \"Topic3\", \"Topic3\", \"Topic3\", \"Topic3\", \"Topic3\", \"Topic3\", \"Topic3\", \"Topic3\", \"Topic3\", \"Topic3\", \"Topic3\", \"Topic3\", \"Topic3\", \"Topic3\", \"Topic3\", \"Topic3\", \"Topic3\", \"Topic3\", \"Topic3\", \"Topic3\", \"Topic3\", \"Topic3\", \"Topic3\", \"Topic3\", \"Topic3\", \"Topic3\", \"Topic3\", \"Topic3\", \"Topic3\", \"Topic3\", \"Topic3\", \"Topic3\", \"Topic3\", \"Topic3\", \"Topic3\", \"Topic3\", \"Topic3\", \"Topic3\", \"Topic3\", \"Topic3\", \"Topic3\", \"Topic3\", \"Topic3\", \"Topic3\", \"Topic3\", \"Topic3\", \"Topic3\", \"Topic3\", \"Topic3\", \"Topic3\", \"Topic3\", \"Topic3\", \"Topic4\", \"Topic4\", \"Topic4\", \"Topic4\", \"Topic4\", \"Topic4\", \"Topic4\", \"Topic4\", \"Topic4\", \"Topic4\", \"Topic4\", \"Topic4\", \"Topic4\", \"Topic4\", \"Topic4\", \"Topic4\", \"Topic4\", \"Topic4\", \"Topic4\", \"Topic4\", \"Topic4\", \"Topic4\", \"Topic4\", \"Topic4\", \"Topic4\", \"Topic4\", \"Topic4\", \"Topic4\", \"Topic4\", \"Topic4\", \"Topic4\", \"Topic4\", \"Topic4\", \"Topic4\", \"Topic4\", \"Topic4\", \"Topic4\", \"Topic4\", \"Topic4\", \"Topic4\", \"Topic4\", \"Topic4\", \"Topic4\", \"Topic4\", \"Topic4\", \"Topic4\", \"Topic4\", \"Topic4\", \"Topic4\", \"Topic4\", \"Topic4\", \"Topic5\", \"Topic5\", \"Topic5\", \"Topic5\", \"Topic5\", \"Topic5\", \"Topic5\", \"Topic5\", \"Topic5\", \"Topic5\", \"Topic5\", \"Topic5\", \"Topic5\", \"Topic5\", \"Topic5\", \"Topic5\", \"Topic5\", \"Topic5\", \"Topic5\", \"Topic5\", \"Topic5\", \"Topic5\", \"Topic5\", \"Topic5\", \"Topic5\", \"Topic5\", \"Topic5\", \"Topic5\", \"Topic5\", \"Topic5\", \"Topic5\", \"Topic5\", \"Topic5\", \"Topic5\", \"Topic5\", \"Topic5\", \"Topic5\", \"Topic5\", \"Topic5\", \"Topic5\", \"Topic5\", \"Topic5\", \"Topic5\", \"Topic5\", \"Topic5\", \"Topic5\", \"Topic5\", \"Topic5\", \"Topic5\", \"Topic5\", \"Topic5\", \"Topic5\", \"Topic5\", \"Topic5\", \"Topic5\", \"Topic5\", \"Topic5\", \"Topic5\", \"Topic5\", \"Topic5\", \"Topic5\", \"Topic6\", \"Topic6\", \"Topic6\", \"Topic6\", \"Topic6\", \"Topic6\", \"Topic6\", \"Topic6\", \"Topic6\", \"Topic6\", \"Topic6\", \"Topic6\", \"Topic6\", \"Topic6\", \"Topic6\", \"Topic6\", \"Topic6\", \"Topic6\", \"Topic6\", \"Topic6\", \"Topic6\", \"Topic6\", \"Topic6\", \"Topic6\", \"Topic6\", \"Topic6\", \"Topic6\", \"Topic6\", \"Topic6\", \"Topic6\", \"Topic6\", \"Topic6\", \"Topic6\", \"Topic6\", \"Topic6\", \"Topic6\", \"Topic6\", \"Topic6\", \"Topic6\", \"Topic6\", \"Topic6\", \"Topic6\", \"Topic6\", \"Topic6\", \"Topic6\", \"Topic6\", \"Topic6\", \"Topic6\", \"Topic6\", \"Topic6\", \"Topic6\", \"Topic6\", \"Topic6\", \"Topic6\", \"Topic6\", \"Topic6\", \"Topic6\", \"Topic6\", \"Topic6\", \"Topic6\", \"Topic6\", \"Topic6\", \"Topic7\", \"Topic7\", \"Topic7\", \"Topic7\", \"Topic7\", \"Topic7\", \"Topic7\", \"Topic7\", \"Topic7\", \"Topic7\", \"Topic7\", \"Topic7\", \"Topic7\", \"Topic7\", \"Topic7\", \"Topic7\", \"Topic7\", \"Topic7\", \"Topic7\", \"Topic7\", \"Topic7\", \"Topic7\", \"Topic7\", \"Topic7\", \"Topic7\", \"Topic7\", \"Topic7\", \"Topic7\", \"Topic7\", \"Topic7\", \"Topic7\", \"Topic7\", \"Topic7\", \"Topic7\", \"Topic7\", \"Topic7\", \"Topic7\", \"Topic7\", \"Topic7\", \"Topic7\", \"Topic7\", \"Topic7\", \"Topic7\", \"Topic7\", \"Topic7\", \"Topic7\", \"Topic7\", \"Topic7\", \"Topic7\", \"Topic7\", \"Topic7\", \"Topic7\", \"Topic7\", \"Topic7\", \"Topic7\", \"Topic7\", \"Topic7\", \"Topic7\", \"Topic8\", \"Topic8\", \"Topic8\", \"Topic8\", \"Topic8\", \"Topic8\", \"Topic8\", \"Topic8\", \"Topic8\", \"Topic8\", \"Topic8\", \"Topic8\", \"Topic8\", \"Topic8\", \"Topic8\", \"Topic8\", \"Topic8\", \"Topic8\", \"Topic8\", \"Topic8\", \"Topic8\", \"Topic8\", \"Topic8\", \"Topic8\", \"Topic8\", \"Topic8\", \"Topic8\", \"Topic8\", \"Topic8\", \"Topic8\", \"Topic8\", \"Topic8\", \"Topic8\", \"Topic8\", \"Topic8\", \"Topic8\", \"Topic8\", \"Topic8\", \"Topic8\", \"Topic8\", \"Topic8\", \"Topic8\", \"Topic8\", \"Topic8\", \"Topic8\", \"Topic8\", \"Topic8\", \"Topic8\", \"Topic8\", \"Topic8\", \"Topic8\", \"Topic8\", \"Topic8\", \"Topic8\", \"Topic8\", \"Topic8\", \"Topic9\", \"Topic9\", \"Topic9\", \"Topic9\", \"Topic9\", \"Topic9\", \"Topic9\", \"Topic9\", \"Topic9\", \"Topic9\", \"Topic9\", \"Topic9\", \"Topic9\", \"Topic9\", \"Topic9\", \"Topic9\", \"Topic9\", \"Topic9\", \"Topic9\", \"Topic9\", \"Topic9\", \"Topic9\", \"Topic9\", \"Topic9\", \"Topic9\", \"Topic9\", \"Topic9\", \"Topic9\", \"Topic9\", \"Topic9\", \"Topic9\", \"Topic9\", \"Topic9\", \"Topic9\", \"Topic9\", \"Topic9\", \"Topic9\", \"Topic9\", \"Topic9\", \"Topic9\", \"Topic9\", \"Topic9\", \"Topic9\", \"Topic9\", \"Topic9\", \"Topic9\", \"Topic9\", \"Topic9\", \"Topic9\", \"Topic9\", \"Topic9\", \"Topic9\", \"Topic9\", \"Topic9\", \"Topic9\", \"Topic9\", \"Topic9\", \"Topic9\", \"Topic10\", \"Topic10\", \"Topic10\", \"Topic10\", \"Topic10\", \"Topic10\", \"Topic10\", \"Topic10\", \"Topic10\", \"Topic10\", \"Topic10\", \"Topic10\", \"Topic10\", \"Topic10\", \"Topic10\", \"Topic10\", \"Topic10\", \"Topic10\", \"Topic10\", \"Topic10\", \"Topic10\", \"Topic10\", \"Topic10\", \"Topic10\", \"Topic10\", \"Topic10\", \"Topic10\", \"Topic10\", \"Topic10\", \"Topic10\", \"Topic10\", \"Topic10\", \"Topic10\", \"Topic10\", \"Topic10\", \"Topic10\", \"Topic10\", \"Topic10\", \"Topic10\", \"Topic10\", \"Topic10\", \"Topic10\", \"Topic10\", \"Topic10\", \"Topic10\", \"Topic10\", \"Topic10\", \"Topic10\", \"Topic10\", \"Topic10\", \"Topic10\", \"Topic10\", \"Topic10\", \"Topic11\", \"Topic11\", \"Topic11\", \"Topic11\", \"Topic11\", \"Topic11\", \"Topic11\", \"Topic11\", \"Topic11\", \"Topic11\", \"Topic11\", \"Topic11\", \"Topic11\", \"Topic11\", \"Topic11\", \"Topic11\", \"Topic11\", \"Topic11\", \"Topic11\", \"Topic11\", \"Topic11\", \"Topic11\", \"Topic11\", \"Topic11\", \"Topic11\", \"Topic11\", \"Topic11\", \"Topic11\", \"Topic11\", \"Topic11\", \"Topic11\", \"Topic11\", \"Topic11\", \"Topic11\", \"Topic11\", \"Topic11\", \"Topic11\", \"Topic11\", \"Topic11\", \"Topic11\", \"Topic11\", \"Topic11\", \"Topic11\", \"Topic11\", \"Topic11\", \"Topic11\", \"Topic11\", \"Topic11\", \"Topic11\", \"Topic11\", \"Topic11\", \"Topic11\", \"Topic11\", \"Topic11\", \"Topic11\", \"Topic11\", \"Topic11\", \"Topic11\", \"Topic11\", \"Topic11\", \"Topic11\", \"Topic11\", \"Topic12\", \"Topic12\", \"Topic12\", \"Topic12\", \"Topic12\", \"Topic12\", \"Topic12\", \"Topic12\", \"Topic12\", \"Topic12\", \"Topic12\", \"Topic12\", \"Topic12\", \"Topic12\", \"Topic12\", \"Topic12\", \"Topic12\", \"Topic12\", \"Topic12\", \"Topic12\", \"Topic12\", \"Topic12\", \"Topic12\", \"Topic12\", \"Topic12\", \"Topic12\", \"Topic12\", \"Topic12\", \"Topic12\", \"Topic12\", \"Topic12\", \"Topic12\", \"Topic12\", \"Topic12\", \"Topic12\", \"Topic12\", \"Topic12\", \"Topic12\", \"Topic12\", \"Topic12\", \"Topic12\", \"Topic12\", \"Topic12\", \"Topic12\", \"Topic12\", \"Topic12\", \"Topic12\", \"Topic12\", \"Topic12\", \"Topic12\", \"Topic12\", \"Topic12\", \"Topic12\", \"Topic12\", \"Topic12\", \"Topic12\", \"Topic12\", \"Topic12\", \"Topic12\", \"Topic12\", \"Topic12\", \"Topic13\", \"Topic13\", \"Topic13\", \"Topic13\", \"Topic13\", \"Topic13\", \"Topic13\", \"Topic13\", \"Topic13\", \"Topic13\", \"Topic13\", \"Topic13\", \"Topic13\", \"Topic13\", \"Topic13\", \"Topic13\", \"Topic13\", \"Topic13\", \"Topic13\", \"Topic13\", \"Topic13\", \"Topic13\", \"Topic13\", \"Topic13\", \"Topic13\", \"Topic13\", \"Topic13\", \"Topic13\", \"Topic13\", \"Topic13\", \"Topic13\", \"Topic13\", \"Topic13\", \"Topic13\", \"Topic13\", \"Topic13\", \"Topic13\", \"Topic13\", \"Topic13\", \"Topic13\", \"Topic13\", \"Topic13\", \"Topic13\", \"Topic13\", \"Topic13\", \"Topic13\", \"Topic13\", \"Topic13\", \"Topic13\", \"Topic13\", \"Topic13\", \"Topic13\", \"Topic13\", \"Topic13\", \"Topic13\", \"Topic13\", \"Topic13\", \"Topic13\", \"Topic13\", \"Topic13\", \"Topic13\", \"Topic14\", \"Topic14\", \"Topic14\", \"Topic14\", \"Topic14\", \"Topic14\", \"Topic14\", \"Topic14\", \"Topic14\", \"Topic14\", \"Topic14\", \"Topic14\", \"Topic14\", \"Topic14\", \"Topic14\", \"Topic14\", \"Topic14\", \"Topic14\", \"Topic14\", \"Topic14\", \"Topic14\", \"Topic14\", \"Topic14\", \"Topic14\", \"Topic14\", \"Topic14\", \"Topic14\", \"Topic14\", \"Topic14\", \"Topic14\", \"Topic14\", \"Topic14\", \"Topic14\", \"Topic14\", \"Topic14\", \"Topic14\", \"Topic14\", \"Topic14\", \"Topic14\", \"Topic14\", \"Topic14\", \"Topic14\", \"Topic14\", \"Topic14\", \"Topic14\", \"Topic14\", \"Topic14\", \"Topic14\", \"Topic14\", \"Topic14\", \"Topic14\", \"Topic14\", \"Topic14\", \"Topic15\", \"Topic15\", \"Topic15\", \"Topic15\", \"Topic15\", \"Topic15\", \"Topic15\", \"Topic15\", \"Topic15\", \"Topic15\", \"Topic15\", \"Topic15\", \"Topic15\", \"Topic15\", \"Topic15\", \"Topic15\", \"Topic15\", \"Topic15\", \"Topic15\", \"Topic15\", \"Topic15\", \"Topic15\", \"Topic15\", \"Topic15\", \"Topic15\", \"Topic15\", \"Topic15\", \"Topic15\", \"Topic15\", \"Topic15\", \"Topic15\", \"Topic15\", \"Topic15\", \"Topic15\", \"Topic15\", \"Topic15\", \"Topic15\", \"Topic15\", \"Topic15\", \"Topic15\", \"Topic15\", \"Topic15\", \"Topic15\", \"Topic15\", \"Topic15\", \"Topic15\", \"Topic15\", \"Topic15\", \"Topic15\", \"Topic15\", \"Topic15\", \"Topic15\", \"Topic15\", \"Topic15\", \"Topic15\", \"Topic15\"], \"Freq\": [32260.0, 27918.0, 12575.0, 12084.0, 9116.0, 8947.0, 8662.0, 7720.0, 6718.0, 7338.0, 8085.0, 5954.0, 6024.0, 5486.0, 5006.0, 7001.0, 4376.0, 3722.0, 3581.0, 3569.0, 4304.0, 5343.0, 4678.0, 3405.0, 3532.0, 7142.0, 4765.0, 3652.0, 3565.0, 3233.0, 1420.6483703339895, 1480.6157457885038, 684.6094290129078, 390.2533825674745, 351.70633680178076, 410.94911006492083, 390.1750324534674, 390.0613579222283, 280.42172812654195, 268.53385472890045, 240.7954829372427, 230.8889215229867, 219.00104795227153, 211.07579910462763, 209.09448692616414, 207.1131745666499, 206.12251848157445, 187.3000519811727, 185.3187390777834, 246.42575031183813, 177.39349066019932, 174.42152221133642, 171.4495540317879, 171.44955395872327, 171.44955372027948, 169.43360500570637, 162.53364881476224, 178.27656763810194, 144.70183858306098, 181.1177407143258, 219.3585175999221, 687.4798580747952, 877.7751323272514, 216.8075730268148, 608.4097179493826, 352.65966089177294, 337.6765557725868, 686.0048896798043, 2049.0117547046257, 393.07175985153674, 248.91813465902922, 277.37544635255, 600.3690314930047, 853.3032643024669, 626.165052608039, 371.6399522476949, 823.4055715957479, 249.4699444313273, 467.8347292401242, 1711.2050177025187, 1033.5627141634209, 751.8894991052496, 658.6130945722156, 1204.4955344647258, 476.8169457490614, 372.4608949218648, 474.21908922394533, 605.8454240111608, 2118.0265983038576, 617.1039963371273, 486.10845565932664, 1200.509514402056, 1503.3745906791385, 1093.061486155313, 722.42490736615, 589.0785895699768, 568.8267170223088, 527.216171896299, 507.7284224097083, 3721.6316022856126, 3580.9086939308395, 3568.759953625739, 2977.79754646758, 1856.5682362257298, 1479.1766234825636, 1128.8879446323533, 1402.9149143829618, 1012.4625169223169, 973.991506264423, 935.5188564150981, 899.0742745680164, 1685.7805269856708, 787.7108216796184, 855.3108515922762, 1288.8690685828426, 674.2659304502115, 677.2380082405361, 516.3888434841075, 513.3517702315804, 498.1658448659458, 476.9055490022142, 415.1377125980529, 367.5528813567015, 566.3524612429616, 298.6947615710246, 275.4389395629895, 269.364569333598, 268.35217392626674, 243.04229842849597, 1403.888921600083, 808.967723856045, 910.4940803729912, 330.8951550965083, 759.1682124464991, 842.7665620281736, 1994.9023568097386, 2139.9556056443944, 1476.8242675094668, 3235.4886790733794, 1072.5422777814456, 967.3222091867619, 1885.482742395237, 1806.336834117376, 1670.4511412264542, 954.3028222499183, 1759.9564883323624, 799.4766250510224, 709.4304508522288, 638.3940243661915, 591.3699114200547, 559.3534939600205, 1970.6168581406655, 512.3293807797492, 487.31655458588455, 375.2590930667485, 368.25550190517754, 364.253449165834, 323.23241459136364, 320.2308752905857, 315.2283105452282, 288.214458135408, 279.2079001287706, 231.18521420687176, 227.18316107963025, 216.17751217320597, 201.16982313501273, 201.16982309448102, 199.168797160966, 192.16520574954785, 205.07500003688895, 185.16161442368622, 534.5777609185287, 224.95113749980453, 180.15904905984294, 175.15648370237886, 1041.3729871281012, 649.1884618933688, 337.33943846467895, 492.813217884365, 1456.5039013010328, 1376.2537528611774, 763.5706284778728, 451.3933871916534, 769.2655613054495, 1028.1519066304747, 782.518642174776, 561.1453094034663, 720.6502278805223, 2120.9445192642343, 674.7606236458638, 968.6993063512865, 2569.6197364870677, 614.8375864754188, 999.6376200007483, 797.2743484104847, 694.4068699394492, 3354.919465521479, 2030.9968293397349, 744.8650548337955, 1399.755772418016, 814.0365417921935, 565.5219746657831, 567.4720418880023, 2745.531673241283, 1391.767782852573, 1150.1602402892795, 1116.2223989620961, 925.537888487769, 755.8182269209286, 686.9319814405895, 859.4150768842167, 617.0474443347193, 592.088670791842, 566.1315461222156, 541.1727723825412, 525.1991571821827, 1204.8586846808048, 518.2107005366294, 617.7285055184846, 417.3772543275351, 414.38220156262946, 398.4085861400952, 364.46465381880347, 1572.9637266729032, 309.5347629606931, 281.60152474165494, 354.1292013094386, 220.70211667474595, 223.66692074511315, 227.61034071137976, 224.62076381103142, 193.7466410064185, 217.59549266957234, 538.2272315525337, 8479.160149259209, 901.2650623543797, 3098.420851197722, 873.3226348179924, 1868.4134252533875, 1124.378125862789, 4184.900215259194, 1043.8904180804411, 936.1898408786693, 844.3565679287666, 912.9869159119464, 712.4886258221138, 1119.028420063879, 2327.9282145397337, 825.1593396248173, 1609.6396599452078, 1034.6615049231677, 666.3452321302968, 770.374298200263, 730.3422613227972, 1438.4009524216792, 1336.4286316148166, 768.6363082279822, 619.7164151370541, 552.0646055876019, 477.54963595942945, 458.92088912426874, 853.1646000311697, 409.8978630752801, 393.2200883213126, 378.52312625685227, 353.0311526289142, 326.55871838401663, 323.61733688277894, 263.68692284086194, 232.43450498688998, 229.49181667999463, 227.53220563641779, 1041.6371294021462, 214.74722886990105, 202.04023175702275, 186.35286363109043, 185.3724031118739, 180.470096900666, 168.70457374659998, 157.91950802858406, 156.9390477703508, 148.11490274646854, 143.21260014459543, 134.3884554563215, 1409.710787615952, 1505.0445739758022, 908.752033182995, 319.2137759301587, 1731.1191260583714, 332.047292461359, 457.82115250113924, 732.8616485846147, 580.3131215004458, 593.4939161983315, 873.3850626616133, 776.3918836908158, 2694.4460911500805, 950.5685960268726, 710.5654899195553, 758.1873313640391, 926.2532195294852, 577.1849749729012, 562.9618858895574, 1119.747040526422, 1168.1350412567044, 590.4562594543262, 668.3927807189237, 729.4060277150196, 1627.6316070268285, 707.7295889134753, 644.9255821782011, 660.2190374535097, 587.1716359437851, 605.045680397248, 587.3892866593902, 3564.2128459248756, 1802.6437560599977, 2509.8022287587282, 1428.774902989781, 684.8532992440763, 490.2890397804932, 702.5299767350765, 447.3576596236366, 3185.136104290172, 366.3020941993776, 322.429772465184, 326.1661386948135, 4362.41822810077, 233.73138313857612, 198.4427767189839, 203.10626524752553, 169.83039283160477, 148.84704705432168, 145.032993522688, 142.1717553927528, 139.3105169229031, 265.3310961679932, 131.68054787010448, 123.09683262778185, 118.32810200347123, 197.83325638606377, 116.42060968325453, 114.51311747990405, 113.55937151458801, 121.1213135309465, 11499.148360428286, 232.28792697504798, 212.5675553858896, 148.46292101235767, 181.02270302856581, 584.1535059546899, 321.87131204137415, 1425.1425378583335, 4182.604045593101, 828.85649804101, 3880.2229460864073, 17775.32705678331, 943.642966613725, 1190.6181623709836, 1120.795074011882, 477.1693337216622, 1910.043738724687, 384.10972206784794, 834.01976788825, 533.6309232342276, 480.2105533429211, 962.1091409209794, 1328.0390145450833, 525.0598020538248, 744.4625776887106, 1116.8129097438944, 1548.2453053533006, 868.7188933621563, 668.9530988469182, 750.350756469799, 679.0188154542482, 610.4254359849207, 3232.1907645921387, 2786.647447513423, 1653.4177030471753, 1206.9058168921695, 1066.4628149377563, 969.6055718755676, 882.4131645723273, 895.9335223117666, 737.1481890436869, 718.745313038313, 704.2167264140687, 646.0899955020942, 582.1766005057315, 536.653696658766, 485.3193579261984, 471.7593438431046, 443.6707434139532, 421.39357757180113, 431.94536697380806, 383.61925279602457, 802.0362402618974, 891.7994077127759, 357.46779694843286, 355.53065221160256, 353.59350167384844, 342.9392110549477, 319.6934726609547, 361.2015496392017, 311.94489307034297, 351.4914346128636, 1974.3559613305827, 1225.4252390531758, 417.85122185412354, 361.12455839928873, 512.6134971673913, 1141.6630532511256, 575.6385494836535, 792.6232223240171, 517.2541559502414, 1507.3370887191534, 816.565100126443, 855.9684107415003, 721.9617859770246, 1249.70913952075, 898.2586579199519, 689.353125042984, 886.5886651571757, 1029.5838588034346, 1112.324169952626, 938.4403297623498, 909.1507286158128, 3612.800952336426, 1817.6940189207417, 1181.207525848174, 876.7015316548975, 850.9023877474386, 874.9025575226796, 827.9147474024314, 3023.6340123997365, 2835.032132813786, 2165.5086137547323, 1979.6854891478517, 1919.9232778830467, 1270.9430187565724, 1058.9734094312485, 2064.642530730521, 681.7249702543446, 651.8438649954701, 1147.8529872487748, 602.353284059199, 544.4586424361132, 542.5910733428626, 541.6572844168467, 530.4518742835899, 521.1140288370822, 348.36388746172054, 342.7611804252448, 290.4692457529375, 290.46924562944065, 389.1499553436291, 258.72057116514213, 237.24352658095376, 217.6340513940439, 261.3188186085569, 249.20965666828383, 243.5478996900736, 184.95159228981063, 177.4768612900207, 911.2233067509142, 918.0307858039764, 279.65849123077265, 4818.344365137165, 1189.4038198964838, 5612.988554009089, 4157.356746737157, 26221.445295228223, 2415.5508269741904, 2012.5282840252648, 714.6666468582812, 6020.531477398778, 3344.4818841308343, 2220.56462664375, 1727.0353650296468, 1786.0061130451802, 2228.6962998332706, 3121.8833641760234, 755.6622983392717, 1248.4634195942756, 1444.8039372999285, 3249.7964925157103, 1317.8408280820317, 1596.489404730933, 2041.849504917077, 1186.3546658474686, 2166.9166543633464, 2287.520695625627, 784.6499961131028, 813.3413652577015, 681.3631153579637, 667.4590969396228, 734.865015589818, 645.6099250796104, 621.7744645054972, 542.3229306093941, 494.6520095975998, 476.7754147901612, 334.7557971153615, 331.77636487128626, 317.86931520937094, 282.1191560327151, 263.2494166559342, 253.31797475094777, 250.31871070730196, 238.42081224205037, 219.55107257401704, 218.55769458171034, 212.59906355293396, 197.7019008737243, 182.78848750828882, 177.83901713917942, 176.84587297508693, 174.84829833344529, 341.79296250560986, 149.0378358473837, 291.03402541631226, 253.1783185885603, 661.1010185287594, 1444.634959766455, 402.9625787638708, 634.3612065883729, 2366.45347458159, 1283.3053315783718, 1191.2310455943602, 817.2761333256733, 457.49863608530205, 2316.3093221066897, 1053.7173854232833, 1373.3528293425668, 978.4273008078553, 780.2738923385222, 2300.2141643743907, 1040.3831333251687, 959.5546310912658, 2444.642877575895, 1285.6462978601342, 1277.0400230362966, 1187.9417172590531, 1327.29381767831, 1185.4059891784116, 954.9840671037921, 763.1261368604331, 1013.5900499393713, 987.588078213329, 956.4455001473201, 815.8008069334128, 708.309474692766, 585.7483610762296, 577.7115667550314, 538.5321940089711, 594.6568919186294, 496.3390238336986, 490.3114277809028, 1058.5966885248665, 806.9048831369391, 706.6810835775799, 377.79630734396784, 386.6899392272477, 324.5525448064418, 379.5948200360488, 293.4099664865808, 258.2489912296151, 281.2372374294106, 231.08711547323185, 211.03282439699203, 201.99142125733195, 187.92704072685, 175.87184850454705, 172.85805151001102, 171.85287391033802, 150.75686704185722, 150.75686695589687, 248.59521973023695, 592.440673367048, 446.76918578022486, 1496.9438185841398, 1093.5934269467487, 501.740200125496, 604.3366539695037, 1898.1992115411597, 959.3730788011858, 1074.337021965755, 1703.4962641690677, 714.1140771862887, 730.0729631656359, 565.2132801563663, 2032.9763573039957, 1324.5072758528897, 2240.0979757106375, 781.7157040119656, 546.5924587885752, 1033.8842110545888, 687.5917172115041, 575.3730645793626, 1002.3767978492069, 790.4299058550102, 2281.9082361089213, 466.8866526838934, 421.69472243072215, 395.6088024271995, 390.5892354770358, 368.50314101140935, 353.44443996505083, 330.3544322661054, 1000.8357466569058, 298.2292037614221, 276.1431088296782, 267.106685628178, 258.0726682974782, 253.0531013606937, 233.9785039308106, 230.9670067145765, 213.90047895707173, 198.8417762729828, 424.64841470667045, 189.80655728096477, 187.7987308627367, 184.78698761919355, 179.76742364828635, 176.75568368836872, 166.7165497723023, 165.71263596016198, 164.70872285702046, 153.57584354060128, 135.5952347046243, 134.5913214740417, 479.556506379868, 257.1102207158063, 2464.384018358001, 1963.9458979006356, 509.4239690730186, 1145.313618870295, 3218.9895167200716, 5747.714238166281, 923.8981679888867, 311.5737256943425, 1267.9272374643042, 637.1123847535365, 683.9192094035981, 2530.7618659965165, 558.7236750421627, 690.2842225473726, 1091.7611682541497, 955.3573282661894, 486.21541335820564, 904.1988990202552, 400.0939349284798, 1178.3359402680921, 761.6012485075238, 741.4543227200645, 694.3355989824496, 629.1277579387162, 717.9574498081774, 481.7162325670703, 549.5989121779263, 514.6766666957262, 500.0868427291747, 482.4509727241017, 3404.8565542761007, 1305.7599451230524, 1274.2974333290276, 804.2234899499996, 644.0639149307275, 615.5510101617315, 603.752565393259, 916.8364224441043, 369.7066567303726, 304.85845211205856, 545.9594271657934, 307.7545850554688, 300.8106051824099, 315.4714215966963, 232.10107864783618, 211.4543241766847, 202.605491560587, 195.72306615119695, 416.76740312026504, 181.95640469856264, 173.10938307906903, 161.31093979010947, 154.42851438310115, 153.4453107187187, 137.7140528434297, 137.7120357916615, 158.2061824040038, 132.79803481433493, 255.66457110289406, 183.43996403632096, 642.8587889591067, 296.7074058298827, 183.7230750505011, 2060.098823916808, 833.7519857075648, 10805.846495854132, 613.5201297715205, 803.8667103527973, 6174.228435300469, 349.23955048866424, 1096.3898144690766, 329.1097313117913, 422.7792863435483, 414.83817138238174, 1608.4119143746489, 709.4929603090662, 1141.2648460289586, 975.4567907820926, 1064.0785365990937, 554.9072217268466, 612.0363636773434, 738.303880994072, 563.7544326553925, 547.5399634618459, 555.4420219864562, 837.4350875150167, 688.5246032094767, 783.9629577050008, 748.8817793056971, 659.1243863602339, 582.6805317994402, 1377.0157714194738, 711.2477137493235, 988.934137624747, 568.2380293749519, 562.4403394580635, 475.4739598135592, 435.8574405562241, 404.9364304077135, 345.0269681022171, 343.0944045613674, 333.4315881998886, 318.9373635679099, 312.1733917531805, 285.08326276538344, 673.1572566914042, 255.16277456466864, 232.92759291558343, 226.17432450935837, 221.34291663120706, 202.98356530205413, 178.8265239650662, 175.92767895589512, 244.1215482813856, 146.93922895073408, 148.81471915063452, 127.61359648687024, 127.61359648337604, 126.64731478730208, 126.6473147726453, 126.64731467957792, 3156.254214153169, 7537.074251677067, 586.1225077658999, 605.0119982579164, 2329.006446789738, 1026.5669004680672, 2607.0478943554795, 2741.4526068265122, 1720.5590003371992, 2469.9703973609653, 1751.654930378687, 3572.5867959638954, 398.61783619959095, 830.4511431232993, 871.9997803240312, 1494.6660481545775, 1695.6311454683946, 701.2211077231535, 732.7056969749208, 448.48569949797087, 449.5415680822791, 1097.6709920156263, 912.833440114749, 549.2093866142992, 628.3081949710687, 1089.3446038500258, 808.5344205276963, 752.8908970830793, 706.9281114989067, 771.8485603083187, 705.2632727479338, 1940.9902081447945, 1251.0840322428285, 1121.289721690168, 889.6567980915079, 760.8609050117561, 1594.4449646120781, 531.2248168177578, 499.27544827044534, 498.27703045318793, 487.29443455490053, 470.3213326601172, 454.34664834188123, 444.3624707405143, 427.3893684342089, 462.247244658177, 407.4210128605496, 389.44949315519244, 355.50328866841, 331.54126211854526, 328.54600871255525, 321.557084242655, 308.57764731976107, 302.58714663187317, 282.6187911475806, 272.63461337910906, 247.6741691180211, 241.68366258488462, 230.70106690839083, 258.3665220133048, 195.7564396822256, 8872.330969030198, 347.23493111917094, 354.40120939018965, 309.48357493261483, 7636.826179716551, 508.30397736813285, 1360.519876014688, 414.84642002869975, 1325.106355301464, 1963.085494573769, 479.91543373128115, 1139.395849319855, 680.5263606808694, 1779.2673070197948, 1034.0832278800667, 983.4938614156729, 2072.356840190966, 518.3848654707898, 789.6079818198797, 483.46825180469165, 603.5775146040153, 535.0923078076232, 623.3296261109464, 1691.3499710579613, 1832.7472483315346, 817.2265683138844, 1008.3940200062206, 1009.3200709684776, 1089.54024300876, 566.7745391211719, 503.9160060132236, 504.8090045776248, 438.11096625556115, 631.1770518264865, 412.57466965894224, 389.9848922885617, 358.5556195618425, 344.8053126124433, 334.0015000021141, 356.43856429191544, 585.5404809861484, 294.7149093408385, 288.82186436643565, 277.0359423189733, 765.530758675611, 1056.8936249065457, 240.69584666815257, 240.6884132253543, 237.74935260822974, 236.76718772186123, 232.83852828482262, 228.909869487265, 225.9633750694967, 985.8839110240566, 1433.3300813899687, 584.9152399182673, 318.51843551049933, 422.5480466848645, 660.7888545557131, 383.8880045019814, 584.9038248753988, 933.5531394112423, 4505.048323072706, 428.90190777774194, 1076.9046402013041, 980.8535574393208, 775.1122504144392, 549.6858314757166, 729.7913481206558, 1114.4883584067256, 681.1529819325996, 1211.0425874530479, 797.8601655152719, 733.4822737033893, 706.050826168635, 1118.8201120218641, 1720.0710110250682, 818.772826462963, 1145.0429385451878], \"Term\": [\"best\", \"does\", \"people\", \"like\", \"did\", \"quora\", \"make\", \"life\", \"know\", \"difference\", \"way\", \"learn\", \"new\", \"think\", \"trump\", \"money\", \"mean\", \"500\", \"notes\", \"1000\", \"year\", \"indian\", \"online\", \"engineering\", \"things\", \"time\", \"world\", \"questions\", \"feel\", \"weight\", \"history\", \"service\", \"source\", \"manager\", \"room\", \"olympics\", \"global\", \"hp\", \"ipad\", \"joke\", \"chrome\", \"networking\", \"revenue\", \"js\", \"pride\", \"individuals\", \"fi\", \"legit\", \"royal\", \"cloud\", \"enterprise\", \"rio\", \"wi\", \"jokes\", \"arts\", \"ceo\", \"warming\", \"funny\", \"prank\", \"hr\", \"algorithm\", \"options\", \"media\", \"largest\", \"heard\", \"sales\", \"root\", \"quality\", \"examples\", \"funniest\", \"architecture\", \"customer\", \"function\", \"services\", \"sydney\", \"events\", \"open\", \"mental\", \"solution\", \"google\", \"social\", \"code\", \"songs\", \"change\", \"file\", \"internship\", \"product\", \"play\", \"best\", \"ve\", \"benefits\", \"india\", \"does\", \"good\", \"use\", \"app\", \"company\", \"using\", \"android\", \"500\", \"notes\", \"1000\", \"black\", \"word\", \"rupee\", \"economy\", \"modi\", \"2000\", \"currency\", \"ban\", \"banning\", \"interview\", \"speak\", \"decision\", \"making\", \"blood\", \"rupees\", \"german\", \"corruption\", \"demonetization\", \"french\", \"pm\", \"spanish\", \"narendra\", \"guitar\", \"fluently\", \"curb\", \"identify\", \"define\", \"white\", \"porn\", \"sentence\", \"banned\", \"correct\", \"remove\", \"rs\", \"stop\", \"government\", \"indian\", \"process\", \"tips\", \"english\", \"money\", \"india\", \"think\", \"average\", \"alcohol\", \"desert\", \"cold\", \"county\", \"rehab\", \"water\", \"inpatient\", \"temperatures\", \"gst\", \"spotify\", \"manage\", \"regret\", \"programmer\", \"sahara\", \"gifts\", \"chicken\", \"fiction\", \"fish\", \"eggs\", \"invited\", \"visitor\", \"gobi\", \"lewis\", \"raw\", \"daniel\", \"structure\", \"liquid\", \"egg\", \"drugs\", \"purpose\", \"price\", \"teeth\", \"islam\", \"hair\", \"cost\", \"ones\", \"bring\", \"legal\", \"hard\", \"center\", \"oil\", \"drug\", \"really\", \"foreign\", \"man\", \"time\", \"successful\", \"bad\", \"eat\", \"woman\", \"does\", \"good\", \"home\", \"india\", \"compare\", \"grow\", \"near\", \"question\", \"mind\", \"looking\", \"series\", \"asked\", \"improvement\", \"pro\", \"add\", \"religion\", \"macbook\", \"recruit\", \"blowing\", \"needing\", \"answers\", \"grads\", \"fix\", \"resolution\", \"marked\", \"york\", \"writer\", \"answer\", \"ice\", \"gps\", \"plus\", \"temple\", \"6s\", \"presence\", \"feed\", \"zone\", \"chip\", \"block\", \"quora\", \"facts\", \"questions\", \"apple\", \"iphone\", \"exist\", \"new\", \"tv\", \"worth\", \"happened\", \"interesting\", \"post\", \"ask\", \"does\", \"2017\", \"people\", \"don\", \"universities\", \"know\", \"year\", \"rid\", \"email\", \"uk\", \"address\", \"depression\", \"western\", \"fear\", \"overcome\", \"acne\", \"forgot\", \"prospects\", \"hacker\", \"log\", \"strongest\", \"applying\", \"similarities\", \"html\", \"weakest\", \"jobs\", \"nose\", \"ip\", \"faux\", \"pas\", \"immigration\", \"criteria\", \"factor\", \"pimples\", \"css\", \"agent\", \"cultures\", \"differences\", \"password\", \"canada\", \"functions\", \"car\", \"finance\", \"passport\", \"australia\", \"contact\", \"types\", \"international\", \"visa\", \"job\", \"power\", \"terms\", \"apply\", \"state\", \"required\", \"information\", \"college\", \"different\", \"amazon\", \"gmail\", \"usa\", \"india\", \"university\", \"students\", \"number\", \"pay\", \"don\", \"need\", \"feel\", \"math\", \"war\", \"relationship\", \"distance\", \"pain\", \"russia\", \"corporate\", \"long\", \"relationships\", \"korea\", \"cheating\", \"mean\", \"iii\", \"frac\", \"scientifically\", \"tested\", \"michael\", \"feels\", \"sqrt\", \"sin\", \"king\", \"superman\", \"wing\", \"bomb\", \"catch\", \"regions\", \"declare\", \"sleepy\", \"lonely\", \"like\", \"gandhi\", \"ii\", \"attacks\", \"vietnam\", \"says\", \"hurt\", \"look\", \"world\", \"boyfriend\", \"work\", \"does\", \"culture\", \"pakistan\", \"guy\", \"fight\", \"girl\", \"feeling\", \"girlfriend\", \"cell\", \"japan\", \"china\", \"sex\", \"talk\", \"doesn\", \"love\", \"india\", \"really\", \"win\", \"person\", \"time\", \"don\", \"weight\", \"lose\", \"days\", \"visit\", \"fat\", \"period\", \"gain\", \"sleep\", \"hours\", \"ias\", \"week\", \"healthy\", \"loss\", \"belly\", \"diet\", \"kerala\", \"tea\", \"exercise\", \"preparing\", \"cure\", \"jee\", \"pregnant\", \"weeks\", \"losing\", \"12th\", \"pounds\", \"cbse\", \"drinking\", \"trip\", \"competitive\", \"study\", \"places\", \"classes\", \"goa\", \"animals\", \"class\", \"pass\", \"fast\", \"studies\", \"exam\", \"reduce\", \"months\", \"preparation\", \"meaning\", \"music\", \"plan\", \"month\", \"write\", \"university\", \"food\", \"place\", \"best\", \"good\", \"day\", \"sex\", \"start\", \"way\", \"time\", \"donald\", \"improve\", \"clinton\", \"hillary\", \"earn\", \"skills\", \"writing\", \"learning\", \"institute\", \"safety\", \"election\", \"proposed\", \"handling\", \"precautions\", \"communication\", \"nra\", \"shotguns\", \"trading\", \"beginners\", \"debate\", \"fund\", \"beginner\", \"stocks\", \"investors\", \"15000\", \"investing\", \"wins\", \"funding\", \"15k\", \"supporters\", \"digital\", \"presidential\", \"romantic\", \"trump\", \"marketing\", \"learn\", \"online\", \"best\", \"business\", \"movies\", \"invest\", \"way\", \"start\", \"ways\", \"programming\", \"language\", \"english\", \"money\", \"machine\", \"win\", \"books\", \"india\", \"book\", \"2016\", \"good\", \"president\", \"data\", \"website\", \"drive\", \"snapchat\", \"messages\", \"sim\", \"suicide\", \"jio\", \"numbers\", \"earthquake\", \"names\", \"commit\", \"dreams\", \"4g\", \"chat\", \"cambodia\", \"3g\", \"reliance\", \"images\", \"attractions\", \"downloading\", \"democracy\", \"redmi\", \"painless\", \"browser\", \"described\", \"conspiracy\", \"contacts\", \"boys\", \"ghost\", \"definition\", \"wordpress\", \"blog\", \"girls\", \"phones\", \"deleted\", \"free\", \"whatsapp\", \"effects\", \"traffic\", \"shows\", \"phone\", \"internet\", \"mobile\", \"create\", \"seen\", \"love\", \"download\", \"java\", \"use\", \"android\", \"book\", \"app\", \"facebook\", \"using\", \"number\", \"video\", \"way\", \"height\", \"ca\", \"known\", \"provider\", \"installation\", \"panel\", \"rich\", \"dogs\", \"personality\", \"memory\", \"parents\", \"solar\", \"industry\", \"disorder\", \"channel\", \"lesser\", \"weed\", \"historical\", \"notice\", \"po\", \"ibps\", \"angry\", \"kejriwal\", \"silicon\", \"vision\", \"figures\", \"supreme\", \"arvind\", \"impress\", \"feet\", \"past\", \"smoking\", \"travel\", \"market\", \"muslims\", \"happy\", \"important\", \"die\", \"makes\", \"increase\", \"stock\", \"california\", \"iq\", \"possible\", \"prepare\", \"time\", \"age\", \"children\", \"person\", \"youtube\", \"child\", \"india\", \"good\", \"computer\", \"applications\", \"bang\", \"candy\", \"imported\", \"taffy\", \"tata\", \"saltwater\", \"apps\", \"kvpy\", \"removed\", \"bit\", \"cyrus\", \"mistry\", \"3d\", \"sa\", \"introvert\", \"kong\", \"positive\", \"watched\", \"hong\", \"ubuntu\", \"chain\", \"triangle\", \"sons\", \"desktop\", \"divided\", \"dance\", \"interface\", \"scripting\", \"linux\", \"operating\", \"going\", \"science\", \"negative\", \"windows\", \"things\", \"know\", \"design\", \"os\", \"big\", \"problems\", \"theory\", \"day\", \"develop\", \"group\", \"employees\", \"united\", \"train\", \"states\", \"install\", \"new\", \"programming\", \"using\", \"used\", \"language\", \"use\", \"build\", \"10\", \"android\", \"difference\", \"good\", \"engineering\", \"engineer\", \"mechanical\", \"advantages\", \"chemical\", \"engine\", \"disadvantages\", \"hate\", \"engineers\", \"cgl\", \"scope\", \"feelings\", \"completing\", \"fresher\", \"analyst\", \"ece\", \"liberal\", \"atheists\", \"ssc\", \"obsessed\", \"infosys\", \"googling\", \"iits\", \"diesel\", \"electron\", \"baking\", \"stack\", \"soda\", \"concept\", \"executive\", \"electrical\", \"shoes\", \"candidates\", \"country\", \"easily\", \"people\", \"developer\", \"search\", \"difference\", \"pursue\", \"tech\", \"cs\", \"formula\", \"cut\", \"live\", \"join\", \"software\", \"career\", \"ask\", \"research\", \"civil\", \"working\", \"degree\", \"choose\", \"instead\", \"google\", \"student\", \"job\", \"good\", \"want\", \"use\", \"favorite\", \"bollywood\", \"hack\", \"moment\", \"balance\", \"favourite\", \"neet\", \"positions\", \"departments\", \"actor\", \"league\", \"embarrassing\", \"mbbs\", \"planets\", \"star\", \"quickbooks\", \"learned\", \"goal\", \"hacked\", \"actress\", \"motivated\", \"astrology\", \"actors\", \"lessons\", \"taught\", \"ivy\", \"millionaire\", \"nba\", \"soccer\", \"savings\", \"account\", \"life\", \"female\", \"male\", \"women\", \"self\", \"movie\", \"old\", \"men\", \"thing\", \"school\", \"year\", \"13\", \"popular\", \"worst\", \"read\", \"years\", \"medical\", \"date\", \"16\", \"changed\", \"books\", \"number\", \"private\", \"bank\", \"good\", \"want\", \"2016\", \"sex\", \"indian\", \"work\", \"card\", \"police\", \"hotel\", \"battle\", \"credit\", \"tell\", \"significance\", \"couples\", \"moral\", \"thinking\", \"followers\", \"staff\", \"unmarried\", \"viewed\", \"cards\", \"station\", \"harassment\", \"pan\", \"thrones\", \"hitler\", \"invented\", \"dollars\", \"anger\", \"hill\", \"lord\", \"debit\", \"somme\", \"dhoni\", \"hotels\", \"billion\", \"did\", \"cheap\", \"certificate\", \"ram\", \"make\", \"crush\", \"game\", \"million\", \"safe\", \"instagram\", \"income\", \"friends\", \"000\", \"buy\", \"friend\", \"laptop\", \"money\", \"likes\", \"stop\", \"kill\", \"facebook\", \"video\", \"good\", \"earth\", \"energy\", \"created\", \"dark\", \"education\", \"universe\", \"americans\", \"infinite\", \"limit\", \"vacuum\", \"brain\", \"harry\", \"gravity\", \"potter\", \"ball\", \"object\", \"planet\", \"understand\", \"waves\", \"bible\", \"dc\", \"matter\", \"light\", \"peace\", \"africa\", \"gravitational\", \"strike\", \"wake\", \"motor\", \"forces\", \"speed\", \"human\", \"obama\", \"surgical\", \"flat\", \"force\", \"potential\", \"coming\", \"space\", \"think\", \"middle\", \"chinese\", \"god\", \"review\", \"japanese\", \"air\", \"com\", \"indians\", \"president\", \"american\", \"america\", \"believe\", \"indian\", \"does\", \"happen\", \"india\"], \"Total\": [32260.0, 27918.0, 12575.0, 12084.0, 9116.0, 8947.0, 8662.0, 7720.0, 6718.0, 7338.0, 8085.0, 5954.0, 6024.0, 5486.0, 5006.0, 7001.0, 4376.0, 3722.0, 3581.0, 3569.0, 4304.0, 5343.0, 4678.0, 3405.0, 3532.0, 7142.0, 4765.0, 3652.0, 3565.0, 3233.0, 1421.5856167363095, 1482.0107733247348, 685.5280658015756, 391.3022079032896, 352.6682062726289, 412.1071801168509, 391.3029826062604, 391.3057269559634, 281.3403649145851, 269.4524913583561, 241.71411972972658, 231.80755842906572, 219.91968487672455, 211.9944358382204, 210.0131235807844, 208.03181132198756, 207.04115519090504, 188.218688727223, 186.23737647361904, 247.65884429160317, 178.3121274316533, 175.34015904251117, 172.36819065437624, 172.36819065409043, 172.36819064993958, 170.3866178310784, 163.45228548876256, 179.30361916946077, 145.6204751556592, 182.2741168636015, 220.91413435042034, 702.6528534993882, 903.5066858376059, 218.93390374881892, 630.8786313027014, 360.52347178941807, 349.4593130538017, 743.8601806384697, 2443.0934854211664, 417.2394474765363, 256.5278426383727, 290.2863114961358, 690.0733787538107, 1025.260468188799, 736.5281351890042, 408.82493044719126, 1041.6390248597872, 259.67397322374, 581.851680754383, 3082.5134498830816, 1635.9017632856937, 1142.3680077102595, 1019.1505780335187, 2492.6294926334563, 655.3165632005811, 479.6565113970988, 795.1388693014285, 1357.6630691539976, 32260.294284144504, 1639.351763566986, 912.7939301452743, 13978.499831047864, 27918.238452316145, 11766.639353973687, 5682.579687649363, 2347.456144304848, 2434.735187155285, 2985.7739926262884, 2369.9913587497326, 3722.5487895893475, 3581.8258812114655, 3569.6771409191338, 2979.433357570207, 1857.7121784485423, 1480.0938107453178, 1129.8051323255788, 1404.1616267906438, 1013.3797045317737, 974.9086936123659, 936.4376700682056, 899.9914618161738, 1687.6077710572788, 788.6280091346495, 856.4567013334716, 1290.7019406637646, 675.238757884198, 678.2674973834071, 517.3061389050165, 514.2689575525019, 499.08303218793526, 477.82273666483127, 416.06654978328567, 368.48304537071306, 567.9208405637825, 299.6389401517136, 276.35612683871625, 270.2817566918117, 269.26936165883353, 243.95948605413608, 1409.9319285861895, 813.7532766882231, 928.9657040896299, 333.04025487847537, 781.2268895291962, 899.5197256942876, 2353.0749394320997, 2930.928404736872, 1978.3268280080688, 5343.140569217747, 1424.6158579375044, 1303.9346316126682, 4115.033995032051, 7001.443770221588, 13978.499831047864, 5486.087849266721, 1761.852977838938, 800.3946045452659, 710.348430340944, 639.3120040201582, 592.2878908318343, 560.2714733379702, 1973.921516397233, 513.2473601430115, 488.2345339752672, 376.17707274383764, 369.17348141528674, 365.17142921633933, 324.1503943074943, 321.14885516168584, 316.14628994198324, 289.1324376768488, 280.12776725732596, 232.1031940073059, 228.10114183112668, 217.09549830140264, 202.08780261555276, 202.0878026144633, 200.08677652425877, 193.08318519580575, 206.08945093149384, 186.07959386971083, 537.2466817339624, 226.09591811218615, 181.0770286327679, 176.0744633975202, 1048.407572978979, 653.2870767557106, 339.15623228375, 498.04409947779004, 1627.7055300518284, 1555.9450577916662, 839.6692567218674, 485.6239682842627, 877.6515602952097, 1271.4650421596994, 948.8259562696549, 650.6732225280294, 889.8925124286611, 3363.6014790810623, 853.7920017103672, 1545.871066576395, 7142.89349260364, 867.7375413433671, 2082.8079842714224, 1422.2702653676977, 1144.558201845997, 27918.238452316145, 11766.639353973687, 1681.2333405941897, 13978.499831047864, 2701.5093141560424, 796.1802390321068, 1018.9765633780672, 2746.44979690808, 1392.6859066444665, 1151.08487822938, 1117.1410272827827, 926.4560122841445, 756.7363505281681, 687.8501346431789, 860.5643052397393, 617.9655682633559, 593.0067944790517, 567.0496697399022, 542.0908959528832, 526.1172807288747, 1206.9741827902878, 519.1288240683024, 618.9614991197309, 418.2953779634558, 415.3003251100448, 399.3267098815857, 365.3827775303942, 1577.3277448733681, 310.4727630348989, 282.5196485578723, 355.39958980128586, 221.62024051218484, 224.61535887847526, 228.60807845505235, 225.61406083193947, 194.66476482064795, 218.62675716115228, 546.0825263558432, 8947.985734257965, 943.686113798933, 3652.4184693032157, 966.6705586204957, 2292.969834391707, 1348.2149430433556, 6024.737144617956, 1412.3361445708995, 1230.7808802516004, 1079.2193624029294, 1275.7387283567664, 986.7660825196515, 2183.9595335963886, 27918.238452316145, 1752.807117442073, 12575.779884669355, 3678.1261239566657, 1089.9534968136563, 6718.406811079214, 4304.105121568004, 1439.3202695291998, 1337.3523109799862, 769.6656026215213, 620.6357316582371, 552.9839545620805, 478.4689556233572, 459.8402056530641, 854.9945206480378, 410.81717943244263, 394.1492066888992, 379.44244265166236, 353.9504690178389, 327.4780348579786, 324.5366532854056, 264.72877410561483, 233.35382461315896, 230.41245655851907, 228.45152189264965, 1046.1940332315862, 215.70585883343648, 202.95954825986925, 187.2721798675138, 186.291719343141, 181.38941672634482, 169.62389043061788, 158.83882466194183, 157.85836413709683, 149.03421941295255, 144.13191679532798, 135.30777207923785, 1423.6572621708135, 1524.3505384063612, 923.4672749408325, 321.6125256863953, 1806.5052994543971, 337.3858783575523, 469.66377684478425, 770.5241040512823, 612.1603480180074, 634.6817873814352, 972.6491121344335, 861.1279333101261, 4047.8236295215756, 1214.3647961571032, 875.8860372937172, 1032.50432184465, 1367.4429902233535, 743.6127988749328, 746.9857547031381, 2349.929345758311, 2803.190779880961, 847.2290361168717, 1140.7972100863844, 1495.1728285388565, 13978.499831047864, 1836.5258351105592, 1558.2029339366227, 3184.8423610092864, 1159.7060463540893, 3678.1261239566657, 2773.8242115795756, 3565.13394344808, 1803.5648534945772, 2511.271889726843, 1429.6963929863787, 685.7743968566165, 491.2101900775289, 703.9101364742385, 448.29210961164534, 3192.579388750611, 367.22319163066265, 323.35086995444567, 327.1695367808661, 4376.196699087489, 234.65248047299193, 199.36387390137713, 204.13424054838262, 170.75149020566465, 149.7691032338637, 145.95409099958752, 143.09285262138968, 140.23161425515482, 267.11860915858256, 132.60164526922318, 124.01793016386206, 119.24919954657427, 199.3937609950683, 117.3417073028431, 115.43421505492506, 114.48046892296082, 122.11253899949952, 12084.962417111674, 234.7195239505987, 214.65423695369873, 149.7632560492009, 183.1953407808797, 603.5357112930957, 333.200154781383, 1550.0316794045816, 4765.2577399599295, 889.695711835706, 5121.971588144272, 27918.238452316145, 1130.5180076139864, 1464.2933233334231, 1455.2469701056627, 552.7606649383829, 3006.6029765238745, 449.3217789707536, 1197.65720860316, 680.7295290570224, 605.9798139491136, 1643.7228817442453, 2912.471305005603, 703.5771124795534, 1391.9742722087933, 3673.104915797881, 13978.499831047864, 3363.6014790810623, 2001.446535590802, 3353.432205757395, 7142.89349260364, 3678.1261239566657, 3233.110873430022, 2787.567556418013, 1654.3378154635254, 1207.8259258813766, 1067.3829237769432, 970.5256809526725, 883.3544187912702, 896.9163855499038, 738.0682981629878, 719.6654220221058, 705.1368356045516, 647.022898336434, 583.0967096395444, 537.5738055035172, 486.2394668050768, 472.6794528108445, 444.5908523896488, 422.3136865397202, 432.96774080635925, 384.5393618379961, 803.9674845444646, 893.9887291051875, 358.3879062741407, 356.4507614180457, 354.51361677703227, 343.85931984486405, 320.61358156737896, 362.26539093986634, 312.86500214492014, 352.58224341181796, 1989.5258317879768, 1230.9019106902704, 419.38510340607485, 362.26889885725984, 516.3582114052211, 1184.132258497981, 588.1132369951366, 833.2229913815607, 535.7970035685609, 1828.3645453302927, 921.749815292082, 1009.3730716768488, 831.8413117079153, 1709.5006478924463, 1182.0951552854779, 818.162337328643, 1216.9832112677714, 1550.2354033337729, 1836.5258351105592, 1422.613559553357, 1474.8722496938983, 32260.294284144504, 11766.639353973687, 3720.5125659070463, 2912.471305005603, 4473.67490010473, 8085.459258484579, 7142.89349260364, 3024.5802103002693, 2835.954561200936, 2166.4310418700857, 1980.607917262585, 1920.845706355002, 1271.8654470363963, 1059.896381013127, 2066.551559341019, 682.6473986637673, 652.7662931899647, 1149.580118580684, 603.2757122632433, 545.3810704142593, 543.5135013228262, 542.5797170096909, 531.3743022255838, 522.0364567673138, 349.2863158256721, 343.6836085365814, 291.3916739795669, 291.391673985973, 390.3953263121154, 259.6429994263502, 238.16595487593065, 218.55647939758887, 262.4597524848677, 250.31412083043062, 244.71052697418727, 185.87402029585272, 178.40397472996827, 916.3339735236345, 929.7070417372, 281.1585699554391, 5006.908850706009, 1215.4099257960509, 5954.525472443697, 4678.069204635688, 32260.294284144504, 2747.578323457628, 2272.9795290078823, 766.5357312889531, 8085.459258484579, 4473.67490010473, 3075.2363588977387, 2489.492114153216, 2811.63808253979, 4115.033995032051, 7001.443770221588, 879.6457013261642, 2001.446535590802, 2798.471260475176, 13978.499831047864, 2596.699018175077, 3857.7928255456472, 11766.639353973687, 2398.868137036363, 2169.0065765214767, 2290.0778446562163, 785.568580394381, 814.3683579570699, 682.2815861887198, 668.377567702847, 735.9100917618166, 646.5283957917974, 622.6929355208597, 543.2414013018636, 495.5704807626953, 477.69388556586443, 335.67426813942495, 332.69483561007127, 318.7908095251004, 283.03762672138913, 264.167887342935, 254.2364455646914, 251.25722314143337, 239.3392828982445, 220.46954351341626, 219.4764018706277, 213.51753427598496, 198.62037160804374, 183.72304628662383, 178.75748805129138, 177.76434387446653, 175.77815790285402, 343.6288613645946, 149.95630689639637, 292.9665217540284, 255.16188294535937, 678.3944267339991, 1538.767308047501, 416.4037948617764, 673.5454063224292, 2699.124325803671, 1434.8699213319073, 1345.4793094221839, 952.4121829563042, 497.26948188790726, 3368.803556367066, 1353.2413067840373, 1893.0113067413602, 1263.5968158748412, 973.2724082808395, 3673.104915797881, 1383.1480292805963, 1255.283603698036, 5682.579687649363, 2369.9913587497326, 2596.699018175077, 2347.456144304848, 2941.441207568398, 2985.7739926262884, 3184.8423610092864, 1577.8964293255099, 8085.459258484579, 988.5057853706128, 957.3632072839953, 816.7192959894946, 709.2271818812771, 586.6660681224505, 578.6292737781184, 539.4499013385436, 595.7067064970264, 497.25673102870593, 491.229135266985, 1060.798946914854, 808.6633082960286, 708.2221547291489, 378.714014441807, 387.753723200316, 325.4702519081283, 380.7126539985779, 294.3276738162741, 259.16669855717623, 282.26419700434934, 232.03986050050366, 211.95053177478385, 202.90913765223445, 188.84474803885362, 176.78955649528265, 173.77575864461164, 172.77114643726375, 151.67457419474283, 151.6745741912497, 250.11162940827163, 601.3214924822022, 455.8289297872973, 1619.6999187561455, 1178.4733212617168, 529.2324000960762, 651.1496557610451, 2220.4609525050296, 1105.6169204371174, 1256.9574448350484, 2161.62717150959, 860.9094478769273, 886.6617221318375, 678.4263711118538, 3637.921774292782, 2358.02983321751, 7142.89349260364, 1367.1697257573255, 730.3568690502038, 3353.432205757395, 1553.1710041512795, 874.6824654926497, 13978.499831047864, 11766.639353973687, 2282.8787012460953, 467.8044057271379, 422.62821556498227, 396.52655517321335, 391.50698823152527, 369.4208936929412, 354.3621928661741, 331.2721849419432, 1003.8710925039037, 299.14695651813076, 277.06086197136545, 268.02563481343026, 258.9904209924127, 253.97085405168886, 234.8964983400588, 231.88475950917493, 214.81823190606147, 199.75953107453276, 426.6529993176051, 190.72431057871626, 188.71648381471627, 185.70474363504394, 180.68517670612036, 177.673436545845, 167.63430266323599, 166.63038927161597, 165.62647588384525, 154.5824649600334, 136.51298762964157, 135.50907424205528, 487.38203553939326, 259.9732407695972, 2550.5634977728005, 2037.376043643077, 522.1143573892253, 1216.7835561340107, 3532.965725114952, 6718.406811079214, 996.4363897967628, 321.12361344855316, 1448.9151290984394, 717.8685941852502, 804.4955087307256, 3720.5125659070463, 643.5987961967452, 829.576576995631, 1436.2513089537322, 1233.6408145184078, 571.9870580714287, 1265.9565792436783, 459.98777624410593, 6024.737144617956, 2489.492114153216, 2985.7739926262884, 3257.7427415001544, 2811.63808253979, 5682.579687649363, 1004.0167112814162, 2205.595228581982, 2369.9913587497326, 7338.322559791507, 11766.639353973687, 3405.819621164918, 1306.679082518259, 1275.2165667716488, 805.248284411464, 644.9830488067803, 616.4701439476008, 604.6717006001994, 918.3051522934006, 370.66934534124226, 305.777790397326, 547.6517070431303, 308.7258041089245, 301.84469579055633, 316.59335362945984, 233.0207074356257, 212.37345770272475, 203.52462515776412, 196.6421998472676, 418.8638085356988, 182.87740259993197, 174.02851667344208, 162.2300732824779, 155.34764796606072, 154.3644443519369, 138.6331864924137, 138.63321770651206, 159.27602663496288, 133.71716841304436, 257.60450378299504, 184.84742968391433, 658.8613692777739, 302.98129447727234, 185.82570826302037, 2221.1450994098104, 876.7581214380886, 12575.779884669355, 646.1186596174177, 862.1339515996916, 7338.322559791507, 366.7359380936858, 1270.5619997292272, 345.8980042901702, 457.8011193052624, 460.78284725172244, 2252.130399214791, 883.257496505009, 1936.9288290892, 1648.9847531235214, 2183.9595335963886, 788.7639688507896, 960.5642052283268, 1431.7803670929516, 904.8385551835413, 890.8613173893374, 980.1766935558694, 3082.5134498830816, 1798.0678694558123, 4047.8236295215756, 11766.639353973687, 4092.605411979857, 5682.579687649363, 1377.9360331263022, 712.1679754799219, 990.4368218407576, 569.1582911118104, 563.3606012066851, 476.39528682224, 436.7777049408661, 405.8566920660555, 345.94722969340097, 344.0146663973581, 334.35184988063037, 319.85762511211846, 313.0936535572733, 286.03732310179254, 675.4948922231122, 256.08303613572497, 233.85871522053958, 227.09458661559773, 222.26317834866984, 203.9038269770224, 179.74678569555397, 176.84794074612321, 245.44859146145635, 147.85949121709626, 149.79431774810845, 128.53385818531288, 128.53385818531004, 127.56757653582778, 127.5675765355149, 127.56757653949171, 3180.386999090472, 7720.0750715859085, 591.4564462294973, 610.765029295784, 2393.2627050776177, 1065.2360980989756, 2759.7179678426232, 2948.852059680852, 1857.5362497479166, 2712.512285979155, 1990.1542180532576, 4304.105121568004, 416.04990534060914, 932.4913280116509, 1003.1493372056655, 2009.194191999519, 2367.906458836447, 827.8684686737232, 895.8374386680098, 511.90899984448976, 541.2837203472557, 2798.471260475176, 3184.8423610092864, 941.3614085730416, 1526.5872982282563, 11766.639353973687, 4092.605411979857, 3857.7928255456472, 2912.471305005603, 5343.140569217747, 5121.971588144272, 1941.908830983449, 1252.0021515479757, 1122.2078408763098, 890.574917217575, 761.7790243181341, 1596.421096116804, 532.1429362059095, 500.1935674271497, 499.19514965302955, 488.21255412610884, 471.23945196775026, 455.2647675781968, 445.2805898362083, 428.3074876706586, 463.2495167112769, 408.3391321807872, 390.36761224472303, 356.42140791249403, 332.4593813277128, 329.46412800300993, 322.4752035827539, 309.49577259791187, 303.5052658681709, 283.5369103820703, 273.55273263754026, 248.59228827922968, 242.60178163431598, 231.61918611373534, 259.55609475520055, 196.67456401055827, 9116.63874559968, 349.39423785717804, 357.43226693948026, 311.49851276388273, 8662.256615933187, 521.5799406011353, 1464.2287353662769, 424.0386405557262, 1555.9557877936072, 2466.344654388002, 511.6235305624035, 1437.2088793136825, 814.254761259864, 3158.6446774916444, 1574.3940361142566, 1626.2492487561722, 7001.443770221588, 661.2795939486231, 2930.928404736872, 739.7224705551843, 2941.441207568398, 1577.8964293255099, 11766.639353973687, 1692.2724796668936, 1834.708894404301, 818.1457712174471, 1009.6682770639911, 1010.6479559033136, 1091.2034000206963, 567.6937545172834, 504.8352086864075, 505.8188429240569, 439.0301689079763, 632.5241455615434, 413.493884456941, 390.9040950394277, 359.47482230815547, 345.72451549090295, 334.92070299176265, 357.50838020529704, 587.3511299393674, 295.6341120767642, 289.7411244897114, 277.9551461632026, 768.0818250625846, 1060.7657811871052, 241.61504957033034, 241.61513266713206, 238.66855525275767, 237.6863904802181, 233.7577313870062, 229.8290722980369, 226.8825779795037, 994.0414849428415, 1450.743419308992, 587.3832986373437, 320.16651321189835, 426.24004385471517, 669.7074023915301, 388.02736161116735, 605.594219348538, 1001.890800311709, 5486.087849266721, 442.818743256535, 1299.0366155150004, 1248.517476379816, 952.6182328028475, 643.8117680530778, 965.2981449824409, 1785.7365124542152, 890.3931375002285, 2398.868137036363, 1277.7288623987956, 1178.9871167623273, 1351.7479319042645, 5343.140569217747, 27918.238452316145, 2417.0786868954297, 13978.499831047864], \"loglift\": [30.0, 29.0, 28.0, 27.0, 26.0, 25.0, 24.0, 23.0, 22.0, 21.0, 20.0, 19.0, 18.0, 17.0, 16.0, 15.0, 14.0, 13.0, 12.0, 11.0, 10.0, 9.0, 8.0, 7.0, 6.0, 5.0, 4.0, 3.0, 2.0, 1.0, 2.7979, 2.7976, 2.7972, 2.7958, 2.7958, 2.7957, 2.7956, 2.7953, 2.7952, 2.7951, 2.7947, 2.7945, 2.7943, 2.7942, 2.7941, 2.7941, 2.7941, 2.7936, 2.7936, 2.7935, 2.7933, 2.7933, 2.7932, 2.7932, 2.7932, 2.7929, 2.7929, 2.7928, 2.7922, 2.7921, 2.7914, 2.7767, 2.7696, 2.7888, 2.7622, 2.7765, 2.7642, 2.7175, 2.6226, 2.7388, 2.7684, 2.753, 2.6593, 2.6149, 2.6362, 2.7031, 2.5634, 2.7584, 2.5804, 2.21, 2.3393, 2.3802, 2.3619, 2.0712, 2.4805, 2.5456, 2.2817, 1.9916, 0.0752, 1.8215, 2.1684, 0.3437, -0.1231, 0.4222, 0.736, 1.416, 1.3445, 1.0645, 1.2578, 2.8196, 2.8196, 2.8196, 2.8193, 2.8192, 2.8192, 2.819, 2.819, 2.819, 2.8189, 2.8189, 2.8188, 2.8188, 2.8187, 2.8185, 2.8184, 2.8184, 2.8183, 2.8181, 2.8181, 2.818, 2.8179, 2.8176, 2.8173, 2.8171, 2.8167, 2.8165, 2.8165, 2.8164, 2.8161, 2.8156, 2.814, 2.7998, 2.8134, 2.7912, 2.7547, 2.6547, 2.5053, 2.5275, 2.3182, 2.536, 2.5212, 2.0394, 1.465, 0.6954, 1.0709, 2.8008, 2.8007, 2.8006, 2.8004, 2.8003, 2.8002, 2.8002, 2.8001, 2.8, 2.7994, 2.7994, 2.7994, 2.799, 2.799, 2.799, 2.7987, 2.7986, 2.7979, 2.7979, 2.7976, 2.7973, 2.7973, 2.7973, 2.7971, 2.7969, 2.7969, 2.7969, 2.7968, 2.7968, 2.7967, 2.7952, 2.7956, 2.7965, 2.7913, 2.6908, 2.6792, 2.7069, 2.7288, 2.6701, 2.5895, 2.6092, 2.6539, 2.5909, 2.3407, 2.5666, 2.3345, 1.7795, 2.4574, 2.0678, 2.2231, 2.3022, 0.683, 1.0451, 1.9878, 0.5007, 1.6023, 2.4598, 2.2165, 2.8306, 2.8303, 2.8301, 2.8301, 2.8299, 2.8297, 2.8296, 2.8296, 2.8294, 2.8294, 2.8293, 2.8292, 2.8292, 2.8292, 2.8292, 2.8289, 2.8287, 2.8287, 2.8286, 2.8284, 2.8282, 2.8279, 2.8277, 2.8273, 2.8268, 2.8267, 2.8266, 2.8265, 2.8262, 2.8262, 2.8164, 2.7771, 2.7849, 2.6664, 2.7294, 2.6262, 2.6494, 2.4665, 2.5286, 2.5573, 2.5855, 2.4964, 2.5053, 2.1622, 0.3466, 2.0775, 0.7752, 1.5626, 2.3388, 0.6652, 1.0571, 2.6457, 2.6457, 2.645, 2.6449, 2.6447, 2.6444, 2.6444, 2.6442, 2.6441, 2.644, 2.6439, 2.6438, 2.6436, 2.6435, 2.6424, 2.6424, 2.6424, 2.6423, 2.642, 2.6419, 2.6418, 2.6414, 2.6414, 2.6413, 2.6409, 2.6406, 2.6405, 2.6402, 2.64, 2.6396, 2.6365, 2.6336, 2.6303, 2.6389, 2.6037, 2.6304, 2.6208, 2.5963, 2.5929, 2.5793, 2.5387, 2.5428, 2.2394, 2.4015, 2.4372, 2.3376, 2.2568, 2.393, 2.3635, 1.9051, 1.771, 2.2853, 2.1118, 1.9286, 0.496, 1.6928, 1.7642, 1.0728, 1.9658, 0.8415, 1.0941, 2.4746, 2.4743, 2.4742, 2.4742, 2.4735, 2.4729, 2.4729, 2.4727, 2.4725, 2.4723, 2.472, 2.4717, 2.4717, 2.4709, 2.4702, 2.4698, 2.4694, 2.4686, 2.4685, 2.4684, 2.4682, 2.4681, 2.4679, 2.4674, 2.4671, 2.467, 2.4669, 2.4668, 2.4667, 2.4667, 2.4251, 2.4644, 2.4651, 2.4661, 2.4629, 2.4422, 2.4402, 2.3908, 2.3444, 2.404, 2.1972, 2.0234, 2.2941, 2.2679, 2.2137, 2.3278, 2.0211, 2.318, 2.113, 2.2314, 2.2422, 1.9392, 1.6895, 2.1822, 1.849, 1.2843, 0.2744, 1.1211, 1.3789, 0.9776, 0.1216, 0.6788, 2.6544, 2.6543, 2.6541, 2.6539, 2.6538, 2.6537, 2.6536, 2.6536, 2.6534, 2.6534, 2.6534, 2.6532, 2.6531, 2.653, 2.6528, 2.6527, 2.6526, 2.6525, 2.6523, 2.6523, 2.6523, 2.6522, 2.6521, 2.6521, 2.6521, 2.652, 2.6518, 2.6517, 2.6517, 2.6516, 2.647, 2.6502, 2.651, 2.6515, 2.6474, 2.6181, 2.6332, 2.6047, 2.6194, 2.4616, 2.5335, 2.4898, 2.513, 2.3414, 2.3801, 2.4834, 2.3379, 2.2454, 2.1532, 2.2386, 2.1709, 0.4653, 0.787, 1.5073, 1.4541, 0.995, 0.431, 0.4997, 2.4448, 2.4448, 2.4447, 2.4446, 2.4446, 2.4444, 2.4442, 2.4442, 2.4438, 2.4437, 2.4436, 2.4436, 2.4434, 2.4434, 2.4434, 2.4434, 2.4433, 2.4425, 2.4424, 2.4419, 2.4419, 2.4419, 2.4415, 2.4412, 2.4409, 2.4407, 2.4407, 2.4403, 2.4401, 2.4399, 2.4395, 2.4325, 2.4398, 2.4067, 2.4235, 2.386, 2.3271, 2.2378, 2.3163, 2.3234, 2.375, 2.1502, 2.1542, 2.1195, 2.0794, 1.9913, 1.8319, 1.6374, 2.2932, 1.9731, 1.784, 0.9862, 1.7669, 1.5628, 0.6937, 1.741, 2.7211, 2.7209, 2.7208, 2.7208, 2.7207, 2.7206, 2.7206, 2.7206, 2.7205, 2.7203, 2.7202, 2.7201, 2.7193, 2.7193, 2.7191, 2.7188, 2.7185, 2.7184, 2.7183, 2.7182, 2.7178, 2.7178, 2.7177, 2.7174, 2.7169, 2.7169, 2.7168, 2.7167, 2.7167, 2.7159, 2.7154, 2.7142, 2.6962, 2.6589, 2.6892, 2.6621, 2.5905, 2.6104, 2.6003, 2.569, 2.6387, 2.3474, 2.4718, 2.4011, 2.4662, 2.501, 2.254, 2.4372, 2.4534, 1.8785, 2.1104, 2.0123, 2.0409, 1.9263, 1.7982, 1.5176, 1.9956, 0.6454, 2.8729, 2.8729, 2.8727, 2.8726, 2.8723, 2.8723, 2.8721, 2.8721, 2.872, 2.872, 2.8718, 2.8717, 2.8717, 2.8714, 2.8711, 2.871, 2.8709, 2.8707, 2.8703, 2.8702, 2.8697, 2.8695, 2.8693, 2.869, 2.8686, 2.8686, 2.8685, 2.8678, 2.8678, 2.8678, 2.859, 2.8538, 2.795, 2.7991, 2.8205, 2.7992, 2.717, 2.732, 2.7169, 2.6357, 2.6869, 2.6795, 2.6913, 2.2919, 2.2971, 1.7142, 2.3148, 2.584, 1.6972, 2.059, 2.455, 0.2387, 0.1734, 2.8512, 2.8496, 2.8494, 2.8493, 2.8493, 2.8491, 2.849, 2.8488, 2.8486, 2.8485, 2.8483, 2.8482, 2.8481, 2.848, 2.8477, 2.8476, 2.8473, 2.847, 2.8469, 2.8468, 2.8467, 2.8467, 2.8465, 2.8464, 2.8461, 2.8461, 2.8461, 2.8451, 2.8449, 2.8448, 2.8354, 2.8405, 2.8172, 2.8149, 2.827, 2.7911, 2.7585, 2.6956, 2.776, 2.8214, 2.7182, 2.7323, 2.6892, 2.4663, 2.7102, 2.6678, 2.5774, 2.596, 2.6891, 2.5151, 2.7121, 1.2198, 1.6672, 1.4586, 1.3058, 1.3544, 0.7829, 2.1172, 1.462, 1.3245, 0.1655, -0.3425, 2.7023, 2.7018, 2.7018, 2.7013, 2.7011, 2.701, 2.701, 2.7009, 2.6999, 2.6995, 2.6994, 2.6994, 2.6991, 2.699, 2.6986, 2.6982, 2.698, 2.6979, 2.6975, 2.6975, 2.6972, 2.6969, 2.6966, 2.6966, 2.6959, 2.6959, 2.6958, 2.6956, 2.695, 2.6949, 2.6779, 2.6816, 2.6912, 2.6273, 2.6522, 2.5509, 2.6508, 2.6326, 2.5298, 2.6537, 2.5551, 2.6528, 2.623, 2.5975, 2.3659, 2.4835, 2.1736, 2.1775, 1.9835, 2.3509, 2.2518, 2.0402, 2.2294, 2.2158, 2.1346, 1.3994, 1.7426, 1.061, -0.0519, 0.8765, 0.425, 2.6506, 2.6499, 2.6497, 2.6496, 2.6496, 2.6493, 2.6491, 2.649, 2.6486, 2.6486, 2.6485, 2.6484, 2.6483, 2.6479, 2.6478, 2.6476, 2.6472, 2.6472, 2.6471, 2.6467, 2.6461, 2.646, 2.6458, 2.645, 2.6447, 2.644, 2.644, 2.644, 2.644, 2.644, 2.6436, 2.6272, 2.6422, 2.6418, 2.624, 2.6143, 2.5943, 2.5783, 2.5746, 2.5576, 2.5236, 2.465, 2.6084, 2.5353, 2.5111, 2.3554, 2.3173, 2.4852, 2.4502, 2.519, 2.4655, 1.7154, 1.4016, 2.1124, 1.7635, 0.2715, 1.0295, 1.0173, 1.2354, 0.7165, 0.6685, 2.8109, 2.8106, 2.8106, 2.8103, 2.8102, 2.8101, 2.8096, 2.8095, 2.8095, 2.8095, 2.8094, 2.8094, 2.8093, 2.8092, 2.8092, 2.8091, 2.809, 2.8088, 2.8086, 2.8086, 2.8085, 2.8084, 2.8083, 2.8081, 2.808, 2.8077, 2.8076, 2.8074, 2.8068, 2.8067, 2.7842, 2.8052, 2.8029, 2.8049, 2.6854, 2.7856, 2.7379, 2.7895, 2.6508, 2.5832, 2.7474, 2.5792, 2.632, 2.2374, 2.391, 2.3085, 1.5939, 2.5679, 1.4998, 2.3861, 1.2276, 1.73, -0.1266, 2.6586, 2.6581, 2.658, 2.6579, 2.6578, 2.6576, 2.6575, 2.6573, 2.6571, 2.657, 2.657, 2.6569, 2.6568, 2.6566, 2.6565, 2.6564, 2.6561, 2.656, 2.656, 2.6559, 2.6558, 2.6558, 2.6555, 2.6553, 2.6553, 2.6553, 2.6553, 2.6552, 2.6551, 2.6551, 2.6509, 2.6471, 2.6549, 2.654, 2.6504, 2.6457, 2.6484, 2.6244, 2.5885, 2.4621, 2.6272, 2.4716, 2.4178, 2.4529, 2.5011, 2.3794, 2.1877, 2.3912, 1.9756, 2.1882, 2.1845, 2.0097, 1.0956, -0.1278, 1.5766, 0.157], \"logprob\": [30.0, 29.0, 28.0, 27.0, 26.0, 25.0, 24.0, 23.0, 22.0, 21.0, 20.0, 19.0, 18.0, 17.0, 16.0, 15.0, 14.0, 13.0, 12.0, 11.0, 10.0, 9.0, 8.0, 7.0, 6.0, 5.0, 4.0, 3.0, 2.0, 1.0, -4.4803, -4.439, -5.2103, -5.7724, -5.8764, -5.7207, -5.7726, -5.7729, -6.1029, -6.1462, -6.2552, -6.2972, -6.3501, -6.3869, -6.3964, -6.4059, -6.4107, -6.5065, -6.5171, -6.2321, -6.5608, -6.5777, -6.5949, -6.5949, -6.5949, -6.6067, -6.6483, -6.5558, -6.7645, -6.54, -6.3485, -5.2061, -4.9618, -6.3602, -5.3283, -5.8737, -5.9171, -5.2083, -4.1141, -5.7652, -6.222, -6.1138, -5.3416, -4.9901, -5.2996, -5.8212, -5.0257, -6.2198, -5.5911, -4.2942, -4.7984, -5.1166, -5.249, -4.6454, -5.572, -5.819, -5.5775, -5.3325, -4.0809, -5.3141, -5.5527, -4.6487, -4.4237, -4.7424, -5.1566, -5.3606, -5.3956, -5.4716, -5.5092, -3.4959, -3.5344, -3.5378, -3.7189, -4.1913, -4.4186, -4.6888, -4.4715, -4.7977, -4.8364, -4.8767, -4.9165, -4.2878, -5.0487, -4.9664, -4.5563, -5.2042, -5.1998, -5.471, -5.4769, -5.5069, -5.5505, -5.6892, -5.811, -5.3786, -6.0184, -6.0995, -6.1218, -6.1255, -6.2246, -4.4708, -5.0221, -4.9038, -5.916, -5.0856, -4.9811, -4.1195, -4.0493, -4.4202, -3.6359, -4.74, -4.8433, -4.1759, -4.2188, -4.297, -4.8568, -4.2628, -5.0518, -5.1713, -5.2768, -5.3534, -5.409, -4.1497, -5.4968, -5.5469, -5.8082, -5.827, -5.8379, -5.9574, -5.9668, -5.9825, -6.0721, -6.1038, -6.2926, -6.31, -6.3597, -6.4316, -6.4316, -6.4416, -6.4774, -6.4124, -6.5146, -5.4543, -6.3199, -6.542, -6.5701, -4.7875, -5.2601, -5.9147, -5.5357, -4.452, -4.5087, -5.0978, -5.6235, -5.0904, -4.8003, -5.0733, -5.4058, -5.1556, -4.0762, -5.2214, -4.8598, -3.8843, -5.3144, -4.8284, -5.0546, -5.1927, -3.6176, -4.1195, -5.1226, -4.4917, -5.0338, -5.398, -5.3946, -3.789, -4.4684, -4.6591, -4.689, -4.8764, -5.079, -5.1745, -4.9505, -5.2818, -5.3231, -5.3679, -5.413, -5.443, -4.6126, -5.4564, -5.2807, -5.6728, -5.68, -5.7193, -5.8083, -4.346, -5.9717, -6.0663, -5.8371, -6.3099, -6.2966, -6.2791, -6.2923, -6.4402, -6.3241, -5.4185, -2.6614, -4.903, -3.6681, -4.9344, -4.1739, -4.6818, -3.3675, -4.756, -4.8649, -4.9682, -4.89, -5.138, -4.6865, -3.954, -4.9912, -4.323, -4.7649, -5.2049, -5.0599, -5.1132, -4.62, -4.6936, -5.2467, -5.462, -5.5776, -5.7226, -5.7624, -5.1424, -5.8754, -5.9169, -5.955, -6.0248, -6.1027, -6.1117, -6.3165, -6.4427, -6.4554, -6.464, -4.9428, -6.5218, -6.5828, -6.6637, -6.6689, -6.6957, -6.7632, -6.8292, -6.8355, -6.8933, -6.927, -6.9906, -4.6402, -4.5747, -5.0792, -6.1254, -4.4348, -6.086, -5.7648, -5.2944, -5.5277, -5.5053, -5.1189, -5.2367, -3.9924, -5.0342, -5.3252, -5.2604, -5.0602, -5.5331, -5.5581, -4.8705, -4.8281, -5.5104, -5.3864, -5.2991, -4.4964, -5.3292, -5.4222, -5.3987, -5.516, -5.486, -5.5156, -3.8842, -4.5658, -4.2349, -4.7983, -5.5337, -5.8679, -5.5082, -5.9595, -3.9966, -6.1594, -6.287, -6.2755, -3.6821, -6.6087, -6.7724, -6.7491, -6.9281, -7.0599, -7.0859, -7.1058, -7.1262, -6.4819, -7.1825, -7.2499, -7.2894, -6.7754, -7.3056, -7.3222, -7.3305, -7.2661, -2.7128, -6.6149, -6.7036, -7.0625, -6.8642, -5.6927, -6.2887, -4.8008, -3.7242, -5.3428, -3.7992, -2.2773, -5.2131, -4.9806, -5.0411, -5.895, -4.508, -6.1119, -5.3366, -5.7832, -5.8886, -5.1937, -4.8714, -5.7993, -5.4502, -5.0446, -4.718, -5.2958, -5.5571, -5.4423, -5.5422, -5.6487, -3.8021, -3.9504, -4.4724, -4.7872, -4.9109, -5.0061, -5.1003, -5.0851, -5.2802, -5.3055, -5.3259, -5.4121, -5.5162, -5.5977, -5.6982, -5.7265, -5.7879, -5.8394, -5.8147, -5.9334, -5.1959, -5.0898, -6.004, -6.0094, -6.0149, -6.0455, -6.1156, -5.9936, -6.1402, -6.0208, -4.295, -4.772, -5.8479, -5.9938, -5.6435, -4.8428, -5.5275, -5.2077, -5.6345, -4.5649, -5.1779, -5.1308, -5.301, -4.7523, -5.0825, -5.3473, -5.0956, -4.9461, -4.8688, -5.0388, -5.0705, -3.6908, -4.3777, -4.8087, -5.1068, -5.1367, -5.1089, -5.1641, -4.0784, -4.1428, -4.4122, -4.5019, -4.5325, -4.9451, -5.1275, -4.4599, -5.5679, -5.6128, -5.0469, -5.6917, -5.7928, -5.7962, -5.7979, -5.8188, -5.8366, -6.2393, -6.2555, -6.4211, -6.4211, -6.1286, -6.5368, -6.6235, -6.7098, -6.5268, -6.5743, -6.5973, -6.8725, -6.9137, -5.2778, -5.2703, -6.459, -3.6124, -5.0114, -3.4597, -3.7599, -1.9182, -4.3029, -4.4854, -5.5208, -3.3896, -3.9775, -4.3871, -4.6384, -4.6048, -4.3834, -4.0464, -5.465, -4.9629, -4.8168, -4.0062, -4.9088, -4.717, -4.471, -5.0139, -4.1346, -4.0804, -5.1504, -5.1145, -5.2916, -5.3122, -5.216, -5.3455, -5.3831, -5.5198, -5.6118, -5.6486, -6.0023, -6.0112, -6.054, -6.1733, -6.2426, -6.281, -6.2929, -6.3416, -6.4241, -6.4286, -6.4563, -6.5289, -6.6073, -6.6348, -6.6404, -6.6517, -5.9815, -6.8115, -6.1422, -6.2816, -5.3218, -4.54, -5.8168, -5.363, -4.0465, -4.6585, -4.7329, -5.1097, -5.6899, -4.0679, -4.8556, -4.5907, -4.9297, -5.156, -4.0749, -4.8683, -4.9492, -4.014, -4.6566, -4.6634, -4.7357, -4.6248, -4.7378, -4.954, -5.1782, -4.8944, -4.7686, -4.8006, -4.9597, -5.1009, -5.2909, -5.3048, -5.375, -5.2758, -5.4566, -5.4688, -4.6991, -4.9706, -5.1033, -5.7295, -5.7062, -5.8814, -5.7247, -5.9823, -6.1099, -6.0246, -6.221, -6.3118, -6.3556, -6.4278, -6.4941, -6.5114, -6.5172, -6.6482, -6.6482, -6.148, -5.2796, -5.5618, -4.3526, -4.6666, -5.4457, -5.2597, -4.1152, -4.7976, -4.6844, -4.2234, -5.0928, -5.0707, -5.3266, -4.0466, -4.475, -3.9496, -5.0023, -5.3601, -4.7228, -5.1306, -5.3088, -4.7537, -4.9913, -3.9533, -5.54, -5.6418, -5.7056, -5.7184, -5.7766, -5.8183, -5.8859, -4.7775, -5.9882, -6.0652, -6.0984, -6.1328, -6.1525, -6.2308, -6.2438, -6.3206, -6.3936, -5.6348, -6.4401, -6.4507, -6.4669, -6.4944, -6.5113, -6.5698, -6.5758, -6.5819, -6.6519, -6.7764, -6.7838, -5.5132, -6.1366, -3.8764, -4.1034, -5.4528, -4.6426, -3.6092, -3.0295, -4.8575, -5.9444, -4.5409, -5.2291, -5.1582, -3.8498, -5.3604, -5.149, -4.6905, -4.824, -5.4994, -4.879, -5.6944, -4.6142, -5.0506, -5.0775, -5.1431, -5.2417, -5.1097, -5.5087, -5.3769, -5.4425, -5.4713, -5.5072, -3.7022, -4.6606, -4.685, -5.1453, -5.3673, -5.4126, -5.432, -5.0142, -5.9224, -6.1153, -5.5326, -6.1058, -6.1287, -6.0811, -6.388, -6.4811, -6.5239, -6.5584, -5.8026, -6.6314, -6.6812, -6.7518, -6.7954, -6.8018, -6.91, -6.91, -6.7712, -6.9463, -6.2913, -6.6233, -5.3692, -6.1424, -6.6217, -4.2046, -5.1092, -2.5473, -5.4159, -5.1457, -3.107, -5.9794, -4.8354, -6.0388, -5.7883, -5.8073, -4.4521, -5.2706, -4.7952, -4.9522, -4.8653, -5.5163, -5.4184, -5.2308, -5.5005, -5.5297, -5.5154, -5.1048, -5.3006, -5.1708, -5.2166, -5.3442, -5.4675, -4.6588, -5.3194, -4.9898, -5.5439, -5.5542, -5.7221, -5.8091, -5.8827, -6.0428, -6.0484, -6.077, -6.1215, -6.1429, -6.2337, -5.3745, -6.3445, -6.4357, -6.4651, -6.4867, -6.5733, -6.7, -6.7164, -6.3888, -6.8964, -6.8837, -7.0374, -7.0374, -7.045, -7.045, -7.045, -3.8293, -2.9589, -5.5129, -5.4812, -4.1332, -4.9525, -4.0205, -3.9702, -4.436, -4.0745, -4.4181, -3.7054, -5.8984, -5.1645, -5.1157, -4.5768, -4.4506, -5.3336, -5.2897, -5.7806, -5.7782, -4.8855, -5.0699, -5.578, -5.4434, -4.8931, -5.1912, -5.2625, -5.3255, -5.2377, -5.3279, -4.1554, -4.5945, -4.7041, -4.9355, -5.0919, -4.352, -5.4511, -5.5131, -5.5151, -5.5374, -5.5729, -5.6074, -5.6297, -5.6686, -5.5902, -5.7165, -5.7616, -5.8528, -5.9226, -5.9316, -5.9531, -5.9943, -6.0139, -6.0822, -6.1182, -6.2142, -6.2387, -6.2852, -6.1719, -6.4494, -2.6356, -5.8763, -5.8559, -5.9914, -2.7856, -5.4952, -4.5107, -5.6984, -4.5371, -4.144, -5.5527, -4.6881, -5.2034, -4.2423, -4.785, -4.8352, -4.0899, -5.4756, -5.0548, -5.5453, -5.3234, -5.4439, -5.2912, -4.4453, -4.365, -5.1726, -4.9624, -4.9615, -4.885, -5.5386, -5.6561, -5.6544, -5.7961, -5.431, -5.8561, -5.9124, -5.9965, -6.0356, -6.0674, -6.0024, -5.506, -6.1925, -6.2127, -6.2544, -5.238, -4.9155, -6.395, -6.395, -6.4073, -6.4115, -6.4282, -6.4452, -6.4582, -4.985, -4.6108, -5.5071, -6.1149, -5.8322, -5.3851, -5.9282, -5.5071, -5.0396, -3.4656, -5.8173, -4.8967, -4.9901, -5.2255, -5.5692, -5.2858, -4.8624, -5.3548, -4.7793, -5.1966, -5.2807, -5.3189, -4.8585, -4.4284, -5.1707, -4.8354]}, \"token.table\": {\"Topic\": [2, 4, 8, 14, 1, 4, 6, 7, 8, 9, 10, 11, 12, 13, 14, 2, 7, 4, 13, 8, 8, 7, 10, 11, 13, 2, 1, 2, 4, 7, 8, 10, 11, 12, 13, 15, 4, 6, 7, 8, 9, 10, 11, 12, 13, 11, 9, 9, 2, 4, 5, 13, 5, 13, 13, 13, 4, 5, 12, 15, 7, 10, 13, 5, 1, 3, 4, 5, 15, 3, 1, 1, 5, 9, 14, 6, 8, 11, 12, 14, 15, 2, 5, 10, 11, 13, 15, 15, 12, 1, 8, 9, 11, 14, 10, 3, 7, 11, 4, 12, 4, 12, 1, 4, 8, 9, 11, 1, 4, 5, 11, 11, 1, 5, 10, 12, 13, 14, 15, 5, 9, 11, 1, 5, 11, 1, 10, 4, 12, 4, 13, 12, 6, 9, 5, 11, 3, 13, 1, 2, 3, 4, 5, 6, 7, 9, 10, 11, 12, 13, 14, 12, 13, 15, 2, 11, 1, 2, 4, 5, 7, 8, 9, 10, 11, 13, 14, 15, 2, 10, 2, 14, 8, 8, 3, 4, 6, 9, 12, 13, 15, 7, 1, 2, 3, 5, 7, 10, 13, 1, 7, 8, 9, 11, 13, 14, 15, 4, 5, 9, 11, 14, 14, 11, 2, 15, 4, 14, 4, 9, 2, 4, 13, 6, 7, 8, 9, 7, 8, 9, 13, 6, 14, 9, 10, 15, 2, 3, 9, 5, 7, 11, 14, 15, 5, 8, 12, 13, 14, 4, 5, 8, 14, 10, 3, 6, 9, 10, 9, 5, 6, 10, 13, 14, 12, 15, 11, 3, 5, 9, 14, 14, 1, 12, 13, 3, 6, 7, 1, 6, 1, 3, 1, 10, 14, 12, 11, 1, 2, 3, 4, 5, 6, 10, 12, 13, 14, 15, 2, 4, 13, 10, 9, 7, 14, 6, 12, 3, 6, 7, 10, 13, 15, 6, 10, 11, 13, 14, 1, 3, 5, 6, 8, 10, 11, 14, 15, 5, 15, 4, 1, 3, 5, 7, 8, 9, 10, 11, 12, 13, 14, 1, 1, 6, 12, 15, 7, 10, 7, 8, 8, 1, 1, 5, 9, 14, 3, 5, 7, 8, 12, 13, 1, 4, 14, 15, 2, 10, 15, 9, 8, 1, 4, 5, 8, 9, 10, 12, 13, 1, 3, 4, 6, 9, 10, 14, 7, 12, 11, 1, 12, 9, 1, 4, 5, 9, 13, 9, 6, 2, 4, 5, 10, 15, 2, 1, 3, 9, 15, 5, 8, 10, 12, 13, 3, 14, 9, 11, 15, 15, 14, 5, 6, 14, 5, 7, 10, 12, 5, 5, 6, 5, 2, 7, 2, 1, 9, 5, 6, 11, 12, 11, 11, 3, 15, 9, 12, 2, 6, 9, 13, 7, 11, 14, 7, 15, 8, 14, 2, 6, 2, 1, 9, 5, 11, 12, 9, 14, 9, 2, 13, 5, 9, 3, 4, 9, 11, 11, 8, 10, 11, 1, 8, 11, 12, 14, 2, 3, 6, 8, 10, 13, 14, 15, 6, 10, 14, 12, 7, 1, 3, 5, 7, 9, 11, 12, 15, 5, 15, 1, 2, 3, 5, 6, 9, 10, 11, 12, 13, 14, 15, 1, 8, 12, 10, 6, 11, 1, 2, 3, 4, 5, 6, 7, 9, 10, 12, 13, 14, 15, 1, 2, 3, 4, 5, 6, 9, 10, 12, 13, 15, 10, 14, 2, 4, 5, 6, 9, 10, 11, 12, 13, 14, 15, 8, 1, 8, 9, 9, 9, 7, 9, 3, 7, 3, 8, 15, 9, 8, 12, 3, 7, 11, 12, 2, 15, 2, 6, 9, 11, 3, 3, 8, 12, 1, 12, 12, 5, 13, 11, 13, 11, 15, 12, 12, 12, 12, 2, 8, 1, 1, 5, 10, 7, 10, 12, 1, 11, 12, 13, 1, 12, 7, 3, 4, 6, 1, 4, 5, 9, 11, 12, 13, 14, 5, 4, 10, 3, 7, 14, 7, 5, 13, 13, 5, 4, 6, 1, 6, 10, 14, 12, 6, 10, 15, 12, 13, 1, 3, 2, 6, 10, 1, 2, 5, 9, 5, 11, 3, 4, 5, 7, 15, 2, 14, 3, 5, 7, 11, 13, 15, 15, 3, 8, 15, 5, 6, 12, 15, 6, 8, 9, 2, 12, 1, 6, 9, 10, 11, 12, 13, 14, 1, 4, 6, 7, 13, 14, 1, 6, 12, 1, 5, 8, 8, 1, 4, 1, 7, 11, 14, 6, 14, 2, 9, 3, 6, 10, 13, 14, 6, 7, 10, 13, 14, 6, 9, 13, 14, 1, 2, 5, 9, 13, 7, 13, 3, 4, 6, 9, 12, 14, 15, 2, 7, 11, 1, 2, 3, 4, 5, 6, 7, 8, 9, 10, 11, 12, 13, 14, 15, 1, 4, 9, 11, 12, 12, 2, 4, 5, 6, 15, 4, 4, 15, 15, 1, 2, 3, 4, 5, 6, 10, 11, 13, 3, 6, 13, 3, 2, 6, 13, 14, 8, 13, 13, 5, 2, 3, 7, 8, 2, 3, 5, 6, 7, 8, 9, 10, 11, 12, 13, 14, 15, 4, 14, 10, 13, 14, 1, 3, 6, 7, 9, 11, 12, 13, 14, 15, 12, 7, 1, 12, 10, 14, 8, 10, 1, 14, 1, 3, 5, 7, 8, 9, 10, 11, 13, 14, 11, 14, 14, 7, 1, 1, 5, 1, 7, 11, 15, 6, 12, 7, 10, 4, 2, 5, 6, 6, 12, 9, 5, 6, 10, 13, 15, 11, 10, 8, 4, 5, 12, 14, 9, 10, 1, 2, 3, 4, 5, 6, 7, 8, 9, 10, 12, 13, 14, 15, 2, 3, 5, 10, 13, 15, 2, 4, 5, 6, 10, 12, 15, 1, 10, 11, 15, 5, 9, 11, 12, 15, 12, 3, 13, 14, 1, 11, 10, 1, 2, 3, 5, 6, 9, 11, 12, 14, 15, 8, 1, 2, 4, 5, 7, 8, 10, 11, 13, 15, 11, 4, 5, 11, 13, 15, 8, 9, 12, 1, 12, 2, 12, 11, 14, 8, 13, 8, 8, 3, 5, 1, 1, 4, 9, 3, 10, 12, 3, 6, 13, 5, 6, 11, 2, 6, 11, 15, 8, 9, 11, 12, 7, 10, 9, 1, 2, 5, 12, 3, 5, 12, 5, 12, 13, 15, 1, 1, 1, 10, 7, 3, 4, 6, 14, 6, 14, 4, 5, 6, 11, 14, 10, 11, 6, 11, 2, 8, 11, 8, 11, 14, 1, 4, 13, 2, 8, 9, 11, 13, 13, 7, 8, 3, 5, 8, 9, 13, 15, 1, 10, 13, 3, 12, 3, 13, 1, 15, 4, 6, 7, 9, 11, 12, 13, 15, 6, 14, 15, 8, 11, 3, 2, 3, 4, 6, 7, 9, 12, 13, 14, 5, 6, 2, 3, 6, 10, 6, 12, 13, 15, 4, 14, 7, 7, 7, 6, 9, 10, 14, 4, 7, 8, 10, 8, 14, 1, 3, 4, 10, 2, 8, 6, 7, 10, 12, 13, 3, 6, 10, 13, 3, 1, 4, 1, 2, 8, 10, 1, 8, 6, 4, 15, 13, 1, 6, 15, 2, 3, 7, 9, 12, 1, 9, 12, 13, 5, 7, 10, 13, 10, 3, 4, 6, 12, 13, 15, 1, 10, 9, 6, 7, 10, 15, 13, 14, 13, 4, 11, 1, 4, 5, 8, 9, 11, 2, 13, 2, 8, 14, 7, 8, 14, 7, 10, 13, 14, 13, 15, 4, 6, 7, 8, 13, 4, 8, 9, 13, 15, 1, 3, 5, 7, 9, 11, 13, 3, 6, 10, 12, 9, 2, 10, 13, 3, 6, 7, 10, 1, 3, 4, 5, 6, 7, 8, 9, 10, 11, 12, 13, 14, 15, 4, 13, 2, 11, 1, 2, 4, 11, 5, 2, 10, 8, 1, 4, 5, 6, 9, 12, 13, 14, 15, 9, 2, 15, 15, 12, 3, 10, 14, 2, 13, 1, 3, 11, 8, 9, 14, 1, 13, 9, 11, 1, 8, 12, 1, 9, 11, 2, 5, 6, 9, 6, 15, 14, 10, 10, 13, 14, 5, 7, 12, 5, 15, 5, 13, 6, 10, 2, 3, 4, 5, 9, 10, 12, 14, 15, 2, 4, 5, 10, 12, 15, 7, 3, 4, 5, 6, 7, 9, 10, 11, 12, 13, 14, 15, 10, 1, 5, 6, 8, 9, 11, 13, 4, 8, 9, 5, 1, 2, 6, 7, 8, 13, 14, 7, 8, 7, 8, 9, 13, 15, 13, 1, 2, 6, 7, 8, 10, 11, 13, 14, 4, 2, 10, 14, 8, 12, 13, 2, 13, 13, 2, 11, 1, 2, 4, 5, 7, 9, 10, 11, 12, 13, 15, 4, 5, 12, 11, 15, 15, 7, 1, 5, 6, 10, 11, 15, 1, 8, 6, 7, 7, 8, 7, 10, 12, 7, 4, 1, 8, 15, 8, 12, 3, 9, 14, 1, 5, 8, 12, 13, 4, 3, 7, 11, 12, 15, 1, 2, 5, 6, 7, 1, 5, 9, 14, 3, 8, 11, 8, 5, 10, 3, 15, 5, 11, 12, 13, 1, 2, 3, 7, 9, 10, 4, 4, 12, 13, 4, 12, 11, 14, 3, 1, 4, 7, 9, 13, 3, 4, 6, 7, 8, 9, 12, 14, 4, 9, 2, 7, 12, 6, 3, 3, 6, 6, 9, 4, 2, 11, 11, 4, 5, 7, 8, 9, 12, 13, 15, 5, 11, 12, 4, 1, 4, 15, 10, 5, 1, 3, 8, 1, 1, 3, 6, 1, 2, 8, 2, 2, 6, 11, 3, 4, 11, 14, 8, 3, 1, 5, 11, 13, 4, 6, 9, 7, 13, 7, 11, 12, 6, 1, 12, 11, 9, 12, 14, 1, 4, 9, 4, 8, 9, 11, 13, 1, 2, 4, 1, 5, 1, 3, 8, 12, 6, 7, 13, 2, 12, 8, 4, 9, 11, 15, 14, 10, 9, 5, 6, 8, 7, 6, 5, 6, 10, 14, 9, 13, 1, 5, 9, 10, 11, 12, 12, 1, 8, 9, 11, 12, 10, 15, 1, 2, 3, 4, 9, 11, 12, 14, 1, 2, 7, 9, 11, 1, 3, 5, 12, 15, 2, 2, 9, 10, 15, 3, 6, 10, 12, 12, 14, 13, 14, 1, 7, 8, 9, 12, 13, 14, 2, 3, 5, 7, 8, 10, 11, 12, 15, 11, 15, 14, 8, 10, 8, 2, 14, 15, 5, 3, 9, 5, 7, 8, 11, 12, 13, 1, 5, 7, 8, 10, 11, 12, 13, 15, 7, 10, 13, 7, 8, 12, 13, 3, 6, 9, 12, 13, 9, 6, 8, 10, 6, 15, 1, 7, 11, 2, 6, 9, 12, 14, 11, 13, 7, 6, 12, 13, 3, 14, 13, 14, 3, 4, 1, 5, 6, 12, 15, 6, 9, 11, 15, 1, 4, 5, 9, 13, 14, 15, 10, 11, 2, 4, 6, 10, 12, 13, 15, 14, 14, 3, 4, 5, 6, 7, 8, 9, 10, 11, 12, 13, 14, 15, 2, 7, 8, 3, 9, 1, 5, 10, 11, 14, 15, 10, 14, 15, 11, 7, 8, 15, 1, 4, 9, 1, 5, 11, 15, 11, 5, 4, 15, 6, 11, 15, 11, 15, 4, 5, 11, 5, 7, 12, 14, 5, 6, 8, 9, 11, 12, 13, 14, 15, 1, 2, 3, 4, 5, 6, 7, 9, 11, 12, 14, 15, 1, 2, 3, 4, 5, 6, 9, 10, 11, 12, 13, 14, 15, 1, 2, 3, 4, 5, 6, 8, 9, 11, 12, 14, 15, 15, 1, 4, 7, 9, 10, 11, 13, 14, 1, 8, 9, 10, 11, 13, 14, 3, 6, 15, 14, 5, 13, 14, 10, 7, 3, 15, 3, 4, 5, 6, 7, 8, 9, 10, 11, 12, 13, 14, 15, 6, 11, 1, 11, 3, 7, 15, 1, 2, 7, 8, 9, 10, 14, 15, 2, 7, 8, 9, 10, 5, 8, 9, 10, 7, 7, 7, 5, 9, 13, 2, 6, 1, 1, 6, 8, 13, 15, 1, 11, 6, 8, 3, 6, 3, 4, 5, 6, 12, 13, 15, 2, 8, 9, 1, 5, 6, 11, 12, 13, 1, 3, 5, 6, 7, 8, 11, 12, 13, 14, 1, 4, 5, 6, 7, 11, 12, 14, 15, 1, 4, 8, 11, 13, 14, 3, 4, 5, 12, 4, 5, 7, 12, 4, 8, 4, 13, 5, 6, 10, 13, 14, 4, 8, 9, 10, 14, 4], \"Freq\": [0.006140584296079152, 0.024562337184316607, 0.1326366207953097, 0.8363475811259805, 0.03355103377131259, 0.0068008852239147145, 0.003627138786087848, 0.16911534590134591, 0.07526312981132284, 0.047152804219142024, 0.19405192505569985, 0.24936579154353955, 0.000453392348260981, 0.13647109682655528, 0.08478436912480344, 0.9998103075173461, 0.9985512071956455, 0.040860482797328235, 0.9590195668314098, 0.9974538416837483, 0.9952977812904592, 0.037115971795322826, 0.001953472199753833, 0.08399930458941482, 0.8751555454897172, 0.9986385117783554, 0.0077764673627223075, 0.0064803894689352565, 0.09228074603763806, 0.001036862315029641, 0.4137080636968268, 0.022292539773137283, 0.11172191444444382, 0.08994780582882136, 0.19518933080432993, 0.05961958311420436, 0.47067357942039206, 0.029096184909624238, 0.19169251234575968, 0.03594234606482994, 0.0028525671480023763, 0.09014112187687509, 0.002282053718401901, 0.03594234606482994, 0.14148733054091786, 0.996183432505831, 0.995578995786801, 0.9979114926482188, 0.9998525769250137, 0.9972603882408229, 0.0072318243052111415, 0.9923320655324506, 0.9980108440606803, 0.9970505141307374, 0.9940981879226477, 0.9955673859072579, 0.9981822331809318, 0.9989756766718241, 0.9984498142552686, 0.9974540805439553, 0.0014628761611087655, 0.5719845789935273, 0.4264284009632051, 0.9921466610554043, 0.09219949345455226, 0.002071898729315781, 0.014503291105210467, 0.13363746804086787, 0.7562430362002601, 0.99825760376526, 0.9913353921149106, 0.23724399357374348, 0.6963878418333764, 0.0023606367519775472, 0.062556873927405, 0.20695730812569013, 0.15352160971618817, 0.011026413957516279, 0.003392742756158855, 0.002544557067119141, 0.6217201100661102, 0.12991801694794092, 0.14244023544894727, 0.0023479159689386913, 0.04695831937877382, 0.0540020672855899, 0.6245456477376918, 0.9987779423117429, 0.9956196706856721, 0.2143467730903419, 0.02573849046950956, 0.5426180121932671, 0.2173003703573348, 0.998335231954788, 0.9955153130929916, 0.003873280129616192, 0.9934963532465533, 0.001936640064808096, 0.9972562805114954, 0.0025359345976134658, 0.9983643537546728, 0.000828518135895994, 0.25090990578416983, 0.001277979146608675, 0.0736967974544336, 0.5060797420570353, 0.16741526820573643, 0.07758589452339386, 0.9030998122523045, 0.010344785936452515, 0.008275828749162011, 0.9982804656876039, 0.055205580058168696, 0.7341373628788048, 0.013559265277444943, 0.01065370843227817, 0.06779632638722471, 0.11234819801311524, 0.0048425947419446225, 0.9972470914501946, 0.0019922876701345227, 0.9971399789023285, 0.9706548709841812, 0.023389273999618824, 0.003898212333269804, 0.9920623947795668, 0.9955524899389089, 0.5123721308871098, 0.4871885140874752, 0.9995077885208815, 0.9952052551895954, 0.9967341707539562, 0.9882263774458695, 0.9944042495572534, 0.951300544844753, 0.04801926351876652, 0.9989482789641104, 0.0005675842494114264, 0.0004801210709540301, 0.009122300348126573, 0.4801210709540301, 0.0004801210709540301, 0.05521392315971346, 0.13971523164762276, 0.007681937135264482, 0.0009602421419080602, 0.0494524703082651, 0.08594167170077138, 0.07489888706882869, 0.060015133869253764, 0.0350488381796442, 0.9954324243713899, 0.9975848484899887, 0.9979043560452339, 0.9995326223173254, 0.9985135503455621, 0.0006550558891460654, 0.13690668083152766, 0.013756173672067372, 0.2135482198616173, 0.0006550558891460654, 0.01834156489608983, 0.0026202235565842614, 0.0510943593533931, 0.08057187436496603, 0.41137509838372904, 0.06485053302546047, 0.004585391224022457, 0.9938738490359976, 0.0030026400272990866, 0.9988983653087408, 0.999354442611778, 0.9964258631749093, 0.9980109364555027, 0.019234355301267374, 0.06140198038481508, 0.002219348688607774, 0.004438697377215548, 0.2618831452557173, 0.1287222239392509, 0.5222867247190295, 0.9989326014444105, 0.5324312355173653, 0.0284839755626574, 0.1818592285923511, 0.11174482720734827, 0.10407606455586357, 0.039439350779064096, 0.0010955375216406692, 0.06565346184833064, 0.11199525857319102, 0.8127948173395079, 0.008028445051330328, 0.00027898071606939363, 0.00027898071606939363, 0.0009299357202313121, 0.9974421149534204, 0.027606861987071154, 0.0006901715496767789, 0.08903212990830447, 0.8751375249901556, 0.0069017154967677885, 0.9965701512345946, 0.9961733704533741, 0.9995189160494007, 0.000335634290144191, 0.9851990752940217, 0.012818575329104371, 0.02358509941926993, 0.974359419758589, 0.9981654520423568, 0.9979876143262549, 0.9983599719165485, 0.9895244617882204, 0.00038510431628798695, 0.5075674888675668, 0.4917782118997593, 0.08397441964799644, 0.5163533463461909, 0.007146759118978421, 0.3923570756319153, 0.9317792465128637, 0.06743878744363307, 0.995259823758324, 0.0029101164437377895, 0.997590375684093, 0.06795381232230133, 0.9287021017381182, 0.9960644769328731, 0.0438239717582422, 0.10159193453047057, 0.4800716906243805, 0.12947991655844288, 0.2450158421028996, 0.08516590701062454, 0.8793197920413199, 0.004367482410801258, 0.0014558274702670862, 0.029480506272908494, 0.07851468757066488, 0.07471558978498755, 0.2830327850329613, 0.5632162467266646, 0.9985760813935365, 0.09924867376525284, 0.03383477514724529, 0.04398520769141887, 0.8233128619163019, 0.9963339619067307, 0.9843337437791075, 0.006497252434185528, 0.002165750811395176, 0.003248626217092764, 0.002165750811395176, 0.990175157785831, 0.005381386727096908, 0.9986720809329319, 0.03985595836433224, 0.9582036656758209, 0.0011071099545647844, 0.9995319909107222, 0.9973027134056232, 0.24136063068267, 0.5912729017979981, 0.16676927999430716, 0.005015202055518344, 0.9930100069926321, 0.9980862271511414, 0.2144757848278535, 0.7844525280689985, 0.17389912123473492, 0.8252303753139238, 0.991861932300029, 0.005595465728724027, 0.9903974339841528, 0.9974563541834894, 0.9962078975231334, 0.48302405293615347, 0.0008023655364387932, 0.004814193218632759, 0.0004011827682193966, 0.13038439967130389, 0.0004011827682193966, 0.0024070966093163795, 0.025675697166041383, 0.22024933975244873, 0.015646127960556467, 0.11554063724718622, 0.018474599593692916, 0.14964425670891263, 0.8313569817161812, 0.9980561806238888, 0.997519346538633, 0.002862096427614156, 0.9931474603821121, 0.9964252882698873, 0.9984758532668433, 0.995974096861701, 0.19549951753484301, 0.001143272032367503, 0.6573814186113143, 0.020578896582615056, 0.12347337949569033, 0.021907098677400375, 0.7489489360336253, 0.006845968336687617, 0.2108558247699786, 0.01232274300603771, 0.03406900312817651, 0.002433500223441179, 0.0687463813122133, 0.5852568037376036, 0.0006083750558602948, 0.07604688198253685, 0.043803004021941226, 0.0012167501117205895, 0.1879878922608311, 0.17012607447741956, 0.8290759376116781, 0.9971332092682036, 0.050512912752651754, 0.00336752751684345, 0.059492986130900954, 0.0606154953031821, 0.0269402201347476, 0.06847305950915016, 0.0022450183445623002, 0.0493904035803706, 0.6151350264100702, 0.01683763758421725, 0.0471453852358083, 0.9970456019262546, 0.3071111731983374, 0.0426832478004469, 0.6371255525335, 0.012492657892813725, 0.9644192967503277, 0.03546901091375986, 0.9966972994633677, 0.002384443300151597, 0.9998010359611015, 0.9933018976312028, 0.6582817401436989, 0.003501498617785632, 0.30287963043845717, 0.035014986177856325, 0.9979477876030671, 0.4766100742652675, 0.1514939164628886, 0.00042554470916541745, 0.2225598828935133, 0.14851510349873068, 0.2105573791976997, 0.0005599930297811162, 0.16407795772586706, 0.6238322351761635, 0.029722872882378768, 0.003302541431375419, 0.96599336867731, 0.9985474263187554, 0.9989315542186393, 0.23370098029626485, 0.001232166855692082, 0.22014714488365195, 0.2628622625476441, 0.04394728451968425, 0.016018169123997065, 0.22137931173934403, 0.0008214445704613879, 0.09587233278924015, 0.30131304590904046, 0.012215393753069207, 0.21099316482574088, 0.22394888547293548, 0.006292778600065956, 0.1491758691662694, 0.9955124132273164, 0.9972015549640718, 0.9996150906985922, 0.0038819197075932953, 0.9937714451438836, 0.995700240791785, 0.003267117849882638, 0.001633558924941319, 0.9474641764659651, 0.0424725320484743, 0.003267117849882638, 0.9955730682802805, 0.9971177061029143, 0.9715487397744448, 0.003840113595946422, 0.005120151461261897, 0.016640492249101163, 0.0025600757306309483, 0.997532502139462, 0.10990105283196709, 0.8843499923788697, 0.0006426962153916204, 0.004498873507741343, 0.05762793256235777, 0.0004502182231434201, 0.012155892024872342, 0.9274495396754454, 0.0013506546694302603, 0.9978255661617098, 0.9976137889311751, 0.7739810576547627, 0.12662266791897958, 0.09813256763720916, 0.9985995512563218, 0.9989773618158738, 0.9963219188698359, 0.02300701976032604, 0.9739638365204689, 0.0057820512844654086, 0.03758333334902515, 0.0028910256422327043, 0.9511474362945597, 0.9930605238379054, 0.1645263487598593, 0.8350154474693935, 0.9903348339925958, 0.9952577017868312, 0.9985973819808247, 0.999067919264317, 0.9542303203080499, 0.04133849763067364, 0.0021702196728119677, 0.09331944593091461, 0.0021702196728119677, 0.9006411642169666, 0.9961758392892774, 0.996232011436847, 0.9941982146066659, 0.998347697850979, 0.9990748868430381, 0.00046104055691879934, 0.02902312280971257, 0.132836600552146, 0.01897665722173514, 0.8182288084430506, 0.3174293807853534, 0.6802826103029038, 0.002150241360104003, 0.9991913287292229, 0.9965636680004415, 0.9952240434307519, 0.9976174310018644, 0.9982991535576713, 0.9962384198244996, 0.9960670270721789, 0.003413359294477986, 0.9932875546930939, 0.36360077509436395, 0.012156864820784204, 0.623315614447481, 0.9412876905532651, 0.056417874197198854, 0.9978293708728261, 0.997829955902954, 0.9972619243280529, 0.9982206453659949, 0.9957624821228522, 0.9981017339050122, 0.06723961578085842, 0.005017881774690927, 0.9273045519628832, 0.9962168409113634, 0.12274727744495356, 0.007768815028161617, 0.8685535201484689, 0.037144879880440185, 0.004643109985055023, 0.009286219970110046, 0.950289843607928, 0.99732670628835, 0.0182084652723706, 0.00021937909966711564, 0.006581372990013469, 0.00010968954983355782, 0.00021937909966711564, 0.0006581372990013468, 0.9731656861233249, 0.0007678268488349047, 0.06783543071170434, 0.8673890407003261, 0.06331306866425737, 0.9911608896876143, 0.9974509127915491, 0.004224398661603771, 0.0005450836982714544, 0.03243248004715153, 0.0002725418491357272, 0.0001362709245678636, 0.06813546228393179, 0.8413366882819897, 0.05287311873233107, 0.9904069170763835, 0.009131411292193607, 0.06813663963610458, 0.05137003197695843, 0.0010702089995199672, 0.4166680371464406, 0.20797728224004697, 0.013555980660586251, 0.06171538563898477, 0.04744593231205188, 0.005707781330773158, 0.012842507994239607, 0.0003567363331733224, 0.11272868128276987, 0.004365220667982611, 0.9941790071330396, 0.9988891482774327, 0.9981146342237707, 0.9988707702413999, 0.9962175378030467, 0.05383577486692426, 0.024070286567247575, 0.12017233844213632, 0.08338634989367909, 0.0025073215174216223, 0.6366805710309905, 3.581887882030889e-05, 0.007629421188725794, 0.0017909439410154445, 0.00010745663646092667, 0.007880153340467955, 0.00028655103056247113, 0.061608471570931286, 0.009339253073529527, 0.007902444908371139, 0.028736163303167778, 0.19756112270927847, 0.025144142890271805, 0.5344926374389206, 0.07255881234049863, 0.0014368081651583888, 0.01149446532126711, 0.0007184040825791944, 0.11063422871719594, 0.9988136670456808, 0.9983981280463047, 0.007068816871355965, 0.28139328699436245, 0.1644859310450138, 0.16584531890488996, 0.027187757197522942, 0.035344084356779826, 0.08971959875182571, 0.11201355965379452, 0.05709429011479818, 0.005709429011479818, 0.05383175925109543, 0.9998081683209149, 0.1829160687389263, 0.06362298043093088, 0.751907950547365, 0.9978702567895158, 0.9979913022729973, 0.9965070057159383, 0.9992762180049315, 0.8102102107054188, 0.1887868452129131, 0.9938976761491279, 0.9995597218703178, 0.9992480645509616, 0.9977148256762305, 0.04790374787873099, 0.9512315650205153, 0.5603716954554714, 0.43662587563092564, 0.002109303747009303, 0.9935328184718484, 0.9992873706247718, 0.9983694065834817, 0.10479536847025352, 0.0007432295636188192, 0.8851864102700138, 0.008175525199807012, 0.9940520968291778, 0.9949538414662025, 0.9986254819867318, 0.0008698828240302543, 0.02276654953445305, 0.975926090043554, 0.995432648499006, 0.9989888147133082, 0.997318728569257, 0.7603126230015349, 0.2395124013850989, 0.0005450455944536548, 0.9990685746335493, 0.9992373613674294, 0.99948029892929, 0.9997593468662215, 0.9981942252585628, 0.4580764101282517, 0.5416723173346807, 0.9926414010614268, 0.9099249392474414, 0.08316518261938981, 0.007338104348769689, 0.8242338782213486, 0.14548521009082863, 0.029534591522198294, 0.838690787817631, 0.15963367850115964, 0.0004093171243619478, 0.0008186342487238956, 0.005409866946540622, 0.9900056512169338, 0.9968893109989305, 0.16466217137370875, 0.8336949577659849, 0.0007417214926743637, 0.009179173777306295, 0.011558959571422741, 0.19718225151250557, 0.45113939268464637, 0.001019908197478477, 0.003739663390754416, 0.12068913670161979, 0.2053415170923334, 0.9947190199642493, 0.9547666187148878, 0.044506324068840496, 0.009601271307618698, 0.9517260183677033, 0.03720492631702245, 0.9987043789570385, 0.9932067866758756, 0.9993206991443728, 0.9970711573753235, 0.9981728312515196, 0.9972782687848658, 0.9996819352467349, 0.004451153034649985, 0.8546213826527973, 0.028932494725224907, 0.10905324934892464, 0.997649033222152, 0.9934630746349534, 0.9955554669293004, 0.003998214726623696, 0.0067629662767221205, 0.9907745595397907, 0.9949712645780737, 0.9952469675739526, 0.13568259240798253, 0.8629412877147689, 0.9955358638589048, 0.7278924824825441, 0.10376664320505871, 0.02899362089553111, 0.13886418428912267, 0.984036444015465, 0.011855860771270663, 0.9951725720341115, 0.998446593009261, 0.0023460958547124496, 0.0023460958547124496, 0.9923985465433662, 0.9950928287560359, 0.9973698043264954, 0.08646058458673557, 0.1883856639776027, 0.6593498239216095, 0.06466970554455019, 0.011945515267461492, 0.9869981989740059, 0.9961099790589323, 0.7905906809243933, 0.20731044522017425, 0.0011712454532213233, 0.9970843359078323, 0.024027901060384226, 0.9239820135038662, 0.050240156762621564, 0.9931588713908528, 0.12300285571363823, 0.8765805922243013, 0.9982781550527002, 0.9949671917897408, 0.028582425344460764, 0.17784620214331143, 0.0851121110257276, 0.0025406600306187347, 0.0006351650076546837, 0.021595610260259242, 0.026676930321496713, 0.6567606179149429, 0.0006957930850507513, 0.002087379255152254, 0.14124599626530251, 0.0013915861701015025, 0.06053399839941536, 0.7925083238728057, 0.869472752424572, 0.12607354910156293, 0.0028982425080819065, 0.003109331633977157, 0.9918767912387132, 0.9952240434088725, 0.9970964593024548, 0.9419051874813456, 0.05512422216811946, 0.992729543466556, 0.9984667323076014, 0.07034420067861498, 0.9294995837242231, 0.9884137292679109, 0.008520808010930267, 0.99747511423742, 0.9936227630822019, 0.9960833253925163, 0.6352684457886997, 0.057872622810070024, 0.15066838007449265, 0.15599000056277493, 0.6963595209122507, 0.016699269086624717, 0.08182641852446113, 0.05761247834885528, 0.14695356796229753, 0.000649870838020904, 0.9390633609402063, 0.059788117097923164, 0.000649870838020904, 0.9966701439442605, 0.05434795899904522, 0.5855554292155195, 0.17706915673882476, 0.1814520566581026, 0.9964973563525258, 0.9951800409163846, 0.9945684740234345, 0.1001187427207253, 0.0072085494758922205, 0.0008009499417658023, 0.04084844703005592, 0.06487694528303, 0.7857318928722521, 0.03293389875349128, 0.0003920702232558486, 0.966061030102411, 0.09288973402850877, 0.00399434354925884, 0.17260663294775966, 0.025750767987775074, 0.018271997087035117, 0.0008498603296295404, 0.15450460792665044, 0.17354147931035216, 0.039858449459625446, 0.06713896604073369, 0.04096326788814385, 0.06365453868925257, 0.09254978989665695, 0.052946298535920366, 0.0004249301648147702, 0.5550665156270113, 0.05644744226715369, 0.09407907044525615, 0.02238433055421612, 0.2715316619402738, 0.9924177234369114, 0.7465904920710987, 0.0010109553040908582, 0.2016855831661262, 0.04953680990045205, 0.0005054776520454291, 0.9981606640085925, 0.9978255415304124, 0.9971988130063902, 0.9976871691780652, 0.014465210726487519, 0.006027171136036466, 0.0024108684544145867, 0.0048217369088291735, 0.019286947635316694, 0.024108684544145866, 0.0012054342272072934, 0.8317496167730324, 0.09643473817658346, 0.710894307912075, 0.007535982062672173, 0.2813433303397611, 0.9968709609672592, 0.9978676331207483, 0.7703159828043527, 0.10032661328227965, 0.12850052523141298, 0.0010096555155749045, 0.9985493049035806, 0.9943167448695066, 0.9973146835474571, 0.10321277214967171, 0.8951250537028077, 0.0018430852169584236, 0.9974676964618331, 0.02068612837103021, 0.04426831471400466, 0.0024823354045236255, 0.2047926708731991, 0.0008274451348412085, 0.1166697640126104, 0.002068612837103021, 0.0682642236243997, 0.1741772008840744, 0.0053783933764678556, 0.006619561078729668, 0.014480289859721149, 0.33883878271747486, 0.7820467547216693, 0.21682338934226375, 0.9275901394650391, 0.0706442821446884, 0.9964966042217005, 0.011797414401988695, 0.8085161336829585, 0.001572988586931826, 0.00786494293465913, 0.07078448641193216, 0.007078448641193217, 0.003932471467329565, 0.08572787798778451, 0.002359482880397739, 0.998805582197208, 0.9985787379171933, 0.99841906934196, 0.9637352889010374, 0.03487200058523491, 0.9994883334239434, 0.9981063827586087, 0.9996930653173268, 0.9954891301960859, 0.99958805383973, 0.9985912639235622, 0.053532128959678946, 0.4431270674995646, 0.1481055567884451, 0.026171263046954153, 0.15226916681864233, 0.0011896028657706432, 0.039256894570431224, 0.03747249027177526, 0.0005948014328853216, 0.09814223642607807, 0.9962033850979349, 0.9989236923568752, 0.9940047843736123, 0.998552575465378, 0.9966631539841727, 0.993009885958987, 0.9938698776115851, 0.008960922949553732, 0.0020679052960508614, 0.0006893017653502871, 0.9877694297469614, 0.9663861057065488, 0.030011990860451827, 0.9990753730806795, 0.9955186126286203, 0.9984772801637168, 0.9952859038584501, 0.004658654840415294, 0.9922934810084576, 0.9972193753431597, 0.9913249541676026, 0.9949962706515877, 0.9923401444724805, 0.0004503569400181717, 0.8547774721544898, 0.14411422080581493, 0.0004503569400181717, 0.9987050340178718, 0.995552489961837, 0.9996634074417146, 0.9990269391345424, 0.0527731786892604, 0.007818248694705245, 0.9381898433646293, 0.21141481103832088, 0.787832435882408, 0.08591766030088867, 0.11946918626351713, 0.10015380884366705, 0.00021461530466500083, 0.11646457199820712, 0.11074149720714042, 0.00014307686977666723, 0.23249991338708423, 0.016883070633646732, 0.07168151175811027, 0.0005007690442183352, 0.04285152249811183, 0.02060306924784008, 0.08191150794714198, 0.6054491657279409, 0.00224587016653332, 0.0009357792360555501, 0.03705685774779978, 0.14448431404697692, 0.2094273930292321, 0.01572339162373251, 0.010107894615256612, 0.002246198803390358, 0.001123099401695179, 0.1987885941000467, 0.005615497008475896, 0.764830692554417, 0.9950401272025146, 0.9982743342311619, 0.001411986328474062, 0.9983455815441622, 0.7536957652207752, 0.012048422534612748, 0.14458107041535298, 0.08701638497220318, 0.0026774272299139442, 0.9940899532266194, 0.9975696706113326, 0.20354008475938906, 0.7959147139097226, 0.12826427798092166, 0.8695883252943842, 0.9988646554511288, 0.06835502255918621, 0.13568982090107112, 0.004080896869205147, 0.06631457412458364, 0.0030606726519038603, 0.0010202242173012867, 0.03774829604014761, 0.5662244406022141, 0.004080896869205147, 0.11324488812044282, 0.9990516353463963, 0.0007838595613445586, 0.010190174297479263, 0.7156637795075821, 0.003919297806722793, 0.013325612542857497, 0.002351578684033676, 0.002351578684033676, 0.10268560253613719, 0.006270876490756469, 0.1426624401647097, 0.9962422064116471, 0.004112479978748127, 0.8975487553617788, 0.0020562399893740636, 0.015421799920305478, 0.08019335958558849, 0.11527877490728704, 0.7788706971300035, 0.10567221033167978, 0.7755549881236325, 0.22099147511049744, 0.9990473076239323, 0.000592554749480387, 0.9961910499923522, 0.9985263872152825, 0.9327679986916014, 0.06653310200457577, 0.9944381853939611, 0.9951044435526563, 0.9946171782686847, 0.9952722191781751, 0.9952357888104963, 0.001308346911068657, 0.8146640099587504, 0.18360468318663486, 0.06632996875733291, 0.8328096077309576, 0.0987579534831401, 0.989872183039456, 0.008031417306608161, 0.9958465559748219, 0.014851979872642695, 0.7921055932076104, 0.19142551835850585, 0.12891966894453727, 0.0077662451171407985, 0.0077662451171407985, 0.8542869628854879, 0.012746123627253934, 0.764767417635236, 0.22066726529683375, 0.0015932654534067418, 0.9975527809491209, 0.0012438313976921706, 0.9991827183535377, 0.0002470463368776255, 0.14032231934649128, 0.6655428315483232, 0.1936843281120584, 0.0019116912699475115, 0.9959911516426534, 0.0019116912699475115, 0.01585041740986866, 0.8027104245426342, 0.16529721013148743, 0.014718244737735182, 0.9983207007807758, 0.9920623947556767, 0.9953091417975739, 0.9955194839288479, 0.9985625505682465, 0.16087114389087961, 0.0013518583520241985, 0.18250087752326677, 0.6529475840276878, 0.9920686575702976, 0.0037436553115860285, 0.11461050538502754, 0.0011907584975067798, 0.0007442240609417373, 0.8555599804586212, 0.02768513506703263, 0.9991192861574022, 0.9961977730401792, 0.9958222782742598, 0.9961659094530643, 0.140843162731061, 0.6352168904991792, 0.22371300342888226, 0.375711165104193, 0.01906226860594105, 0.6044583883754856, 0.9911667233091606, 0.004567588586678159, 0.995956804542541, 0.02603062170399769, 0.9426443846744453, 0.00016793949486450122, 0.030732927560203724, 0.00016793949486450122, 0.9963280597871678, 0.0004838979194493843, 0.9992492036629785, 0.8762019402567195, 0.017091065154552398, 0.01595166081091557, 0.0022788086872736527, 0.004557617374547305, 0.08431592142912515, 0.99352514494993, 0.9985551616303752, 0.9941871082470161, 0.9943900594207243, 0.9974223013192755, 0.023574900284306737, 0.976285843092417, 0.002828145527698578, 0.996449940925799, 8.274746461636094e-05, 0.9515130956235345, 0.0017376967569435798, 0.0002482423938490828, 0.0002482423938490828, 0.04302868160050769, 0.0005792322523145265, 0.002482423938490828, 0.214735191134648, 0.7833297817447019, 0.9983811537756812, 0.014362449761310942, 0.9848536979184647, 0.9951528620183122, 0.003552192183360792, 0.02175717712308485, 0.015984864825123565, 0.000444024022920099, 0.2135755550245676, 0.007104384366721584, 0.7139906288555191, 0.007992432412561782, 0.015096816779283366, 0.9985402536747665, 0.990889232108227, 0.0012529054137524098, 0.00031322635343810246, 0.9976259357003563, 0.0006264527068762049, 0.91933604902023, 0.0535472926797748, 0.026451072287599603, 0.0006451481045756, 0.9990575167392967, 0.9979794292960962, 0.9997963972508196, 0.9987354174353493, 0.9981191633884843, 0.3041023944608352, 0.6261732383705648, 0.06915130545483629, 0.0005444984681483172, 0.9983022210058552, 0.010231392009796097, 0.8594369288228721, 0.1295976321240839, 0.11821399958487425, 0.881640932450864, 0.0007955718820148529, 0.1400206512346141, 0.0031822875280594115, 0.8544442012839519, 0.9986813836640787, 0.0007747722138588663, 0.0016372908598794639, 0.0016372908598794639, 0.0016372908598794639, 0.0032745817197589277, 0.9905609702270756, 0.6268310604622558, 0.31244520351214605, 0.0012937689586424268, 0.05951337209755163, 0.9967921115327855, 0.9966721171590949, 0.9968689523426204, 0.001697110968841218, 0.04412488518987166, 0.02545666453261827, 0.9283196999561462, 0.020569191899289352, 0.9782707667302015, 0.9996868127622455, 0.0026038892403645103, 0.9972895790596075, 0.9965069443444556, 0.00022850892424659908, 0.9967559275636653, 0.002742107090959189, 0.24334591537760725, 0.021643747281181413, 0.731207678418291, 0.003509796856407797, 0.9990459920272768, 0.9717692339886123, 0.02545636945528255, 0.0011067986719688065, 0.0011067986719688065, 0.013287134872550973, 0.12924758466935946, 0.009663370816400707, 0.846752867787112, 0.997497837203168, 0.0059218225224368, 0.06083326773048712, 0.0005383475020397091, 0.0016150425061191272, 0.9264960510103393, 0.0043067800163176725, 0.9588947128923733, 0.034658845044302646, 0.998121616917908, 0.99486474034192, 0.02709912392540287, 0.0022582603271169063, 0.9687936803331527, 0.018866205187139443, 0.9786843940828587, 0.995846555974844, 0.9995074936558243, 0.9961773013076088, 0.10248221936611285, 0.0026412943135596095, 0.015319507018645734, 0.10036918391526516, 0.7252994185034687, 0.05282588627119219, 0.9991727257258135, 0.9979649051416826, 0.25794679772781237, 0.44590803018063685, 0.29593896173423434, 0.7288514679475183, 0.03204645687706112, 0.23829416652173654, 0.8480511557316924, 0.1377092414097024, 0.013869995537667866, 0.997605846823912, 0.9958453460368475, 0.9963926569874425, 0.04312034830610855, 0.00036235586811855927, 0.010870676043556779, 0.00036235586811855927, 0.9446617481850841, 0.00043995116860400554, 0.8856217023998633, 0.010558828046496134, 0.10162871994752529, 0.0013198535058120168, 0.18272640661304093, 0.0008459555861714858, 0.0008459555861714858, 0.7596681163819943, 0.006767644689371887, 0.007613600275543373, 0.04060586813623132, 0.045348697463804315, 0.0018895290609918466, 0.9485435886179069, 0.0018895290609918466, 0.9988488403065952, 0.9966177670784618, 0.0017608087757569996, 0.9955507774683767, 0.55644066839016, 0.017664783123497143, 0.010795145242137144, 0.4131596497217943, 0.04470362594801465, 0.04434311283553066, 0.12437702380697625, 0.21162119702810162, 0.017665142511715467, 0.11969035334468439, 0.04145900793565875, 0.05768209799743826, 0.021630786749039347, 0.09842007970812904, 0.04181952104814274, 0.07787083229654165, 0.038214389923302845, 0.06020568978482618, 0.997876365651159, 0.9982194490880174, 0.02298347063276456, 0.9748822126730967, 0.9965162549722776, 0.10954834777971915, 0.694636114330492, 0.19552720255228662, 0.9967276788991553, 0.9997694245228955, 0.9954982697866993, 0.9974136833116923, 0.06656530401486388, 0.0012559491323559221, 0.20723160683872716, 0.0935682103605162, 0.29985785534997644, 0.017269300569893932, 0.28667038946023926, 0.027002906345652326, 0.00031398728308898054, 0.9988871954677307, 0.0034049316768790523, 0.9959425154871229, 0.9972509821473016, 0.9952022361021203, 0.8621839359246621, 0.13524453896857447, 0.001536869761006528, 0.07019680737134136, 0.9295142464002255, 0.9973133685354937, 0.9098820683071261, 0.08932088366889326, 0.8886144728001588, 0.05194450731066601, 0.05899869966149719, 0.7901009662255907, 0.2083255281542566, 0.00769309946700442, 0.9885632815100679, 0.9777232051055751, 0.0156549567047472, 0.0042695336467492365, 0.01868439363759605, 0.006228131212532017, 0.9715884691549946, 0.0011695981387600661, 0.9976672123623365, 0.9975363090954242, 0.9968765962775058, 0.8133616270876122, 0.18643805557927634, 0.998817669468952, 0.9989124750394849, 0.9983041584646309, 0.000942685702044033, 0.000942685702044033, 0.9930661472893396, 0.9794032233366705, 0.020404233819513968, 0.9751656878391988, 0.02342100996993709, 0.9873057161598858, 0.011808307568689664, 0.013304031370933882, 0.9844983214491072, 0.0008622874763340445, 0.03362921157702773, 0.004311437381670222, 0.5061627486080841, 0.004311437381670222, 0.13279227135544283, 0.037940648958697955, 0.2793811423322304, 0.9974544235906493, 0.0003975896561369769, 0.12802386927610657, 0.0004771075873643723, 0.0027831275929588385, 0.8592707648432345, 0.008985526228695678, 0.9994583544124701, 0.10138866067316507, 0.031013002088262256, 0.0008946058294691036, 0.2236514573672759, 0.00029820194315636784, 0.11272033451310705, 0.3083408092236844, 0.04204647398504787, 0.015208299100974761, 0.08647856351534668, 0.05337814782498985, 0.024452559338822163, 0.9974726716597561, 0.0691640210245053, 0.009202080050470664, 0.03829252666163598, 0.11843967548831595, 0.6874844321577437, 0.0014842064597533327, 0.07539768815546931, 0.002401515097459537, 0.026416666072054906, 0.9678105842761934, 0.9945624411998127, 0.08610915286144828, 0.004746173779764866, 0.006102223431126256, 0.6163245665437518, 0.14102916374158458, 0.021018769596101546, 0.12475656792524789, 0.9952052144537166, 0.004062062099811088, 0.8421311621965305, 0.1417811535773549, 0.008555759267599003, 0.004889005295770859, 0.9957808535720732, 0.9963734694111112, 0.44635522153343804, 0.12668828069925964, 0.14583883475845005, 0.011784956344117175, 0.0007365597715073234, 0.013258075887131822, 0.0007365597715073234, 0.13405387841433286, 0.12005924275569373, 0.9960619262333184, 0.9974365884884493, 0.9955212279213369, 0.9991995608420188, 0.016085940479451392, 0.09222605874885464, 0.8900887065296437, 0.9941588232890837, 0.0049154947999460255, 0.9978891759510127, 0.0023438250793957013, 0.9961256587431732, 0.012919464165536345, 0.001649293297728044, 0.00027488221628800736, 0.03518492368486494, 0.09950736229625866, 0.1305690527368035, 0.5588355457135189, 0.044805801254945196, 0.0005497644325760147, 0.05580108990646549, 0.0599243231507856, 0.7215489188500969, 0.13377030518007413, 0.1428910078059883, 0.007731413546568981, 0.9896209339608296, 0.998679122211935, 0.9975009552009475, 0.004940854691265092, 0.783125468565517, 0.027998176583835518, 0.0008234757818775153, 0.002470427345632546, 0.18116467201305336, 0.9957390940044939, 0.9990552188279106, 0.0011185823349259911, 0.9977754427539841, 0.8679540073786526, 0.13103460776215115, 0.31424538806148705, 0.5619097694756685, 0.12383219070709071, 0.9977648662587265, 0.9973400832588166, 0.00041686326337029574, 0.4943998303571707, 0.5048214119414282, 0.9874078164285763, 0.011831684074852222, 0.993437683205061, 0.003061441242542561, 0.0015307206212712805, 0.9951759034696959, 0.261323650788806, 0.0021245825267382596, 0.15190765066178558, 0.5831979035896523, 0.9987640699618096, 0.0640785798022102, 0.0041790378131876214, 0.8873490290001715, 0.04318339073627209, 0.0013930126043958737, 0.001403887222549601, 0.7531854948978609, 0.20637142171479134, 0.03650106778628963, 0.002807774445099202, 0.5961222854272412, 0.04150218442847882, 0.2980611427136206, 0.0628820976189073, 0.9964226708480483, 0.6937157945517042, 0.30608652892206056, 0.9978853578267598, 0.9988339663624068, 0.9982696914153488, 0.9929344530029186, 0.005722965146990886, 0.01636054549545469, 0.013633787912878906, 0.9516383963189476, 0.013633787912878906, 0.9222163221738698, 0.04436317584801414, 0.026886773241220695, 0.0026886773241220695, 0.0013443386620610347, 0.0026886773241220695, 0.9998362260586062, 0.8482051073931339, 0.15140652820800615, 0.9957707618900966, 0.9475875634823129, 0.052302273818813826, 0.003210288200502596, 0.9919790539553022, 0.9947136987042777, 0.01692220698993945, 0.0019908478811693467, 0.0004977119702923367, 0.23641318588885993, 0.7440793955870433, 0.6305741073046081, 0.08235220543299218, 0.25835403076270835, 0.02289212930808808, 0.001189201522498082, 0.003864904948118767, 0.0002973003806245205, 0.0002973003806245205, 0.9981488927762118, 0.9975761509342085, 0.11282888075984558, 0.8863576498153254, 0.0010848930842292843, 0.9885658106253701, 0.9964510476380818, 0.997730612036349, 0.9995129084819722, 0.9966690784826768, 0.9951366313277976, 0.998437504752782, 0.937166774579998, 0.062255444100213386, 0.9961710146867474, 0.026895717812091845, 0.7759414588788497, 0.0874110828892985, 0.004034357671813777, 0.005379143562418369, 0.07530800987385716, 0.020171788359068885, 0.0026895717812091846, 0.14072650930255393, 0.154672379593798, 0.7036325465127696, 0.9969031979990729, 0.9958180875111745, 0.18580370803865526, 0.8135473092088013, 0.9991659997760177, 0.9990827131687434, 0.992356804910926, 0.0035567117877946613, 0.9958793005825051, 0.9981052834909866, 0.9672084485210516, 0.011446253828651498, 0.02003094420014012, 0.9933559176087604, 0.8478268016748677, 0.15171637503655527, 0.9992609855285004, 0.998131272118601, 0.9987070274640494, 0.996184486160075, 0.13432258271063627, 0.012853835666089594, 0.0006426917833044797, 0.8515666128784356, 0.9988260833962184, 0.9963741787316448, 0.9791318114405252, 0.0194162115583107, 0.9961596988827597, 0.995550777439783, 0.0016569027835278648, 0.967631225580273, 0.029824250103501565, 0.11958872224123838, 0.8803337872548305, 0.0009816548134254862, 0.9639850267838275, 0.03484874587660476, 0.9944436536205997, 0.0018259780571107489, 0.9969840191824688, 0.996243246108036, 0.0057995628065945996, 0.9325696993004116, 0.060315453188583834, 0.0010274615734420863, 0.19624516052743848, 0.8014200272848273, 0.006571313169439363, 0.02534649365355183, 0.0009387590242056233, 0.0018775180484112467, 0.9641055178591752, 0.019376388084896723, 0.9795840642920011, 0.9989786184063457, 0.9993179716754236, 0.000674758927532359, 0.8319837021580376, 0.09948691397434917, 0.06437388551281417, 0.0039014476068372226, 0.4559701576175513, 0.3011188465591811, 0.24274917276777766, 0.01650266894735664, 0.9802585354729844, 0.998014589299506, 0.008043928183193164, 0.919018794929819, 0.008043928183193164, 0.062340443419747024, 0.9978522007375342, 0.9955267591626121, 0.9979389378557667, 0.9941984040098625, 0.9912172853340055, 0.9993195451308053, 0.9989782932225706, 0.9958030489612674, 0.006581416412950984, 0.006581416412950984, 0.9806310455296966, 0.004387610941967323, 0.9983197309378491, 0.9955507774708184, 0.6320672935294235, 0.17788354198942188, 0.049513975605303, 0.13876138842473804, 0.0006112836494481851, 0.0006112836494481851, 0.9946366766395391, 0.1388796511054521, 0.008776780924879874, 0.13268427633494867, 0.13010287018057226, 0.5890768844287021, 0.9979431386598541, 0.0012366085980915168, 0.8043286897327995, 0.09452580755406831, 0.01203055732506324, 0.04984088034669056, 0.0017186510464376058, 0.0017186510464376058, 0.03609167197518972, 0.9975194673746334, 0.6466169123620182, 0.021586604054574205, 0.2129224127201183, 0.11872632230015813, 0.9962161523437703, 0.9992296948470546, 0.003992451072268073, 0.025950931969742474, 0.03693017241847967, 0.932237325374595, 0.9986890974312614, 0.9992036687419478, 0.0060359653906647635, 0.0010059942317774606, 0.9919103125325761, 0.9968213279816632, 0.9923626330639919, 0.002387410847205655, 0.9955503232847581, 0.9919885832041294, 0.997221907627676, 0.996306571297821, 0.0014803960940532259, 0.0002235298769645934, 0.190223925296869, 0.7474839085696003, 0.0006705896308937802, 0.0002235298769645934, 0.061023656411334, 0.0002235298769645934, 0.0007312919128253116, 0.10896249501097142, 0.6771763112762386, 0.0021938757384759346, 0.016819713994982166, 0.0007312919128253116, 0.008044211041078428, 0.062159812590151485, 0.12212574944182703, 0.7140845229779347, 0.28515985928654247, 0.9967205391909528, 0.16958810286035061, 0.829355516728016, 0.9975235248869764, 0.730144071940277, 0.2695391667443079, 0.9971122011704947, 0.9983464016160492, 0.9958181561462395, 0.003722684695873792, 0.3058838931182605, 0.13069584524143857, 0.028363779180056878, 0.007786135461192084, 0.383189095197239, 0.14348735349911126, 0.00320882466019241, 0.4139383811648209, 0.11359239297081132, 0.08856356062131053, 0.0012835298640769641, 0.0025670597281539282, 0.22975184566977658, 0.07957885157277178, 0.0680270827960791, 0.9649176769497264, 0.009331892426979946, 0.02239654182475187, 0.9921962150277668, 0.0005026323277749578, 0.003518426294424705, 0.003518426294424705, 0.7087396484516534, 0.16249152915720833, 0.021896021659481974, 0.10487041952699261, 0.0011524221926043144, 0.9987633112087948, 0.9954627616572806, 0.9921303618257759, 0.9955366017233452, 0.0031233747401251863, 0.9963565420999344, 0.8499335871797471, 0.14934935237982777, 0.9988606662478299, 0.09096373214081761, 0.7461868652176444, 0.017055699776403303, 0.13644559821122643, 0.007106541573501376, 0.9961559305885418, 0.9946972771727952, 0.9986710199130887, 0.03777855784308787, 0.8626104040838396, 0.09838166104970798, 0.9936423627859328, 0.002948493658118495, 0.0006264011434279079, 0.9984834226240852, 0.9974714324994272, 0.9972013363456722, 0.1472794342042257, 0.8117494396837556, 0.0034251031210285046, 0.011417010403428348, 0.0262591239278852, 0.995598924467602, 0.0024860300378251386, 0.8502222729361975, 0.14667577223168318, 0.004055281171207396, 0.030598939746383082, 0.00036866192465521784, 0.05308731715035137, 0.9105949538983881, 0.0007373238493104357, 0.0007373238493104357, 0.08859412299840977, 0.9111325301338052, 0.1738944082216097, 0.00018227925390105842, 0.0020050717929116424, 0.0007291170156042337, 0.000911396269505292, 0.000911396269505292, 0.8211680388242681, 0.9975163397256769, 0.9986182332233243, 0.35979816899988737, 0.0006999964377429715, 0.025199871758746974, 0.09505951624549552, 0.11591941009023608, 0.04493977130309877, 0.0002799985750971886, 0.3135984041088512, 0.0005599971501943772, 0.002239988600777509, 0.04045979410154375, 0.0002799985750971886, 0.0008399957252915658, 0.7416015930216093, 0.2576816290126791, 0.9963173025469624, 0.14069538630224326, 0.857821870215916, 0.006993165218609697, 0.05419703044422515, 0.0017482913046524243, 0.8496695740610781, 0.06643506957679211, 0.019231204351176666, 0.9242452769582322, 0.0030869915730067877, 0.07223560280835883, 0.9962096948258711, 0.997235222415451, 0.9622703635438917, 0.03754811713288743, 0.10479091721111891, 0.7392007943811362, 0.15506223560293947, 0.03466303971123453, 0.9343264794891852, 0.004726778142441072, 0.023633890712205362, 0.9962050315934367, 0.999135205446035, 0.0017025590809763669, 0.997699621452151, 0.0008106087187058437, 0.7741313263640808, 0.2237280063628129, 0.0009164194319601951, 0.9988971808366126, 0.6110352431979605, 0.3688230747230933, 0.01926687703777353, 0.38551050383529084, 0.6054910738204003, 0.008712101781588493, 0.9971240834084428, 0.48756905294514236, 0.13175734352564203, 0.18593168274176897, 0.0026752760106729346, 0.0006688190026682337, 0.04547969218143989, 0.053505520213458696, 0.017389294069374076, 0.07490772829884218, 0.12705497145411085, 0.04311422161531463, 0.07338216495341306, 0.016893735816613076, 0.03554723578079002, 0.002639646221345793, 0.00017597641475638622, 0.4302623340793643, 0.12635106579508532, 0.10259424980297317, 0.03713102351359749, 0.0047513631984224276, 0.13260715602149384, 0.21333790146976436, 0.07919594040172548, 0.000613922018618027, 0.13506284409596594, 0.06507573397351087, 0.04358846332187991, 0.001841766055854081, 0.21303094046045537, 0.03622139909846359, 0.0003069610093090135, 0.04082581423809879, 0.03775620414500866, 0.17650364739644964, 0.024114350308433345, 0.007033352173293059, 0.00033492153206157423, 0.0010047645961847227, 0.0016746076603078711, 0.011722253622155098, 0.3968820154929655, 0.2481768552576265, 0.06229540496345281, 0.03851597618708104, 0.03081278094966483, 0.9976535350394287, 0.3763682778231193, 0.054289751582265185, 0.02256989672521137, 0.1585992742852691, 0.009149958131842448, 0.0006099972087894965, 0.36233834202096094, 0.015859927428526908, 0.10456960097851997, 0.048799147123309315, 0.4835551851309742, 0.0019012654723367267, 0.019646409880812843, 0.001267510314891151, 0.33905900923338295, 0.005458654110620105, 0.9880163940222392, 0.005458654110620105, 0.9969473154023776, 0.9011436860689221, 0.07896619929469936, 0.018580282186988085, 0.9955339189093801, 0.9993161879839813, 0.9946171782740467, 0.9967584756127201, 0.01368321505808428, 0.022479567595424178, 0.054977203358374346, 0.09798159354092494, 0.09162867226395724, 0.10164674043148324, 0.030542890754652413, 0.049601654585555516, 0.09211735851603167, 0.16102212005852753, 0.1976735889641104, 0.08405403535680345, 0.0024434312603721932, 0.9994935276693672, 0.000398204592696959, 0.9972329203754471, 0.9962023164403191, 0.9985199429800201, 0.0010132115098731812, 0.9978550781156149, 0.00012367881254866722, 0.0006183940627433361, 0.10821896098008381, 0.7446701303555253, 0.12541031592434856, 0.00012367881254866722, 0.02090171932072476, 0.00012367881254866722, 0.0003251782573091167, 0.14958199836219369, 0.7222209094835482, 0.0331681822455299, 0.09462687287695296, 0.9980235548929203, 0.0008733327579527051, 0.9990926750978947, 0.9981281053017467, 0.9983877801482645, 0.9961273629778148, 0.9996564072580526, 0.999019882862105, 0.8941577079050237, 0.10523602018211893, 0.9957927553338424, 0.0035462704962031426, 0.9920623947540317, 0.0004996386274714116, 0.3342582417783744, 0.6235490070843217, 0.03197687215817034, 0.008993495294485409, 0.05835055843915465, 0.9410054846877757, 0.9917920726259736, 0.9947501130736414, 0.6063474962484952, 0.3922911034806546, 0.001671358514681017, 0.017131424775480426, 0.0008356792573405085, 0.0008356792573405085, 0.003342717029362034, 0.9731484951730222, 0.00292487740069178, 0.9996166368198453, 0.003919080657568831, 0.9915274063649142, 0.03943793840394692, 0.006247594202605454, 0.7575207970659112, 0.05095694021500073, 0.007809492753256817, 0.1376423097761514, 0.1571470074399986, 0.0062858802975999445, 0.022349796613688692, 0.0027937245767110865, 0.04749331780408847, 0.0956850667523547, 0.06914468327359939, 0.5154421844031954, 0.08311330615715481, 0.0006984311441777716, 0.002518226852531361, 0.0037773402787970416, 0.030008869992665384, 0.8778119103448903, 0.002518226852531361, 0.003147783565664201, 0.037773402787970416, 0.0023083746148204144, 0.04029162964050178, 0.02691523484948928, 0.01096546604979193, 0.07277082014861916, 0.00897174494982976, 0.8692623995835056, 0.01096546604979193, 0.08206172326901377, 0.7604928017801672, 0.11862387720075257, 0.037374646241333, 0.1406238043146171, 0.18964861682796985, 0.6644152222204386, 0.0045154432578088065, 0.9962155371970722, 0.9991542748619727, 0.16960552295573533, 0.8301377171518388, 0.0004223139796203709, 0.0434983399008982, 0.20439996613625952, 0.716244509436149, 0.035474374288111156, 0.9966776330038651, 0.07726129298014628, 0.2768529665121908, 0.44296474641950534, 0.202810894072884, 0.9965850788597493], \"Term\": [\"000\", \"000\", \"000\", \"000\", \"10\", \"10\", \"10\", \"10\", \"10\", \"10\", \"10\", \"10\", \"10\", \"10\", \"10\", \"1000\", \"12th\", \"13\", \"13\", \"15000\", \"15k\", \"16\", \"16\", \"16\", \"16\", \"2000\", \"2016\", \"2016\", \"2016\", \"2016\", \"2016\", \"2016\", \"2016\", \"2016\", \"2016\", \"2016\", \"2017\", \"2017\", \"2017\", \"2017\", \"2017\", \"2017\", \"2017\", \"2017\", \"2017\", \"3d\", \"3g\", \"4g\", \"500\", \"6s\", \"account\", \"account\", \"acne\", \"actor\", \"actors\", \"actress\", \"add\", \"address\", \"advantages\", \"africa\", \"age\", \"age\", \"age\", \"agent\", \"air\", \"air\", \"air\", \"air\", \"air\", \"alcohol\", \"algorithm\", \"amazon\", \"amazon\", \"amazon\", \"amazon\", \"america\", \"america\", \"america\", \"america\", \"america\", \"america\", \"american\", \"american\", \"american\", \"american\", \"american\", \"american\", \"americans\", \"analyst\", \"android\", \"android\", \"android\", \"android\", \"anger\", \"angry\", \"animals\", \"animals\", \"animals\", \"answer\", \"answer\", \"answers\", \"answers\", \"app\", \"app\", \"app\", \"app\", \"app\", \"apple\", \"apple\", \"apple\", \"apple\", \"applications\", \"apply\", \"apply\", \"apply\", \"apply\", \"apply\", \"apply\", \"apply\", \"applying\", \"apps\", \"apps\", \"architecture\", \"architecture\", \"architecture\", \"arts\", \"arvind\", \"ask\", \"ask\", \"asked\", \"astrology\", \"atheists\", \"attacks\", \"attractions\", \"australia\", \"australia\", \"average\", \"average\", \"bad\", \"bad\", \"bad\", \"bad\", \"bad\", \"bad\", \"bad\", \"bad\", \"bad\", \"bad\", \"bad\", \"bad\", \"bad\", \"baking\", \"balance\", \"ball\", \"ban\", \"bang\", \"bank\", \"bank\", \"bank\", \"bank\", \"bank\", \"bank\", \"bank\", \"bank\", \"bank\", \"bank\", \"bank\", \"bank\", \"banned\", \"banned\", \"banning\", \"battle\", \"beginner\", \"beginners\", \"believe\", \"believe\", \"believe\", \"believe\", \"believe\", \"believe\", \"believe\", \"belly\", \"benefits\", \"benefits\", \"benefits\", \"benefits\", \"benefits\", \"benefits\", \"benefits\", \"best\", \"best\", \"best\", \"best\", \"best\", \"best\", \"best\", \"bible\", \"big\", \"big\", \"big\", \"big\", \"big\", \"billion\", \"bit\", \"black\", \"black\", \"block\", \"block\", \"blog\", \"blog\", \"blood\", \"blowing\", \"bollywood\", \"bomb\", \"book\", \"book\", \"book\", \"books\", \"books\", \"books\", \"books\", \"boyfriend\", \"boyfriend\", \"boys\", \"boys\", \"brain\", \"bring\", \"bring\", \"browser\", \"build\", \"build\", \"build\", \"build\", \"build\", \"business\", \"business\", \"business\", \"business\", \"business\", \"buy\", \"buy\", \"buy\", \"buy\", \"ca\", \"california\", \"california\", \"california\", \"california\", \"cambodia\", \"canada\", \"canada\", \"canada\", \"canada\", \"canada\", \"candidates\", \"candidates\", \"candy\", \"car\", \"car\", \"car\", \"card\", \"cards\", \"career\", \"career\", \"career\", \"catch\", \"catch\", \"cbse\", \"cell\", \"cell\", \"center\", \"center\", \"ceo\", \"certificate\", \"certificate\", \"cgl\", \"chain\", \"change\", \"change\", \"change\", \"change\", \"change\", \"change\", \"change\", \"change\", \"change\", \"change\", \"change\", \"changed\", \"changed\", \"changed\", \"channel\", \"chat\", \"cheap\", \"cheap\", \"cheating\", \"chemical\", \"chicken\", \"child\", \"child\", \"child\", \"child\", \"child\", \"children\", \"children\", \"children\", \"children\", \"children\", \"china\", \"china\", \"china\", \"china\", \"china\", \"china\", \"china\", \"china\", \"china\", \"chinese\", \"chinese\", \"chip\", \"choose\", \"choose\", \"choose\", \"choose\", \"choose\", \"choose\", \"choose\", \"choose\", \"choose\", \"choose\", \"choose\", \"chrome\", \"civil\", \"civil\", \"civil\", \"civil\", \"class\", \"class\", \"classes\", \"classes\", \"clinton\", \"cloud\", \"code\", \"code\", \"code\", \"code\", \"cold\", \"college\", \"college\", \"college\", \"college\", \"college\", \"com\", \"com\", \"com\", \"com\", \"coming\", \"coming\", \"coming\", \"commit\", \"communication\", \"company\", \"company\", \"company\", \"company\", \"company\", \"company\", \"company\", \"company\", \"compare\", \"compare\", \"compare\", \"compare\", \"compare\", \"compare\", \"compare\", \"competitive\", \"completing\", \"computer\", \"concept\", \"concept\", \"conspiracy\", \"contact\", \"contact\", \"contact\", \"contact\", \"contact\", \"contacts\", \"corporate\", \"correct\", \"correct\", \"correct\", \"correct\", \"correct\", \"corruption\", \"cost\", \"cost\", \"cost\", \"cost\", \"country\", \"country\", \"country\", \"country\", \"country\", \"county\", \"couples\", \"create\", \"create\", \"create\", \"created\", \"credit\", \"criteria\", \"crush\", \"crush\", \"cs\", \"cs\", \"cs\", \"cs\", \"css\", \"culture\", \"culture\", \"cultures\", \"curb\", \"cure\", \"currency\", \"customer\", \"customer\", \"cut\", \"cut\", \"cut\", \"cut\", \"cyrus\", \"dance\", \"daniel\", \"dark\", \"data\", \"data\", \"date\", \"date\", \"date\", \"date\", \"day\", \"day\", \"day\", \"days\", \"dc\", \"debate\", \"debit\", \"decision\", \"declare\", \"define\", \"definition\", \"definition\", \"degree\", \"degree\", \"degree\", \"deleted\", \"deleted\", \"democracy\", \"demonetization\", \"departments\", \"depression\", \"described\", \"desert\", \"design\", \"design\", \"design\", \"desktop\", \"develop\", \"develop\", \"develop\", \"developer\", \"developer\", \"developer\", \"developer\", \"dhoni\", \"did\", \"did\", \"did\", \"did\", \"did\", \"did\", \"did\", \"did\", \"die\", \"die\", \"die\", \"diesel\", \"diet\", \"difference\", \"difference\", \"difference\", \"difference\", \"difference\", \"difference\", \"difference\", \"difference\", \"differences\", \"differences\", \"different\", \"different\", \"different\", \"different\", \"different\", \"different\", \"different\", \"different\", \"different\", \"different\", \"different\", \"different\", \"digital\", \"digital\", \"disadvantages\", \"disorder\", \"distance\", \"divided\", \"does\", \"does\", \"does\", \"does\", \"does\", \"does\", \"does\", \"does\", \"does\", \"does\", \"does\", \"does\", \"does\", \"doesn\", \"doesn\", \"doesn\", \"doesn\", \"doesn\", \"doesn\", \"doesn\", \"doesn\", \"doesn\", \"doesn\", \"doesn\", \"dogs\", \"dollars\", \"don\", \"don\", \"don\", \"don\", \"don\", \"don\", \"don\", \"don\", \"don\", \"don\", \"don\", \"donald\", \"download\", \"download\", \"download\", \"downloading\", \"dreams\", \"drinking\", \"drive\", \"drug\", \"drug\", \"drugs\", \"earn\", \"earth\", \"earthquake\", \"easily\", \"easily\", \"eat\", \"eat\", \"eat\", \"ece\", \"economy\", \"education\", \"effects\", \"effects\", \"effects\", \"effects\", \"egg\", \"eggs\", \"election\", \"election\", \"electrical\", \"electrical\", \"electron\", \"email\", \"embarrassing\", \"employees\", \"employees\", \"energy\", \"energy\", \"engine\", \"engineer\", \"engineering\", \"engineers\", \"english\", \"english\", \"enterprise\", \"events\", \"events\", \"events\", \"exam\", \"exam\", \"exam\", \"examples\", \"examples\", \"examples\", \"examples\", \"executive\", \"executive\", \"exercise\", \"exist\", \"exist\", \"exist\", \"facebook\", \"facebook\", \"facebook\", \"facebook\", \"facebook\", \"facebook\", \"facebook\", \"facebook\", \"factor\", \"facts\", \"facts\", \"fast\", \"fast\", \"fast\", \"fat\", \"faux\", \"favorite\", \"favourite\", \"fear\", \"feed\", \"feel\", \"feeling\", \"feeling\", \"feeling\", \"feeling\", \"feelings\", \"feels\", \"feet\", \"feet\", \"female\", \"female\", \"fi\", \"fiction\", \"fight\", \"fight\", \"figures\", \"file\", \"file\", \"file\", \"file\", \"finance\", \"finance\", \"fish\", \"fix\", \"flat\", \"flat\", \"flat\", \"fluently\", \"followers\", \"food\", \"food\", \"food\", \"food\", \"force\", \"force\", \"forces\", \"foreign\", \"foreign\", \"foreign\", \"forgot\", \"formula\", \"formula\", \"formula\", \"frac\", \"free\", \"free\", \"french\", \"fresher\", \"friend\", \"friend\", \"friend\", \"friend\", \"friend\", \"friend\", \"friend\", \"friend\", \"friends\", \"friends\", \"friends\", \"friends\", \"friends\", \"friends\", \"function\", \"function\", \"function\", \"functions\", \"functions\", \"fund\", \"funding\", \"funniest\", \"funniest\", \"funny\", \"gain\", \"game\", \"game\", \"gandhi\", \"gandhi\", \"german\", \"ghost\", \"gifts\", \"girl\", \"girl\", \"girl\", \"girl\", \"girlfriend\", \"girlfriend\", \"girlfriend\", \"girlfriend\", \"girlfriend\", \"girls\", \"girls\", \"girls\", \"girls\", \"global\", \"gmail\", \"gmail\", \"gmail\", \"gmail\", \"goa\", \"goal\", \"gobi\", \"god\", \"god\", \"god\", \"god\", \"god\", \"god\", \"going\", \"going\", \"going\", \"good\", \"good\", \"good\", \"good\", \"good\", \"good\", \"good\", \"good\", \"good\", \"good\", \"good\", \"good\", \"good\", \"good\", \"good\", \"google\", \"google\", \"google\", \"google\", \"google\", \"googling\", \"government\", \"government\", \"government\", \"government\", \"government\", \"gps\", \"grads\", \"gravitational\", \"gravity\", \"group\", \"group\", \"group\", \"group\", \"group\", \"group\", \"group\", \"group\", \"group\", \"grow\", \"grow\", \"grow\", \"gst\", \"guitar\", \"guy\", \"guy\", \"guy\", \"hack\", \"hack\", \"hacked\", \"hacker\", \"hair\", \"hair\", \"hair\", \"handling\", \"happen\", \"happen\", \"happen\", \"happen\", \"happen\", \"happen\", \"happen\", \"happen\", \"happen\", \"happen\", \"happen\", \"happen\", \"happen\", \"happened\", \"happened\", \"happy\", \"happy\", \"harassment\", \"hard\", \"hard\", \"hard\", \"hard\", \"hard\", \"hard\", \"hard\", \"hard\", \"hard\", \"harry\", \"hate\", \"healthy\", \"heard\", \"heard\", \"height\", \"hill\", \"hillary\", \"historical\", \"history\", \"hitler\", \"home\", \"home\", \"home\", \"home\", \"home\", \"home\", \"home\", \"home\", \"home\", \"home\", \"hong\", \"hotel\", \"hotels\", \"hours\", \"hp\", \"hr\", \"html\", \"human\", \"human\", \"human\", \"human\", \"hurt\", \"hurt\", \"ias\", \"ibps\", \"ice\", \"identify\", \"ii\", \"ii\", \"iii\", \"iits\", \"images\", \"immigration\", \"important\", \"important\", \"important\", \"important\", \"imported\", \"impress\", \"improve\", \"improvement\", \"income\", \"income\", \"income\", \"increase\", \"increase\", \"india\", \"india\", \"india\", \"india\", \"india\", \"india\", \"india\", \"india\", \"india\", \"india\", \"india\", \"india\", \"india\", \"india\", \"indian\", \"indian\", \"indian\", \"indian\", \"indian\", \"indian\", \"indians\", \"indians\", \"indians\", \"indians\", \"indians\", \"indians\", \"indians\", \"individuals\", \"industry\", \"industry\", \"infinite\", \"information\", \"information\", \"information\", \"information\", \"information\", \"infosys\", \"inpatient\", \"instagram\", \"instagram\", \"install\", \"install\", \"installation\", \"instead\", \"instead\", \"instead\", \"instead\", \"instead\", \"instead\", \"instead\", \"instead\", \"instead\", \"instead\", \"institute\", \"interesting\", \"interesting\", \"interesting\", \"interesting\", \"interesting\", \"interesting\", \"interesting\", \"interesting\", \"interesting\", \"interesting\", \"interface\", \"international\", \"international\", \"international\", \"international\", \"international\", \"internet\", \"internet\", \"internet\", \"internship\", \"internship\", \"interview\", \"interview\", \"introvert\", \"invented\", \"invest\", \"invest\", \"investing\", \"investors\", \"invited\", \"ip\", \"ipad\", \"iphone\", \"iphone\", \"iphone\", \"iq\", \"iq\", \"iq\", \"islam\", \"islam\", \"ivy\", \"japan\", \"japan\", \"japan\", \"japanese\", \"japanese\", \"japanese\", \"japanese\", \"java\", \"java\", \"java\", \"java\", \"jee\", \"jee\", \"jio\", \"job\", \"job\", \"job\", \"job\", \"jobs\", \"jobs\", \"jobs\", \"join\", \"join\", \"join\", \"join\", \"joke\", \"jokes\", \"js\", \"kejriwal\", \"kerala\", \"kill\", \"kill\", \"kill\", \"kill\", \"king\", \"king\", \"know\", \"know\", \"know\", \"know\", \"know\", \"known\", \"kong\", \"korea\", \"kvpy\", \"language\", \"language\", \"language\", \"laptop\", \"laptop\", \"laptop\", \"largest\", \"largest\", \"league\", \"learn\", \"learn\", \"learn\", \"learn\", \"learn\", \"learned\", \"learning\", \"learning\", \"legal\", \"legal\", \"legal\", \"legal\", \"legal\", \"legal\", \"legit\", \"lesser\", \"lessons\", \"lewis\", \"liberal\", \"life\", \"life\", \"light\", \"light\", \"like\", \"like\", \"like\", \"like\", \"like\", \"like\", \"like\", \"like\", \"likes\", \"likes\", \"limit\", \"linux\", \"linux\", \"liquid\", \"live\", \"live\", \"live\", \"live\", \"live\", \"live\", \"live\", \"live\", \"live\", \"log\", \"lonely\", \"long\", \"long\", \"long\", \"long\", \"look\", \"look\", \"look\", \"look\", \"looking\", \"lord\", \"lose\", \"losing\", \"loss\", \"love\", \"love\", \"love\", \"love\", \"macbook\", \"machine\", \"machine\", \"machine\", \"make\", \"make\", \"makes\", \"makes\", \"makes\", \"makes\", \"making\", \"making\", \"male\", \"male\", \"male\", \"male\", \"male\", \"man\", \"man\", \"man\", \"man\", \"manage\", \"manager\", \"marked\", \"market\", \"market\", \"market\", \"market\", \"marketing\", \"marketing\", \"math\", \"matter\", \"matter\", \"mbbs\", \"mean\", \"mean\", \"mean\", \"meaning\", \"meaning\", \"meaning\", \"meaning\", \"mechanical\", \"media\", \"media\", \"media\", \"media\", \"medical\", \"medical\", \"medical\", \"medical\", \"memory\", \"men\", \"men\", \"men\", \"men\", \"men\", \"men\", \"mental\", \"mental\", \"messages\", \"michael\", \"middle\", \"middle\", \"middle\", \"million\", \"million\", \"millionaire\", \"mind\", \"mistry\", \"mobile\", \"mobile\", \"mobile\", \"mobile\", \"mobile\", \"mobile\", \"modi\", \"moment\", \"money\", \"money\", \"money\", \"month\", \"month\", \"month\", \"months\", \"months\", \"months\", \"moral\", \"motivated\", \"motor\", \"movie\", \"movie\", \"movie\", \"movie\", \"movie\", \"movies\", \"movies\", \"movies\", \"movies\", \"movies\", \"music\", \"music\", \"music\", \"music\", \"music\", \"music\", \"music\", \"muslims\", \"muslims\", \"muslims\", \"muslims\", \"names\", \"narendra\", \"narendra\", \"nba\", \"near\", \"near\", \"near\", \"near\", \"need\", \"need\", \"need\", \"need\", \"need\", \"need\", \"need\", \"need\", \"need\", \"need\", \"need\", \"need\", \"need\", \"need\", \"needing\", \"neet\", \"negative\", \"negative\", \"networking\", \"new\", \"new\", \"new\", \"nose\", \"notes\", \"notice\", \"nra\", \"number\", \"number\", \"number\", \"number\", \"number\", \"number\", \"number\", \"number\", \"number\", \"numbers\", \"obama\", \"obama\", \"object\", \"obsessed\", \"oil\", \"oil\", \"oil\", \"old\", \"old\", \"olympics\", \"ones\", \"ones\", \"online\", \"online\", \"online\", \"open\", \"open\", \"operating\", \"operating\", \"options\", \"options\", \"options\", \"os\", \"os\", \"os\", \"overcome\", \"overcome\", \"pain\", \"painless\", \"pakistan\", \"pakistan\", \"pan\", \"panel\", \"parents\", \"parents\", \"parents\", \"pas\", \"pass\", \"pass\", \"passport\", \"passport\", \"password\", \"password\", \"past\", \"past\", \"pay\", \"pay\", \"pay\", \"pay\", \"pay\", \"pay\", \"pay\", \"pay\", \"peace\", \"people\", \"people\", \"people\", \"people\", \"people\", \"people\", \"period\", \"person\", \"person\", \"person\", \"person\", \"person\", \"person\", \"person\", \"person\", \"person\", \"person\", \"person\", \"person\", \"personality\", \"phone\", \"phone\", \"phone\", \"phone\", \"phone\", \"phone\", \"phone\", \"phones\", \"phones\", \"phones\", \"pimples\", \"place\", \"place\", \"place\", \"place\", \"place\", \"place\", \"place\", \"places\", \"places\", \"plan\", \"plan\", \"plan\", \"plan\", \"planet\", \"planets\", \"play\", \"play\", \"play\", \"play\", \"play\", \"play\", \"play\", \"play\", \"play\", \"plus\", \"pm\", \"po\", \"police\", \"popular\", \"popular\", \"popular\", \"porn\", \"porn\", \"positions\", \"positive\", \"positive\", \"possible\", \"possible\", \"possible\", \"possible\", \"possible\", \"possible\", \"possible\", \"possible\", \"possible\", \"possible\", \"possible\", \"post\", \"post\", \"post\", \"potential\", \"potential\", \"potter\", \"pounds\", \"power\", \"power\", \"power\", \"power\", \"power\", \"power\", \"prank\", \"precautions\", \"pregnant\", \"pregnant\", \"preparation\", \"preparation\", \"prepare\", \"prepare\", \"prepare\", \"preparing\", \"presence\", \"president\", \"president\", \"president\", \"presidential\", \"presidential\", \"price\", \"price\", \"price\", \"pride\", \"private\", \"private\", \"private\", \"private\", \"pro\", \"problems\", \"problems\", \"problems\", \"problems\", \"problems\", \"process\", \"process\", \"process\", \"process\", \"process\", \"product\", \"product\", \"product\", \"product\", \"programmer\", \"programming\", \"programming\", \"proposed\", \"prospects\", \"provider\", \"purpose\", \"purpose\", \"pursue\", \"pursue\", \"pursue\", \"pursue\", \"quality\", \"quality\", \"quality\", \"quality\", \"quality\", \"quality\", \"question\", \"questions\", \"questions\", \"quickbooks\", \"quora\", \"quora\", \"ram\", \"ram\", \"raw\", \"read\", \"read\", \"read\", \"read\", \"read\", \"really\", \"really\", \"really\", \"really\", \"really\", \"really\", \"really\", \"really\", \"recruit\", \"redmi\", \"reduce\", \"reduce\", \"reduce\", \"regions\", \"regret\", \"rehab\", \"relationship\", \"relationships\", \"reliance\", \"religion\", \"remove\", \"remove\", \"removed\", \"required\", \"required\", \"required\", \"required\", \"required\", \"required\", \"required\", \"required\", \"research\", \"research\", \"research\", \"resolution\", \"revenue\", \"review\", \"review\", \"rich\", \"rid\", \"rio\", \"romantic\", \"romantic\", \"room\", \"root\", \"root\", \"root\", \"royal\", \"rs\", \"rs\", \"rupee\", \"rupees\", \"russia\", \"sa\", \"safe\", \"safe\", \"safe\", \"safe\", \"safety\", \"sahara\", \"sales\", \"sales\", \"saltwater\", \"savings\", \"says\", \"says\", \"says\", \"school\", \"school\", \"science\", \"science\", \"science\", \"scientifically\", \"scope\", \"scope\", \"scripting\", \"search\", \"search\", \"search\", \"seen\", \"seen\", \"seen\", \"self\", \"self\", \"self\", \"self\", \"self\", \"sentence\", \"sentence\", \"series\", \"service\", \"service\", \"services\", \"services\", \"services\", \"services\", \"sex\", \"sex\", \"sex\", \"shoes\", \"shoes\", \"shotguns\", \"shows\", \"shows\", \"shows\", \"shows\", \"significance\", \"silicon\", \"sim\", \"similarities\", \"sin\", \"skills\", \"sleep\", \"sleepy\", \"smoking\", \"smoking\", \"smoking\", \"smoking\", \"snapchat\", \"soccer\", \"social\", \"social\", \"social\", \"social\", \"social\", \"social\", \"soda\", \"software\", \"software\", \"software\", \"software\", \"software\", \"solar\", \"solar\", \"solution\", \"solution\", \"solution\", \"solution\", \"solution\", \"solution\", \"solution\", \"somme\", \"songs\", \"songs\", \"songs\", \"songs\", \"sons\", \"source\", \"space\", \"space\", \"space\", \"space\", \"spanish\", \"speak\", \"speed\", \"speed\", \"speed\", \"spotify\", \"sqrt\", \"ssc\", \"ssc\", \"stack\", \"staff\", \"star\", \"star\", \"start\", \"start\", \"start\", \"start\", \"start\", \"start\", \"start\", \"state\", \"state\", \"state\", \"state\", \"state\", \"state\", \"state\", \"state\", \"state\", \"states\", \"states\", \"station\", \"stock\", \"stock\", \"stocks\", \"stop\", \"stop\", \"strike\", \"strongest\", \"structure\", \"structure\", \"student\", \"student\", \"student\", \"student\", \"student\", \"student\", \"students\", \"students\", \"students\", \"students\", \"students\", \"students\", \"students\", \"students\", \"students\", \"studies\", \"studies\", \"studies\", \"study\", \"study\", \"study\", \"study\", \"successful\", \"successful\", \"successful\", \"successful\", \"successful\", \"suicide\", \"superman\", \"supporters\", \"supreme\", \"surgical\", \"surgical\", \"sydney\", \"sydney\", \"taffy\", \"talk\", \"talk\", \"talk\", \"talk\", \"talk\", \"tata\", \"taught\", \"tea\", \"tech\", \"tech\", \"tech\", \"teeth\", \"teeth\", \"tell\", \"tell\", \"temperatures\", \"temple\", \"terms\", \"terms\", \"terms\", \"terms\", \"terms\", \"tested\", \"theory\", \"theory\", \"theory\", \"thing\", \"thing\", \"thing\", \"thing\", \"thing\", \"thing\", \"thing\", \"things\", \"things\", \"think\", \"think\", \"think\", \"think\", \"think\", \"think\", \"think\", \"thinking\", \"thrones\", \"time\", \"time\", \"time\", \"time\", \"time\", \"time\", \"time\", \"time\", \"time\", \"time\", \"time\", \"time\", \"time\", \"tips\", \"tips\", \"trading\", \"traffic\", \"traffic\", \"train\", \"train\", \"train\", \"train\", \"train\", \"train\", \"travel\", \"travel\", \"travel\", \"triangle\", \"trip\", \"trump\", \"trump\", \"tv\", \"tv\", \"tv\", \"types\", \"types\", \"types\", \"types\", \"ubuntu\", \"uk\", \"understand\", \"understand\", \"united\", \"united\", \"united\", \"universe\", \"universe\", \"universities\", \"universities\", \"universities\", \"university\", \"university\", \"university\", \"unmarried\", \"usa\", \"usa\", \"usa\", \"usa\", \"usa\", \"usa\", \"usa\", \"usa\", \"usa\", \"use\", \"use\", \"use\", \"use\", \"use\", \"use\", \"use\", \"use\", \"use\", \"use\", \"use\", \"use\", \"used\", \"used\", \"used\", \"used\", \"used\", \"used\", \"used\", \"used\", \"used\", \"used\", \"used\", \"used\", \"used\", \"using\", \"using\", \"using\", \"using\", \"using\", \"using\", \"using\", \"using\", \"using\", \"using\", \"using\", \"using\", \"vacuum\", \"ve\", \"ve\", \"ve\", \"ve\", \"ve\", \"ve\", \"ve\", \"ve\", \"video\", \"video\", \"video\", \"video\", \"video\", \"video\", \"video\", \"vietnam\", \"vietnam\", \"vietnam\", \"viewed\", \"visa\", \"visa\", \"visa\", \"vision\", \"visit\", \"visitor\", \"wake\", \"want\", \"want\", \"want\", \"want\", \"want\", \"want\", \"want\", \"want\", \"want\", \"want\", \"want\", \"want\", \"want\", \"war\", \"war\", \"warming\", \"watched\", \"water\", \"water\", \"waves\", \"way\", \"way\", \"way\", \"way\", \"way\", \"way\", \"way\", \"way\", \"ways\", \"ways\", \"ways\", \"ways\", \"ways\", \"weakest\", \"website\", \"website\", \"weed\", \"week\", \"weeks\", \"weight\", \"western\", \"whatsapp\", \"whatsapp\", \"white\", \"white\", \"wi\", \"win\", \"win\", \"win\", \"win\", \"win\", \"windows\", \"windows\", \"wing\", \"wins\", \"woman\", \"woman\", \"women\", \"women\", \"women\", \"women\", \"women\", \"women\", \"women\", \"word\", \"wordpress\", \"wordpress\", \"work\", \"work\", \"work\", \"work\", \"work\", \"work\", \"working\", \"working\", \"working\", \"working\", \"working\", \"working\", \"working\", \"working\", \"working\", \"working\", \"world\", \"world\", \"world\", \"world\", \"world\", \"world\", \"world\", \"world\", \"world\", \"worst\", \"worst\", \"worst\", \"worst\", \"worst\", \"worst\", \"worth\", \"worth\", \"worth\", \"worth\", \"write\", \"write\", \"write\", \"write\", \"writer\", \"writing\", \"year\", \"year\", \"years\", \"years\", \"years\", \"years\", \"years\", \"york\", \"youtube\", \"youtube\", \"youtube\", \"youtube\", \"zone\"]}, \"R\": 30, \"lambda.step\": 0.01, \"plot.opts\": {\"xlab\": \"PC1\", \"ylab\": \"PC2\"}, \"topic.order\": [1, 2, 3, 4, 5, 6, 7, 8, 9, 10, 11, 12, 13, 14, 15]};\n",
       "\n",
       "function LDAvis_load_lib(url, callback){\n",
       "  var s = document.createElement('script');\n",
       "  s.src = url;\n",
       "  s.async = true;\n",
       "  s.onreadystatechange = s.onload = callback;\n",
       "  s.onerror = function(){console.warn(\"failed to load library \" + url);};\n",
       "  document.getElementsByTagName(\"head\")[0].appendChild(s);\n",
       "}\n",
       "\n",
       "if(typeof(LDAvis) !== \"undefined\"){\n",
       "   // already loaded: just create the visualization\n",
       "   !function(LDAvis){\n",
       "       new LDAvis(\"#\" + \"ldavis_el1417227856841499603215352587\", ldavis_el1417227856841499603215352587_data);\n",
       "   }(LDAvis);\n",
       "}else if(typeof define === \"function\" && define.amd){\n",
       "   // require.js is available: use it to load d3/LDAvis\n",
       "   require.config({paths: {d3: \"https://cdnjs.cloudflare.com/ajax/libs/d3/3.5.5/d3.min\"}});\n",
       "   require([\"d3\"], function(d3){\n",
       "      window.d3 = d3;\n",
       "      LDAvis_load_lib(\"https://cdn.rawgit.com/bmabey/pyLDAvis/files/ldavis.v1.0.0.js\", function(){\n",
       "        new LDAvis(\"#\" + \"ldavis_el1417227856841499603215352587\", ldavis_el1417227856841499603215352587_data);\n",
       "      });\n",
       "    });\n",
       "}else{\n",
       "    // require.js not available: dynamically load d3 & LDAvis\n",
       "    LDAvis_load_lib(\"https://cdnjs.cloudflare.com/ajax/libs/d3/3.5.5/d3.min.js\", function(){\n",
       "         LDAvis_load_lib(\"https://cdn.rawgit.com/bmabey/pyLDAvis/files/ldavis.v1.0.0.js\", function(){\n",
       "                 new LDAvis(\"#\" + \"ldavis_el1417227856841499603215352587\", ldavis_el1417227856841499603215352587_data);\n",
       "            })\n",
       "         });\n",
       "}\n",
       "</script>"
      ],
      "text/plain": [
       "PreparedData(topic_coordinates=              x         y  topics  cluster      Freq\n",
       "topic                                               \n",
       "0     -0.102309 -0.109533       1        1  6.090068\n",
       "1      0.080048  0.054730       2        1  5.961436\n",
       "2      0.151624  0.072886       3        1  6.069565\n",
       "3      0.058468 -0.183375       4        1  5.895824\n",
       "4      0.000703 -0.026767       5        1  7.090827\n",
       "5      0.219390  0.024418       6        1  8.417809\n",
       "6     -0.133039  0.229527       7        1  7.032200\n",
       "7     -0.266418  0.136075       8        1  8.671695\n",
       "8     -0.138725 -0.150962       9        1  6.574202\n",
       "9      0.083366  0.141939      10        1  5.648120\n",
       "10    -0.092651 -0.183004      11        1  5.775134\n",
       "11    -0.029628 -0.108231      12        1  6.703528\n",
       "12     0.016564  0.090505      13        1  7.056417\n",
       "13    -0.030070  0.051972      14        1  6.012235\n",
       "14     0.182675 -0.040179      15        1  7.000940, topic_info=      Category          Freq     Term         Total  loglift  logprob\n",
       "4632   Default  32260.000000     best  32260.000000  30.0000  30.0000\n",
       "11005  Default  27918.000000     does  27918.000000  29.0000  29.0000\n",
       "25777  Default  12575.000000   people  12575.000000  28.0000  28.0000\n",
       "20333  Default  12084.000000     like  12084.000000  27.0000  27.0000\n",
       "10447  Default   9116.000000      did   9116.000000  26.0000  26.0000\n",
       "...        ...           ...      ...           ...      ...      ...\n",
       "4525   Topic15    706.050826  believe   1351.747932   2.0097  -5.3189\n",
       "17511  Topic15   1118.820112   indian   5343.140569   1.0956  -4.8585\n",
       "11005  Topic15   1720.071011     does  27918.238452  -0.1278  -4.4284\n",
       "15769  Topic15    818.772826   happen   2417.078687   1.5766  -5.1707\n",
       "17507  Topic15   1145.042939    india  13978.499831   0.1570  -4.8354\n",
       "\n",
       "[895 rows x 6 columns], token_table=       Topic      Freq     Term\n",
       "term                           \n",
       "1          2  0.006141      000\n",
       "1          4  0.024562      000\n",
       "1          8  0.132637      000\n",
       "1         14  0.836348      000\n",
       "34         1  0.033551       10\n",
       "...      ...       ...      ...\n",
       "38422      8  0.077261  youtube\n",
       "38422      9  0.276853  youtube\n",
       "38422     10  0.442965  youtube\n",
       "38422     14  0.202811  youtube\n",
       "38558      4  0.996585     zone\n",
       "\n",
       "[1990 rows x 3 columns], R=30, lambda_step=0.01, plot_opts={'xlab': 'PC1', 'ylab': 'PC2'}, topic_order=[1, 2, 3, 4, 5, 6, 7, 8, 9, 10, 11, 12, 13, 14, 15])"
      ]
     },
     "execution_count": 29,
     "metadata": {},
     "output_type": "execute_result"
    }
   ],
   "source": [
    "%%time\n",
    "\n",
    "pyLDAvis.sklearn.prepare(LDA, dtm, cv, sort_topics=False)"
   ]
  },
  {
   "cell_type": "markdown",
   "metadata": {},
   "source": [
    "#### 17. Create a dataframe with each question and the correspoding topic"
   ]
  },
  {
   "cell_type": "code",
   "execution_count": 30,
   "metadata": {},
   "outputs": [],
   "source": [
    "topic_results = LDA.transform(dtm)"
   ]
  },
  {
   "cell_type": "code",
   "execution_count": 31,
   "metadata": {},
   "outputs": [
    {
     "data": {
      "text/plain": [
       "(404289, 15)"
      ]
     },
     "execution_count": 31,
     "metadata": {},
     "output_type": "execute_result"
    }
   ],
   "source": [
    "topic_results.shape"
   ]
  },
  {
   "cell_type": "code",
   "execution_count": 32,
   "metadata": {},
   "outputs": [
    {
     "data": {
      "text/plain": [
       "array([0.00952381, 0.00952381, 0.00952381, 0.00952381, 0.00952381,\n",
       "       0.00952381, 0.00952381, 0.00952381, 0.72894152, 0.00952388,\n",
       "       0.00952381, 0.00952381, 0.00952381, 0.00952381, 0.14724888])"
      ]
     },
     "execution_count": 32,
     "metadata": {},
     "output_type": "execute_result"
    }
   ],
   "source": [
    "# for question #2\n",
    "\n",
    "topic_results[2]"
   ]
  },
  {
   "cell_type": "code",
   "execution_count": 33,
   "metadata": {},
   "outputs": [
    {
     "data": {
      "text/plain": [
       "array([0.01, 0.01, 0.01, 0.01, 0.01, 0.01, 0.01, 0.01, 0.73, 0.01, 0.01,\n",
       "       0.01, 0.01, 0.01, 0.15])"
      ]
     },
     "execution_count": 33,
     "metadata": {},
     "output_type": "execute_result"
    }
   ],
   "source": [
    "topic_results[2].round(2)"
   ]
  },
  {
   "cell_type": "code",
   "execution_count": 34,
   "metadata": {},
   "outputs": [
    {
     "data": {
      "text/plain": [
       "8"
      ]
     },
     "execution_count": 34,
     "metadata": {},
     "output_type": "execute_result"
    }
   ],
   "source": [
    "topic_results[2].argmax()"
   ]
  },
  {
   "cell_type": "markdown",
   "metadata": {},
   "source": [
    "According to this, question #2 belongs to topic #8 (if we start counting from zero)."
   ]
  },
  {
   "cell_type": "code",
   "execution_count": 35,
   "metadata": {},
   "outputs": [],
   "source": [
    "# for all questions\n",
    "\n",
    "quora_lda = quora.copy()\n",
    "quora_lda['Topic'] = topic_results.argmax(axis=1)+1 # +1 so that we have topics 1 to 15"
   ]
  },
  {
   "cell_type": "code",
   "execution_count": 38,
   "metadata": {},
   "outputs": [
    {
     "data": {
      "text/html": [
       "<div>\n",
       "<style scoped>\n",
       "    .dataframe tbody tr th:only-of-type {\n",
       "        vertical-align: middle;\n",
       "    }\n",
       "\n",
       "    .dataframe tbody tr th {\n",
       "        vertical-align: top;\n",
       "    }\n",
       "\n",
       "    .dataframe thead th {\n",
       "        text-align: right;\n",
       "    }\n",
       "</style>\n",
       "<table border=\"1\" class=\"dataframe\">\n",
       "  <thead>\n",
       "    <tr style=\"text-align: right;\">\n",
       "      <th></th>\n",
       "      <th>Question</th>\n",
       "      <th>Topic</th>\n",
       "    </tr>\n",
       "  </thead>\n",
       "  <tbody>\n",
       "    <tr>\n",
       "      <td>0</td>\n",
       "      <td>What is the step by step guide to invest in sh...</td>\n",
       "      <td>8</td>\n",
       "    </tr>\n",
       "    <tr>\n",
       "      <td>1</td>\n",
       "      <td>What is the story of Kohinoor (Koh-i-Noor) Dia...</td>\n",
       "      <td>5</td>\n",
       "    </tr>\n",
       "    <tr>\n",
       "      <td>2</td>\n",
       "      <td>How can I increase the speed of my internet co...</td>\n",
       "      <td>9</td>\n",
       "    </tr>\n",
       "    <tr>\n",
       "      <td>3</td>\n",
       "      <td>Why am I mentally very lonely? How can I solve...</td>\n",
       "      <td>11</td>\n",
       "    </tr>\n",
       "    <tr>\n",
       "      <td>4</td>\n",
       "      <td>Which one dissolve in water quikly sugar, salt...</td>\n",
       "      <td>3</td>\n",
       "    </tr>\n",
       "  </tbody>\n",
       "</table>\n",
       "</div>"
      ],
      "text/plain": [
       "                                            Question  Topic\n",
       "0  What is the step by step guide to invest in sh...      8\n",
       "1  What is the story of Kohinoor (Koh-i-Noor) Dia...      5\n",
       "2  How can I increase the speed of my internet co...      9\n",
       "3  Why am I mentally very lonely? How can I solve...     11\n",
       "4  Which one dissolve in water quikly sugar, salt...      3"
      ]
     },
     "execution_count": 38,
     "metadata": {},
     "output_type": "execute_result"
    }
   ],
   "source": [
    "quora_lda.head()"
   ]
  },
  {
   "cell_type": "markdown",
   "metadata": {},
   "source": [
    "We've managed to assign each question to one of the 15 topics. Let's do the same thing with the LSA method."
   ]
  },
  {
   "cell_type": "markdown",
   "metadata": {},
   "source": [
    "## LSA"
   ]
  },
  {
   "cell_type": "markdown",
   "metadata": {},
   "source": [
    "In Latent Semantic Analysis, we can break down our TF-IDF document-term matrix into **three simpler matrices** using singular value decomposition (SVD). We can then truncate those matrices (remove some rows and columns), which reduces the number of dimensions we have to deal with in our vector space model - this is called **truncated singular value decomposition**.\n",
    "\n",
    "If we multiply these new truncated matrices, we don't get the exact same TF-IDF matrix, but a new representation of the documents that contains the esence or \"latent semantics\" of those documents."
   ]
  },
  {
   "cell_type": "markdown",
   "metadata": {},
   "source": [
    "#### 18. Create a vectorized document-term matrix with `TfidfVectorizer`"
   ]
  },
  {
   "cell_type": "code",
   "execution_count": 40,
   "metadata": {},
   "outputs": [],
   "source": [
    "from sklearn.feature_extraction.text import TfidfVectorizer"
   ]
  },
  {
   "cell_type": "code",
   "execution_count": 41,
   "metadata": {},
   "outputs": [],
   "source": [
    "tfidf = TfidfVectorizer(max_df=0.95, min_df=2, stop_words='english')"
   ]
  },
  {
   "cell_type": "code",
   "execution_count": 42,
   "metadata": {},
   "outputs": [],
   "source": [
    "dtm = tfidf.fit_transform(quora['Question'])"
   ]
  },
  {
   "cell_type": "code",
   "execution_count": 43,
   "metadata": {},
   "outputs": [
    {
     "data": {
      "text/plain": [
       "<404289x38669 sparse matrix of type '<class 'numpy.float64'>'\n",
       "\twith 2002912 stored elements in Compressed Sparse Row format>"
      ]
     },
     "execution_count": 43,
     "metadata": {},
     "output_type": "execute_result"
    }
   ],
   "source": [
    "dtm"
   ]
  },
  {
   "cell_type": "markdown",
   "metadata": {},
   "source": [
    "We have now used `TfidfVectorizer` instead of `CountVectorizer` to create our document-term matrix."
   ]
  },
  {
   "cell_type": "markdown",
   "metadata": {},
   "source": [
    "#### 19. Create an instance of TruncatedSVD with 15 expected components and fit it"
   ]
  },
  {
   "cell_type": "code",
   "execution_count": 44,
   "metadata": {},
   "outputs": [],
   "source": [
    "from sklearn.decomposition import TruncatedSVD"
   ]
  },
  {
   "cell_type": "code",
   "execution_count": 45,
   "metadata": {},
   "outputs": [],
   "source": [
    "lsa_model = TruncatedSVD(n_components=15, random_state=42)"
   ]
  },
  {
   "cell_type": "code",
   "execution_count": 46,
   "metadata": {},
   "outputs": [
    {
     "name": "stdout",
     "output_type": "stream",
     "text": [
      "Wall time: 3.59 s\n"
     ]
    },
    {
     "data": {
      "text/plain": [
       "TruncatedSVD(algorithm='randomized', n_components=15, n_iter=5, random_state=42,\n",
       "             tol=0.0)"
      ]
     },
     "execution_count": 46,
     "metadata": {},
     "output_type": "execute_result"
    }
   ],
   "source": [
    "%%time\n",
    "\n",
    "lsa_model.fit(dtm)"
   ]
  },
  {
   "cell_type": "markdown",
   "metadata": {},
   "source": [
    "#### 20. Print out the top 15 words for each of the 15 topics"
   ]
  },
  {
   "cell_type": "code",
   "execution_count": 51,
   "metadata": {},
   "outputs": [
    {
     "name": "stdout",
     "output_type": "stream",
     "text": [
      "TOP 15 WORDS FOR TOPIC #1\n",
      "['best', 'way', 'learn', 'india', 'money', 'make', 'does', 'online', 'quora', 'life', 'books', 'ways', 'book', 'programming', 'language']\n",
      "\n",
      "\n",
      "TOP 15 WORDS FOR TOPIC #2\n",
      "['does', 'quora', 'money', 'make', 'people', 'like', 'mean', 'questions', 'feel', 'life', 'work', 'online', 'question', 'earn', 'ask']\n",
      "\n",
      "\n",
      "TOP 15 WORDS FOR TOPIC #3\n",
      "['quora', 'questions', 'people', 'question', 'ask', 'money', 'answers', 'answer', 'google', 'make', 'asked', 'online', 'easily', 'earn', 'delete']\n",
      "\n",
      "\n",
      "TOP 15 WORDS FOR TOPIC #4\n",
      "['money', 'make', 'online', 'earn', '500', 'way', '1000', 'notes', 'ways', 'black', 'youtube', 'india', 'rupee', 'easy', 'rs']\n",
      "\n",
      "\n",
      "TOP 15 WORDS FOR TOPIC #5\n",
      "['life', 'people', 'india', 'trump', 'know', 'donald', 'think', 'good', 'like', 'did', 'purpose', 'things', 'love', 'thing', 'important']\n",
      "\n",
      "\n",
      "TOP 15 WORDS FOR TOPIC #6\n",
      "['india', 'trump', 'donald', 'people', 'president', 'clinton', 'hillary', 'think', 'win', '500', 'notes', '1000', 'did', 'election', 'pakistan']\n",
      "\n",
      "\n",
      "TOP 15 WORDS FOR TOPIC #7\n",
      "['learn', 'english', 'people', 'good', 'language', 'programming', 'improve', 'know', 'trump', 'way', 'like', 'donald', 'make', 'love', 'start']\n",
      "\n",
      "\n",
      "TOP 15 WORDS FOR TOPIC #8\n",
      "['trump', 'donald', 'life', 'quora', 'president', 'clinton', 'hillary', 'win', 'did', 'does', 'learn', 'election', 'english', 'make', 'question']\n",
      "\n",
      "\n",
      "TOP 15 WORDS FOR TOPIC #9\n",
      "['india', 'learn', 'english', 'improve', 'language', '500', 'notes', '1000', 'good', 'programming', 'quora', 'life', 'rs', 'rupee', 'skills']\n",
      "\n",
      "\n",
      "TOP 15 WORDS FOR TOPIC #10\n",
      "['like', 'india', 'good', 'feel', 'sex', 'english', 'work', 'quora', 'improve', 'make', 'look', 'difference', 'online', 'girls', 'live']\n",
      "\n",
      "\n",
      "TOP 15 WORDS FOR TOPIC #11\n",
      "['good', 'weight', 'lose', 'know', 'india', 'love', 'time', 'ways', 'things', 'day', 'books', 'employees', 'job', 'going', 'new']\n",
      "\n",
      "\n",
      "TOP 15 WORDS FOR TOPIC #12\n",
      "['500', 'notes', '1000', 'like', 'weight', 'good', 'lose', 'rs', 'rupee', 'indian', 'black', 'banning', 'ban', 'improve', 'english']\n",
      "\n",
      "\n",
      "TOP 15 WORDS FOR TOPIC #13\n",
      "['people', 'english', 'improve', 'good', 'think', 'weight', 'skills', 'lose', 'does', 'life', 'mean', 'ways', 'writing', 'speaking', 'best']\n",
      "\n",
      "\n",
      "TOP 15 WORDS FOR TOPIC #14\n",
      "['english', 'improve', 'know', 'love', 'skills', 'writing', 'new', 'speaking', 'day', 'pronunciation', 'things', 'going', 'communication', 'india', 'speak']\n",
      "\n",
      "\n",
      "TOP 15 WORDS FOR TOPIC #15\n",
      "['weight', 'lose', 'way', 'india', 'learn', 'gain', 'make', 'love', 'fat', 'fast', 'life', 'ways', 'loss', 'quickly', 'reduce']\n",
      "\n",
      "\n"
     ]
    }
   ],
   "source": [
    "for index,topic in enumerate(lsa_model.components_):\n",
    "    print(f'TOP 15 WORDS FOR TOPIC #{index+1}')\n",
    "    print([tfidf.get_feature_names()[i] for i in topic.argsort()[-15:]][::-1])\n",
    "    print('\\n')"
   ]
  },
  {
   "cell_type": "markdown",
   "metadata": {},
   "source": [
    "#### 21. Create a dataframe with each question and the correspoding topic"
   ]
  },
  {
   "cell_type": "code",
   "execution_count": 53,
   "metadata": {},
   "outputs": [],
   "source": [
    "topic_results = lsa_model.transform(dtm)"
   ]
  },
  {
   "cell_type": "code",
   "execution_count": 54,
   "metadata": {},
   "outputs": [],
   "source": [
    "quora_lsa = quora.copy()"
   ]
  },
  {
   "cell_type": "code",
   "execution_count": 55,
   "metadata": {},
   "outputs": [],
   "source": [
    "quora_lsa['Topic'] = topic_results.argmax(axis=1)+1"
   ]
  },
  {
   "cell_type": "code",
   "execution_count": 56,
   "metadata": {},
   "outputs": [
    {
     "data": {
      "text/html": [
       "<div>\n",
       "<style scoped>\n",
       "    .dataframe tbody tr th:only-of-type {\n",
       "        vertical-align: middle;\n",
       "    }\n",
       "\n",
       "    .dataframe tbody tr th {\n",
       "        vertical-align: top;\n",
       "    }\n",
       "\n",
       "    .dataframe thead th {\n",
       "        text-align: right;\n",
       "    }\n",
       "</style>\n",
       "<table border=\"1\" class=\"dataframe\">\n",
       "  <thead>\n",
       "    <tr style=\"text-align: right;\">\n",
       "      <th></th>\n",
       "      <th>Question</th>\n",
       "      <th>Topic</th>\n",
       "    </tr>\n",
       "  </thead>\n",
       "  <tbody>\n",
       "    <tr>\n",
       "      <td>0</td>\n",
       "      <td>What is the step by step guide to invest in sh...</td>\n",
       "      <td>6</td>\n",
       "    </tr>\n",
       "    <tr>\n",
       "      <td>1</td>\n",
       "      <td>What is the story of Kohinoor (Koh-i-Noor) Dia...</td>\n",
       "      <td>14</td>\n",
       "    </tr>\n",
       "    <tr>\n",
       "      <td>2</td>\n",
       "      <td>How can I increase the speed of my internet co...</td>\n",
       "      <td>2</td>\n",
       "    </tr>\n",
       "    <tr>\n",
       "      <td>3</td>\n",
       "      <td>Why am I mentally very lonely? How can I solve...</td>\n",
       "      <td>2</td>\n",
       "    </tr>\n",
       "    <tr>\n",
       "      <td>4</td>\n",
       "      <td>Which one dissolve in water quikly sugar, salt...</td>\n",
       "      <td>2</td>\n",
       "    </tr>\n",
       "  </tbody>\n",
       "</table>\n",
       "</div>"
      ],
      "text/plain": [
       "                                            Question  Topic\n",
       "0  What is the step by step guide to invest in sh...      6\n",
       "1  What is the story of Kohinoor (Koh-i-Noor) Dia...     14\n",
       "2  How can I increase the speed of my internet co...      2\n",
       "3  Why am I mentally very lonely? How can I solve...      2\n",
       "4  Which one dissolve in water quikly sugar, salt...      2"
      ]
     },
     "execution_count": 56,
     "metadata": {},
     "output_type": "execute_result"
    }
   ],
   "source": [
    "quora_lsa.head()"
   ]
  },
  {
   "cell_type": "markdown",
   "metadata": {},
   "source": [
    "It's now time do the same thing with the NMF method."
   ]
  },
  {
   "cell_type": "markdown",
   "metadata": {},
   "source": [
    "## NMF"
   ]
  },
  {
   "cell_type": "markdown",
   "metadata": {},
   "source": [
    "With Non-Negative Matrix Factorization, our TF-IDF document-term matrix is now decomposed into **two factors** whose product approximates the original, in a way that every value in both factors is either positive or zero. These two matrices represent topics positively related to terms and documents of the corpus."
   ]
  },
  {
   "cell_type": "markdown",
   "metadata": {},
   "source": [
    "#### 22. Create an instance of NMF with 15 expected components and fit it"
   ]
  },
  {
   "cell_type": "code",
   "execution_count": 57,
   "metadata": {},
   "outputs": [],
   "source": [
    "from sklearn.decomposition import NMF"
   ]
  },
  {
   "cell_type": "code",
   "execution_count": 58,
   "metadata": {},
   "outputs": [],
   "source": [
    "nmf_model = NMF(n_components=15, random_state=42)"
   ]
  },
  {
   "cell_type": "code",
   "execution_count": 59,
   "metadata": {},
   "outputs": [
    {
     "name": "stdout",
     "output_type": "stream",
     "text": [
      "Wall time: 37 s\n"
     ]
    },
    {
     "data": {
      "text/plain": [
       "NMF(alpha=0.0, beta_loss='frobenius', init=None, l1_ratio=0.0, max_iter=200,\n",
       "    n_components=15, random_state=42, shuffle=False, solver='cd', tol=0.0001,\n",
       "    verbose=0)"
      ]
     },
     "execution_count": 59,
     "metadata": {},
     "output_type": "execute_result"
    }
   ],
   "source": [
    "%%time\n",
    "\n",
    "nmf_model.fit(dtm)"
   ]
  },
  {
   "cell_type": "markdown",
   "metadata": {},
   "source": [
    "#### 23. Print out the top 15 words for each of the 15 topics"
   ]
  },
  {
   "cell_type": "code",
   "execution_count": 60,
   "metadata": {},
   "outputs": [
    {
     "name": "stdout",
     "output_type": "stream",
     "text": [
      "TOP 15 WORDS FOR TOPIC #1\n",
      "['best', 'way', 'movies', 'book', 'books', '2016', 'movie', 'laptop', 'buy', 'ways', 'time', 'phone', 'places', 'visit', 'place']\n",
      "\n",
      "\n",
      "TOP 15 WORDS FOR TOPIC #2\n",
      "['does', 'mean', 'work', 'feel', 'long', 'cost', 'compare', 'really', 'time', 'exist', 'sex', 'use', 'looking', 'differ', 'recruit']\n",
      "\n",
      "\n",
      "TOP 15 WORDS FOR TOPIC #3\n",
      "['quora', 'questions', 'question', 'ask', 'answer', 'answers', 'google', 'asked', 'delete', 'improvement', 'easily', 'post', 'needing', 'answered', 'add']\n",
      "\n",
      "\n",
      "TOP 15 WORDS FOR TOPIC #4\n",
      "['money', 'make', 'online', 'earn', 'way', 'ways', 'youtube', 'easy', 'home', 'easiest', 'free', 'internet', 'black', 'friends', 'facebook']\n",
      "\n",
      "\n",
      "TOP 15 WORDS FOR TOPIC #5\n",
      "['life', 'purpose', 'meaning', 'thing', 'important', 'real', 'moment', 'change', 'want', 'live', 'day', 'changed', 'death', 'did', 'earth']\n",
      "\n",
      "\n",
      "TOP 15 WORDS FOR TOPIC #6\n",
      "['india', 'pakistan', 'war', 'world', 'start', 'spotify', 'country', 'job', 'business', 'available', 'olympics', 'china', 'engineering', 'company', 'minister']\n",
      "\n",
      "\n",
      "TOP 15 WORDS FOR TOPIC #7\n",
      "['learn', 'programming', 'language', 'way', 'start', 'learning', 'java', 'languages', 'python', 'did', 'want', 'hacking', 'computer', 'english', 'coding']\n",
      "\n",
      "\n",
      "TOP 15 WORDS FOR TOPIC #8\n",
      "['trump', 'donald', 'clinton', 'president', 'hillary', 'did', 'win', 'election', 'better', '2016', 'vote', 'presidential', 'think', 'happen', 'presidency']\n",
      "\n",
      "\n",
      "TOP 15 WORDS FOR TOPIC #9\n",
      "['know', 'love', 'new', 'things', 'day', 'going', 'employees', 'don', 'girl', 'time', 'year', 'fall', 'person', '2017', 'likes']\n",
      "\n",
      "\n",
      "TOP 15 WORDS FOR TOPIC #10\n",
      "['like', 'feel', 'sex', 'look', 'girl', 'time', 'live', 'girls', 'women', 'work', 'world', 'culture', 'men', 'guy', 'companies']\n",
      "\n",
      "\n",
      "TOP 15 WORDS FOR TOPIC #11\n",
      "['good', 'books', 'time', 'bad', 'ways', 'engineering', 'job', 'work', 'start', 'read', 'business', 'movies', 'songs', 'ca', 'positions']\n",
      "\n",
      "\n",
      "TOP 15 WORDS FOR TOPIC #12\n",
      "['500', 'notes', '1000', 'rs', 'rupee', 'indian', 'black', 'banning', 'ban', 'government', 'think', 'economy', 'currency', 'modi', 'money']\n",
      "\n",
      "\n",
      "TOP 15 WORDS FOR TOPIC #13\n",
      "['people', 'think', 'don', 'ask', 'world', 'believe', 'hate', 'flat', 'questions', 'google', 'mind', 'use', 'easily', 'stop', 'blowing']\n",
      "\n",
      "\n",
      "TOP 15 WORDS FOR TOPIC #14\n",
      "['english', 'improve', 'skills', 'writing', 'speaking', 'pronunciation', 'communication', 'speak', 'fluently', 'language', 'ways', 'spoken', 'skill', 'fluent', 'aspects']\n",
      "\n",
      "\n",
      "TOP 15 WORDS FOR TOPIC #15\n",
      "['weight', 'lose', 'gain', 'ways', 'way', 'fat', 'fast', 'loss', 'quickly', 'reduce', 'healthy', 'pounds', 'month', 'exercise', 'help']\n",
      "\n",
      "\n"
     ]
    }
   ],
   "source": [
    "for index,topic in enumerate(nmf_model.components_):\n",
    "    print(f'TOP 15 WORDS FOR TOPIC #{index+1}')\n",
    "    print([tfidf.get_feature_names()[i] for i in topic.argsort()[-15:]][::-1])\n",
    "    print('\\n')"
   ]
  },
  {
   "cell_type": "markdown",
   "metadata": {},
   "source": [
    "#### 24. Create a dataframe with each question and the correspoding topic"
   ]
  },
  {
   "cell_type": "code",
   "execution_count": 61,
   "metadata": {},
   "outputs": [],
   "source": [
    "topic_results = nmf_model.transform(dtm)"
   ]
  },
  {
   "cell_type": "code",
   "execution_count": 62,
   "metadata": {},
   "outputs": [],
   "source": [
    "quora_nmf = quora.copy()"
   ]
  },
  {
   "cell_type": "code",
   "execution_count": 63,
   "metadata": {},
   "outputs": [],
   "source": [
    "quora_nmf['Topic'] = topic_results.argmax(axis=1)+1"
   ]
  },
  {
   "cell_type": "code",
   "execution_count": 64,
   "metadata": {},
   "outputs": [
    {
     "data": {
      "text/html": [
       "<div>\n",
       "<style scoped>\n",
       "    .dataframe tbody tr th:only-of-type {\n",
       "        vertical-align: middle;\n",
       "    }\n",
       "\n",
       "    .dataframe tbody tr th {\n",
       "        vertical-align: top;\n",
       "    }\n",
       "\n",
       "    .dataframe thead th {\n",
       "        text-align: right;\n",
       "    }\n",
       "</style>\n",
       "<table border=\"1\" class=\"dataframe\">\n",
       "  <thead>\n",
       "    <tr style=\"text-align: right;\">\n",
       "      <th></th>\n",
       "      <th>Question</th>\n",
       "      <th>Topic</th>\n",
       "    </tr>\n",
       "  </thead>\n",
       "  <tbody>\n",
       "    <tr>\n",
       "      <td>0</td>\n",
       "      <td>What is the step by step guide to invest in sh...</td>\n",
       "      <td>6</td>\n",
       "    </tr>\n",
       "    <tr>\n",
       "      <td>1</td>\n",
       "      <td>What is the story of Kohinoor (Koh-i-Noor) Dia...</td>\n",
       "      <td>9</td>\n",
       "    </tr>\n",
       "    <tr>\n",
       "      <td>2</td>\n",
       "      <td>How can I increase the speed of my internet co...</td>\n",
       "      <td>4</td>\n",
       "    </tr>\n",
       "    <tr>\n",
       "      <td>3</td>\n",
       "      <td>Why am I mentally very lonely? How can I solve...</td>\n",
       "      <td>12</td>\n",
       "    </tr>\n",
       "    <tr>\n",
       "      <td>4</td>\n",
       "      <td>Which one dissolve in water quikly sugar, salt...</td>\n",
       "      <td>15</td>\n",
       "    </tr>\n",
       "  </tbody>\n",
       "</table>\n",
       "</div>"
      ],
      "text/plain": [
       "                                            Question  Topic\n",
       "0  What is the step by step guide to invest in sh...      6\n",
       "1  What is the story of Kohinoor (Koh-i-Noor) Dia...      9\n",
       "2  How can I increase the speed of my internet co...      4\n",
       "3  Why am I mentally very lonely? How can I solve...     12\n",
       "4  Which one dissolve in water quikly sugar, salt...     15"
      ]
     },
     "execution_count": 64,
     "metadata": {},
     "output_type": "execute_result"
    }
   ],
   "source": [
    "quora_nmf.head()"
   ]
  },
  {
   "cell_type": "markdown",
   "metadata": {},
   "source": [
    "We've managed to assign each question to its corresponding topic using **three different methods**. So, which is the best model? As is almost always the case, it depends. We have to consider the corpus we are dealing with and the goal we're trying to achieve.\n",
    "\n",
    "Generally speaking, **LDA is better when you want easier to explain topic vectors**, but **LSA and NMF are usually much faster to compute**."
   ]
  }
 ],
 "metadata": {
  "kernelspec": {
   "display_name": "Python 3",
   "language": "python",
   "name": "python3"
  },
  "language_info": {
   "codemirror_mode": {
    "name": "ipython",
    "version": 3
   },
   "file_extension": ".py",
   "mimetype": "text/x-python",
   "name": "python",
   "nbconvert_exporter": "python",
   "pygments_lexer": "ipython3",
   "version": "3.7.4"
  }
 },
 "nbformat": 4,
 "nbformat_minor": 2
}
